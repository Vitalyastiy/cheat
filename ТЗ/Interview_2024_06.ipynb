{
  "cells": [
    {
      "cell_type": "markdown",
      "id": "69116f18",
      "metadata": {
        "id": "69116f18"
      },
      "source": [
        "### Вводная часть"
      ]
    },
    {
      "cell_type": "code",
      "execution_count": null,
      "id": "EAsgNIEoMU6Z",
      "metadata": {
        "id": "EAsgNIEoMU6Z"
      },
      "outputs": [],
      "source": [
        "table\n",
        "\n",
        "id1   id2\n",
        "null  1\n",
        "2     2\n",
        "5     null\n",
        "null  null\n",
        "2     3"
      ]
    },
    {
      "cell_type": "code",
      "execution_count": null,
      "id": "Z4Sp2dIzMbGJ",
      "metadata": {
        "id": "Z4Sp2dIzMbGJ"
      },
      "outputs": [],
      "source": [
        "Найти:\n",
        "\n",
        " select ... from table\n",
        "\n",
        " min(id1) =\n",
        " max(id1) =\n",
        " sum(id1) =\n",
        " sum(id1+id2) =\n",
        " avg(id1) =\n",
        "\n",
        " count(*) =\n",
        " count(1) =\n",
        " count(id1) =\n",
        " count('id1') =\n",
        " count(distinct id1) =\n"
      ]
    },
    {
      "cell_type": "markdown",
      "id": "85ab4aac",
      "metadata": {},
      "source": [
        "1. Назовите все способы, чтобы вернуть только уникальные данные из таблицы?"
      ]
    },
    {
      "cell_type": "code",
      "execution_count": null,
      "id": "a6f7bc6e",
      "metadata": {},
      "outputs": [],
      "source": [
        "SELECT COUNT(DISTINCT Name)\n",
        "FROM \"USERS\"\n",
        "\n",
        "table name: USERS\n",
        "\n",
        "|Name|\n",
        "______\n",
        "|Дима|\n",
        "|Даша|\n",
        "|null|\n",
        "|Дима|"
      ]
    },
    {
      "cell_type": "markdown",
      "id": "97c9a20f",
      "metadata": {},
      "source": [
        "2. Как с помощью SQL посчитать время между каждым статусом сделки?\t"
      ]
    },
    {
      "cell_type": "code",
      "execution_count": null,
      "id": "c5ccb180",
      "metadata": {},
      "outputs": [],
      "source": [
        "SBR_ID\t                            STATUS\t                                          TIMESTAMP 1\n",
        "192e83b447586a2f2246b2ee6b92e8ce\tЗарегистрирована\t                            13.01.2022 13:00\n",
        "192e83b447586a2f2246b2ee6b92e8ce\tПередана кц\t                                  13.01.2022 13:07\n",
        "192e83b447586a2f2246b2ee6b92e8ce\tОжидание отправки СБР покупателю\t            13.01.2022 13:08\n",
        "192e83b447586a2f2246b2ee6b92e8ce\tСделка расторгнута\t                          13.01.2022 13:09\n",
        "192e83b447586a2f2246b2ee6b92e8ce\tЧерновик\t                                    13.01.2022 13:12\n",
        "192e83b447586a2f2246b2ee6b92e8ce\tПодготовка\t                                  13.01.2022 13:12\n",
        "192e83b447586a2f2246b2ee6b92e8ce\tФормирование черновика договора\t              13.01.2022 13:16\n",
        "192e83b447586a2f2246b2ee6b92e8ce\tОжидание связанных сделок\t                    13.01.2022 13:18\n",
        "192e83b447586a2f2246b2ee6b92e8ce\tОжидание проверки регистрации\t                13.01.2022 13:20\n",
        "192e83b447586a2f2246b2ee6b92e8ce\tОжидание оплаты\t                              13.01.2022 13:21\n",
        "192e83b447586a2f2246b2ee6b92e8ce\tФормирование договора                       \t13.01.2022 13:21\n",
        "192e83b447586a2f2246b2ee6b92e8ce\tОжидание результата регистрации             \t13.01.2022 13:23\n",
        "192e83b447586a2f2246b2ee6b92e8ce\tОжидание разблокировки эскроу-счета         \t13.01.2022 13:24\n",
        "192e83b447586a2f2246b2ee6b92e8ce\tКонтроль реквизитов платежа\t                  13.01.2022 13:24\n",
        "192e83b447586a2f2246b2ee6b92e8ce\tОжидание исполнения платежа\t                  13.01.2022 13:35\n",
        "192e83b447586a2f2246b2ee6b92e8ce\tЗавершена\t                                    13.01.2022 13:37"
      ]
    },
    {
      "cell_type": "markdown",
      "id": "adf65025",
      "metadata": {
        "id": "adf65025"
      },
      "source": [
        "### Блок 1\n",
        "\n",
        "**Таблица employees, содержит информацию о сотрудниках:**"
      ]
    },
    {
      "cell_type": "code",
      "execution_count": null,
      "id": "6730d1c2",
      "metadata": {
        "id": "6730d1c2"
      },
      "outputs": [],
      "source": [
        "id\tname\t    city\tdepartment\tsalary\n",
        "1\t  Дарья\t    Рязань\thr\t        70\n",
        "2\t  Борис\t    Рязань\thr\t        78\n",
        "21\tЕлена\t    Рязань\tit\t        84\n",
        "22\tКсения\t  Москва\tit\t        90\n",
        "23\tЛеонид\t  Рязань\tit\t        104\n",
        "24\tМарина\t  Москва\tit\t        104\n",
        "25\tИван\t    Москва\tit\t        120\n",
        "41\tВероника\tМосква\tsales\t      96\n",
        "52\tГригорий\tРязань\tsales\t      96\n",
        "53\tАнна\t    Москва\tsales\t      100"
      ]
    },
    {
      "cell_type": "markdown",
      "id": "a3201a84",
      "metadata": {
        "id": "a3201a84"
      },
      "source": [
        "1. Задача 1. Необходимо вывести общие затраты компании на зарплату сотрудникам **нарастающим итогом** для каждого отдела. Проанализировать полученный результат.\n",
        "\n"
      ]
    },
    {
      "cell_type": "markdown",
      "id": "da1bd2e1",
      "metadata": {
        "id": "da1bd2e1"
      },
      "source": [
        "2. Задача 2. Необходимо посчитать для каждого сотрудника зарплату предыдущего и следующего коллеги. Принимаем за факт, что текущая сортировка является актуальной.\n"
      ]
    },
    {
      "cell_type": "code",
      "execution_count": null,
      "id": "d64d9f1d",
      "metadata": {},
      "outputs": [],
      "source": [
        "\n"
      ]
    },
    {
      "cell_type": "markdown",
      "id": "96c99dec",
      "metadata": {
        "id": "96c99dec"
      },
      "source": [
        "### Блок 2"
      ]
    },
    {
      "cell_type": "code",
      "execution_count": 1,
      "id": "9ef440a2",
      "metadata": {
        "id": "9ef440a2",
        "outputId": "fa20e0b3-5e36-4071-b4ad-0394a3442025"
      },
      "outputs": [
        {
          "data": {
            "text/html": [
              "<div>\n",
              "<style scoped>\n",
              "    .dataframe tbody tr th:only-of-type {\n",
              "        vertical-align: middle;\n",
              "    }\n",
              "\n",
              "    .dataframe tbody tr th {\n",
              "        vertical-align: top;\n",
              "    }\n",
              "\n",
              "    .dataframe thead th {\n",
              "        text-align: right;\n",
              "    }\n",
              "</style>\n",
              "<table border=\"1\" class=\"dataframe\">\n",
              "  <thead>\n",
              "    <tr style=\"text-align: right;\">\n",
              "      <th></th>\n",
              "      <th>time</th>\n",
              "      <th>user_id</th>\n",
              "      <th>action_type</th>\n",
              "      <th>client_platform</th>\n",
              "    </tr>\n",
              "  </thead>\n",
              "  <tbody>\n",
              "    <tr>\n",
              "      <th>0</th>\n",
              "      <td>2023-01-01</td>\n",
              "      <td>72</td>\n",
              "      <td>click</td>\n",
              "      <td>Web</td>\n",
              "    </tr>\n",
              "    <tr>\n",
              "      <th>1</th>\n",
              "      <td>2023-01-02</td>\n",
              "      <td>59</td>\n",
              "      <td>click</td>\n",
              "      <td>Android</td>\n",
              "    </tr>\n",
              "    <tr>\n",
              "      <th>2</th>\n",
              "      <td>2023-01-03</td>\n",
              "      <td>55</td>\n",
              "      <td>purchase</td>\n",
              "      <td>iOS</td>\n",
              "    </tr>\n",
              "    <tr>\n",
              "      <th>3</th>\n",
              "      <td>2023-01-04</td>\n",
              "      <td>96</td>\n",
              "      <td>login</td>\n",
              "      <td>Android</td>\n",
              "    </tr>\n",
              "    <tr>\n",
              "      <th>4</th>\n",
              "      <td>2023-01-05</td>\n",
              "      <td>60</td>\n",
              "      <td>purchase</td>\n",
              "      <td>Android</td>\n",
              "    </tr>\n",
              "  </tbody>\n",
              "</table>\n",
              "</div>"
            ],
            "text/plain": [
              "        time  user_id action_type client_platform\n",
              "0 2023-01-01       72       click             Web\n",
              "1 2023-01-02       59       click         Android\n",
              "2 2023-01-03       55    purchase             iOS\n",
              "3 2023-01-04       96       login         Android\n",
              "4 2023-01-05       60    purchase         Android"
            ]
          },
          "execution_count": 1,
          "metadata": {},
          "output_type": "execute_result"
        }
      ],
      "source": [
        "#синтетический df\n",
        "#запустить!\n",
        "\n",
        "import pandas as pd\n",
        "import numpy as np\n",
        "import matplotlib.pyplot as plt\n",
        "plt.style.use('dark_background')\n",
        "import seaborn as sns\n",
        "\n",
        "n = 500  # количество записей\n",
        "dates = pd.date_range(start='2023-01-01', periods=n, freq='D')\n",
        "user_ids = np.random.randint(1, 100, n)\n",
        "action_types = np.random.choice(['click', 'purchase', 'login'], n)\n",
        "client_platforms = np.random.choice(['iOS', 'Android', 'Web'], n)\n",
        "\n",
        "# Создание DataFrame\n",
        "data = {\n",
        "    'time': dates,\n",
        "    'user_id': user_ids,\n",
        "    'action_type': action_types,\n",
        "    'client_platform': client_platforms\n",
        "}\n",
        "df = pd.DataFrame(data)\n",
        "\n",
        "# Вывод первых 5 строк данных\n",
        "df.head()"
      ]
    },
    {
      "cell_type": "markdown",
      "id": "d7ef1e4c",
      "metadata": {
        "id": "d7ef1e4c"
      },
      "source": [
        "1. Вывести количество уникальных пользователей, которые использовали платформу IOS в 2023 году"
      ]
    },
    {
      "cell_type": "code",
      "execution_count": null,
      "id": "286b1b60",
      "metadata": {
        "id": "286b1b60"
      },
      "outputs": [],
      "source": []
    },
    {
      "cell_type": "markdown",
      "id": "f6044522",
      "metadata": {
        "id": "f6044522"
      },
      "source": [
        "2. Необходио визуализировать временной ряд, который отражает кол-во уникальных пользоватлей по каждому событию за каждый месяц, вне зависимости от платформы"
      ]
    }
  ],
  "metadata": {
    "colab": {
      "provenance": [],
      "toc_visible": true
    },
    "kernelspec": {
      "display_name": "Python 3",
      "language": "python",
      "name": "python3"
    },
    "language_info": {
      "codemirror_mode": {
        "name": "ipython",
        "version": 3
      },
      "file_extension": ".py",
      "mimetype": "text/x-python",
      "name": "python",
      "nbconvert_exporter": "python",
      "pygments_lexer": "ipython3",
      "version": "3.11.4"
    }
  },
  "nbformat": 4,
  "nbformat_minor": 5
}
