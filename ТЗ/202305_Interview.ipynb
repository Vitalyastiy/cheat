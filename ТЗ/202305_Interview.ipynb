{
  "cells": [
    {
      "cell_type": "markdown",
      "metadata": {
        "id": "view-in-github",
        "colab_type": "text"
      },
      "source": [
        "<a href=\"https://colab.research.google.com/github/Vitalyastiy/cheat/blob/main/202305_Interview.ipynb\" target=\"_parent\"><img src=\"https://colab.research.google.com/assets/colab-badge.svg\" alt=\"Open In Colab\"/></a>"
      ]
    },
    {
      "cell_type": "markdown",
      "id": "69116f18",
      "metadata": {
        "id": "69116f18"
      },
      "source": [
        "# Тест"
      ]
    },
    {
      "cell_type": "markdown",
      "id": "f6bb3338",
      "metadata": {
        "id": "f6bb3338"
      },
      "source": [
        "### Блок 1\n",
        "\n",
        "1. В команде работают 11 аналитиков. На новогодних праздников ежедневно должно дежурить 2 аналитика. Скольким способами можно разделить 11 аналитиков по 2 человека. \n",
        "2. В двух урнах находится соответственно 4 и 5 белых и 6 и 3 чёрных шаров. Из каждой урны наудачу извлекается один шар, а затем из этих двух наудачу берется один. Какова вероятность, что это будет белый шар?\n",
        "3. Есть 2 таблицы c 10 и 20 строк соотвественно. Сколько строк будет минимально / максимально при INNER JOIN / LEFT JOIN / OUTER JOIN / CROSS JOIN"
      ]
    },
    {
      "cell_type": "markdown",
      "id": "adf65025",
      "metadata": {
        "id": "adf65025"
      },
      "source": [
        "### Блок 2 \n",
        "\n",
        "**1. Допустим, у нас есть статистика по покупкам пользователей в приложении в таблице transactions:**"
      ]
    },
    {
      "cell_type": "code",
      "execution_count": null,
      "id": "9d399bc5",
      "metadata": {
        "id": "9d399bc5"
      },
      "outputs": [],
      "source": [
        "| user_id | date       |\n",
        "|---------|------------|\n",
        "| 1       | 2021-06-01 |\n",
        "| 234     | 2021-06-02 |\n",
        "| 3       | 2021-06-02 |\n",
        "| 1       | 2021-06-02 |\n",
        "| ...     | ...        |\n",
        "| 234     | 2021-09-30 |"
      ]
    },
    {
      "cell_type": "markdown",
      "id": "c5715eaf",
      "metadata": {
        "id": "c5715eaf"
      },
      "source": [
        "1.1 Необходимо написать запрос, который получает количество удержанных пользователей в месяц. Данный параметр определяется как количество пользователей, которые совершили **повторную покупку в следующем месяце**."
      ]
    },
    {
      "cell_type": "code",
      "execution_count": null,
      "id": "8488ff53",
      "metadata": {
        "id": "8488ff53"
      },
      "outputs": [],
      "source": [
        "\n",
        "select user_id\n",
        "from(\n",
        "  select date_m, user_id, row_number(), over(partition by user_id order by date_m) as per_num\n",
        "  from(\n",
        "    select (trunc(t1.date, as \"rm\")) as date_m, user_id,\n",
        "    from  transactions t1\n",
        "    group by 1,2\n",
        "  ) t\n",
        ") t2\n",
        "where  1=1\n",
        "and per_num = 1\n",
        "\n",
        "intesect\n",
        "\n",
        "select user_id\n",
        "from(\n",
        "  select date_m, user_id, row_number(), over(partition by user_id order by date_m) as per_num\n",
        "  from(\n",
        "    select (trunc(t1.date, as \"rm\")) as date_m, user_id,\n",
        "    from  transactions t1\n",
        "    group by 1,2\n",
        "  ) t\n",
        ") t2\n",
        "where  1=1\n",
        "and per_num = 2\n",
        "\n",
        "\n"
      ]
    },
    {
      "cell_type": "markdown",
      "id": "529200a7",
      "metadata": {
        "id": "529200a7"
      },
      "source": [
        "1.2 Посчитать количество отвалившихся пользователей, которые не совершили повторную покупку"
      ]
    },
    {
      "cell_type": "code",
      "execution_count": null,
      "id": "1da73367",
      "metadata": {
        "id": "1da73367"
      },
      "outputs": [],
      "source": []
    },
    {
      "cell_type": "markdown",
      "id": "da1bd2e1",
      "metadata": {
        "id": "da1bd2e1"
      },
      "source": [
        "**2. Допустим, у нас есть таблица transactions в таком виде, где revenue это стоимость транзакции, отрицательное значения это возврат средств:**"
      ]
    },
    {
      "cell_type": "code",
      "execution_count": null,
      "id": "3de6389d",
      "metadata": {
        "id": "3de6389d"
      },
      "outputs": [],
      "source": [
        "| date       | revenue       | tr_type |\n",
        "|------------|---------------|---------|         \n",
        "| 2021-01-01 | -1000         | a       |\n",
        "| 2021-01-01 |  1000         | b       |\n",
        "| 2021-01-02 | -1100         | a       |\n",
        "| 2021-01-02 |  1100         | c       |\n",
        "| 2021-01-03 |  1050         | b       |\n",
        "| ...        | ...           | ...     |\n",
        "| 2021-09-30 |  750          | c       |"
      ]
    },
    {
      "cell_type": "markdown",
      "id": "114b73c4",
      "metadata": {
        "id": "114b73c4"
      },
      "source": [
        "2.1 Необходиом написать запрос с использованием оконной функции, чтобы получить нарастающий итог по revenue на каждый день."
      ]
    },
    {
      "cell_type": "code",
      "execution_count": null,
      "id": "f4b71fed",
      "metadata": {
        "id": "f4b71fed"
      },
      "outputs": [],
      "source": [
        "select date , sum(revenue) over(order by date)\n",
        "from (select date  , sum(revenue) as revenue from transactions group by 1) t1"
      ]
    },
    {
      "cell_type": "markdown",
      "id": "12eb9ad8",
      "metadata": {
        "id": "12eb9ad8"
      },
      "source": [
        "2.2 Для каждого месяца вывести тип продукта (tr_type), который: a) принес наибольшую выручку б) по которому были наибольшие возвраты"
      ]
    },
    {
      "cell_type": "code",
      "execution_count": null,
      "id": "a4d833b1",
      "metadata": {
        "id": "a4d833b1"
      },
      "outputs": [],
      "source": [
        "select t1.month, t1.tr_type, max_rev, max_ret\n",
        "from(\n",
        "  select trunc(date, \"rm\") as month, max(revenue) max_rev, tr_type \n",
        "  from transactions \n",
        "  where revenue>0\n",
        "  group by 1,3\n",
        ") t1\n",
        "left join (\n",
        "    select trunc(date, \"rm\") as month, max(revenue) max_ret, tr_type \n",
        "    from transactions \n",
        "    where revenue<0\n",
        "    group by 1,3\n",
        ") t2 on t1.month = t2.month\n"
      ]
    },
    {
      "cell_type": "markdown",
      "id": "ce3cdbfc",
      "metadata": {
        "id": "ce3cdbfc"
      },
      "source": [
        "**3. Данные о погоде**"
      ]
    },
    {
      "cell_type": "code",
      "execution_count": null,
      "id": "c071c7cf",
      "metadata": {
        "id": "c071c7cf"
      },
      "outputs": [],
      "source": [
        "+----+------------+-------------+\n",
        "| id | recordDate | Temperature |\n",
        "+----+------------+-------------+\n",
        "| 1  | 2015-01-01 | 10          |\n",
        "| 2  | 2015-01-02 | 25          |\n",
        "| 3  | 2015-01-03 | 20          |\n",
        "| 4  | 2015-01-04 | 30          |\n",
        "+----+------------+-------------+\n",
        "\n",
        "Result table:\n",
        "+----+\n",
        "| id |\n",
        "+----+\n",
        "| 2  |\n",
        "| 4  |\n",
        "+----+\n",
        "In 2015-01-02, temperature was higher than the previous day (10 -> 25).\n",
        "In 2015-01-04, temperature was higher than the previous day (20 -> 30)."
      ]
    },
    {
      "cell_type": "markdown",
      "id": "536f41b8",
      "metadata": {
        "id": "536f41b8"
      },
      "source": [
        "3.1 Необходим запрос, который позволяет вытащить id, при которых температура была больше предыдущего дня."
      ]
    },
    {
      "cell_type": "code",
      "source": [
        "select case when Temperature < temp_last_date then id else null end id\n",
        "from (\n",
        "select id, recordDate, Temperature,\n",
        "lead(Temperature) over(order by recordDate) temp_last_date\n",
        "from table\n",
        ") t1 \n",
        "where id is not null "
      ],
      "metadata": {
        "id": "3JksW2Dn4wfb"
      },
      "id": "3JksW2Dn4wfb",
      "execution_count": null,
      "outputs": []
    },
    {
      "cell_type": "code",
      "source": [],
      "metadata": {
        "id": "ORVprqcA4wkz"
      },
      "id": "ORVprqcA4wkz",
      "execution_count": null,
      "outputs": []
    },
    {
      "cell_type": "code",
      "source": [],
      "metadata": {
        "id": "J4q2IIKi4wnZ"
      },
      "id": "J4q2IIKi4wnZ",
      "execution_count": null,
      "outputs": []
    },
    {
      "cell_type": "code",
      "source": [],
      "metadata": {
        "id": "sqDEOWqV4wrn"
      },
      "id": "sqDEOWqV4wrn",
      "execution_count": null,
      "outputs": []
    },
    {
      "cell_type": "code",
      "execution_count": null,
      "id": "a4e9a8a8",
      "metadata": {
        "id": "a4e9a8a8"
      },
      "outputs": [],
      "source": []
    },
    {
      "cell_type": "markdown",
      "id": "96c99dec",
      "metadata": {
        "id": "96c99dec"
      },
      "source": [
        "### Блок 3"
      ]
    },
    {
      "cell_type": "markdown",
      "id": "9e74b8a0",
      "metadata": {
        "id": "9e74b8a0"
      },
      "source": [
        "Есть датасет *df.csv*\n",
        "\n",
        "Структура:\n",
        "* time\n",
        "* user_id\n",
        "* action_type\n",
        "* client_platform"
      ]
    },
    {
      "cell_type": "markdown",
      "metadata": {
        "id": "0jjXeTubxgdx"
      },
      "source": [
        "Необходио построить временной ряд, который отражает кол-во уникальных пользоватлей по каждому событию за каждый день"
      ],
      "id": "0jjXeTubxgdx"
    },
    {
      "cell_type": "code",
      "execution_count": 2,
      "id": "1d508234",
      "metadata": {
        "id": "1d508234",
        "outputId": "fa6c362b-f9ee-4929-bb73-f5222af0fb2e",
        "colab": {
          "base_uri": "https://localhost:8080/",
          "height": 142
        }
      },
      "outputs": [
        {
          "output_type": "execute_result",
          "data": {
            "text/plain": [
              "                  time  user_id  action_type client_platform\n",
              "0  2022-06-01 10:04:33      237  start_video             web\n",
              "1  2022-06-01 03:33:00      693         call         android\n",
              "2  2022-06-01 23:40:39      713     send_msg         android"
            ],
            "text/html": [
              "\n",
              "  <div id=\"df-e534789e-b643-48b3-91f9-9235b3db010d\">\n",
              "    <div class=\"colab-df-container\">\n",
              "      <div>\n",
              "<style scoped>\n",
              "    .dataframe tbody tr th:only-of-type {\n",
              "        vertical-align: middle;\n",
              "    }\n",
              "\n",
              "    .dataframe tbody tr th {\n",
              "        vertical-align: top;\n",
              "    }\n",
              "\n",
              "    .dataframe thead th {\n",
              "        text-align: right;\n",
              "    }\n",
              "</style>\n",
              "<table border=\"1\" class=\"dataframe\">\n",
              "  <thead>\n",
              "    <tr style=\"text-align: right;\">\n",
              "      <th></th>\n",
              "      <th>time</th>\n",
              "      <th>user_id</th>\n",
              "      <th>action_type</th>\n",
              "      <th>client_platform</th>\n",
              "    </tr>\n",
              "  </thead>\n",
              "  <tbody>\n",
              "    <tr>\n",
              "      <th>0</th>\n",
              "      <td>2022-06-01 10:04:33</td>\n",
              "      <td>237</td>\n",
              "      <td>start_video</td>\n",
              "      <td>web</td>\n",
              "    </tr>\n",
              "    <tr>\n",
              "      <th>1</th>\n",
              "      <td>2022-06-01 03:33:00</td>\n",
              "      <td>693</td>\n",
              "      <td>call</td>\n",
              "      <td>android</td>\n",
              "    </tr>\n",
              "    <tr>\n",
              "      <th>2</th>\n",
              "      <td>2022-06-01 23:40:39</td>\n",
              "      <td>713</td>\n",
              "      <td>send_msg</td>\n",
              "      <td>android</td>\n",
              "    </tr>\n",
              "  </tbody>\n",
              "</table>\n",
              "</div>\n",
              "      <button class=\"colab-df-convert\" onclick=\"convertToInteractive('df-e534789e-b643-48b3-91f9-9235b3db010d')\"\n",
              "              title=\"Convert this dataframe to an interactive table.\"\n",
              "              style=\"display:none;\">\n",
              "        \n",
              "  <svg xmlns=\"http://www.w3.org/2000/svg\" height=\"24px\"viewBox=\"0 0 24 24\"\n",
              "       width=\"24px\">\n",
              "    <path d=\"M0 0h24v24H0V0z\" fill=\"none\"/>\n",
              "    <path d=\"M18.56 5.44l.94 2.06.94-2.06 2.06-.94-2.06-.94-.94-2.06-.94 2.06-2.06.94zm-11 1L8.5 8.5l.94-2.06 2.06-.94-2.06-.94L8.5 2.5l-.94 2.06-2.06.94zm10 10l.94 2.06.94-2.06 2.06-.94-2.06-.94-.94-2.06-.94 2.06-2.06.94z\"/><path d=\"M17.41 7.96l-1.37-1.37c-.4-.4-.92-.59-1.43-.59-.52 0-1.04.2-1.43.59L10.3 9.45l-7.72 7.72c-.78.78-.78 2.05 0 2.83L4 21.41c.39.39.9.59 1.41.59.51 0 1.02-.2 1.41-.59l7.78-7.78 2.81-2.81c.8-.78.8-2.07 0-2.86zM5.41 20L4 18.59l7.72-7.72 1.47 1.35L5.41 20z\"/>\n",
              "  </svg>\n",
              "      </button>\n",
              "      \n",
              "  <style>\n",
              "    .colab-df-container {\n",
              "      display:flex;\n",
              "      flex-wrap:wrap;\n",
              "      gap: 12px;\n",
              "    }\n",
              "\n",
              "    .colab-df-convert {\n",
              "      background-color: #E8F0FE;\n",
              "      border: none;\n",
              "      border-radius: 50%;\n",
              "      cursor: pointer;\n",
              "      display: none;\n",
              "      fill: #1967D2;\n",
              "      height: 32px;\n",
              "      padding: 0 0 0 0;\n",
              "      width: 32px;\n",
              "    }\n",
              "\n",
              "    .colab-df-convert:hover {\n",
              "      background-color: #E2EBFA;\n",
              "      box-shadow: 0px 1px 2px rgba(60, 64, 67, 0.3), 0px 1px 3px 1px rgba(60, 64, 67, 0.15);\n",
              "      fill: #174EA6;\n",
              "    }\n",
              "\n",
              "    [theme=dark] .colab-df-convert {\n",
              "      background-color: #3B4455;\n",
              "      fill: #D2E3FC;\n",
              "    }\n",
              "\n",
              "    [theme=dark] .colab-df-convert:hover {\n",
              "      background-color: #434B5C;\n",
              "      box-shadow: 0px 1px 3px 1px rgba(0, 0, 0, 0.15);\n",
              "      filter: drop-shadow(0px 1px 2px rgba(0, 0, 0, 0.3));\n",
              "      fill: #FFFFFF;\n",
              "    }\n",
              "  </style>\n",
              "\n",
              "      <script>\n",
              "        const buttonEl =\n",
              "          document.querySelector('#df-e534789e-b643-48b3-91f9-9235b3db010d button.colab-df-convert');\n",
              "        buttonEl.style.display =\n",
              "          google.colab.kernel.accessAllowed ? 'block' : 'none';\n",
              "\n",
              "        async function convertToInteractive(key) {\n",
              "          const element = document.querySelector('#df-e534789e-b643-48b3-91f9-9235b3db010d');\n",
              "          const dataTable =\n",
              "            await google.colab.kernel.invokeFunction('convertToInteractive',\n",
              "                                                     [key], {});\n",
              "          if (!dataTable) return;\n",
              "\n",
              "          const docLinkHtml = 'Like what you see? Visit the ' +\n",
              "            '<a target=\"_blank\" href=https://colab.research.google.com/notebooks/data_table.ipynb>data table notebook</a>'\n",
              "            + ' to learn more about interactive tables.';\n",
              "          element.innerHTML = '';\n",
              "          dataTable['output_type'] = 'display_data';\n",
              "          await google.colab.output.renderOutput(dataTable, element);\n",
              "          const docLink = document.createElement('div');\n",
              "          docLink.innerHTML = docLinkHtml;\n",
              "          element.appendChild(docLink);\n",
              "        }\n",
              "      </script>\n",
              "    </div>\n",
              "  </div>\n",
              "  "
            ]
          },
          "metadata": {},
          "execution_count": 2
        }
      ],
      "source": [
        "import pandas as pd \n",
        "df = pd.read_csv('/content/df.csv')\n",
        "df.head(3)"
      ]
    },
    {
      "cell_type": "code",
      "source": [
        "t = df.groupby(['time','action_type'], as_index = False).agg({'user_id': pd.Series.nunique})\n",
        "t['date'] =  c\n",
        "t1 = t.groupby(['date','action_type'], as_index = False).agg({'user_id': \"sum\"})\n",
        "t1"
      ],
      "metadata": {
        "id": "PzwsAOaz7Uxd"
      },
      "id": "PzwsAOaz7Uxd",
      "execution_count": null,
      "outputs": []
    },
    {
      "cell_type": "code",
      "source": [
        "df['date'] = pd.to_datetime(t['time']).dt.date"
      ],
      "metadata": {
        "id": "3XaRkWGDCaFg"
      },
      "id": "3XaRkWGDCaFg",
      "execution_count": 30,
      "outputs": []
    },
    {
      "cell_type": "code",
      "source": [
        "df.groupby(['date','client_platform'], as_index = False).agg({'user_id': pd.Series.nunique})"
      ],
      "metadata": {
        "id": "81sr7kk6Ap6B",
        "outputId": "13629fd6-204e-4f99-df2a-8bf429a30032",
        "colab": {
          "base_uri": "https://localhost:8080/",
          "height": 419
        }
      },
      "id": "81sr7kk6Ap6B",
      "execution_count": 31,
      "outputs": [
        {
          "output_type": "execute_result",
          "data": {
            "text/plain": [
              "           date client_platform  user_id\n",
              "0    2022-06-01         android       38\n",
              "1    2022-06-01             ios       32\n",
              "2    2022-06-01             web       27\n",
              "3    2022-06-02         android       31\n",
              "4    2022-06-02             ios       42\n",
              "..          ...             ...      ...\n",
              "166  2022-07-26             ios       35\n",
              "167  2022-07-26             web       26\n",
              "168  2022-07-27         android       40\n",
              "169  2022-07-27             ios       29\n",
              "170  2022-07-27             web       26\n",
              "\n",
              "[171 rows x 3 columns]"
            ],
            "text/html": [
              "\n",
              "  <div id=\"df-7ec69685-e00f-4191-9caf-9d215d82f46c\">\n",
              "    <div class=\"colab-df-container\">\n",
              "      <div>\n",
              "<style scoped>\n",
              "    .dataframe tbody tr th:only-of-type {\n",
              "        vertical-align: middle;\n",
              "    }\n",
              "\n",
              "    .dataframe tbody tr th {\n",
              "        vertical-align: top;\n",
              "    }\n",
              "\n",
              "    .dataframe thead th {\n",
              "        text-align: right;\n",
              "    }\n",
              "</style>\n",
              "<table border=\"1\" class=\"dataframe\">\n",
              "  <thead>\n",
              "    <tr style=\"text-align: right;\">\n",
              "      <th></th>\n",
              "      <th>date</th>\n",
              "      <th>client_platform</th>\n",
              "      <th>user_id</th>\n",
              "    </tr>\n",
              "  </thead>\n",
              "  <tbody>\n",
              "    <tr>\n",
              "      <th>0</th>\n",
              "      <td>2022-06-01</td>\n",
              "      <td>android</td>\n",
              "      <td>38</td>\n",
              "    </tr>\n",
              "    <tr>\n",
              "      <th>1</th>\n",
              "      <td>2022-06-01</td>\n",
              "      <td>ios</td>\n",
              "      <td>32</td>\n",
              "    </tr>\n",
              "    <tr>\n",
              "      <th>2</th>\n",
              "      <td>2022-06-01</td>\n",
              "      <td>web</td>\n",
              "      <td>27</td>\n",
              "    </tr>\n",
              "    <tr>\n",
              "      <th>3</th>\n",
              "      <td>2022-06-02</td>\n",
              "      <td>android</td>\n",
              "      <td>31</td>\n",
              "    </tr>\n",
              "    <tr>\n",
              "      <th>4</th>\n",
              "      <td>2022-06-02</td>\n",
              "      <td>ios</td>\n",
              "      <td>42</td>\n",
              "    </tr>\n",
              "    <tr>\n",
              "      <th>...</th>\n",
              "      <td>...</td>\n",
              "      <td>...</td>\n",
              "      <td>...</td>\n",
              "    </tr>\n",
              "    <tr>\n",
              "      <th>166</th>\n",
              "      <td>2022-07-26</td>\n",
              "      <td>ios</td>\n",
              "      <td>35</td>\n",
              "    </tr>\n",
              "    <tr>\n",
              "      <th>167</th>\n",
              "      <td>2022-07-26</td>\n",
              "      <td>web</td>\n",
              "      <td>26</td>\n",
              "    </tr>\n",
              "    <tr>\n",
              "      <th>168</th>\n",
              "      <td>2022-07-27</td>\n",
              "      <td>android</td>\n",
              "      <td>40</td>\n",
              "    </tr>\n",
              "    <tr>\n",
              "      <th>169</th>\n",
              "      <td>2022-07-27</td>\n",
              "      <td>ios</td>\n",
              "      <td>29</td>\n",
              "    </tr>\n",
              "    <tr>\n",
              "      <th>170</th>\n",
              "      <td>2022-07-27</td>\n",
              "      <td>web</td>\n",
              "      <td>26</td>\n",
              "    </tr>\n",
              "  </tbody>\n",
              "</table>\n",
              "<p>171 rows × 3 columns</p>\n",
              "</div>\n",
              "      <button class=\"colab-df-convert\" onclick=\"convertToInteractive('df-7ec69685-e00f-4191-9caf-9d215d82f46c')\"\n",
              "              title=\"Convert this dataframe to an interactive table.\"\n",
              "              style=\"display:none;\">\n",
              "        \n",
              "  <svg xmlns=\"http://www.w3.org/2000/svg\" height=\"24px\"viewBox=\"0 0 24 24\"\n",
              "       width=\"24px\">\n",
              "    <path d=\"M0 0h24v24H0V0z\" fill=\"none\"/>\n",
              "    <path d=\"M18.56 5.44l.94 2.06.94-2.06 2.06-.94-2.06-.94-.94-2.06-.94 2.06-2.06.94zm-11 1L8.5 8.5l.94-2.06 2.06-.94-2.06-.94L8.5 2.5l-.94 2.06-2.06.94zm10 10l.94 2.06.94-2.06 2.06-.94-2.06-.94-.94-2.06-.94 2.06-2.06.94z\"/><path d=\"M17.41 7.96l-1.37-1.37c-.4-.4-.92-.59-1.43-.59-.52 0-1.04.2-1.43.59L10.3 9.45l-7.72 7.72c-.78.78-.78 2.05 0 2.83L4 21.41c.39.39.9.59 1.41.59.51 0 1.02-.2 1.41-.59l7.78-7.78 2.81-2.81c.8-.78.8-2.07 0-2.86zM5.41 20L4 18.59l7.72-7.72 1.47 1.35L5.41 20z\"/>\n",
              "  </svg>\n",
              "      </button>\n",
              "      \n",
              "  <style>\n",
              "    .colab-df-container {\n",
              "      display:flex;\n",
              "      flex-wrap:wrap;\n",
              "      gap: 12px;\n",
              "    }\n",
              "\n",
              "    .colab-df-convert {\n",
              "      background-color: #E8F0FE;\n",
              "      border: none;\n",
              "      border-radius: 50%;\n",
              "      cursor: pointer;\n",
              "      display: none;\n",
              "      fill: #1967D2;\n",
              "      height: 32px;\n",
              "      padding: 0 0 0 0;\n",
              "      width: 32px;\n",
              "    }\n",
              "\n",
              "    .colab-df-convert:hover {\n",
              "      background-color: #E2EBFA;\n",
              "      box-shadow: 0px 1px 2px rgba(60, 64, 67, 0.3), 0px 1px 3px 1px rgba(60, 64, 67, 0.15);\n",
              "      fill: #174EA6;\n",
              "    }\n",
              "\n",
              "    [theme=dark] .colab-df-convert {\n",
              "      background-color: #3B4455;\n",
              "      fill: #D2E3FC;\n",
              "    }\n",
              "\n",
              "    [theme=dark] .colab-df-convert:hover {\n",
              "      background-color: #434B5C;\n",
              "      box-shadow: 0px 1px 3px 1px rgba(0, 0, 0, 0.15);\n",
              "      filter: drop-shadow(0px 1px 2px rgba(0, 0, 0, 0.3));\n",
              "      fill: #FFFFFF;\n",
              "    }\n",
              "  </style>\n",
              "\n",
              "      <script>\n",
              "        const buttonEl =\n",
              "          document.querySelector('#df-7ec69685-e00f-4191-9caf-9d215d82f46c button.colab-df-convert');\n",
              "        buttonEl.style.display =\n",
              "          google.colab.kernel.accessAllowed ? 'block' : 'none';\n",
              "\n",
              "        async function convertToInteractive(key) {\n",
              "          const element = document.querySelector('#df-7ec69685-e00f-4191-9caf-9d215d82f46c');\n",
              "          const dataTable =\n",
              "            await google.colab.kernel.invokeFunction('convertToInteractive',\n",
              "                                                     [key], {});\n",
              "          if (!dataTable) return;\n",
              "\n",
              "          const docLinkHtml = 'Like what you see? Visit the ' +\n",
              "            '<a target=\"_blank\" href=https://colab.research.google.com/notebooks/data_table.ipynb>data table notebook</a>'\n",
              "            + ' to learn more about interactive tables.';\n",
              "          element.innerHTML = '';\n",
              "          dataTable['output_type'] = 'display_data';\n",
              "          await google.colab.output.renderOutput(dataTable, element);\n",
              "          const docLink = document.createElement('div');\n",
              "          docLink.innerHTML = docLinkHtml;\n",
              "          element.appendChild(docLink);\n",
              "        }\n",
              "      </script>\n",
              "    </div>\n",
              "  </div>\n",
              "  "
            ]
          },
          "metadata": {},
          "execution_count": 31
        }
      ]
    },
    {
      "cell_type": "code",
      "source": [
        "import seaborn as sns \n",
        "sns.lineplot(x= \"date\", y =\"user_id\", hue = \"action_type\", data = t1)"
      ],
      "metadata": {
        "id": "lEJpgM2v_Kq-"
      },
      "id": "lEJpgM2v_Kq-",
      "execution_count": null,
      "outputs": []
    },
    {
      "cell_type": "markdown",
      "metadata": {
        "id": "faOC_ZISxgdx"
      },
      "source": [
        "Вывести день по каждой платформе, в который DAU было максимальным"
      ],
      "id": "faOC_ZISxgdx"
    },
    {
      "cell_type": "code",
      "execution_count": null,
      "id": "0d57324a",
      "metadata": {
        "id": "0d57324a"
      },
      "outputs": [],
      "source": []
    },
    {
      "cell_type": "markdown",
      "metadata": {
        "id": "NtP09i--xgdy"
      },
      "source": [
        "### Блок 4"
      ],
      "id": "NtP09i--xgdy"
    },
    {
      "cell_type": "markdown",
      "id": "ec357941",
      "metadata": {
        "id": "ec357941"
      },
      "source": [
        "Есть сервис по размещению объявлений. Вам собран датасет с некоторыми событиями из этого сервиса. Проанализируйте его и расскажите, какие продуктовые метрики из него можно посторить? Какие выводы сделать? \n",
        "\n",
        "Представим, что в этом сервисе нет монетизации и ее решили ввести, какие варианты ты бы предложил? На какие метрики стоит посмотреть, чтобы принять решение о монетизации? Какие метрики выбирешь для мониторинга? Опиши как собирать такие метрики. Как бы ты проводил АБ тестирование, опиши процесс. Как по выбранным метрикам можно обосновать успех или провал запуска монетизации?"
      ]
    },
    {
      "cell_type": "code",
      "execution_count": null,
      "id": "a2da7c6a",
      "metadata": {
        "id": "a2da7c6a"
      },
      "outputs": [],
      "source": []
    }
  ],
  "metadata": {
    "kernelspec": {
      "display_name": "Python 3",
      "language": "python",
      "name": "python3"
    },
    "language_info": {
      "codemirror_mode": {
        "name": "ipython",
        "version": 3
      },
      "file_extension": ".py",
      "mimetype": "text/x-python",
      "name": "python",
      "nbconvert_exporter": "python",
      "pygments_lexer": "ipython3",
      "version": "3.8.8"
    },
    "colab": {
      "provenance": [],
      "include_colab_link": true
    }
  },
  "nbformat": 4,
  "nbformat_minor": 5
}
