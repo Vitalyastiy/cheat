{
  "cells": [
    {
      "cell_type": "markdown",
      "metadata": {
        "id": "5jEjFkUdE-dO"
      },
      "source": [
        "# NPS and Analysis for Make School 2017 Summer Program\n",
        "\n",
        "\n",
        "### Instructions: https://docs.google.com/document/d/11v_d1bkFbTM4N3WU6JAbdR_9_eUChrN32-mdQ9zKaOw/preview\n",
        "\n",
        "\n",
        "### HBR NPS: https://hbr.org/2003/12/the-one-number-you-need-to-grow \n",
        "\n",
        "\"Retention rates provide, in many industries, a valuable link to profitability, but their relationship to growth is tenuous. That’s because they basically track customer defections—the degree to which a bucket is emptying rather filling up \"\n",
        "\n",
        "\"'How likely is it that you would recommend [company X] to a friend or colleague?' ranked first or second in 11 of the 14 cases studies. And in two of the three other cases, “would recommend” ranked so close behind the top two predictors that the surveys would be nearly as accurate by relying on results of this single question.\"\n",
        "\n"
      ]
    },
    {
      "cell_type": "markdown",
      "metadata": {
        "id": "K9DhefTwE-dS"
      },
      "source": [
        "## Import libraries"
      ]
    },
    {
      "cell_type": "code",
      "execution_count": null,
      "metadata": {
        "id": "EknfROfzE-dT",
        "outputId": "fd33165e-e161-472b-a42c-4944345afbec"
      },
      "outputs": [
        {
          "data": {
            "text/html": [
              "<div>\n",
              "<style scoped>\n",
              "    .dataframe tbody tr th:only-of-type {\n",
              "        vertical-align: middle;\n",
              "    }\n",
              "\n",
              "    .dataframe tbody tr th {\n",
              "        vertical-align: top;\n",
              "    }\n",
              "\n",
              "    .dataframe thead th {\n",
              "        text-align: right;\n",
              "    }\n",
              "</style>\n",
              "<table border=\"1\" class=\"dataframe\">\n",
              "  <thead>\n",
              "    <tr style=\"text-align: right;\">\n",
              "      <th></th>\n",
              "      <th>ID</th>\n",
              "      <th>Location</th>\n",
              "      <th>Track</th>\n",
              "      <th>Week</th>\n",
              "      <th>Rating (Num)</th>\n",
              "      <th>Schedule Pacing</th>\n",
              "    </tr>\n",
              "  </thead>\n",
              "  <tbody>\n",
              "    <tr>\n",
              "      <th>0</th>\n",
              "      <td>134</td>\n",
              "      <td>San Francisco</td>\n",
              "      <td>Apps, Explorer</td>\n",
              "      <td>Week 1</td>\n",
              "      <td>3</td>\n",
              "      <td>Just right</td>\n",
              "    </tr>\n",
              "    <tr>\n",
              "      <th>1</th>\n",
              "      <td>36</td>\n",
              "      <td>Los Angeles</td>\n",
              "      <td>Apps</td>\n",
              "      <td>Week 1</td>\n",
              "      <td>4</td>\n",
              "      <td>A little too fast</td>\n",
              "    </tr>\n",
              "    <tr>\n",
              "      <th>2</th>\n",
              "      <td>117</td>\n",
              "      <td>San Francisco</td>\n",
              "      <td>Games</td>\n",
              "      <td>Week 1</td>\n",
              "      <td>4</td>\n",
              "      <td>Way too slow</td>\n",
              "    </tr>\n",
              "    <tr>\n",
              "      <th>3</th>\n",
              "      <td>253</td>\n",
              "      <td>NaN</td>\n",
              "      <td>NaN</td>\n",
              "      <td>Week 2</td>\n",
              "      <td>4</td>\n",
              "      <td>A little too fast</td>\n",
              "    </tr>\n",
              "    <tr>\n",
              "      <th>4</th>\n",
              "      <td>350</td>\n",
              "      <td>New York City</td>\n",
              "      <td>Apps, Explorer</td>\n",
              "      <td>Week 1</td>\n",
              "      <td>4</td>\n",
              "      <td>Just right</td>\n",
              "    </tr>\n",
              "    <tr>\n",
              "      <th>5</th>\n",
              "      <td>23</td>\n",
              "      <td>Redwood City</td>\n",
              "      <td>Apps</td>\n",
              "      <td>Week 1</td>\n",
              "      <td>5</td>\n",
              "      <td>Just right</td>\n",
              "    </tr>\n",
              "    <tr>\n",
              "      <th>6</th>\n",
              "      <td>28</td>\n",
              "      <td>Los Angeles</td>\n",
              "      <td>Apps</td>\n",
              "      <td>Week 7</td>\n",
              "      <td>5</td>\n",
              "      <td>Just right</td>\n",
              "    </tr>\n",
              "    <tr>\n",
              "      <th>7</th>\n",
              "      <td>65</td>\n",
              "      <td>San Francisco</td>\n",
              "      <td>Apps</td>\n",
              "      <td>Week 1</td>\n",
              "      <td>5</td>\n",
              "      <td>A little too slow</td>\n",
              "    </tr>\n",
              "    <tr>\n",
              "      <th>8</th>\n",
              "      <td>101</td>\n",
              "      <td>Santa Clara</td>\n",
              "      <td>Apps</td>\n",
              "      <td>Week 1</td>\n",
              "      <td>5</td>\n",
              "      <td>A little too slow</td>\n",
              "    </tr>\n",
              "    <tr>\n",
              "      <th>9</th>\n",
              "      <td>124</td>\n",
              "      <td>Santa Clara</td>\n",
              "      <td>Apps</td>\n",
              "      <td>Week 1</td>\n",
              "      <td>5</td>\n",
              "      <td>Just right</td>\n",
              "    </tr>\n",
              "  </tbody>\n",
              "</table>\n",
              "</div>"
            ],
            "text/plain": [
              "    ID       Location           Track    Week Rating (Num)    Schedule Pacing\n",
              "0  134  San Francisco  Apps, Explorer  Week 1            3         Just right\n",
              "1   36    Los Angeles            Apps  Week 1            4  A little too fast\n",
              "2  117  San Francisco           Games  Week 1            4       Way too slow\n",
              "3  253            NaN             NaN  Week 2            4  A little too fast\n",
              "4  350  New York City  Apps, Explorer  Week 1            4         Just right\n",
              "5   23   Redwood City            Apps  Week 1            5         Just right\n",
              "6   28    Los Angeles            Apps  Week 7            5         Just right\n",
              "7   65  San Francisco            Apps  Week 1            5  A little too slow\n",
              "8  101    Santa Clara            Apps  Week 1            5  A little too slow\n",
              "9  124    Santa Clara            Apps  Week 1            5         Just right"
            ]
          },
          "execution_count": 201,
          "metadata": {},
          "output_type": "execute_result"
        }
      ],
      "source": [
        "import numpy as np\n",
        "import pandas as pd\n",
        "import matplotlib.pyplot as plt\n",
        "import seaborn as sns\n",
        "\n",
        "# read csv and peek the data\n",
        "df = pd.read_csv('SA Feedback Surveys_FINAL/2017/Student Feedback Surveys-Superview.csv')\n",
        "df.head(10)"
      ]
    },
    {
      "cell_type": "markdown",
      "metadata": {
        "id": "fINPVW32E-dV"
      },
      "source": [
        "## Getting familiar with the data in question"
      ]
    },
    {
      "cell_type": "code",
      "execution_count": null,
      "metadata": {
        "id": "qgwsdsVVE-dV",
        "outputId": "dcd06c16-10be-4b63-cadd-d36481ad6d8f"
      },
      "outputs": [
        {
          "data": {
            "text/plain": [
              "(1453, 6)"
            ]
          },
          "execution_count": 202,
          "metadata": {},
          "output_type": "execute_result"
        }
      ],
      "source": [
        "# How many rows vs columns do we have? \n",
        "df.shape"
      ]
    },
    {
      "cell_type": "code",
      "execution_count": null,
      "metadata": {
        "id": "sXS2b-F1E-dW",
        "outputId": "8e481293-7d27-4e04-8549-268202beae7c"
      },
      "outputs": [
        {
          "data": {
            "text/plain": [
              "Index(['ID', 'Location', 'Track', 'Week', 'Rating (Num)', 'Schedule Pacing'], dtype='object')"
            ]
          },
          "execution_count": 203,
          "metadata": {},
          "output_type": "execute_result"
        }
      ],
      "source": [
        "# Lots of raw data, what a beautiful sight\n",
        "\n",
        "df.columns"
      ]
    },
    {
      "cell_type": "code",
      "execution_count": null,
      "metadata": {
        "id": "v-oKxvKSE-dX"
      },
      "outputs": [],
      "source": [
        "# 'Rating (Num)' has a space in it and too many characters, let's rename it something simpler\n",
        "df.rename(columns={'Rating (Num)':'Rating'}, inplace=True)"
      ]
    },
    {
      "cell_type": "code",
      "execution_count": null,
      "metadata": {
        "id": "r7JiFQDqE-dX",
        "outputId": "387d3afe-7fa1-4bd6-ac18-d95713a3e0b0"
      },
      "outputs": [
        {
          "data": {
            "text/plain": [
              "8          392\n",
              "9          384\n",
              "10         376\n",
              "7          177\n",
              "6           59\n",
              "5           35\n",
              "4           13\n",
              "3            8\n",
              "#ERROR!      3\n",
              "0            2\n",
              "1            2\n",
              "2            2\n",
              "Name: Rating, dtype: int64"
            ]
          },
          "execution_count": 205,
          "metadata": {},
          "output_type": "execute_result"
        }
      ],
      "source": [
        "# Look at the count of each rating\n",
        "df['Rating'].value_counts()"
      ]
    },
    {
      "cell_type": "code",
      "execution_count": null,
      "metadata": {
        "id": "Q_cPbBkWE-dY"
      },
      "outputs": [],
      "source": [
        "# Eliminate #ERROR! rows from the df because, upon inspection, they have no useful data / were left blank\n",
        "df = df[df['Rating'] != '#ERROR!']"
      ]
    },
    {
      "cell_type": "code",
      "execution_count": null,
      "metadata": {
        "id": "WqL-5m-ZE-dZ",
        "outputId": "d03628e3-6889-4776-9d9b-70e6a049c4c8"
      },
      "outputs": [
        {
          "data": {
            "text/plain": [
              "0        3\n",
              "1        4\n",
              "2        4\n",
              "3        4\n",
              "4        4\n",
              "        ..\n",
              "1448    10\n",
              "1449     8\n",
              "1450    10\n",
              "1451     1\n",
              "1452     8\n",
              "Name: Rating, Length: 1450, dtype: int64"
            ]
          },
          "execution_count": 207,
          "metadata": {},
          "output_type": "execute_result"
        }
      ],
      "source": [
        "# Store loc of Rating as integers\n",
        "df_rating = df.loc[:, 'Rating'].astype(int)\n",
        "df_rating"
      ]
    },
    {
      "cell_type": "markdown",
      "metadata": {
        "id": "TD3TFetcE-dZ"
      },
      "source": [
        "# Calculate NPS"
      ]
    },
    {
      "cell_type": "code",
      "execution_count": null,
      "metadata": {
        "id": "hQO_3L-0E-da"
      },
      "outputs": [],
      "source": [
        "# Categorize each rating from our formula. Promoters are 9 & 10, Passives 7 & 8, Detractors 0 - 6\n",
        "# I assume ratings of 0 would have been ratings of 1\n",
        "\n",
        "def categorize_rating(rating):\n",
        "    \n",
        "    if rating > 10 or rating < 0:\n",
        "        raise ValueError('Value Out of Bounds')\n",
        "    elif rating >= 9:\n",
        "        return 'Promoter'\n",
        "    elif rating >= 7:\n",
        "        return 'Passive'\n",
        "    else:\n",
        "        return 'Detractor'"
      ]
    },
    {
      "cell_type": "code",
      "execution_count": null,
      "metadata": {
        "id": "wZXEVz2xE-da",
        "outputId": "bc5be3fc-9576-40a1-f2d2-4a3d367b73e7"
      },
      "outputs": [
        {
          "data": {
            "text/html": [
              "<div>\n",
              "<style scoped>\n",
              "    .dataframe tbody tr th:only-of-type {\n",
              "        vertical-align: middle;\n",
              "    }\n",
              "\n",
              "    .dataframe tbody tr th {\n",
              "        vertical-align: top;\n",
              "    }\n",
              "\n",
              "    .dataframe thead th {\n",
              "        text-align: right;\n",
              "    }\n",
              "</style>\n",
              "<table border=\"1\" class=\"dataframe\">\n",
              "  <thead>\n",
              "    <tr style=\"text-align: right;\">\n",
              "      <th></th>\n",
              "      <th>ID</th>\n",
              "      <th>Location</th>\n",
              "      <th>Track</th>\n",
              "      <th>Week</th>\n",
              "      <th>Rating</th>\n",
              "      <th>Schedule Pacing</th>\n",
              "      <th>Category</th>\n",
              "    </tr>\n",
              "  </thead>\n",
              "  <tbody>\n",
              "    <tr>\n",
              "      <th>0</th>\n",
              "      <td>134</td>\n",
              "      <td>San Francisco</td>\n",
              "      <td>Apps, Explorer</td>\n",
              "      <td>Week 1</td>\n",
              "      <td>3</td>\n",
              "      <td>Just right</td>\n",
              "      <td>Detractor</td>\n",
              "    </tr>\n",
              "    <tr>\n",
              "      <th>1</th>\n",
              "      <td>36</td>\n",
              "      <td>Los Angeles</td>\n",
              "      <td>Apps</td>\n",
              "      <td>Week 1</td>\n",
              "      <td>4</td>\n",
              "      <td>A little too fast</td>\n",
              "      <td>Detractor</td>\n",
              "    </tr>\n",
              "    <tr>\n",
              "      <th>2</th>\n",
              "      <td>117</td>\n",
              "      <td>San Francisco</td>\n",
              "      <td>Games</td>\n",
              "      <td>Week 1</td>\n",
              "      <td>4</td>\n",
              "      <td>Way too slow</td>\n",
              "      <td>Detractor</td>\n",
              "    </tr>\n",
              "    <tr>\n",
              "      <th>3</th>\n",
              "      <td>253</td>\n",
              "      <td>NaN</td>\n",
              "      <td>NaN</td>\n",
              "      <td>Week 2</td>\n",
              "      <td>4</td>\n",
              "      <td>A little too fast</td>\n",
              "      <td>Detractor</td>\n",
              "    </tr>\n",
              "    <tr>\n",
              "      <th>4</th>\n",
              "      <td>350</td>\n",
              "      <td>New York City</td>\n",
              "      <td>Apps, Explorer</td>\n",
              "      <td>Week 1</td>\n",
              "      <td>4</td>\n",
              "      <td>Just right</td>\n",
              "      <td>Detractor</td>\n",
              "    </tr>\n",
              "    <tr>\n",
              "      <th>5</th>\n",
              "      <td>23</td>\n",
              "      <td>Redwood City</td>\n",
              "      <td>Apps</td>\n",
              "      <td>Week 1</td>\n",
              "      <td>5</td>\n",
              "      <td>Just right</td>\n",
              "      <td>Detractor</td>\n",
              "    </tr>\n",
              "    <tr>\n",
              "      <th>6</th>\n",
              "      <td>28</td>\n",
              "      <td>Los Angeles</td>\n",
              "      <td>Apps</td>\n",
              "      <td>Week 7</td>\n",
              "      <td>5</td>\n",
              "      <td>Just right</td>\n",
              "      <td>Detractor</td>\n",
              "    </tr>\n",
              "    <tr>\n",
              "      <th>7</th>\n",
              "      <td>65</td>\n",
              "      <td>San Francisco</td>\n",
              "      <td>Apps</td>\n",
              "      <td>Week 1</td>\n",
              "      <td>5</td>\n",
              "      <td>A little too slow</td>\n",
              "      <td>Detractor</td>\n",
              "    </tr>\n",
              "    <tr>\n",
              "      <th>8</th>\n",
              "      <td>101</td>\n",
              "      <td>Santa Clara</td>\n",
              "      <td>Apps</td>\n",
              "      <td>Week 1</td>\n",
              "      <td>5</td>\n",
              "      <td>A little too slow</td>\n",
              "      <td>Detractor</td>\n",
              "    </tr>\n",
              "    <tr>\n",
              "      <th>9</th>\n",
              "      <td>124</td>\n",
              "      <td>Santa Clara</td>\n",
              "      <td>Apps</td>\n",
              "      <td>Week 1</td>\n",
              "      <td>5</td>\n",
              "      <td>Just right</td>\n",
              "      <td>Detractor</td>\n",
              "    </tr>\n",
              "  </tbody>\n",
              "</table>\n",
              "</div>"
            ],
            "text/plain": [
              "    ID       Location           Track    Week Rating    Schedule Pacing  \\\n",
              "0  134  San Francisco  Apps, Explorer  Week 1      3         Just right   \n",
              "1   36    Los Angeles            Apps  Week 1      4  A little too fast   \n",
              "2  117  San Francisco           Games  Week 1      4       Way too slow   \n",
              "3  253            NaN             NaN  Week 2      4  A little too fast   \n",
              "4  350  New York City  Apps, Explorer  Week 1      4         Just right   \n",
              "5   23   Redwood City            Apps  Week 1      5         Just right   \n",
              "6   28    Los Angeles            Apps  Week 7      5         Just right   \n",
              "7   65  San Francisco            Apps  Week 1      5  A little too slow   \n",
              "8  101    Santa Clara            Apps  Week 1      5  A little too slow   \n",
              "9  124    Santa Clara            Apps  Week 1      5         Just right   \n",
              "\n",
              "    Category  \n",
              "0  Detractor  \n",
              "1  Detractor  \n",
              "2  Detractor  \n",
              "3  Detractor  \n",
              "4  Detractor  \n",
              "5  Detractor  \n",
              "6  Detractor  \n",
              "7  Detractor  \n",
              "8  Detractor  \n",
              "9  Detractor  "
            ]
          },
          "execution_count": 209,
          "metadata": {},
          "output_type": "execute_result"
        }
      ],
      "source": [
        "# apply the categorize function to each rating and store the output in a new column\n",
        "# create 'Category' column in df\n",
        "\n",
        "df['Category'] = df_rating.apply(categorize_rating)\n",
        "df.head(10)"
      ]
    },
    {
      "cell_type": "code",
      "execution_count": null,
      "metadata": {
        "id": "uuuBC__uE-db",
        "outputId": "beee375f-330b-4b80-f8f1-e24bba92355b"
      },
      "outputs": [
        {
          "name": "stdout",
          "output_type": "stream",
          "text": [
            "760 569 121\n"
          ]
        },
        {
          "data": {
            "text/plain": [
              "'NPS: 44.06896551724138'"
            ]
          },
          "execution_count": 210,
          "metadata": {},
          "output_type": "execute_result"
        }
      ],
      "source": [
        "# parse new column: Categories, calculate NPS\n",
        "\n",
        "def calculate_nps(categories):\n",
        "    promoters = categories.value_counts()['Promoter']\n",
        "    passives = categories.value_counts()['Passive']\n",
        "    detractors = categories.value_counts()['Detractor']\n",
        "\n",
        "    # the last week has no detractors. Instead of blank, make it 0\n",
        "    print(promoters, passives, detractors)\n",
        "    return (promoters - detractors) / (promoters+passives+detractors)*100\n",
        "\n",
        "overall_nps = calculate_nps(df['Category'])\n",
        "\n",
        "f\"NPS: {overall_nps}\""
      ]
    },
    {
      "cell_type": "code",
      "execution_count": null,
      "metadata": {
        "id": "xNoF-lE0E-db",
        "outputId": "614b689b-98d7-4d33-b005-a01a928a52ec"
      },
      "outputs": [
        {
          "data": {
            "text/plain": [
              "44.06896551724138"
            ]
          },
          "execution_count": 211,
          "metadata": {},
          "output_type": "execute_result"
        }
      ],
      "source": [
        "# this version returns empty categories with a 0 instead of nothing at all\n",
        "\n",
        "def calc_nps(categories):\n",
        "    prom = categories.eq('Promoter').astype(int).sum()\n",
        "    pas = categories.eq('Passive').astype(int).sum()\n",
        "    det = categories.eq('Detractor').astype(int).sum()\n",
        "#     print(prom, pas, det)\n",
        "    return (prom-det)/(prom+pas+det)*100\n",
        "# df['CAR'].eq('BMW').astype(int).groupby(df['DATE']).sum()\n",
        "\n",
        "calc_nps(df['Category'])"
      ]
    },
    {
      "cell_type": "markdown",
      "metadata": {
        "id": "e5DN6aB7E-dc"
      },
      "source": [
        "# Diving into the data\n",
        "\n",
        "Here, I explore some important questions to find out more about trends in the data.\n",
        "\n",
        "How many more promoters are there than detractors across our 2017 data?\n",
        "Which track boasts the best promoter-to-detractor ratio?\n",
        "Does the student experience get better the longer that they are enrolled at the Summer Academy?\n",
        "Does student satisfaction vary by location?\n",
        "What are things we could find here that could “help the business”?\n",
        "What sorts of information does this dataset contain?\n",
        "What kinds of questions might we be able to answer with this data?\n",
        "What kinds of questions can’t we answer with this data?\n",
        "What sorts of information might be actionable?\n",
        "How can you present your findings in a way that non-technical employees can understand and use to make decisions?"
      ]
    },
    {
      "cell_type": "markdown",
      "metadata": {
        "id": "D9xT7FvQE-dc"
      },
      "source": [
        "## Question 1: How many more promoters are there than detractors across our 2017 data?"
      ]
    },
    {
      "cell_type": "code",
      "execution_count": null,
      "metadata": {
        "id": "0RNVbpfZE-dd"
      },
      "outputs": [],
      "source": [
        "# Let's make a pie chart to help visualize the spread of each Category relative to the whole\n",
        "\n",
        "BINS = [-np.inf, 0.00, np.inf]\n",
        "LABELS = [\"Promoter\", \"Passive\", \"Detractor\"]\n",
        "colors = ['Green', 'Yellowgreen', 'pink']"
      ]
    },
    {
      "cell_type": "code",
      "execution_count": null,
      "metadata": {
        "id": "XDH3cSCbE-dd"
      },
      "outputs": [],
      "source": [
        "cat_df = df[\"Category\"].value_counts()"
      ]
    },
    {
      "cell_type": "code",
      "execution_count": null,
      "metadata": {
        "id": "XGtI4294E-dd",
        "outputId": "0c32572b-8166-4c67-b5ce-35a96cd1e039"
      },
      "outputs": [
        {
          "data": {
            "text/plain": [
              "(-1.1089888454347638,\n",
              " 1.1224835377140603,\n",
              " -1.1146208968133489,\n",
              " 1.2018786623859277)"
            ]
          },
          "execution_count": 214,
          "metadata": {},
          "output_type": "execute_result"
        },
        {
          "data": {
            "image/png": "[encoded data removed]",
            "text/plain": [
              "<Figure size 432x288 with 1 Axes>"
            ]
          },
          "metadata": {},
          "output_type": "display_data"
        }
      ],
      "source": [
        "explode = (0, 0, 0.1)\n",
        "plt.pie(cat_df.values, labels=LABELS, colors=colors, autopct='%1.1f%%', shadow=True, startangle=90, explode = explode)\n",
        "\n",
        "fig = plt.gcf()\n",
        "\n",
        "plt.axis('equal')"
      ]
    },
    {
      "cell_type": "code",
      "execution_count": null,
      "metadata": {
        "id": "C9N-3z8oE-dd",
        "outputId": "14120c20-f71e-48e5-b8d9-b9eedb19a380"
      },
      "outputs": [
        {
          "data": {
            "text/plain": [
              "(760, 121)"
            ]
          },
          "execution_count": 215,
          "metadata": {},
          "output_type": "execute_result"
        }
      ],
      "source": [
        "promoters = df['Category'].value_counts()['Promoter']\n",
        "detractors = df['Category'].value_counts()['Detractor']\n",
        "promoters, detractors"
      ]
    },
    {
      "cell_type": "code",
      "execution_count": null,
      "metadata": {
        "id": "exWvFYqoE-de",
        "outputId": "1035df35-fc5a-4ff7-b086-c730b1fccdc6"
      },
      "outputs": [
        {
          "data": {
            "text/plain": [
              "'We have 639 more promoters than detractors.'"
            ]
          },
          "execution_count": 216,
          "metadata": {},
          "output_type": "execute_result"
        }
      ],
      "source": [
        "f'We have {promoters - detractors} more promoters than detractors.'"
      ]
    },
    {
      "cell_type": "markdown",
      "metadata": {
        "id": "5iLLAfNYE-de"
      },
      "source": [
        "## Question 2: Which track boasts the best promoter-to-detractor ratio?"
      ]
    },
    {
      "cell_type": "code",
      "execution_count": null,
      "metadata": {
        "id": "86QQGCHeE-df",
        "outputId": "40bf785b-7bf2-4e63-8132-3e72b3c89e25"
      },
      "outputs": [
        {
          "data": {
            "text/plain": [
              "Apps               871\n",
              "Apps, Explorer     224\n",
              "Games              208\n",
              "VR                  60\n",
              "Games, Explorer     43\n",
              "Name: Track, dtype: int64"
            ]
          },
          "execution_count": 217,
          "metadata": {},
          "output_type": "execute_result"
        }
      ],
      "source": [
        "# Take a quick peek at the numbers of the data we're interested in\n",
        "# Like how many people were in each of the tracks\n",
        "\n",
        "df['Track'].value_counts()"
      ]
    },
    {
      "cell_type": "code",
      "execution_count": null,
      "metadata": {
        "id": "nIDRfz8OE-df",
        "outputId": "4c2ef680-c12b-47cd-81e4-1b550c77ebf7"
      },
      "outputs": [
        {
          "data": {
            "text/html": [
              "<div>\n",
              "<style scoped>\n",
              "    .dataframe tbody tr th:only-of-type {\n",
              "        vertical-align: middle;\n",
              "    }\n",
              "\n",
              "    .dataframe tbody tr th {\n",
              "        vertical-align: top;\n",
              "    }\n",
              "\n",
              "    .dataframe thead th {\n",
              "        text-align: right;\n",
              "    }\n",
              "</style>\n",
              "<table border=\"1\" class=\"dataframe\">\n",
              "  <thead>\n",
              "    <tr style=\"text-align: right;\">\n",
              "      <th>Category</th>\n",
              "      <th>Detractor</th>\n",
              "      <th>Passive</th>\n",
              "      <th>Promoter</th>\n",
              "    </tr>\n",
              "    <tr>\n",
              "      <th>Track</th>\n",
              "      <th></th>\n",
              "      <th></th>\n",
              "      <th></th>\n",
              "    </tr>\n",
              "  </thead>\n",
              "  <tbody>\n",
              "    <tr>\n",
              "      <th>Apps</th>\n",
              "      <td>78</td>\n",
              "      <td>355</td>\n",
              "      <td>438</td>\n",
              "    </tr>\n",
              "    <tr>\n",
              "      <th>Apps, Explorer</th>\n",
              "      <td>24</td>\n",
              "      <td>109</td>\n",
              "      <td>91</td>\n",
              "    </tr>\n",
              "    <tr>\n",
              "      <th>Games</th>\n",
              "      <td>9</td>\n",
              "      <td>66</td>\n",
              "      <td>133</td>\n",
              "    </tr>\n",
              "    <tr>\n",
              "      <th>Games, Explorer</th>\n",
              "      <td>0</td>\n",
              "      <td>12</td>\n",
              "      <td>31</td>\n",
              "    </tr>\n",
              "    <tr>\n",
              "      <th>VR</th>\n",
              "      <td>2</td>\n",
              "      <td>12</td>\n",
              "      <td>46</td>\n",
              "    </tr>\n",
              "  </tbody>\n",
              "</table>\n",
              "</div>"
            ],
            "text/plain": [
              "Category         Detractor  Passive  Promoter\n",
              "Track                                        \n",
              "Apps                    78      355       438\n",
              "Apps, Explorer          24      109        91\n",
              "Games                    9       66       133\n",
              "Games, Explorer          0       12        31\n",
              "VR                       2       12        46"
            ]
          },
          "execution_count": 218,
          "metadata": {},
          "output_type": "execute_result"
        }
      ],
      "source": [
        "# and how many liked dislike or were neutral\n",
        "pd.crosstab(df['Track'], df['Category'])"
      ]
    },
    {
      "cell_type": "code",
      "execution_count": null,
      "metadata": {
        "id": "hfD8QLhZE-df",
        "outputId": "33d19b79-1109-4088-e858-5aa50e7153c2"
      },
      "outputs": [
        {
          "data": {
            "text/plain": [
              "Text(0.5, 1, 'Correlation between Track and Category')"
            ]
          },
          "execution_count": 219,
          "metadata": {},
          "output_type": "execute_result"
        },
        {
          "data": {
            "image/png": "[encoded data removed]",
            "text/plain": [
              "<Figure size 432x288 with 2 Axes>"
            ]
          },
          "metadata": {
            "needs_background": "light"
          },
          "output_type": "display_data"
        }
      ],
      "source": [
        "m = sns.heatmap(pd.crosstab(df['Track'], df['Category'], normalize='index'), cmap=\"YlGnBu\", annot=True)\n",
        "plt.title('Correlation between Track and Category')"
      ]
    },
    {
      "cell_type": "markdown",
      "metadata": {
        "id": "C9GymJQfE-df"
      },
      "source": [
        "Overall Games,Explorer Track wins with the unicorn score of 0% Detractors and 72% Promoters. \n",
        "VR Track has the highest promoters with 77% Promoters and only 3% Detractors."
      ]
    },
    {
      "cell_type": "markdown",
      "metadata": {
        "id": "lTGfelm2E-dg"
      },
      "source": [
        "## Question 3: Does the student experience get better the longer that they are enrolled at the Summer Academy? "
      ]
    },
    {
      "cell_type": "code",
      "execution_count": null,
      "metadata": {
        "id": "dyHTi-GbE-dh",
        "outputId": "33509c20-43b9-4b93-dde2-58c13049ad02"
      },
      "outputs": [
        {
          "data": {
            "text/html": [
              "<div>\n",
              "<style scoped>\n",
              "    .dataframe tbody tr th:only-of-type {\n",
              "        vertical-align: middle;\n",
              "    }\n",
              "\n",
              "    .dataframe tbody tr th {\n",
              "        vertical-align: top;\n",
              "    }\n",
              "\n",
              "    .dataframe thead th {\n",
              "        text-align: right;\n",
              "    }\n",
              "</style>\n",
              "<table border=\"1\" class=\"dataframe\">\n",
              "  <thead>\n",
              "    <tr style=\"text-align: right;\">\n",
              "      <th>Category</th>\n",
              "      <th>Detractor</th>\n",
              "      <th>Passive</th>\n",
              "      <th>Promoter</th>\n",
              "    </tr>\n",
              "    <tr>\n",
              "      <th>Week</th>\n",
              "      <th></th>\n",
              "      <th></th>\n",
              "      <th></th>\n",
              "    </tr>\n",
              "  </thead>\n",
              "  <tbody>\n",
              "    <tr>\n",
              "      <th>Week 1</th>\n",
              "      <td>28</td>\n",
              "      <td>131</td>\n",
              "      <td>129</td>\n",
              "    </tr>\n",
              "    <tr>\n",
              "      <th>Week 2</th>\n",
              "      <td>23</td>\n",
              "      <td>116</td>\n",
              "      <td>137</td>\n",
              "    </tr>\n",
              "    <tr>\n",
              "      <th>Week 3</th>\n",
              "      <td>20</td>\n",
              "      <td>86</td>\n",
              "      <td>135</td>\n",
              "    </tr>\n",
              "    <tr>\n",
              "      <th>Week 4</th>\n",
              "      <td>19</td>\n",
              "      <td>74</td>\n",
              "      <td>100</td>\n",
              "    </tr>\n",
              "    <tr>\n",
              "      <th>Week 5</th>\n",
              "      <td>15</td>\n",
              "      <td>67</td>\n",
              "      <td>97</td>\n",
              "    </tr>\n",
              "    <tr>\n",
              "      <th>Week 6</th>\n",
              "      <td>8</td>\n",
              "      <td>59</td>\n",
              "      <td>77</td>\n",
              "    </tr>\n",
              "    <tr>\n",
              "      <th>Week 7</th>\n",
              "      <td>8</td>\n",
              "      <td>34</td>\n",
              "      <td>78</td>\n",
              "    </tr>\n",
              "    <tr>\n",
              "      <th>Week 8</th>\n",
              "      <td>0</td>\n",
              "      <td>2</td>\n",
              "      <td>7</td>\n",
              "    </tr>\n",
              "  </tbody>\n",
              "</table>\n",
              "</div>"
            ],
            "text/plain": [
              "Category  Detractor  Passive  Promoter\n",
              "Week                                  \n",
              "Week 1           28      131       129\n",
              "Week 2           23      116       137\n",
              "Week 3           20       86       135\n",
              "Week 4           19       74       100\n",
              "Week 5           15       67        97\n",
              "Week 6            8       59        77\n",
              "Week 7            8       34        78\n",
              "Week 8            0        2         7"
            ]
          },
          "execution_count": 220,
          "metadata": {},
          "output_type": "execute_result"
        }
      ],
      "source": [
        "# I'll use graphs to visualize the trend of student experience (NPS) over the weeks of the program\n",
        "# Let's peek at the relationship between the two within our df\n",
        "pd.crosstab(df['Week'], df['Category'])"
      ]
    },
    {
      "cell_type": "code",
      "execution_count": null,
      "metadata": {
        "id": "tSK88GHaE-di",
        "outputId": "883ace1c-3a68-4ffb-8853-a6a55c087ca7"
      },
      "outputs": [
        {
          "data": {
            "text/plain": [
              "<matplotlib.axes._subplots.AxesSubplot at 0x126382c10>"
            ]
          },
          "execution_count": 221,
          "metadata": {},
          "output_type": "execute_result"
        },
        {
          "data": {
            "image/png": "[encoded data removed]",
            "text/plain": [
              "<Figure size 432x288 with 1 Axes>"
            ]
          },
          "metadata": {
            "needs_background": "light"
          },
          "output_type": "display_data"
        }
      ],
      "source": [
        "# It's important to acknowledge the steep decline in available data over time\n",
        "\n",
        "df['Week'].value_counts().plot(kind='bar')"
      ]
    },
    {
      "cell_type": "code",
      "execution_count": null,
      "metadata": {
        "id": "780IVpFwE-di",
        "outputId": "d725fda5-16ad-4e5b-e3ed-065b61838812"
      },
      "outputs": [
        {
          "data": {
            "text/plain": [
              "Category   Week  \n",
              "Detractor  Week 1     28\n",
              "           Week 2     23\n",
              "           Week 3     20\n",
              "           Week 4     19\n",
              "           Week 5     15\n",
              "           Week 6      8\n",
              "           Week 7      8\n",
              "Passive    Week 1    131\n",
              "           Week 2    116\n",
              "           Week 3     86\n",
              "           Week 4     74\n",
              "           Week 5     67\n",
              "           Week 6     59\n",
              "           Week 7     34\n",
              "           Week 8      2\n",
              "Promoter   Week 2    137\n",
              "           Week 3    135\n",
              "           Week 1    129\n",
              "           Week 4    100\n",
              "           Week 5     97\n",
              "           Week 7     78\n",
              "           Week 6     77\n",
              "           Week 8      7\n",
              "Name: Week, dtype: int64"
            ]
          },
          "execution_count": 222,
          "metadata": {},
          "output_type": "execute_result"
        }
      ],
      "source": [
        "# Make a df of the weeks grouped by category\n",
        "\n",
        "cat_weeks = df.groupby('Category')['Week']\n",
        "cat_weeks.value_counts()"
      ]
    },
    {
      "cell_type": "code",
      "execution_count": null,
      "metadata": {
        "id": "yr0rt9SHE-di",
        "outputId": "deb783cb-e102-4ab6-8044-5840551ad66a"
      },
      "outputs": [
        {
          "name": "stdout",
          "output_type": "stream",
          "text": [
            "Week\n",
            "Week 2    137\n",
            "Week 3    135\n",
            "Week 1    129\n",
            "Week 4    100\n",
            "Week 5     97\n",
            "Week 7     78\n",
            "Week 6     77\n",
            "Week 8      7\n",
            "Name: Week, dtype: int64 Week\n",
            "Week 1    131\n",
            "Week 2    116\n",
            "Week 3     86\n",
            "Week 4     74\n",
            "Week 5     67\n",
            "Week 6     59\n",
            "Week 7     34\n",
            "Week 8      2\n",
            "Name: Week, dtype: int64 Week\n",
            "Week 1    28\n",
            "Week 2    23\n",
            "Week 3    20\n",
            "Week 4    19\n",
            "Week 5    15\n",
            "Week 6     8\n",
            "Week 7     8\n",
            "Name: Week, dtype: int64\n"
          ]
        },
        {
          "data": {
            "text/plain": [
              "Week\n",
              "Week 1    35.069444\n",
              "Week 2    41.304348\n",
              "Week 3    47.717842\n",
              "Week 4    41.968912\n",
              "Week 5    45.810056\n",
              "Week 6    47.916667\n",
              "Week 7    58.333333\n",
              "Week 8          NaN\n",
              "Name: Week, dtype: float64"
            ]
          },
          "execution_count": 223,
          "metadata": {},
          "output_type": "execute_result"
        }
      ],
      "source": [
        "# Then calculate nps for each week\n",
        "weekly_nps = calculate_nps(cat_weeks)\n",
        "weekly_nps"
      ]
    },
    {
      "cell_type": "code",
      "execution_count": null,
      "metadata": {
        "id": "TroMGl16E-di",
        "outputId": "1c8fde30-01c1-4345-9546-131249709602"
      },
      "outputs": [
        {
          "data": {
            "text/plain": [
              "<matplotlib.lines.Line2D at 0x1263ad990>"
            ]
          },
          "execution_count": 224,
          "metadata": {},
          "output_type": "execute_result"
        },
        {
          "data": {
            "image/png": "[encoded data removed]",
            "text/plain": [
              "<Figure size 432x288 with 1 Axes>"
            ]
          },
          "metadata": {
            "needs_background": "light"
          },
          "output_type": "display_data"
        }
      ],
      "source": [
        "# and graph it in blue along with the overall nps in red\n",
        "fig, ax = plt.subplots()\n",
        "ax.plot(weekly_nps)\n",
        "ax.axhline(overall_nps, color='green', linestyle='--')"
      ]
    },
    {
      "cell_type": "markdown",
      "metadata": {
        "id": "TvxjNkrQE-dj"
      },
      "source": [
        "Overall the trend is positive. We knew this from the NPS score being a positive ~44. From the graph we can see the general trend over each week. \n",
        "\n",
        "Note: This result could be because the only people who wrote reviews over time were the people who enjoyed the program.. Survivorship Bias. This correlates with the amount of recorded data significantly dropping off over time as the ratings increase."
      ]
    },
    {
      "cell_type": "markdown",
      "metadata": {
        "id": "pEGf47cGE-dj"
      },
      "source": [
        "## Question 4: Does student satisfaction vary by location?"
      ]
    },
    {
      "cell_type": "markdown",
      "metadata": {
        "id": "8wQcmMUYE-dj"
      },
      "source": [
        "Instead of rating per week, we look at ratings relative to location "
      ]
    },
    {
      "cell_type": "code",
      "execution_count": null,
      "metadata": {
        "id": "NXHy0LsjE-dj",
        "outputId": "bcb47f1c-61b8-4dd5-a218-b70a749d20d1"
      },
      "outputs": [
        {
          "data": {
            "text/html": [
              "<div>\n",
              "<style scoped>\n",
              "    .dataframe tbody tr th:only-of-type {\n",
              "        vertical-align: middle;\n",
              "    }\n",
              "\n",
              "    .dataframe tbody tr th {\n",
              "        vertical-align: top;\n",
              "    }\n",
              "\n",
              "    .dataframe thead th {\n",
              "        text-align: right;\n",
              "    }\n",
              "</style>\n",
              "<table border=\"1\" class=\"dataframe\">\n",
              "  <thead>\n",
              "    <tr style=\"text-align: right;\">\n",
              "      <th>Category</th>\n",
              "      <th>Detractor</th>\n",
              "      <th>Passive</th>\n",
              "      <th>Promoter</th>\n",
              "    </tr>\n",
              "    <tr>\n",
              "      <th>Location</th>\n",
              "      <th></th>\n",
              "      <th></th>\n",
              "      <th></th>\n",
              "    </tr>\n",
              "  </thead>\n",
              "  <tbody>\n",
              "    <tr>\n",
              "      <th>Atlanta</th>\n",
              "      <td>0</td>\n",
              "      <td>9</td>\n",
              "      <td>24</td>\n",
              "    </tr>\n",
              "    <tr>\n",
              "      <th>Beijing</th>\n",
              "      <td>0</td>\n",
              "      <td>25</td>\n",
              "      <td>53</td>\n",
              "    </tr>\n",
              "    <tr>\n",
              "      <th>Chicago</th>\n",
              "      <td>4</td>\n",
              "      <td>29</td>\n",
              "      <td>37</td>\n",
              "    </tr>\n",
              "    <tr>\n",
              "      <th>Hong Kong</th>\n",
              "      <td>3</td>\n",
              "      <td>7</td>\n",
              "      <td>1</td>\n",
              "    </tr>\n",
              "    <tr>\n",
              "      <th>Los Angeles</th>\n",
              "      <td>5</td>\n",
              "      <td>33</td>\n",
              "      <td>68</td>\n",
              "    </tr>\n",
              "    <tr>\n",
              "      <th>New York City</th>\n",
              "      <td>35</td>\n",
              "      <td>136</td>\n",
              "      <td>159</td>\n",
              "    </tr>\n",
              "    <tr>\n",
              "      <th>Oakland</th>\n",
              "      <td>2</td>\n",
              "      <td>18</td>\n",
              "      <td>27</td>\n",
              "    </tr>\n",
              "    <tr>\n",
              "      <th>Redwood City</th>\n",
              "      <td>5</td>\n",
              "      <td>23</td>\n",
              "      <td>30</td>\n",
              "    </tr>\n",
              "    <tr>\n",
              "      <th>San Francisco</th>\n",
              "      <td>31</td>\n",
              "      <td>135</td>\n",
              "      <td>194</td>\n",
              "    </tr>\n",
              "    <tr>\n",
              "      <th>Santa Clara</th>\n",
              "      <td>13</td>\n",
              "      <td>95</td>\n",
              "      <td>93</td>\n",
              "    </tr>\n",
              "    <tr>\n",
              "      <th>Tokyo</th>\n",
              "      <td>9</td>\n",
              "      <td>23</td>\n",
              "      <td>33</td>\n",
              "    </tr>\n",
              "    <tr>\n",
              "      <th>Washington DC</th>\n",
              "      <td>6</td>\n",
              "      <td>21</td>\n",
              "      <td>20</td>\n",
              "    </tr>\n",
              "  </tbody>\n",
              "</table>\n",
              "</div>"
            ],
            "text/plain": [
              "Category       Detractor  Passive  Promoter\n",
              "Location                                   \n",
              "Atlanta                0        9        24\n",
              "Beijing                0       25        53\n",
              "Chicago                4       29        37\n",
              "Hong Kong              3        7         1\n",
              "Los Angeles            5       33        68\n",
              "New York City         35      136       159\n",
              "Oakland                2       18        27\n",
              "Redwood City           5       23        30\n",
              "San Francisco         31      135       194\n",
              "Santa Clara           13       95        93\n",
              "Tokyo                  9       23        33\n",
              "Washington DC          6       21        20"
            ]
          },
          "execution_count": 225,
          "metadata": {},
          "output_type": "execute_result"
        }
      ],
      "source": [
        "# Amount in each Category per location\n",
        "pd.crosstab(df['Location'], df['Category'])"
      ]
    },
    {
      "cell_type": "code",
      "execution_count": null,
      "metadata": {
        "id": "aC7kVseUE-dk",
        "outputId": "43a4aa97-9625-4bb5-aaf1-3ca358b59bbd"
      },
      "outputs": [
        {
          "data": {
            "text/plain": [
              "<matplotlib.axes._subplots.AxesSubplot at 0x12548e910>"
            ]
          },
          "execution_count": 226,
          "metadata": {},
          "output_type": "execute_result"
        },
        {
          "data": {
            "image/png": "[encoded data removed]",
            "text/plain": [
              "<Figure size 432x288 with 1 Axes>"
            ]
          },
          "metadata": {
            "needs_background": "light"
          },
          "output_type": "display_data"
        }
      ],
      "source": [
        "# Histogram of amount of people per location\n",
        "df['Location'].value_counts().plot(kind='bar')"
      ]
    },
    {
      "cell_type": "code",
      "execution_count": null,
      "metadata": {
        "id": "HouF6TQuE-dk",
        "outputId": "c6dc344a-129d-494c-ecfb-706807c93638"
      },
      "outputs": [
        {
          "name": "stdout",
          "output_type": "stream",
          "text": [
            "Location\n",
            "San Francisco    194\n",
            "New York City    159\n",
            "Santa Clara       93\n",
            "Los Angeles       68\n",
            "Beijing           53\n",
            "Chicago           37\n",
            "Tokyo             33\n",
            "Redwood City      30\n",
            "Oakland           27\n",
            "Atlanta           24\n",
            "Washington DC     20\n",
            "Hong Kong          1\n",
            "Name: Location, dtype: int64 Location\n",
            "New York City    136\n",
            "San Francisco    135\n",
            "Santa Clara       95\n",
            "Los Angeles       33\n",
            "Chicago           29\n",
            "Beijing           25\n",
            "Redwood City      23\n",
            "Tokyo             23\n",
            "Washington DC     21\n",
            "Oakland           18\n",
            "Atlanta            9\n",
            "Hong Kong          7\n",
            "Name: Location, dtype: int64 Location\n",
            "New York City    35\n",
            "San Francisco    31\n",
            "Santa Clara      13\n",
            "Tokyo             9\n",
            "Washington DC     6\n",
            "Los Angeles       5\n",
            "Redwood City      5\n",
            "Chicago           4\n",
            "Hong Kong         3\n",
            "Oakland           2\n",
            "Name: Location, dtype: int64\n"
          ]
        },
        {
          "data": {
            "text/plain": [
              "<matplotlib.axes._subplots.AxesSubplot at 0x123776690>"
            ]
          },
          "execution_count": 227,
          "metadata": {},
          "output_type": "execute_result"
        },
        {
          "data": {
            "image/png": "[encoded data removed]",
            "text/plain": [
              "<Figure size 432x288 with 1 Axes>"
            ]
          },
          "metadata": {
            "needs_background": "light"
          },
          "output_type": "display_data"
        }
      ],
      "source": [
        "# bar plot of nps at each location, beijing atlanta have nan values\n",
        "cat_locs = df.groupby('Category')['Location']\n",
        "location_nps = calculate_nps(cat_locs)\n",
        "location_nps.plot(kind='bar')"
      ]
    },
    {
      "cell_type": "code",
      "execution_count": null,
      "metadata": {
        "id": "oqmGnIVKE-dk",
        "outputId": "9e8a2a12-bf59-4479-c809-acc75d8268c9"
      },
      "outputs": [
        {
          "data": {
            "text/plain": [
              "67.94871794871796"
            ]
          },
          "execution_count": 228,
          "metadata": {},
          "output_type": "execute_result"
        }
      ],
      "source": [
        "nps_beijing = (53 + 0) / (53 + 25 + 0)\n",
        "nps_beijing * 100"
      ]
    },
    {
      "cell_type": "code",
      "execution_count": null,
      "metadata": {
        "id": "4RCe4WZME-dk",
        "outputId": "2866b23f-6717-4dd2-b370-fc61bd09d56f"
      },
      "outputs": [
        {
          "data": {
            "text/plain": [
              "Location\n",
              "Atlanta                NaN\n",
              "Beijing                NaN\n",
              "Chicago          47.142857\n",
              "Hong Kong       -18.181818\n",
              "Los Angeles      59.433962\n",
              "New York City    37.575758\n",
              "Oakland          53.191489\n",
              "Redwood City     43.103448\n",
              "San Francisco    45.277778\n",
              "Santa Clara      39.800995\n",
              "Tokyo            36.923077\n",
              "Washington DC    29.787234\n",
              "Name: Location, dtype: float64"
            ]
          },
          "execution_count": 229,
          "metadata": {},
          "output_type": "execute_result"
        }
      ],
      "source": [
        "location_nps"
      ]
    },
    {
      "cell_type": "markdown",
      "metadata": {
        "id": "ntNSSk1vE-dl"
      },
      "source": [
        "As we can see from the data, location NPS varies greatly. HongKong struggles to find more than 1 promoter, however Atlanta sees no Detractors at all. From both graphs above we can see that these values are based on the number of people in attandance which varies more than the NPS data in fact.\n",
        "\n",
        "Overall, however, the NPS scores look balanced based on location with a few outliers."
      ]
    },
    {
      "cell_type": "markdown",
      "metadata": {
        "id": "N7Lxdx1yE-dl"
      },
      "source": [
        "## Question 5: What are things we could find here that could “help the business”?"
      ]
    },
    {
      "cell_type": "markdown",
      "metadata": {
        "id": "oSP3gjXvE-dl"
      },
      "source": [
        "Having data drop off over time does not have to be the case. For more reliable results this should be a high priority. Excluding Week 8, by half way through the program we see just over half the responses."
      ]
    },
    {
      "cell_type": "markdown",
      "metadata": {
        "id": "3RC4Ml5aE-dl"
      },
      "source": [
        "Let's see what is common within each Category"
      ]
    },
    {
      "cell_type": "markdown",
      "metadata": {
        "id": "d7qeKkBZE-dl"
      },
      "source": [
        "### What can we learn about Location relative to Track? "
      ]
    },
    {
      "cell_type": "code",
      "execution_count": null,
      "metadata": {
        "id": "GsuZkCu9E-dm",
        "outputId": "7664a928-0959-4124-e0d9-4e1a3f67e983"
      },
      "outputs": [
        {
          "data": {
            "text/html": [
              "<div>\n",
              "<style scoped>\n",
              "    .dataframe tbody tr th:only-of-type {\n",
              "        vertical-align: middle;\n",
              "    }\n",
              "\n",
              "    .dataframe tbody tr th {\n",
              "        vertical-align: top;\n",
              "    }\n",
              "\n",
              "    .dataframe thead th {\n",
              "        text-align: right;\n",
              "    }\n",
              "</style>\n",
              "<table border=\"1\" class=\"dataframe\">\n",
              "  <thead>\n",
              "    <tr style=\"text-align: right;\">\n",
              "      <th>Location</th>\n",
              "      <th>Atlanta</th>\n",
              "      <th>Beijing</th>\n",
              "      <th>Chicago</th>\n",
              "      <th>Hong Kong</th>\n",
              "      <th>Los Angeles</th>\n",
              "      <th>New York City</th>\n",
              "      <th>Oakland</th>\n",
              "      <th>Redwood City</th>\n",
              "      <th>San Francisco</th>\n",
              "      <th>Santa Clara</th>\n",
              "      <th>Tokyo</th>\n",
              "      <th>Washington DC</th>\n",
              "    </tr>\n",
              "    <tr>\n",
              "      <th>Track</th>\n",
              "      <th></th>\n",
              "      <th></th>\n",
              "      <th></th>\n",
              "      <th></th>\n",
              "      <th></th>\n",
              "      <th></th>\n",
              "      <th></th>\n",
              "      <th></th>\n",
              "      <th></th>\n",
              "      <th></th>\n",
              "      <th></th>\n",
              "      <th></th>\n",
              "    </tr>\n",
              "  </thead>\n",
              "  <tbody>\n",
              "    <tr>\n",
              "      <th>Apps</th>\n",
              "      <td>15</td>\n",
              "      <td>76</td>\n",
              "      <td>52</td>\n",
              "      <td>1</td>\n",
              "      <td>75</td>\n",
              "      <td>194</td>\n",
              "      <td>39</td>\n",
              "      <td>58</td>\n",
              "      <td>155</td>\n",
              "      <td>111</td>\n",
              "      <td>65</td>\n",
              "      <td>30</td>\n",
              "    </tr>\n",
              "    <tr>\n",
              "      <th>Apps, Explorer</th>\n",
              "      <td>18</td>\n",
              "      <td>2</td>\n",
              "      <td>18</td>\n",
              "      <td>10</td>\n",
              "      <td>0</td>\n",
              "      <td>49</td>\n",
              "      <td>8</td>\n",
              "      <td>0</td>\n",
              "      <td>77</td>\n",
              "      <td>25</td>\n",
              "      <td>0</td>\n",
              "      <td>17</td>\n",
              "    </tr>\n",
              "    <tr>\n",
              "      <th>Games</th>\n",
              "      <td>0</td>\n",
              "      <td>0</td>\n",
              "      <td>0</td>\n",
              "      <td>0</td>\n",
              "      <td>31</td>\n",
              "      <td>59</td>\n",
              "      <td>0</td>\n",
              "      <td>0</td>\n",
              "      <td>68</td>\n",
              "      <td>50</td>\n",
              "      <td>0</td>\n",
              "      <td>0</td>\n",
              "    </tr>\n",
              "    <tr>\n",
              "      <th>Games, Explorer</th>\n",
              "      <td>0</td>\n",
              "      <td>0</td>\n",
              "      <td>0</td>\n",
              "      <td>0</td>\n",
              "      <td>0</td>\n",
              "      <td>28</td>\n",
              "      <td>0</td>\n",
              "      <td>0</td>\n",
              "      <td>0</td>\n",
              "      <td>15</td>\n",
              "      <td>0</td>\n",
              "      <td>0</td>\n",
              "    </tr>\n",
              "    <tr>\n",
              "      <th>VR</th>\n",
              "      <td>0</td>\n",
              "      <td>0</td>\n",
              "      <td>0</td>\n",
              "      <td>0</td>\n",
              "      <td>0</td>\n",
              "      <td>0</td>\n",
              "      <td>0</td>\n",
              "      <td>0</td>\n",
              "      <td>60</td>\n",
              "      <td>0</td>\n",
              "      <td>0</td>\n",
              "      <td>0</td>\n",
              "    </tr>\n",
              "  </tbody>\n",
              "</table>\n",
              "</div>"
            ],
            "text/plain": [
              "Location         Atlanta  Beijing  Chicago  Hong Kong  Los Angeles  \\\n",
              "Track                                                                \n",
              "Apps                  15       76       52          1           75   \n",
              "Apps, Explorer        18        2       18         10            0   \n",
              "Games                  0        0        0          0           31   \n",
              "Games, Explorer        0        0        0          0            0   \n",
              "VR                     0        0        0          0            0   \n",
              "\n",
              "Location         New York City  Oakland  Redwood City  San Francisco  \\\n",
              "Track                                                                  \n",
              "Apps                       194       39            58            155   \n",
              "Apps, Explorer              49        8             0             77   \n",
              "Games                       59        0             0             68   \n",
              "Games, Explorer             28        0             0              0   \n",
              "VR                           0        0             0             60   \n",
              "\n",
              "Location         Santa Clara  Tokyo  Washington DC  \n",
              "Track                                               \n",
              "Apps                     111     65             30  \n",
              "Apps, Explorer            25      0             17  \n",
              "Games                     50      0              0  \n",
              "Games, Explorer           15      0              0  \n",
              "VR                         0      0              0  "
            ]
          },
          "execution_count": 230,
          "metadata": {},
          "output_type": "execute_result"
        }
      ],
      "source": [
        "pd.crosstab(df['Track'], df['Location'])"
      ]
    },
    {
      "cell_type": "markdown",
      "metadata": {
        "id": "SDX1BYU3E-dm"
      },
      "source": [
        "### If people do change tracks, what does the trend look like? "
      ]
    },
    {
      "cell_type": "code",
      "execution_count": null,
      "metadata": {
        "id": "DJOTf92SE-dm",
        "outputId": "e185132c-1ed0-4d78-90c9-2bed0e665c92"
      },
      "outputs": [
        {
          "data": {
            "text/html": [
              "<div>\n",
              "<style scoped>\n",
              "    .dataframe tbody tr th:only-of-type {\n",
              "        vertical-align: middle;\n",
              "    }\n",
              "\n",
              "    .dataframe tbody tr th {\n",
              "        vertical-align: top;\n",
              "    }\n",
              "\n",
              "    .dataframe thead th {\n",
              "        text-align: right;\n",
              "    }\n",
              "</style>\n",
              "<table border=\"1\" class=\"dataframe\">\n",
              "  <thead>\n",
              "    <tr style=\"text-align: right;\">\n",
              "      <th>Week</th>\n",
              "      <th>Week 1</th>\n",
              "      <th>Week 2</th>\n",
              "      <th>Week 3</th>\n",
              "      <th>Week 4</th>\n",
              "      <th>Week 5</th>\n",
              "      <th>Week 6</th>\n",
              "      <th>Week 7</th>\n",
              "      <th>Week 8</th>\n",
              "    </tr>\n",
              "    <tr>\n",
              "      <th>Track</th>\n",
              "      <th></th>\n",
              "      <th></th>\n",
              "      <th></th>\n",
              "      <th></th>\n",
              "      <th></th>\n",
              "      <th></th>\n",
              "      <th></th>\n",
              "      <th></th>\n",
              "    </tr>\n",
              "  </thead>\n",
              "  <tbody>\n",
              "    <tr>\n",
              "      <th>Apps</th>\n",
              "      <td>183</td>\n",
              "      <td>176</td>\n",
              "      <td>142</td>\n",
              "      <td>105</td>\n",
              "      <td>101</td>\n",
              "      <td>88</td>\n",
              "      <td>72</td>\n",
              "      <td>4</td>\n",
              "    </tr>\n",
              "    <tr>\n",
              "      <th>Apps, Explorer</th>\n",
              "      <td>42</td>\n",
              "      <td>40</td>\n",
              "      <td>38</td>\n",
              "      <td>34</td>\n",
              "      <td>31</td>\n",
              "      <td>23</td>\n",
              "      <td>16</td>\n",
              "      <td>0</td>\n",
              "    </tr>\n",
              "    <tr>\n",
              "      <th>Games</th>\n",
              "      <td>35</td>\n",
              "      <td>29</td>\n",
              "      <td>36</td>\n",
              "      <td>33</td>\n",
              "      <td>31</td>\n",
              "      <td>21</td>\n",
              "      <td>19</td>\n",
              "      <td>4</td>\n",
              "    </tr>\n",
              "    <tr>\n",
              "      <th>Games, Explorer</th>\n",
              "      <td>6</td>\n",
              "      <td>6</td>\n",
              "      <td>7</td>\n",
              "      <td>7</td>\n",
              "      <td>6</td>\n",
              "      <td>6</td>\n",
              "      <td>5</td>\n",
              "      <td>0</td>\n",
              "    </tr>\n",
              "    <tr>\n",
              "      <th>VR</th>\n",
              "      <td>10</td>\n",
              "      <td>10</td>\n",
              "      <td>10</td>\n",
              "      <td>10</td>\n",
              "      <td>7</td>\n",
              "      <td>5</td>\n",
              "      <td>7</td>\n",
              "      <td>1</td>\n",
              "    </tr>\n",
              "  </tbody>\n",
              "</table>\n",
              "</div>"
            ],
            "text/plain": [
              "Week             Week 1  Week 2  Week 3  Week 4  Week 5  Week 6  Week 7  \\\n",
              "Track                                                                     \n",
              "Apps                183     176     142     105     101      88      72   \n",
              "Apps, Explorer       42      40      38      34      31      23      16   \n",
              "Games                35      29      36      33      31      21      19   \n",
              "Games, Explorer       6       6       7       7       6       6       5   \n",
              "VR                   10      10      10      10       7       5       7   \n",
              "\n",
              "Week             Week 8  \n",
              "Track                    \n",
              "Apps                  4  \n",
              "Apps, Explorer        0  \n",
              "Games                 4  \n",
              "Games, Explorer       0  \n",
              "VR                    1  "
            ]
          },
          "execution_count": 231,
          "metadata": {},
          "output_type": "execute_result"
        }
      ],
      "source": [
        "pd.crosstab(df['Track'], df['Week'])"
      ]
    },
    {
      "cell_type": "markdown",
      "metadata": {
        "id": "PFnGzLCdE-dm"
      },
      "source": [
        "Looks consistent, little to no changes"
      ]
    },
    {
      "cell_type": "markdown",
      "metadata": {
        "id": "2h4n_KqHE-dm"
      },
      "source": [
        "### What was pacing feedback like for each category? Track?"
      ]
    },
    {
      "cell_type": "code",
      "execution_count": null,
      "metadata": {
        "id": "HnjZuPiVE-dn",
        "outputId": "04e60e82-e7d2-4852-c7d5-c388409a4fdd"
      },
      "outputs": [
        {
          "data": {
            "text/html": [
              "<div>\n",
              "<style scoped>\n",
              "    .dataframe tbody tr th:only-of-type {\n",
              "        vertical-align: middle;\n",
              "    }\n",
              "\n",
              "    .dataframe tbody tr th {\n",
              "        vertical-align: top;\n",
              "    }\n",
              "\n",
              "    .dataframe thead th {\n",
              "        text-align: right;\n",
              "    }\n",
              "</style>\n",
              "<table border=\"1\" class=\"dataframe\">\n",
              "  <thead>\n",
              "    <tr style=\"text-align: right;\">\n",
              "      <th>Category</th>\n",
              "      <th>Detractor</th>\n",
              "      <th>Passive</th>\n",
              "      <th>Promoter</th>\n",
              "    </tr>\n",
              "    <tr>\n",
              "      <th>Schedule Pacing</th>\n",
              "      <th></th>\n",
              "      <th></th>\n",
              "      <th></th>\n",
              "    </tr>\n",
              "  </thead>\n",
              "  <tbody>\n",
              "    <tr>\n",
              "      <th>A little too fast</th>\n",
              "      <td>25</td>\n",
              "      <td>140</td>\n",
              "      <td>124</td>\n",
              "    </tr>\n",
              "    <tr>\n",
              "      <th>A little too slow</th>\n",
              "      <td>19</td>\n",
              "      <td>41</td>\n",
              "      <td>40</td>\n",
              "    </tr>\n",
              "    <tr>\n",
              "      <th>Just right</th>\n",
              "      <td>65</td>\n",
              "      <td>378</td>\n",
              "      <td>591</td>\n",
              "    </tr>\n",
              "    <tr>\n",
              "      <th>Way too fast</th>\n",
              "      <td>10</td>\n",
              "      <td>9</td>\n",
              "      <td>4</td>\n",
              "    </tr>\n",
              "    <tr>\n",
              "      <th>Way too slow</th>\n",
              "      <td>2</td>\n",
              "      <td>1</td>\n",
              "      <td>1</td>\n",
              "    </tr>\n",
              "  </tbody>\n",
              "</table>\n",
              "</div>"
            ],
            "text/plain": [
              "Category           Detractor  Passive  Promoter\n",
              "Schedule Pacing                                \n",
              "A little too fast         25      140       124\n",
              "A little too slow         19       41        40\n",
              "Just right                65      378       591\n",
              "Way too fast              10        9         4\n",
              "Way too slow               2        1         1"
            ]
          },
          "execution_count": 232,
          "metadata": {},
          "output_type": "execute_result"
        }
      ],
      "source": [
        "pd.crosstab(df['Schedule Pacing'], df['Category'])"
      ]
    },
    {
      "cell_type": "markdown",
      "metadata": {
        "id": "1Ds9IJiPE-dn"
      },
      "source": [
        "This tells us nothing about the Detractors as most of them said it was too fast, and obviously the Promoters said it was Just Right. \n",
        "\n",
        "However, we do learn that the biggest deviation was \"A little too fast\""
      ]
    },
    {
      "cell_type": "code",
      "execution_count": null,
      "metadata": {
        "id": "fo5sIyelE-dn",
        "outputId": "d6e70812-b9cd-4348-d9d9-8204128705dc"
      },
      "outputs": [
        {
          "data": {
            "text/plain": [
              "<matplotlib.axes._subplots.AxesSubplot at 0x1240b15d0>"
            ]
          },
          "execution_count": 233,
          "metadata": {},
          "output_type": "execute_result"
        },
        {
          "data": {
            "image/png": "[encoded data removed]",
            "text/plain": [
              "<Figure size 432x288 with 1 Axes>"
            ]
          },
          "metadata": {
            "needs_background": "light"
          },
          "output_type": "display_data"
        }
      ],
      "source": [
        "df.groupby('Schedule Pacing')['Rating'].count().plot()"
      ]
    },
    {
      "cell_type": "markdown",
      "metadata": {
        "id": "TWEDR3MlE-dn"
      },
      "source": [
        "## NPS of 44 is a good score. In order to improve we could do more to cater  to international students, as ratings from Hong Kong students is by far the worst. \n",
        "\n",
        "We want more people to recommend to ppl in each city"
      ]
    },
    {
      "cell_type": "markdown",
      "metadata": {
        "id": "VpmAhAI4E-dn"
      },
      "source": [
        "# Let's explore the dip in ratings between Weeks 3 and 4"
      ]
    },
    {
      "cell_type": "code",
      "execution_count": null,
      "metadata": {
        "id": "Za9DIhTaE-dn",
        "outputId": "0ac3622f-1948-4e30-f3ad-0fcde65c86c4"
      },
      "outputs": [
        {
          "data": {
            "text/html": [
              "<div>\n",
              "<style scoped>\n",
              "    .dataframe tbody tr th:only-of-type {\n",
              "        vertical-align: middle;\n",
              "    }\n",
              "\n",
              "    .dataframe tbody tr th {\n",
              "        vertical-align: top;\n",
              "    }\n",
              "\n",
              "    .dataframe thead th {\n",
              "        text-align: right;\n",
              "    }\n",
              "</style>\n",
              "<table border=\"1\" class=\"dataframe\">\n",
              "  <thead>\n",
              "    <tr style=\"text-align: right;\">\n",
              "      <th>Schedule Pacing</th>\n",
              "      <th>A little too fast</th>\n",
              "      <th>A little too slow</th>\n",
              "      <th>Just right</th>\n",
              "      <th>Way too fast</th>\n",
              "      <th>Way too slow</th>\n",
              "    </tr>\n",
              "    <tr>\n",
              "      <th>Week</th>\n",
              "      <th></th>\n",
              "      <th></th>\n",
              "      <th></th>\n",
              "      <th></th>\n",
              "      <th></th>\n",
              "    </tr>\n",
              "  </thead>\n",
              "  <tbody>\n",
              "    <tr>\n",
              "      <th>Week 1</th>\n",
              "      <td>64</td>\n",
              "      <td>39</td>\n",
              "      <td>179</td>\n",
              "      <td>5</td>\n",
              "      <td>1</td>\n",
              "    </tr>\n",
              "    <tr>\n",
              "      <th>Week 2</th>\n",
              "      <td>80</td>\n",
              "      <td>27</td>\n",
              "      <td>161</td>\n",
              "      <td>7</td>\n",
              "      <td>1</td>\n",
              "    </tr>\n",
              "    <tr>\n",
              "      <th>Week 3</th>\n",
              "      <td>49</td>\n",
              "      <td>14</td>\n",
              "      <td>175</td>\n",
              "      <td>2</td>\n",
              "      <td>1</td>\n",
              "    </tr>\n",
              "    <tr>\n",
              "      <th>Week 4</th>\n",
              "      <td>30</td>\n",
              "      <td>8</td>\n",
              "      <td>151</td>\n",
              "      <td>3</td>\n",
              "      <td>1</td>\n",
              "    </tr>\n",
              "    <tr>\n",
              "      <th>Week 5</th>\n",
              "      <td>29</td>\n",
              "      <td>6</td>\n",
              "      <td>143</td>\n",
              "      <td>1</td>\n",
              "      <td>0</td>\n",
              "    </tr>\n",
              "    <tr>\n",
              "      <th>Week 6</th>\n",
              "      <td>21</td>\n",
              "      <td>2</td>\n",
              "      <td>119</td>\n",
              "      <td>2</td>\n",
              "      <td>0</td>\n",
              "    </tr>\n",
              "    <tr>\n",
              "      <th>Week 7</th>\n",
              "      <td>15</td>\n",
              "      <td>2</td>\n",
              "      <td>101</td>\n",
              "      <td>2</td>\n",
              "      <td>0</td>\n",
              "    </tr>\n",
              "    <tr>\n",
              "      <th>Week 8</th>\n",
              "      <td>1</td>\n",
              "      <td>2</td>\n",
              "      <td>5</td>\n",
              "      <td>1</td>\n",
              "      <td>0</td>\n",
              "    </tr>\n",
              "  </tbody>\n",
              "</table>\n",
              "</div>"
            ],
            "text/plain": [
              "Schedule Pacing  A little too fast  A little too slow  Just right  \\\n",
              "Week                                                                \n",
              "Week 1                          64                 39         179   \n",
              "Week 2                          80                 27         161   \n",
              "Week 3                          49                 14         175   \n",
              "Week 4                          30                  8         151   \n",
              "Week 5                          29                  6         143   \n",
              "Week 6                          21                  2         119   \n",
              "Week 7                          15                  2         101   \n",
              "Week 8                           1                  2           5   \n",
              "\n",
              "Schedule Pacing  Way too fast  Way too slow  \n",
              "Week                                         \n",
              "Week 1                      5             1  \n",
              "Week 2                      7             1  \n",
              "Week 3                      2             1  \n",
              "Week 4                      3             1  \n",
              "Week 5                      1             0  \n",
              "Week 6                      2             0  \n",
              "Week 7                      2             0  \n",
              "Week 8                      1             0  "
            ]
          },
          "execution_count": 234,
          "metadata": {},
          "output_type": "execute_result"
        }
      ],
      "source": [
        "pd.crosstab(df['Week'], df['Schedule Pacing'])"
      ]
    },
    {
      "cell_type": "markdown",
      "metadata": {
        "id": "WsTav51BE-do"
      },
      "source": [
        "### As we can see from the feedback, the decline in ratings from Week 3 - 4 is reflected in the schedule pacing and we can get a better understanding of what improvement to make."
      ]
    },
    {
      "cell_type": "code",
      "execution_count": null,
      "metadata": {
        "id": "32Jl-31pE-do",
        "outputId": "5af28265-eb0c-4231-e291-708bb919cd2d"
      },
      "outputs": [
        {
          "data": {
            "text/plain": [
              "<matplotlib.axes._subplots.AxesSubplot at 0x103204e90>"
            ]
          },
          "execution_count": 235,
          "metadata": {},
          "output_type": "execute_result"
        },
        {
          "data": {
            "image/png": "[encoded data removed]",
            "text/plain": [
              "<Figure size 432x288 with 1 Axes>"
            ]
          },
          "metadata": {
            "needs_background": "light"
          },
          "output_type": "display_data"
        }
      ],
      "source": [
        "df.groupby('Week')['Schedule Pacing'].count().plot()"
      ]
    },
    {
      "cell_type": "markdown",
      "metadata": {
        "id": "KMAm0l9QE-do"
      },
      "source": [
        "### Above, we get an idea of the quantity of feedback forms each week\n",
        "## Below, I graph the pace for the whole program for each week to see if we can get any clues"
      ]
    },
    {
      "cell_type": "code",
      "execution_count": null,
      "metadata": {
        "id": "QisC13hGE-do"
      },
      "outputs": [],
      "source": [
        "weekly_paces = lambda pace: df.loc[df['Schedule Pacing'] == pace].groupby('Week')['Schedule Pacing'].count()/df.groupby('Week')['Schedule Pacing'].count()"
      ]
    },
    {
      "cell_type": "code",
      "execution_count": null,
      "metadata": {
        "id": "cvtDk_0WE-do",
        "outputId": "fee3616c-5a89-4e4a-ac18-607cfa2b3c42"
      },
      "outputs": [
        {
          "data": {
            "text/plain": [
              "<matplotlib.legend.Legend at 0x124420210>"
            ]
          },
          "execution_count": 237,
          "metadata": {},
          "output_type": "execute_result"
        },
        {
          "data": {
            "image/png": "[encoded data removed]",
            "text/plain": [
              "<Figure size 432x288 with 1 Axes>"
            ]
          },
          "metadata": {
            "needs_background": "light"
          },
          "output_type": "display_data"
        }
      ],
      "source": [
        "fig, ax = plt.subplots()\n",
        "ax.plot(weekly_paces('Way too fast'), label='Way too fast', c='Red')\n",
        "ax.plot(weekly_paces('A little too fast'), label='A little fast', c='Yellow')\n",
        "ax.plot(weekly_paces('Just right'), label='Just Right', c='Green')\n",
        "ax.plot(weekly_paces('A little too slow'), label='A little slow', c='Blue')\n",
        "ax.plot(weekly_paces('Way too slow'), label='Way too slow', c='Purple')\n",
        "\n",
        "\n",
        "plt.legend()"
      ]
    },
    {
      "cell_type": "markdown",
      "metadata": {
        "id": "i3_WMNWNE-dp"
      },
      "source": [
        "### Between weeks 3 and 4 we can see the 'A little fast' rating drop off while 'just right' increases. \n",
        "\n",
        "### This may seem off.. let's look at the NPS scores for each week:"
      ]
    },
    {
      "cell_type": "code",
      "execution_count": null,
      "metadata": {
        "id": "9Vohd4xkE-dp"
      },
      "outputs": [],
      "source": [
        "# Convert weeks to integers by splitting at the space and taking just the number at the end\n",
        "df['Week'] = df.apply(lambda row: int(row['Week'].strip().split(' ')[-1]), axis=1)"
      ]
    },
    {
      "cell_type": "code",
      "execution_count": null,
      "metadata": {
        "id": "z-kBYDWYE-dp",
        "outputId": "f83fe6c6-b22d-45bd-cc2f-57c88b26b58f"
      },
      "outputs": [
        {
          "data": {
            "text/plain": [
              "47.71784232365145"
            ]
          },
          "execution_count": 239,
          "metadata": {},
          "output_type": "execute_result"
        }
      ],
      "source": [
        "week3_nps = calc_nps(df[df['Week']==3]['Category'])\n",
        "week3_nps"
      ]
    },
    {
      "cell_type": "code",
      "execution_count": null,
      "metadata": {
        "id": "5sQRG6b7E-dp",
        "outputId": "ad9120f8-d939-4cd1-d240-de9e485831ca"
      },
      "outputs": [
        {
          "data": {
            "text/plain": [
              "41.968911917098445"
            ]
          },
          "execution_count": 240,
          "metadata": {},
          "output_type": "execute_result"
        }
      ],
      "source": [
        "week4_nps = calc_nps(df[df['Week']==4]['Category'])\n",
        "week4_nps"
      ]
    },
    {
      "cell_type": "markdown",
      "metadata": {
        "id": "-xOOG2o_E-dp"
      },
      "source": [
        "### Here we can clearly see the massive dip in NPS score. Maybe we can find out which track this came from if any. Let's graph the NPS per track per week & the pace for each track to get a better idea where these figures are coming from. "
      ]
    },
    {
      "cell_type": "code",
      "execution_count": null,
      "metadata": {
        "id": "et9nhmGTE-dq",
        "outputId": "cc60b273-e619-46de-e7c4-1e0d15053c85"
      },
      "outputs": [
        {
          "data": {
            "text/plain": [
              "Week  Track          \n",
              "1     Apps               36.612022\n",
              "      Apps, Explorer     16.666667\n",
              "      Games              31.428571\n",
              "      Games, Explorer    66.666667\n",
              "      VR                 70.000000\n",
              "2     Apps               36.931818\n",
              "      Apps, Explorer     32.500000\n",
              "      Games              72.413793\n",
              "      Games, Explorer    83.333333\n",
              "      VR                 80.000000\n",
              "Name: Category, dtype: float64"
            ]
          },
          "execution_count": 258,
          "metadata": {},
          "output_type": "execute_result"
        }
      ],
      "source": [
        "week_tracks = df.groupby(['Week', 'Track'])['Category']\n",
        "week_tracks_nps = week_tracks.apply(calc_nps)\n",
        "\n",
        "week_tracks_nps.head(10)"
      ]
    },
    {
      "cell_type": "code",
      "execution_count": null,
      "metadata": {
        "id": "c6TTgzUmE-dq",
        "outputId": "d2ead407-efc6-41be-92f9-94356c8eff50"
      },
      "outputs": [
        {
          "data": {
            "text/plain": [
              "<matplotlib.axes._subplots.AxesSubplot at 0x127180610>"
            ]
          },
          "execution_count": 259,
          "metadata": {},
          "output_type": "execute_result"
        },
        {
          "data": {
            "image/png": "[encoded data removed]",
            "text/plain": [
              "<Figure size 1080x504 with 1 Axes>"
            ]
          },
          "metadata": {
            "needs_background": "light"
          },
          "output_type": "display_data"
        }
      ],
      "source": [
        "# plot values of a groupby on multiple columns\n",
        "# https://scentellegher.github.io/programming/2017/07/15/pandas-groupby-multiple-columns-plot.html\n",
        "\n",
        "fig, ax = plt.subplots(figsize=(15,7))\n",
        "week_tracks_nps.unstack().plot(ax=ax)"
      ]
    },
    {
      "cell_type": "code",
      "execution_count": null,
      "metadata": {
        "id": "UB3cujzjE-dq",
        "outputId": "b03a1060-b46a-4bdc-aad2-7e66d0e87fee"
      },
      "outputs": [
        {
          "data": {
            "text/plain": [
              "<matplotlib.axes._subplots.AxesSubplot at 0x1273a1890>"
            ]
          },
          "execution_count": 266,
          "metadata": {},
          "output_type": "execute_result"
        },
        {
          "data": {
            "image/png": "[encoded data removed]",
            "text/plain": [
              "<Figure size 1080x504 with 1 Axes>"
            ]
          },
          "metadata": {
            "needs_background": "light"
          },
          "output_type": "display_data"
        }
      ],
      "source": [
        "# Flipped track and week\n",
        "week_tracks = df.groupby(['Track', 'Week'])['Category']\n",
        "week_tracks_nps = week_tracks.apply(calc_nps)\n",
        "\n",
        "fig, ax = plt.subplots(figsize=(15,7))\n",
        "week_tracks_nps.unstack().plot(ax=ax)"
      ]
    },
    {
      "cell_type": "markdown",
      "metadata": {
        "id": "kyCgFD_aE-dq"
      },
      "source": [
        "## As we can see from the graph above, our NPS score takes a massive dive in one category in particular - VR. Two other categories also take their largest dips in NPS score over these two weeks - Games, Explorer & Apps. \n",
        "\n",
        "## This is very helpful information. Now we can take a look at the data for VR and the other two to see what the specific feedback was. "
      ]
    },
    {
      "cell_type": "code",
      "execution_count": null,
      "metadata": {
        "id": "pKKUZXM4E-dq",
        "outputId": "78caf404-3275-45c0-f5fd-10fd0682b53c"
      },
      "outputs": [
        {
          "data": {
            "text/html": [
              "<div>\n",
              "<style scoped>\n",
              "    .dataframe tbody tr th:only-of-type {\n",
              "        vertical-align: middle;\n",
              "    }\n",
              "\n",
              "    .dataframe tbody tr th {\n",
              "        vertical-align: top;\n",
              "    }\n",
              "\n",
              "    .dataframe thead th {\n",
              "        text-align: right;\n",
              "    }\n",
              "</style>\n",
              "<table border=\"1\" class=\"dataframe\">\n",
              "  <thead>\n",
              "    <tr style=\"text-align: right;\">\n",
              "      <th></th>\n",
              "      <th>Week</th>\n",
              "      <th>Schedule Pacing</th>\n",
              "    </tr>\n",
              "  </thead>\n",
              "  <tbody>\n",
              "    <tr>\n",
              "      <th>0</th>\n",
              "      <td>1</td>\n",
              "      <td>Just right</td>\n",
              "    </tr>\n",
              "    <tr>\n",
              "      <th>1</th>\n",
              "      <td>1</td>\n",
              "      <td>A little too fast</td>\n",
              "    </tr>\n",
              "    <tr>\n",
              "      <th>2</th>\n",
              "      <td>1</td>\n",
              "      <td>Way too slow</td>\n",
              "    </tr>\n",
              "    <tr>\n",
              "      <th>3</th>\n",
              "      <td>2</td>\n",
              "      <td>A little too fast</td>\n",
              "    </tr>\n",
              "    <tr>\n",
              "      <th>4</th>\n",
              "      <td>1</td>\n",
              "      <td>Just right</td>\n",
              "    </tr>\n",
              "    <tr>\n",
              "      <th>...</th>\n",
              "      <td>...</td>\n",
              "      <td>...</td>\n",
              "    </tr>\n",
              "    <tr>\n",
              "      <th>1448</th>\n",
              "      <td>7</td>\n",
              "      <td>Just right</td>\n",
              "    </tr>\n",
              "    <tr>\n",
              "      <th>1449</th>\n",
              "      <td>7</td>\n",
              "      <td>Just right</td>\n",
              "    </tr>\n",
              "    <tr>\n",
              "      <th>1450</th>\n",
              "      <td>7</td>\n",
              "      <td>Just right</td>\n",
              "    </tr>\n",
              "    <tr>\n",
              "      <th>1451</th>\n",
              "      <td>7</td>\n",
              "      <td>A little too slow</td>\n",
              "    </tr>\n",
              "    <tr>\n",
              "      <th>1452</th>\n",
              "      <td>5</td>\n",
              "      <td>Just right</td>\n",
              "    </tr>\n",
              "  </tbody>\n",
              "</table>\n",
              "<p>1450 rows × 2 columns</p>\n",
              "</div>"
            ],
            "text/plain": [
              "      Week    Schedule Pacing\n",
              "0        1         Just right\n",
              "1        1  A little too fast\n",
              "2        1       Way too slow\n",
              "3        2  A little too fast\n",
              "4        1         Just right\n",
              "...    ...                ...\n",
              "1448     7         Just right\n",
              "1449     7         Just right\n",
              "1450     7         Just right\n",
              "1451     7  A little too slow\n",
              "1452     5         Just right\n",
              "\n",
              "[1450 rows x 2 columns]"
            ]
          },
          "execution_count": 243,
          "metadata": {},
          "output_type": "execute_result"
        }
      ],
      "source": [
        "weeks_pacing = df[['Week','Schedule Pacing']]\n",
        "weeks_pacing"
      ]
    },
    {
      "cell_type": "code",
      "execution_count": null,
      "metadata": {
        "id": "nsQ0Bk_OE-dr",
        "outputId": "eca0fa27-85df-48ab-d190-b4f0257d5c0c"
      },
      "outputs": [
        {
          "data": {
            "text/html": [
              "<div>\n",
              "<style scoped>\n",
              "    .dataframe tbody tr th:only-of-type {\n",
              "        vertical-align: middle;\n",
              "    }\n",
              "\n",
              "    .dataframe tbody tr th {\n",
              "        vertical-align: top;\n",
              "    }\n",
              "\n",
              "    .dataframe thead th {\n",
              "        text-align: right;\n",
              "    }\n",
              "</style>\n",
              "<table border=\"1\" class=\"dataframe\">\n",
              "  <thead>\n",
              "    <tr style=\"text-align: right;\">\n",
              "      <th></th>\n",
              "      <th>ID</th>\n",
              "      <th>Location</th>\n",
              "      <th>Track</th>\n",
              "      <th>Week</th>\n",
              "      <th>Rating</th>\n",
              "      <th>Schedule Pacing</th>\n",
              "      <th>Category</th>\n",
              "    </tr>\n",
              "  </thead>\n",
              "  <tbody>\n",
              "    <tr>\n",
              "      <th>48</th>\n",
              "      <td>48</td>\n",
              "      <td>San Francisco</td>\n",
              "      <td>VR</td>\n",
              "      <td>1</td>\n",
              "      <td>7</td>\n",
              "      <td>A little too slow</td>\n",
              "      <td>Passive</td>\n",
              "    </tr>\n",
              "    <tr>\n",
              "      <th>109</th>\n",
              "      <td>53</td>\n",
              "      <td>San Francisco</td>\n",
              "      <td>VR</td>\n",
              "      <td>1</td>\n",
              "      <td>8</td>\n",
              "      <td>Just right</td>\n",
              "      <td>Passive</td>\n",
              "    </tr>\n",
              "    <tr>\n",
              "      <th>110</th>\n",
              "      <td>55</td>\n",
              "      <td>San Francisco</td>\n",
              "      <td>VR</td>\n",
              "      <td>1</td>\n",
              "      <td>8</td>\n",
              "      <td>Just right</td>\n",
              "      <td>Passive</td>\n",
              "    </tr>\n",
              "    <tr>\n",
              "      <th>157</th>\n",
              "      <td>209</td>\n",
              "      <td>San Francisco</td>\n",
              "      <td>VR</td>\n",
              "      <td>2</td>\n",
              "      <td>8</td>\n",
              "      <td>A little too fast</td>\n",
              "      <td>Passive</td>\n",
              "    </tr>\n",
              "    <tr>\n",
              "      <th>158</th>\n",
              "      <td>210</td>\n",
              "      <td>San Francisco</td>\n",
              "      <td>VR</td>\n",
              "      <td>2</td>\n",
              "      <td>8</td>\n",
              "      <td>Just right</td>\n",
              "      <td>Passive</td>\n",
              "    </tr>\n",
              "    <tr>\n",
              "      <th>219</th>\n",
              "      <td>387</td>\n",
              "      <td>San Francisco</td>\n",
              "      <td>VR</td>\n",
              "      <td>3</td>\n",
              "      <td>8</td>\n",
              "      <td>A little too slow</td>\n",
              "      <td>Passive</td>\n",
              "    </tr>\n",
              "    <tr>\n",
              "      <th>262</th>\n",
              "      <td>56</td>\n",
              "      <td>San Francisco</td>\n",
              "      <td>VR</td>\n",
              "      <td>1</td>\n",
              "      <td>9</td>\n",
              "      <td>Just right</td>\n",
              "      <td>Promoter</td>\n",
              "    </tr>\n",
              "    <tr>\n",
              "      <th>299</th>\n",
              "      <td>201</td>\n",
              "      <td>San Francisco</td>\n",
              "      <td>VR</td>\n",
              "      <td>2</td>\n",
              "      <td>9</td>\n",
              "      <td>A little too slow</td>\n",
              "      <td>Promoter</td>\n",
              "    </tr>\n",
              "    <tr>\n",
              "      <th>300</th>\n",
              "      <td>204</td>\n",
              "      <td>San Francisco</td>\n",
              "      <td>VR</td>\n",
              "      <td>2</td>\n",
              "      <td>9</td>\n",
              "      <td>Just right</td>\n",
              "      <td>Promoter</td>\n",
              "    </tr>\n",
              "    <tr>\n",
              "      <th>301</th>\n",
              "      <td>211</td>\n",
              "      <td>San Francisco</td>\n",
              "      <td>VR</td>\n",
              "      <td>2</td>\n",
              "      <td>9</td>\n",
              "      <td>Just right</td>\n",
              "      <td>Promoter</td>\n",
              "    </tr>\n",
              "    <tr>\n",
              "      <th>339</th>\n",
              "      <td>367</td>\n",
              "      <td>San Francisco</td>\n",
              "      <td>VR</td>\n",
              "      <td>3</td>\n",
              "      <td>9</td>\n",
              "      <td>Just right</td>\n",
              "      <td>Promoter</td>\n",
              "    </tr>\n",
              "    <tr>\n",
              "      <th>359</th>\n",
              "      <td>454</td>\n",
              "      <td>San Francisco</td>\n",
              "      <td>VR</td>\n",
              "      <td>3</td>\n",
              "      <td>9</td>\n",
              "      <td>Just right</td>\n",
              "      <td>Promoter</td>\n",
              "    </tr>\n",
              "    <tr>\n",
              "      <th>360</th>\n",
              "      <td>456</td>\n",
              "      <td>San Francisco</td>\n",
              "      <td>VR</td>\n",
              "      <td>3</td>\n",
              "      <td>9</td>\n",
              "      <td>A little too fast</td>\n",
              "      <td>Promoter</td>\n",
              "    </tr>\n",
              "    <tr>\n",
              "      <th>386</th>\n",
              "      <td>49</td>\n",
              "      <td>San Francisco</td>\n",
              "      <td>VR</td>\n",
              "      <td>1</td>\n",
              "      <td>10</td>\n",
              "      <td>Just right</td>\n",
              "      <td>Promoter</td>\n",
              "    </tr>\n",
              "    <tr>\n",
              "      <th>387</th>\n",
              "      <td>50</td>\n",
              "      <td>San Francisco</td>\n",
              "      <td>VR</td>\n",
              "      <td>1</td>\n",
              "      <td>10</td>\n",
              "      <td>A little too slow</td>\n",
              "      <td>Promoter</td>\n",
              "    </tr>\n",
              "    <tr>\n",
              "      <th>388</th>\n",
              "      <td>51</td>\n",
              "      <td>San Francisco</td>\n",
              "      <td>VR</td>\n",
              "      <td>1</td>\n",
              "      <td>10</td>\n",
              "      <td>A little too fast</td>\n",
              "      <td>Promoter</td>\n",
              "    </tr>\n",
              "    <tr>\n",
              "      <th>389</th>\n",
              "      <td>52</td>\n",
              "      <td>San Francisco</td>\n",
              "      <td>VR</td>\n",
              "      <td>1</td>\n",
              "      <td>10</td>\n",
              "      <td>Just right</td>\n",
              "      <td>Promoter</td>\n",
              "    </tr>\n",
              "    <tr>\n",
              "      <th>390</th>\n",
              "      <td>54</td>\n",
              "      <td>San Francisco</td>\n",
              "      <td>VR</td>\n",
              "      <td>1</td>\n",
              "      <td>10</td>\n",
              "      <td>Just right</td>\n",
              "      <td>Promoter</td>\n",
              "    </tr>\n",
              "    <tr>\n",
              "      <th>391</th>\n",
              "      <td>57</td>\n",
              "      <td>San Francisco</td>\n",
              "      <td>VR</td>\n",
              "      <td>1</td>\n",
              "      <td>10</td>\n",
              "      <td>Just right</td>\n",
              "      <td>Promoter</td>\n",
              "    </tr>\n",
              "    <tr>\n",
              "      <th>413</th>\n",
              "      <td>203</td>\n",
              "      <td>San Francisco</td>\n",
              "      <td>VR</td>\n",
              "      <td>2</td>\n",
              "      <td>10</td>\n",
              "      <td>A little too slow</td>\n",
              "      <td>Promoter</td>\n",
              "    </tr>\n",
              "    <tr>\n",
              "      <th>414</th>\n",
              "      <td>205</td>\n",
              "      <td>San Francisco</td>\n",
              "      <td>VR</td>\n",
              "      <td>2</td>\n",
              "      <td>10</td>\n",
              "      <td>A little too fast</td>\n",
              "      <td>Promoter</td>\n",
              "    </tr>\n",
              "    <tr>\n",
              "      <th>415</th>\n",
              "      <td>206</td>\n",
              "      <td>San Francisco</td>\n",
              "      <td>VR</td>\n",
              "      <td>2</td>\n",
              "      <td>10</td>\n",
              "      <td>Just right</td>\n",
              "      <td>Promoter</td>\n",
              "    </tr>\n",
              "    <tr>\n",
              "      <th>416</th>\n",
              "      <td>207</td>\n",
              "      <td>San Francisco</td>\n",
              "      <td>VR</td>\n",
              "      <td>2</td>\n",
              "      <td>10</td>\n",
              "      <td>Just right</td>\n",
              "      <td>Promoter</td>\n",
              "    </tr>\n",
              "    <tr>\n",
              "      <th>417</th>\n",
              "      <td>208</td>\n",
              "      <td>San Francisco</td>\n",
              "      <td>VR</td>\n",
              "      <td>2</td>\n",
              "      <td>10</td>\n",
              "      <td>Just right</td>\n",
              "      <td>Promoter</td>\n",
              "    </tr>\n",
              "    <tr>\n",
              "      <th>437</th>\n",
              "      <td>348</td>\n",
              "      <td>San Francisco</td>\n",
              "      <td>VR</td>\n",
              "      <td>3</td>\n",
              "      <td>10</td>\n",
              "      <td>Just right</td>\n",
              "      <td>Promoter</td>\n",
              "    </tr>\n",
              "    <tr>\n",
              "      <th>444</th>\n",
              "      <td>369</td>\n",
              "      <td>San Francisco</td>\n",
              "      <td>VR</td>\n",
              "      <td>3</td>\n",
              "      <td>10</td>\n",
              "      <td>A little too fast</td>\n",
              "      <td>Promoter</td>\n",
              "    </tr>\n",
              "    <tr>\n",
              "      <th>449</th>\n",
              "      <td>383</td>\n",
              "      <td>San Francisco</td>\n",
              "      <td>VR</td>\n",
              "      <td>3</td>\n",
              "      <td>10</td>\n",
              "      <td>Just right</td>\n",
              "      <td>Promoter</td>\n",
              "    </tr>\n",
              "    <tr>\n",
              "      <th>450</th>\n",
              "      <td>386</td>\n",
              "      <td>San Francisco</td>\n",
              "      <td>VR</td>\n",
              "      <td>3</td>\n",
              "      <td>10</td>\n",
              "      <td>Just right</td>\n",
              "      <td>Promoter</td>\n",
              "    </tr>\n",
              "    <tr>\n",
              "      <th>512</th>\n",
              "      <td>541</td>\n",
              "      <td>San Francisco</td>\n",
              "      <td>VR</td>\n",
              "      <td>3</td>\n",
              "      <td>8</td>\n",
              "      <td>Just right</td>\n",
              "      <td>Passive</td>\n",
              "    </tr>\n",
              "    <tr>\n",
              "      <th>515</th>\n",
              "      <td>544</td>\n",
              "      <td>San Francisco</td>\n",
              "      <td>VR</td>\n",
              "      <td>3</td>\n",
              "      <td>10</td>\n",
              "      <td>Just right</td>\n",
              "      <td>Promoter</td>\n",
              "    </tr>\n",
              "    <tr>\n",
              "      <th>641</th>\n",
              "      <td>675</td>\n",
              "      <td>San Francisco</td>\n",
              "      <td>VR</td>\n",
              "      <td>4</td>\n",
              "      <td>10</td>\n",
              "      <td>Just right</td>\n",
              "      <td>Promoter</td>\n",
              "    </tr>\n",
              "    <tr>\n",
              "      <th>643</th>\n",
              "      <td>677</td>\n",
              "      <td>San Francisco</td>\n",
              "      <td>VR</td>\n",
              "      <td>4</td>\n",
              "      <td>8</td>\n",
              "      <td>Just right</td>\n",
              "      <td>Passive</td>\n",
              "    </tr>\n",
              "    <tr>\n",
              "      <th>645</th>\n",
              "      <td>679</td>\n",
              "      <td>San Francisco</td>\n",
              "      <td>VR</td>\n",
              "      <td>4</td>\n",
              "      <td>6</td>\n",
              "      <td>A little too fast</td>\n",
              "      <td>Detractor</td>\n",
              "    </tr>\n",
              "    <tr>\n",
              "      <th>649</th>\n",
              "      <td>683</td>\n",
              "      <td>San Francisco</td>\n",
              "      <td>VR</td>\n",
              "      <td>4</td>\n",
              "      <td>10</td>\n",
              "      <td>A little too fast</td>\n",
              "      <td>Promoter</td>\n",
              "    </tr>\n",
              "    <tr>\n",
              "      <th>650</th>\n",
              "      <td>684</td>\n",
              "      <td>San Francisco</td>\n",
              "      <td>VR</td>\n",
              "      <td>4</td>\n",
              "      <td>4</td>\n",
              "      <td>Just right</td>\n",
              "      <td>Detractor</td>\n",
              "    </tr>\n",
              "    <tr>\n",
              "      <th>653</th>\n",
              "      <td>687</td>\n",
              "      <td>San Francisco</td>\n",
              "      <td>VR</td>\n",
              "      <td>4</td>\n",
              "      <td>9</td>\n",
              "      <td>Just right</td>\n",
              "      <td>Promoter</td>\n",
              "    </tr>\n",
              "    <tr>\n",
              "      <th>654</th>\n",
              "      <td>688</td>\n",
              "      <td>San Francisco</td>\n",
              "      <td>VR</td>\n",
              "      <td>4</td>\n",
              "      <td>8</td>\n",
              "      <td>Just right</td>\n",
              "      <td>Passive</td>\n",
              "    </tr>\n",
              "    <tr>\n",
              "      <th>670</th>\n",
              "      <td>704</td>\n",
              "      <td>San Francisco</td>\n",
              "      <td>VR</td>\n",
              "      <td>4</td>\n",
              "      <td>9</td>\n",
              "      <td>Just right</td>\n",
              "      <td>Promoter</td>\n",
              "    </tr>\n",
              "    <tr>\n",
              "      <th>674</th>\n",
              "      <td>708</td>\n",
              "      <td>San Francisco</td>\n",
              "      <td>VR</td>\n",
              "      <td>4</td>\n",
              "      <td>10</td>\n",
              "      <td>Just right</td>\n",
              "      <td>Promoter</td>\n",
              "    </tr>\n",
              "    <tr>\n",
              "      <th>675</th>\n",
              "      <td>709</td>\n",
              "      <td>San Francisco</td>\n",
              "      <td>VR</td>\n",
              "      <td>4</td>\n",
              "      <td>7</td>\n",
              "      <td>A little too fast</td>\n",
              "      <td>Passive</td>\n",
              "    </tr>\n",
              "    <tr>\n",
              "      <th>772</th>\n",
              "      <td>810</td>\n",
              "      <td>San Francisco</td>\n",
              "      <td>VR</td>\n",
              "      <td>5</td>\n",
              "      <td>10</td>\n",
              "      <td>Just right</td>\n",
              "      <td>Promoter</td>\n",
              "    </tr>\n",
              "    <tr>\n",
              "      <th>773</th>\n",
              "      <td>811</td>\n",
              "      <td>San Francisco</td>\n",
              "      <td>VR</td>\n",
              "      <td>5</td>\n",
              "      <td>10</td>\n",
              "      <td>Just right</td>\n",
              "      <td>Promoter</td>\n",
              "    </tr>\n",
              "    <tr>\n",
              "      <th>830</th>\n",
              "      <td>868</td>\n",
              "      <td>San Francisco</td>\n",
              "      <td>VR</td>\n",
              "      <td>5</td>\n",
              "      <td>10</td>\n",
              "      <td>Just right</td>\n",
              "      <td>Promoter</td>\n",
              "    </tr>\n",
              "    <tr>\n",
              "      <th>845</th>\n",
              "      <td>883</td>\n",
              "      <td>San Francisco</td>\n",
              "      <td>VR</td>\n",
              "      <td>5</td>\n",
              "      <td>10</td>\n",
              "      <td>Just right</td>\n",
              "      <td>Promoter</td>\n",
              "    </tr>\n",
              "    <tr>\n",
              "      <th>846</th>\n",
              "      <td>884</td>\n",
              "      <td>San Francisco</td>\n",
              "      <td>VR</td>\n",
              "      <td>5</td>\n",
              "      <td>9</td>\n",
              "      <td>Just right</td>\n",
              "      <td>Promoter</td>\n",
              "    </tr>\n",
              "    <tr>\n",
              "      <th>847</th>\n",
              "      <td>885</td>\n",
              "      <td>San Francisco</td>\n",
              "      <td>VR</td>\n",
              "      <td>5</td>\n",
              "      <td>10</td>\n",
              "      <td>Just right</td>\n",
              "      <td>Promoter</td>\n",
              "    </tr>\n",
              "    <tr>\n",
              "      <th>894</th>\n",
              "      <td>932</td>\n",
              "      <td>San Francisco</td>\n",
              "      <td>VR</td>\n",
              "      <td>5</td>\n",
              "      <td>10</td>\n",
              "      <td>Just right</td>\n",
              "      <td>Promoter</td>\n",
              "    </tr>\n",
              "    <tr>\n",
              "      <th>996</th>\n",
              "      <td>1039</td>\n",
              "      <td>San Francisco</td>\n",
              "      <td>VR</td>\n",
              "      <td>6</td>\n",
              "      <td>9</td>\n",
              "      <td>Just right</td>\n",
              "      <td>Promoter</td>\n",
              "    </tr>\n",
              "    <tr>\n",
              "      <th>997</th>\n",
              "      <td>1040</td>\n",
              "      <td>San Francisco</td>\n",
              "      <td>VR</td>\n",
              "      <td>6</td>\n",
              "      <td>10</td>\n",
              "      <td>Just right</td>\n",
              "      <td>Promoter</td>\n",
              "    </tr>\n",
              "    <tr>\n",
              "      <th>1001</th>\n",
              "      <td>1044</td>\n",
              "      <td>San Francisco</td>\n",
              "      <td>VR</td>\n",
              "      <td>6</td>\n",
              "      <td>10</td>\n",
              "      <td>Just right</td>\n",
              "      <td>Promoter</td>\n",
              "    </tr>\n",
              "    <tr>\n",
              "      <th>1068</th>\n",
              "      <td>1111</td>\n",
              "      <td>San Francisco</td>\n",
              "      <td>VR</td>\n",
              "      <td>6</td>\n",
              "      <td>10</td>\n",
              "      <td>Just right</td>\n",
              "      <td>Promoter</td>\n",
              "    </tr>\n",
              "    <tr>\n",
              "      <th>1089</th>\n",
              "      <td>1132</td>\n",
              "      <td>San Francisco</td>\n",
              "      <td>VR</td>\n",
              "      <td>6</td>\n",
              "      <td>10</td>\n",
              "      <td>Just right</td>\n",
              "      <td>Promoter</td>\n",
              "    </tr>\n",
              "    <tr>\n",
              "      <th>1197</th>\n",
              "      <td>1243</td>\n",
              "      <td>San Francisco</td>\n",
              "      <td>VR</td>\n",
              "      <td>7</td>\n",
              "      <td>7</td>\n",
              "      <td>A little too fast</td>\n",
              "      <td>Passive</td>\n",
              "    </tr>\n",
              "    <tr>\n",
              "      <th>1198</th>\n",
              "      <td>1244</td>\n",
              "      <td>San Francisco</td>\n",
              "      <td>VR</td>\n",
              "      <td>7</td>\n",
              "      <td>10</td>\n",
              "      <td>Just right</td>\n",
              "      <td>Promoter</td>\n",
              "    </tr>\n",
              "    <tr>\n",
              "      <th>1199</th>\n",
              "      <td>1245</td>\n",
              "      <td>San Francisco</td>\n",
              "      <td>VR</td>\n",
              "      <td>7</td>\n",
              "      <td>10</td>\n",
              "      <td>A little too fast</td>\n",
              "      <td>Promoter</td>\n",
              "    </tr>\n",
              "    <tr>\n",
              "      <th>1200</th>\n",
              "      <td>1246</td>\n",
              "      <td>San Francisco</td>\n",
              "      <td>VR</td>\n",
              "      <td>7</td>\n",
              "      <td>8</td>\n",
              "      <td>Just right</td>\n",
              "      <td>Passive</td>\n",
              "    </tr>\n",
              "    <tr>\n",
              "      <th>1201</th>\n",
              "      <td>1247</td>\n",
              "      <td>San Francisco</td>\n",
              "      <td>VR</td>\n",
              "      <td>7</td>\n",
              "      <td>10</td>\n",
              "      <td>Just right</td>\n",
              "      <td>Promoter</td>\n",
              "    </tr>\n",
              "    <tr>\n",
              "      <th>1202</th>\n",
              "      <td>1248</td>\n",
              "      <td>San Francisco</td>\n",
              "      <td>VR</td>\n",
              "      <td>7</td>\n",
              "      <td>10</td>\n",
              "      <td>Just right</td>\n",
              "      <td>Promoter</td>\n",
              "    </tr>\n",
              "    <tr>\n",
              "      <th>1203</th>\n",
              "      <td>1249</td>\n",
              "      <td>San Francisco</td>\n",
              "      <td>VR</td>\n",
              "      <td>7</td>\n",
              "      <td>9</td>\n",
              "      <td>Just right</td>\n",
              "      <td>Promoter</td>\n",
              "    </tr>\n",
              "    <tr>\n",
              "      <th>1354</th>\n",
              "      <td>1401</td>\n",
              "      <td>San Francisco</td>\n",
              "      <td>VR</td>\n",
              "      <td>8</td>\n",
              "      <td>10</td>\n",
              "      <td>Just right</td>\n",
              "      <td>Promoter</td>\n",
              "    </tr>\n",
              "  </tbody>\n",
              "</table>\n",
              "</div>"
            ],
            "text/plain": [
              "        ID       Location Track  Week Rating    Schedule Pacing   Category\n",
              "48      48  San Francisco    VR     1      7  A little too slow    Passive\n",
              "109     53  San Francisco    VR     1      8         Just right    Passive\n",
              "110     55  San Francisco    VR     1      8         Just right    Passive\n",
              "157    209  San Francisco    VR     2      8  A little too fast    Passive\n",
              "158    210  San Francisco    VR     2      8         Just right    Passive\n",
              "219    387  San Francisco    VR     3      8  A little too slow    Passive\n",
              "262     56  San Francisco    VR     1      9         Just right   Promoter\n",
              "299    201  San Francisco    VR     2      9  A little too slow   Promoter\n",
              "300    204  San Francisco    VR     2      9         Just right   Promoter\n",
              "301    211  San Francisco    VR     2      9         Just right   Promoter\n",
              "339    367  San Francisco    VR     3      9         Just right   Promoter\n",
              "359    454  San Francisco    VR     3      9         Just right   Promoter\n",
              "360    456  San Francisco    VR     3      9  A little too fast   Promoter\n",
              "386     49  San Francisco    VR     1     10         Just right   Promoter\n",
              "387     50  San Francisco    VR     1     10  A little too slow   Promoter\n",
              "388     51  San Francisco    VR     1     10  A little too fast   Promoter\n",
              "389     52  San Francisco    VR     1     10         Just right   Promoter\n",
              "390     54  San Francisco    VR     1     10         Just right   Promoter\n",
              "391     57  San Francisco    VR     1     10         Just right   Promoter\n",
              "413    203  San Francisco    VR     2     10  A little too slow   Promoter\n",
              "414    205  San Francisco    VR     2     10  A little too fast   Promoter\n",
              "415    206  San Francisco    VR     2     10         Just right   Promoter\n",
              "416    207  San Francisco    VR     2     10         Just right   Promoter\n",
              "417    208  San Francisco    VR     2     10         Just right   Promoter\n",
              "437    348  San Francisco    VR     3     10         Just right   Promoter\n",
              "444    369  San Francisco    VR     3     10  A little too fast   Promoter\n",
              "449    383  San Francisco    VR     3     10         Just right   Promoter\n",
              "450    386  San Francisco    VR     3     10         Just right   Promoter\n",
              "512    541  San Francisco    VR     3      8         Just right    Passive\n",
              "515    544  San Francisco    VR     3     10         Just right   Promoter\n",
              "641    675  San Francisco    VR     4     10         Just right   Promoter\n",
              "643    677  San Francisco    VR     4      8         Just right    Passive\n",
              "645    679  San Francisco    VR     4      6  A little too fast  Detractor\n",
              "649    683  San Francisco    VR     4     10  A little too fast   Promoter\n",
              "650    684  San Francisco    VR     4      4         Just right  Detractor\n",
              "653    687  San Francisco    VR     4      9         Just right   Promoter\n",
              "654    688  San Francisco    VR     4      8         Just right    Passive\n",
              "670    704  San Francisco    VR     4      9         Just right   Promoter\n",
              "674    708  San Francisco    VR     4     10         Just right   Promoter\n",
              "675    709  San Francisco    VR     4      7  A little too fast    Passive\n",
              "772    810  San Francisco    VR     5     10         Just right   Promoter\n",
              "773    811  San Francisco    VR     5     10         Just right   Promoter\n",
              "830    868  San Francisco    VR     5     10         Just right   Promoter\n",
              "845    883  San Francisco    VR     5     10         Just right   Promoter\n",
              "846    884  San Francisco    VR     5      9         Just right   Promoter\n",
              "847    885  San Francisco    VR     5     10         Just right   Promoter\n",
              "894    932  San Francisco    VR     5     10         Just right   Promoter\n",
              "996   1039  San Francisco    VR     6      9         Just right   Promoter\n",
              "997   1040  San Francisco    VR     6     10         Just right   Promoter\n",
              "1001  1044  San Francisco    VR     6     10         Just right   Promoter\n",
              "1068  1111  San Francisco    VR     6     10         Just right   Promoter\n",
              "1089  1132  San Francisco    VR     6     10         Just right   Promoter\n",
              "1197  1243  San Francisco    VR     7      7  A little too fast    Passive\n",
              "1198  1244  San Francisco    VR     7     10         Just right   Promoter\n",
              "1199  1245  San Francisco    VR     7     10  A little too fast   Promoter\n",
              "1200  1246  San Francisco    VR     7      8         Just right    Passive\n",
              "1201  1247  San Francisco    VR     7     10         Just right   Promoter\n",
              "1202  1248  San Francisco    VR     7     10         Just right   Promoter\n",
              "1203  1249  San Francisco    VR     7      9         Just right   Promoter\n",
              "1354  1401  San Francisco    VR     8     10         Just right   Promoter"
            ]
          },
          "execution_count": 244,
          "metadata": {},
          "output_type": "execute_result"
        }
      ],
      "source": [
        "VR = df[df['Track']=='VR']\n",
        "VR"
      ]
    },
    {
      "cell_type": "code",
      "execution_count": null,
      "metadata": {
        "id": "JwybXw1xE-dr",
        "outputId": "c8e30a7f-531a-4609-9b00-bd75c546e7b6"
      },
      "outputs": [
        {
          "data": {
            "text/plain": [
              "<matplotlib.axes._subplots.AxesSubplot at 0x126ab3250>"
            ]
          },
          "execution_count": 252,
          "metadata": {},
          "output_type": "execute_result"
        },
        {
          "data": {
            "image/png": "[encoded data removed]",
            "text/plain": [
              "<Figure size 432x288 with 1 Axes>"
            ]
          },
          "metadata": {
            "needs_background": "light"
          },
          "output_type": "display_data"
        }
      ],
      "source": [
        "VR[VR['Week'] == 3]['Schedule Pacing'].hist()"
      ]
    },
    {
      "cell_type": "code",
      "execution_count": null,
      "metadata": {
        "id": "G9l6YP6zE-dr",
        "outputId": "724110cf-fbe4-4c16-e10d-9feae334108b"
      },
      "outputs": [
        {
          "data": {
            "text/plain": [
              "<matplotlib.axes._subplots.AxesSubplot at 0x126afc7d0>"
            ]
          },
          "execution_count": 251,
          "metadata": {},
          "output_type": "execute_result"
        },
        {
          "data": {
            "image/png": "[encoded data removed]",
            "text/plain": [
              "<Figure size 432x288 with 1 Axes>"
            ]
          },
          "metadata": {
            "needs_background": "light"
          },
          "output_type": "display_data"
        }
      ],
      "source": [
        "VR[VR['Week'] == 4]['Schedule Pacing'].hist()"
      ]
    },
    {
      "cell_type": "markdown",
      "metadata": {
        "id": "mINvMH_EE-dr"
      },
      "source": [
        "### There's no change in these two weeks as far as schedule pacing feedback. We have three items that deter from the average \"just right.\" So instead let's take a look at score details. "
      ]
    },
    {
      "cell_type": "code",
      "execution_count": null,
      "metadata": {
        "id": "fp0w79aUE-dr",
        "outputId": "6bef811f-d11c-408e-9295-7d1e9d21c156"
      },
      "outputs": [
        {
          "data": {
            "text/plain": [
              "Week  Category \n",
              "1     Promoter     7\n",
              "      Passive      3\n",
              "2     Promoter     8\n",
              "      Passive      2\n",
              "3     Promoter     8\n",
              "      Passive      2\n",
              "4     Promoter     5\n",
              "      Passive      3\n",
              "      Detractor    2\n",
              "5     Promoter     7\n",
              "6     Promoter     5\n",
              "7     Promoter     5\n",
              "      Passive      2\n",
              "8     Promoter     1\n",
              "Name: Category, dtype: int64"
            ]
          },
          "execution_count": 265,
          "metadata": {},
          "output_type": "execute_result"
        }
      ],
      "source": [
        "week_sch = VR.groupby('Week')['Category']\n",
        "week_sch.value_counts()"
      ]
    },
    {
      "cell_type": "markdown",
      "metadata": {
        "id": "K4DESm5qE-ds"
      },
      "source": [
        "## Aha.. We see the exact dip in score Categories, although not represented in the Schedule Pacing. \n",
        "\n",
        "## Week 3 has 8 Promoters and 2 Passives, while Week 4 has only 5 Promoters 2 Passives and a new 2 Detractors. \n",
        "\n",
        "## This will surely show a hit in numbers for the NPS score. "
      ]
    },
    {
      "cell_type": "code",
      "execution_count": null,
      "metadata": {
        "id": "cpep9a81E-ds"
      },
      "outputs": [],
      "source": []
    }
  ],
  "metadata": {
    "kernelspec": {
      "display_name": "Python 3",
      "language": "python",
      "name": "python3"
    },
    "language_info": {
      "codemirror_mode": {
        "name": "ipython",
        "version": 3
      },
      "file_extension": ".py",
      "mimetype": "text/x-python",
      "name": "python",
      "nbconvert_exporter": "python",
      "pygments_lexer": "ipython3",
      "version": "3.7.6"
    },
    "colab": {
      "provenance": []
    }
  },
  "nbformat": 4,
  "nbformat_minor": 0
}