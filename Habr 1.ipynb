{
  "cells": [
    {
      "cell_type": "markdown",
      "metadata": {
        "id": "view-in-github",
        "colab_type": "text"
      },
      "source": [
        "<a href=\"https://colab.research.google.com/github/Vitalyastiy/cheat/blob/main/Habr%201.ipynb\" target=\"_parent\"><img src=\"https://colab.research.google.com/assets/colab-badge.svg\" alt=\"Open In Colab\"/></a>"
      ]
    },
    {
      "cell_type": "markdown",
      "metadata": {
        "id": "HHK-wdM5rgwo"
      },
      "source": [
        "***Статья для хабр: чеклист для базового data preparation***"
      ]
    },
    {
      "cell_type": "markdown",
      "metadata": {
        "id": "O2mID15rrgw-"
      },
      "source": [
        "Часто люди, заходящие в область Data Science, имеют не совсем реалистичные представления о том, что их ждет. Многие думают, что сейчас они будут круто писать нейросети, создавать голосового помощника из Железного Человека или обыгрывать всех на финансовых рынках.\n",
        "\n",
        "Но на самом деле работа Data Scienist завязана на данных, и один из важнейших и времязатратных моментов - это обработка данных перед тем, как их подавать в нейросеть или анализировать определенным способом.\n",
        "\n",
        "В этой статье наша команда опишет то, как можно легко и быстро обработать данные с помощью пошаговой инструкцией и кодом. Мы старались сделать так, чтобы код был довольно гибким и его можно было применять для разных датасетов.\n",
        "\n",
        "Многие профессионалы возможно и не найдут ничего нового в этой статье, но новечки смогут подчерпнуть что-то новое, а также каждый, кто давно мечтал сделать себе отдельный notebook для быстрой и структурированной обработки данных может скопировать код и отформатировать его под себя, или скачать готовый notebook по ссылке с Github. "
      ]
    },
    {
      "cell_type": "markdown",
      "metadata": {
        "id": "s7OsBX5LrgxE"
      },
      "source": [
        "***Получили dataset. Что делать?***"
      ]
    },
    {
      "cell_type": "markdown",
      "metadata": {
        "id": "0LnDrkVergxG"
      },
      "source": [
        "Итак, стандарт: нужно понять, с чем имеем дело, общую картину. Для этого используем pandas, чтобы просто определить разные типы данных."
      ]
    },
    {
      "cell_type": "code",
      "execution_count": null,
      "metadata": {
        "id": "ZVdVuE5srgxI"
      },
      "outputs": [],
      "source": [
        "import pandas as pd #импортируем pandas\n",
        "import numpy as np  #импортируем numpy\n",
        "df = pd.read_csv(\"AB_NYC_2019.csv\") #читаем датасет и записываем в переменную df"
      ]
    },
    {
      "cell_type": "code",
      "execution_count": null,
      "metadata": {
        "scrolled": true,
        "id": "hteB7rECrgxM",
        "outputId": "e2fe9546-c6bd-451a-d9ca-27dcee6dd650"
      },
      "outputs": [
        {
          "data": {
            "text/html": [
              "<div>\n",
              "<style scoped>\n",
              "    .dataframe tbody tr th:only-of-type {\n",
              "        vertical-align: middle;\n",
              "    }\n",
              "\n",
              "    .dataframe tbody tr th {\n",
              "        vertical-align: top;\n",
              "    }\n",
              "\n",
              "    .dataframe thead th {\n",
              "        text-align: right;\n",
              "    }\n",
              "</style>\n",
              "<table border=\"1\" class=\"dataframe\">\n",
              "  <thead>\n",
              "    <tr style=\"text-align: right;\">\n",
              "      <th></th>\n",
              "      <th>id</th>\n",
              "      <th>name</th>\n",
              "      <th>host_id</th>\n",
              "      <th>host_name</th>\n",
              "      <th>neighbourhood_group</th>\n",
              "      <th>neighbourhood</th>\n",
              "      <th>latitude</th>\n",
              "      <th>longitude</th>\n",
              "      <th>room_type</th>\n",
              "      <th>price</th>\n",
              "      <th>minimum_nights</th>\n",
              "      <th>number_of_reviews</th>\n",
              "      <th>last_review</th>\n",
              "      <th>reviews_per_month</th>\n",
              "      <th>calculated_host_listings_count</th>\n",
              "      <th>availability_365</th>\n",
              "    </tr>\n",
              "  </thead>\n",
              "  <tbody>\n",
              "    <tr>\n",
              "      <th>0</th>\n",
              "      <td>2539</td>\n",
              "      <td>Clean &amp; quiet apt home by the park</td>\n",
              "      <td>2787</td>\n",
              "      <td>John</td>\n",
              "      <td>Brooklyn</td>\n",
              "      <td>Kensington</td>\n",
              "      <td>40.64749</td>\n",
              "      <td>-73.97237</td>\n",
              "      <td>Private room</td>\n",
              "      <td>149</td>\n",
              "      <td>1</td>\n",
              "      <td>9</td>\n",
              "      <td>2018-10-19</td>\n",
              "      <td>0.21</td>\n",
              "      <td>6</td>\n",
              "      <td>365</td>\n",
              "    </tr>\n",
              "    <tr>\n",
              "      <th>1</th>\n",
              "      <td>2595</td>\n",
              "      <td>Skylit Midtown Castle</td>\n",
              "      <td>2845</td>\n",
              "      <td>Jennifer</td>\n",
              "      <td>Manhattan</td>\n",
              "      <td>Midtown</td>\n",
              "      <td>40.75362</td>\n",
              "      <td>-73.98377</td>\n",
              "      <td>Entire home/apt</td>\n",
              "      <td>225</td>\n",
              "      <td>1</td>\n",
              "      <td>45</td>\n",
              "      <td>2019-05-21</td>\n",
              "      <td>0.38</td>\n",
              "      <td>2</td>\n",
              "      <td>355</td>\n",
              "    </tr>\n",
              "    <tr>\n",
              "      <th>2</th>\n",
              "      <td>3647</td>\n",
              "      <td>THE VILLAGE OF HARLEM....NEW YORK !</td>\n",
              "      <td>4632</td>\n",
              "      <td>Elisabeth</td>\n",
              "      <td>Manhattan</td>\n",
              "      <td>Harlem</td>\n",
              "      <td>40.80902</td>\n",
              "      <td>-73.94190</td>\n",
              "      <td>Private room</td>\n",
              "      <td>150</td>\n",
              "      <td>3</td>\n",
              "      <td>0</td>\n",
              "      <td>NaN</td>\n",
              "      <td>NaN</td>\n",
              "      <td>1</td>\n",
              "      <td>365</td>\n",
              "    </tr>\n",
              "  </tbody>\n",
              "</table>\n",
              "</div>"
            ],
            "text/plain": [
              "     id                                 name  host_id  host_name  \\\n",
              "0  2539   Clean & quiet apt home by the park     2787       John   \n",
              "1  2595                Skylit Midtown Castle     2845   Jennifer   \n",
              "2  3647  THE VILLAGE OF HARLEM....NEW YORK !     4632  Elisabeth   \n",
              "\n",
              "  neighbourhood_group neighbourhood  latitude  longitude        room_type  \\\n",
              "0            Brooklyn    Kensington  40.64749  -73.97237     Private room   \n",
              "1           Manhattan       Midtown  40.75362  -73.98377  Entire home/apt   \n",
              "2           Manhattan        Harlem  40.80902  -73.94190     Private room   \n",
              "\n",
              "   price  minimum_nights  number_of_reviews last_review  reviews_per_month  \\\n",
              "0    149               1                  9  2018-10-19               0.21   \n",
              "1    225               1                 45  2019-05-21               0.38   \n",
              "2    150               3                  0         NaN                NaN   \n",
              "\n",
              "   calculated_host_listings_count  availability_365  \n",
              "0                               6               365  \n",
              "1                               2               355  \n",
              "2                               1               365  "
            ]
          },
          "execution_count": 2,
          "metadata": {},
          "output_type": "execute_result"
        }
      ],
      "source": [
        "df.head(3) #смотрим на первые 3 строчки, чтобы понять, как выглядят значения"
      ]
    },
    {
      "cell_type": "code",
      "execution_count": null,
      "metadata": {
        "id": "_rYNSqgrrgxQ",
        "outputId": "0baae7c5-f462-4a80-f0a0-3245d276981e"
      },
      "outputs": [
        {
          "name": "stdout",
          "output_type": "stream",
          "text": [
            "<class 'pandas.core.frame.DataFrame'>\n",
            "RangeIndex: 48895 entries, 0 to 48894\n",
            "Data columns (total 16 columns):\n",
            " #   Column                          Non-Null Count  Dtype  \n",
            "---  ------                          --------------  -----  \n",
            " 0   id                              48895 non-null  int64  \n",
            " 1   name                            48879 non-null  object \n",
            " 2   host_id                         48895 non-null  int64  \n",
            " 3   host_name                       48874 non-null  object \n",
            " 4   neighbourhood_group             48895 non-null  object \n",
            " 5   neighbourhood                   48895 non-null  object \n",
            " 6   latitude                        48895 non-null  float64\n",
            " 7   longitude                       48895 non-null  float64\n",
            " 8   room_type                       48895 non-null  object \n",
            " 9   price                           48895 non-null  int64  \n",
            " 10  minimum_nights                  48895 non-null  int64  \n",
            " 11  number_of_reviews               48895 non-null  int64  \n",
            " 12  last_review                     38843 non-null  object \n",
            " 13  reviews_per_month               38843 non-null  float64\n",
            " 14  calculated_host_listings_count  48895 non-null  int64  \n",
            " 15  availability_365                48895 non-null  int64  \n",
            "dtypes: float64(3), int64(7), object(6)\n",
            "memory usage: 6.0+ MB\n"
          ]
        }
      ],
      "source": [
        "df.info() #Демонстрируем информацию о колонках"
      ]
    },
    {
      "cell_type": "markdown",
      "metadata": {
        "id": "FB_AM5udrgxV"
      },
      "source": [
        "Для более глубокого взгляда на значения в каждой колонке, можем воспользоваться функцией pandas describe(). Правда, недостаток этой функции в том, что она не дает информацию про колонки со значениями string (или object). С ними мы разберемся позже."
      ]
    },
    {
      "cell_type": "code",
      "execution_count": null,
      "metadata": {
        "id": "KCh4JPXxrgxZ",
        "outputId": "9df432bc-67ad-4c34-e012-c7205a584c60"
      },
      "outputs": [
        {
          "data": {
            "text/html": [
              "<div>\n",
              "<style scoped>\n",
              "    .dataframe tbody tr th:only-of-type {\n",
              "        vertical-align: middle;\n",
              "    }\n",
              "\n",
              "    .dataframe tbody tr th {\n",
              "        vertical-align: top;\n",
              "    }\n",
              "\n",
              "    .dataframe thead th {\n",
              "        text-align: right;\n",
              "    }\n",
              "</style>\n",
              "<table border=\"1\" class=\"dataframe\">\n",
              "  <thead>\n",
              "    <tr style=\"text-align: right;\">\n",
              "      <th></th>\n",
              "      <th>id</th>\n",
              "      <th>host_id</th>\n",
              "      <th>latitude</th>\n",
              "      <th>longitude</th>\n",
              "      <th>price</th>\n",
              "      <th>minimum_nights</th>\n",
              "      <th>number_of_reviews</th>\n",
              "      <th>reviews_per_month</th>\n",
              "      <th>calculated_host_listings_count</th>\n",
              "      <th>availability_365</th>\n",
              "    </tr>\n",
              "  </thead>\n",
              "  <tbody>\n",
              "    <tr>\n",
              "      <th>count</th>\n",
              "      <td>4.889500e+04</td>\n",
              "      <td>4.889500e+04</td>\n",
              "      <td>48895.000000</td>\n",
              "      <td>48895.000000</td>\n",
              "      <td>48895.000000</td>\n",
              "      <td>48895.000000</td>\n",
              "      <td>48895.000000</td>\n",
              "      <td>38843.000000</td>\n",
              "      <td>48895.000000</td>\n",
              "      <td>48895.000000</td>\n",
              "    </tr>\n",
              "    <tr>\n",
              "      <th>mean</th>\n",
              "      <td>1.901714e+07</td>\n",
              "      <td>6.762001e+07</td>\n",
              "      <td>40.728949</td>\n",
              "      <td>-73.952170</td>\n",
              "      <td>152.720687</td>\n",
              "      <td>7.029962</td>\n",
              "      <td>23.274466</td>\n",
              "      <td>1.373221</td>\n",
              "      <td>7.143982</td>\n",
              "      <td>112.781327</td>\n",
              "    </tr>\n",
              "    <tr>\n",
              "      <th>std</th>\n",
              "      <td>1.098311e+07</td>\n",
              "      <td>7.861097e+07</td>\n",
              "      <td>0.054530</td>\n",
              "      <td>0.046157</td>\n",
              "      <td>240.154170</td>\n",
              "      <td>20.510550</td>\n",
              "      <td>44.550582</td>\n",
              "      <td>1.680442</td>\n",
              "      <td>32.952519</td>\n",
              "      <td>131.622289</td>\n",
              "    </tr>\n",
              "    <tr>\n",
              "      <th>min</th>\n",
              "      <td>2.539000e+03</td>\n",
              "      <td>2.438000e+03</td>\n",
              "      <td>40.499790</td>\n",
              "      <td>-74.244420</td>\n",
              "      <td>0.000000</td>\n",
              "      <td>1.000000</td>\n",
              "      <td>0.000000</td>\n",
              "      <td>0.010000</td>\n",
              "      <td>1.000000</td>\n",
              "      <td>0.000000</td>\n",
              "    </tr>\n",
              "    <tr>\n",
              "      <th>25%</th>\n",
              "      <td>9.471945e+06</td>\n",
              "      <td>7.822033e+06</td>\n",
              "      <td>40.690100</td>\n",
              "      <td>-73.983070</td>\n",
              "      <td>69.000000</td>\n",
              "      <td>1.000000</td>\n",
              "      <td>1.000000</td>\n",
              "      <td>0.190000</td>\n",
              "      <td>1.000000</td>\n",
              "      <td>0.000000</td>\n",
              "    </tr>\n",
              "    <tr>\n",
              "      <th>50%</th>\n",
              "      <td>1.967728e+07</td>\n",
              "      <td>3.079382e+07</td>\n",
              "      <td>40.723070</td>\n",
              "      <td>-73.955680</td>\n",
              "      <td>106.000000</td>\n",
              "      <td>3.000000</td>\n",
              "      <td>5.000000</td>\n",
              "      <td>0.720000</td>\n",
              "      <td>1.000000</td>\n",
              "      <td>45.000000</td>\n",
              "    </tr>\n",
              "    <tr>\n",
              "      <th>75%</th>\n",
              "      <td>2.915218e+07</td>\n",
              "      <td>1.074344e+08</td>\n",
              "      <td>40.763115</td>\n",
              "      <td>-73.936275</td>\n",
              "      <td>175.000000</td>\n",
              "      <td>5.000000</td>\n",
              "      <td>24.000000</td>\n",
              "      <td>2.020000</td>\n",
              "      <td>2.000000</td>\n",
              "      <td>227.000000</td>\n",
              "    </tr>\n",
              "    <tr>\n",
              "      <th>max</th>\n",
              "      <td>3.648724e+07</td>\n",
              "      <td>2.743213e+08</td>\n",
              "      <td>40.913060</td>\n",
              "      <td>-73.712990</td>\n",
              "      <td>10000.000000</td>\n",
              "      <td>1250.000000</td>\n",
              "      <td>629.000000</td>\n",
              "      <td>58.500000</td>\n",
              "      <td>327.000000</td>\n",
              "      <td>365.000000</td>\n",
              "    </tr>\n",
              "  </tbody>\n",
              "</table>\n",
              "</div>"
            ],
            "text/plain": [
              "                 id       host_id      latitude     longitude         price  \\\n",
              "count  4.889500e+04  4.889500e+04  48895.000000  48895.000000  48895.000000   \n",
              "mean   1.901714e+07  6.762001e+07     40.728949    -73.952170    152.720687   \n",
              "std    1.098311e+07  7.861097e+07      0.054530      0.046157    240.154170   \n",
              "min    2.539000e+03  2.438000e+03     40.499790    -74.244420      0.000000   \n",
              "25%    9.471945e+06  7.822033e+06     40.690100    -73.983070     69.000000   \n",
              "50%    1.967728e+07  3.079382e+07     40.723070    -73.955680    106.000000   \n",
              "75%    2.915218e+07  1.074344e+08     40.763115    -73.936275    175.000000   \n",
              "max    3.648724e+07  2.743213e+08     40.913060    -73.712990  10000.000000   \n",
              "\n",
              "       minimum_nights  number_of_reviews  reviews_per_month  \\\n",
              "count    48895.000000       48895.000000       38843.000000   \n",
              "mean         7.029962          23.274466           1.373221   \n",
              "std         20.510550          44.550582           1.680442   \n",
              "min          1.000000           0.000000           0.010000   \n",
              "25%          1.000000           1.000000           0.190000   \n",
              "50%          3.000000           5.000000           0.720000   \n",
              "75%          5.000000          24.000000           2.020000   \n",
              "max       1250.000000         629.000000          58.500000   \n",
              "\n",
              "       calculated_host_listings_count  availability_365  \n",
              "count                    48895.000000      48895.000000  \n",
              "mean                         7.143982        112.781327  \n",
              "std                         32.952519        131.622289  \n",
              "min                          1.000000          0.000000  \n",
              "25%                          1.000000          0.000000  \n",
              "50%                          1.000000         45.000000  \n",
              "75%                          2.000000        227.000000  \n",
              "max                        327.000000        365.000000  "
            ]
          },
          "execution_count": 4,
          "metadata": {},
          "output_type": "execute_result"
        }
      ],
      "source": [
        "df.describe()"
      ]
    },
    {
      "cell_type": "markdown",
      "metadata": {
        "id": "0AIAUfoArgxf"
      },
      "source": [
        "Смотрим на значения колонок:\n",
        "    1) Соответсвует ли количество строчек каждой колонки общему количеству строчек?\n",
        "    2) Какова суть данных в каждой колонке? \n",
        "    3) Какую колонку мы хотим сделать target, чтобы делать предсказания для нее?\n",
        "    \n",
        " Ответы на эти вопросы позволят проанализировать датасет, и примерно нарисовать план ближайших действий."
      ]
    },
    {
      "cell_type": "markdown",
      "metadata": {
        "id": "dbPNG6rLrgxj"
      },
      "source": [
        "✨***Волшебная визуализация***✨"
      ]
    },
    {
      "cell_type": "markdown",
      "metadata": {
        "id": "58ihJA6brgxn"
      },
      "source": [
        "Посморим на то, где у нас отсутствуют значения вообще"
      ]
    },
    {
      "cell_type": "code",
      "execution_count": null,
      "metadata": {
        "id": "9wDIuBx6rgxp",
        "outputId": "f2236b7c-f9eb-4145-c375-8da84089b4ae"
      },
      "outputs": [
        {
          "data": {
            "text/plain": [
              "<matplotlib.axes._subplots.AxesSubplot at 0x121355518>"
            ]
          },
          "execution_count": 25,
          "metadata": {},
          "output_type": "execute_result"
        },
        {
          "data": {
            "image/png": "[encoded data removed]",
            "text/plain": [
              "<Figure size 432x288 with 1 Axes>"
            ]
          },
          "metadata": {
            "needs_background": "light"
          },
          "output_type": "display_data"
        }
      ],
      "source": [
        "import seaborn as sns\n",
        "sns.heatmap(df.isnull(),yticklabels=False,cbar=False,cmap='viridis')"
      ]
    },
    {
      "cell_type": "markdown",
      "metadata": {
        "id": "eHJF2_i0rgxr"
      },
      "source": [
        "Видим, что в основном пустые значения находятся в колонках \"last_review\" и \"reviews_per_month\". Также можно посмотреть на места, где могут быть пропущенны данные с помощью функции .info(), расмотренной выше."
      ]
    },
    {
      "cell_type": "markdown",
      "metadata": {
        "id": "D4nJdnadrgxs"
      },
      "source": [
        "***Это был небольшой взгляд сверху, сейчас же мы приступим к более интересным вещам***"
      ]
    },
    {
      "cell_type": "markdown",
      "metadata": {
        "id": "ZH7oMRZjrgxt"
      },
      "source": [
        "Попробуем найти и по возможности удалить колонки, в которых есть всего одно значение во всех строчках (они на результат влиять никак не будут)."
      ]
    },
    {
      "cell_type": "code",
      "execution_count": null,
      "metadata": {
        "id": "yMpqwm0Jrgxu"
      },
      "outputs": [],
      "source": [
        "df = df[[c for c\n",
        "        in list(df)\n",
        "        if len(df[c].unique()) > 1]] #Перезаписываем датасет, вписывая только те колонки,\n",
        "                                     #в которых больше одного уникального значения"
      ]
    },
    {
      "cell_type": "markdown",
      "metadata": {
        "id": "oxuJHBy2rgxv"
      },
      "source": [
        "Теперь предохраняем себя и успех нашего проекта от строк-дубликатов (строк, которые содержат одну и ту же информацию в одном и том же порядке, что и уже одна из существующих строчек)."
      ]
    },
    {
      "cell_type": "code",
      "execution_count": null,
      "metadata": {
        "id": "iEVWfNKArgxw"
      },
      "outputs": [],
      "source": [
        "df.drop_duplicates(inplace=True) #Делаем это, если считаем нужным.\n",
        "                                 #В некоторых проектах удалять такие данные не стоит."
      ]
    },
    {
      "cell_type": "markdown",
      "metadata": {
        "id": "ZpdBk-gargxx"
      },
      "source": [
        "***Разделяем датасет на два: один с качественными значениями, а другой - с количественными***"
      ]
    },
    {
      "cell_type": "code",
      "execution_count": null,
      "metadata": {
        "id": "qpjdHcy2rgxz"
      },
      "outputs": [],
      "source": [
        "df_numerical = df.select_dtypes(include = [np.number])\n",
        "df_categorical = df.select_dtypes(exclude = [np.number])"
      ]
    },
    {
      "cell_type": "markdown",
      "metadata": {
        "id": "MaXvK1aurgx0"
      },
      "source": [
        "Мы делаем это, чтобы нам было легче обрабатывать эти два разных типа данных - в последствии мы поймем, насколько это упрощает нам жизнь."
      ]
    },
    {
      "cell_type": "markdown",
      "metadata": {
        "id": "4LV-Js3Qrgx2"
      },
      "source": [
        "***Работаем с количественными данными***"
      ]
    },
    {
      "cell_type": "markdown",
      "metadata": {
        "id": "V5ecLMuvrgx3"
      },
      "source": [
        "Первое, что нам стоит сделать - определить, нет ли \"колонок - шпионов\" в количественных данных. Мы называем эти колонки так, потому что они выдают себя за количественные данные, а сами работают как качественные. Как нам их определить? Конечно, зависит от данных, которые Вы анализируете, но в основном такие колонки могут иметь мало уникальных данных (в районе 3-10 уникальных значений)."
      ]
    },
    {
      "cell_type": "markdown",
      "metadata": {
        "id": "M3ebMSNkrgx5"
      },
      "source": [
        "![IMG_6742.JPG](attachment:IMG_6742.JPG)"
      ]
    },
    {
      "cell_type": "code",
      "execution_count": null,
      "metadata": {
        "id": "dfXoNdI6rgx6",
        "outputId": "d7595778-211f-42fb-c1ac-e0f659a4c36b"
      },
      "outputs": [
        {
          "name": "stdout",
          "output_type": "stream",
          "text": [
            "id                                48895\n",
            "host_id                           37457\n",
            "latitude                          19048\n",
            "longitude                         14718\n",
            "price                               674\n",
            "minimum_nights                      109\n",
            "number_of_reviews                   394\n",
            "reviews_per_month                   937\n",
            "calculated_host_listings_count       47\n",
            "availability_365                    366\n",
            "dtype: int64\n"
          ]
        }
      ],
      "source": [
        "print(df_numerical.nunique())"
      ]
    },
    {
      "cell_type": "code",
      "execution_count": null,
      "metadata": {
        "id": "4apn04VNrgx6"
      },
      "outputs": [],
      "source": [
        "spy_columns = df_numerical[['колонка1', 'колока2', 'колонка3']]#выделяем колонки-шпионы и записываем в отдельную dataframe\n",
        "df_numerical.drop(labels=['колонка1', 'колока2', 'колонка3'], axis=1, inplace = True)#вырезаем эти колонки из количественных данных\n",
        "df_categorical.insert(1, 'колонка1', spy_columns['колонка1']) #добавляем первую колонку-шпион в качественные данные\n",
        "df_categorical.insert(1, 'колонка2', spy_columns['колонка2']) #добавляем вторую колонку-шпион в качественные данные\n",
        "df_categorical.insert(1, 'колонка3', spy_columns['колонка3']) #добавляем третью колонку-шпион в качественные данные"
      ]
    },
    {
      "cell_type": "markdown",
      "metadata": {
        "id": "OhVbX0iCrgx8"
      },
      "source": [
        "После того, как мы полностью отделили количественные данные, можно с ними как следует поработать. Первое - следует понять, где у нас есть пустые значения (NaN или 0). "
      ]
    },
    {
      "cell_type": "code",
      "execution_count": null,
      "metadata": {
        "id": "C9__rwkGrgx8",
        "outputId": "647b1410-3024-4020-fc80-78b9b5d6b99a"
      },
      "outputs": [
        {
          "data": {
            "text/plain": [
              "id                                2539.00000\n",
              "host_id                           2438.00000\n",
              "latitude                             0.05453\n",
              "longitude                          -74.24442\n",
              "price                                0.00000\n",
              "minimum_nights                       1.00000\n",
              "number_of_reviews                    0.00000\n",
              "reviews_per_month                    0.01000\n",
              "calculated_host_listings_count       1.00000\n",
              "availability_365                     0.00000\n",
              "dtype: float64"
            ]
          },
          "execution_count": 23,
          "metadata": {},
          "output_type": "execute_result"
        }
      ],
      "source": [
        "df_numerical.describe().min()"
      ]
    },
    {
      "cell_type": "markdown",
      "metadata": {
        "id": "_Bx_jp5srgx9"
      },
      "source": [
        "На этом этапе важно понять, в каких колонках нули могут означать отсутствующие значения: связано ли это с тем, как собирались данные? Или это может быть связано со значениями данных? На эти вопросы нужно отвечать в каждом отдельном случае."
      ]
    },
    {
      "cell_type": "markdown",
      "metadata": {
        "id": "6Fh48gA_rgx-"
      },
      "source": [
        "Итак, если мы все-таки решили, что данные у нас могут отсутствовать там, где есть нули, ***следует заменить нули на NaN***, чтобы было легче потом работать с этими утерянными данными:"
      ]
    },
    {
      "cell_type": "code",
      "execution_count": null,
      "metadata": {
        "id": "jSDiT-6frgx-"
      },
      "outputs": [],
      "source": [
        "df_numerical[[\"колонка 1\", \"колонка 2\"]] = df_numerical[[\"колонка 1\", \"колонка 2\"]].replace(0, nan)"
      ]
    },
    {
      "cell_type": "code",
      "execution_count": null,
      "metadata": {
        "id": "1HvNJAyZrgx_",
        "outputId": "691ef70f-f180-4d9b-95a2-0ab340f7c9e7"
      },
      "outputs": [
        {
          "data": {
            "text/plain": [
              "<matplotlib.axes._subplots.AxesSubplot at 0x117240198>"
            ]
          },
          "execution_count": 26,
          "metadata": {},
          "output_type": "execute_result"
        },
        {
          "data": {
            "image/png": "[encoded data removed]",
            "text/plain": [
              "<Figure size 432x288 with 1 Axes>"
            ]
          },
          "metadata": {
            "needs_background": "light"
          },
          "output_type": "display_data"
        }
      ],
      "source": [
        "sns.heatmap(df_numerical.isnull(),yticklabels=False,cbar=False,cmap='viridis') # Можно также воспользоваться df_numerical.info()"
      ]
    },
    {
      "cell_type": "markdown",
      "metadata": {
        "id": "YCNdjKNXrgx_"
      },
      "source": [
        "Здесь долждны быть отмечены желтым цветом те значения внутри столбцов, которые отсутствуют. И самое иинтересное начинается теперь - как вести себя с этими значениями? Удалить строчки с этими значениями или столбцы? Или заполнить эти пустые значения какими-нибудь другими? Вот небольшая схема, которая может Вам помочь определиться с тем, что можно в принципе сделать с пустыми значениями:"
      ]
    },
    {
      "cell_type": "markdown",
      "metadata": {
        "id": "XCmBUZ-7rgyA"
      },
      "source": [
        "![%D0%A1%D0%BD%D0%B8%D0%BC%D0%BE%D0%BA%20%D1%8D%D0%BA%D1%80%D0%B0%D0%BD%D0%B0%202020-06-09%20%D0%B2%202.56.06%20%D0%9F%D0%9F.png](attachment:%D0%A1%D0%BD%D0%B8%D0%BC%D0%BE%D0%BA%20%D1%8D%D0%BA%D1%80%D0%B0%D0%BD%D0%B0%202020-06-09%20%D0%B2%202.56.06%20%D0%9F%D0%9F.png)"
      ]
    },
    {
      "cell_type": "markdown",
      "metadata": {
        "id": "kWcTDZY6rgyB"
      },
      "source": [
        "***0.Удаляем ненужные колонки***"
      ]
    },
    {
      "cell_type": "code",
      "execution_count": null,
      "metadata": {
        "id": "AjpFqVbcrgyC"
      },
      "outputs": [],
      "source": [
        "df_numerical.drop(labels=[\"колонка1\",\"колонка2\"], axis=1, inplace=True)"
      ]
    },
    {
      "cell_type": "markdown",
      "metadata": {
        "id": "-NZhd8ClrgyC"
      },
      "source": [
        "***1.Количество пустых значений в этой колонке больше 50%?***"
      ]
    },
    {
      "cell_type": "code",
      "execution_count": null,
      "metadata": {
        "id": "BKwUCQ_XrgyD",
        "outputId": "febc737a-80e5-46a0-aea5-8eec2a50976a"
      },
      "outputs": [
        {
          "name": "stdout",
          "output_type": "stream",
          "text": [
            "id                                 0.000000\n",
            "host_id                            0.000000\n",
            "latitude                           0.000000\n",
            "longitude                          0.000000\n",
            "price                              0.000000\n",
            "minimum_nights                     0.000000\n",
            "number_of_reviews                  0.000000\n",
            "reviews_per_month                 20.558339\n",
            "calculated_host_listings_count     0.000000\n",
            "availability_365                   0.000000\n",
            "dtype: float64\n"
          ]
        }
      ],
      "source": [
        "print(df_numerical.isnull().sum() / df_numerical.shape[0] * 100)"
      ]
    },
    {
      "cell_type": "code",
      "execution_count": null,
      "metadata": {
        "id": "PNpWDV_ErgyE"
      },
      "outputs": [],
      "source": [
        "df_numerical.drop(labels=[\"колонка1\",\"колонка2\"], axis=1, inplace=True)#Удаляем, если какая-то колонка имеет больше 50 пустых значений"
      ]
    },
    {
      "cell_type": "markdown",
      "metadata": {
        "id": "L0rkuWe_rgyE"
      },
      "source": [
        "***2.Удаляем строчки с пустыми значениями***"
      ]
    },
    {
      "cell_type": "code",
      "execution_count": null,
      "metadata": {
        "id": "8FY3gfoSrgyH"
      },
      "outputs": [],
      "source": [
        "df_numerical.dropna(inplace=True)#Удаляем строчки с пустыми значениями, если потом останется достаточно данных для обучения"
      ]
    },
    {
      "cell_type": "markdown",
      "metadata": {
        "id": "Peteyn-YrgyH"
      },
      "source": [
        "***3.1.Вставляем случайное значение***"
      ]
    },
    {
      "cell_type": "code",
      "execution_count": null,
      "metadata": {
        "id": "fwEFL-fyrgyI"
      },
      "outputs": [],
      "source": [
        "import random #импортируем random\n",
        "df_numerical[\"колонка\"].fillna(lambda x: random.choice(df[df[column] != np.nan][\"колонка\"]), inplace=True) #вставляем рандомные значения в пустые клетки таблицы"
      ]
    },
    {
      "cell_type": "markdown",
      "metadata": {
        "id": "Q4P_brjprgyJ"
      },
      "source": [
        "***3.2. Вставляем константное значение***"
      ]
    },
    {
      "cell_type": "code",
      "execution_count": null,
      "metadata": {
        "id": "VOAD-sv2rgyK"
      },
      "outputs": [],
      "source": [
        "from sklearn.impute import SimpleImputer #импортируем SimpleImputer, который поможет вставить значения\n",
        "imputer = SimpleImputer(strategy='constant', fill_value=\"<Ваше значение здесь>\") #вставляем определенное значение с помощью SimpleImputer\n",
        "df_numerical[[\"новая_колонка1\",'новая_колонка2','новая_колонка3']] = imputer.fit_transform(df_numerical[['колонка1', 'колонка2', 'колонка3']]) #Применяем это для нашей таблицы\n",
        "df_numerical.drop(labels = [\"колонка1\",\"колонка2\",\"колонка3\"], axis = 1, inplace = True) #Убираем колонки со старыми значениями"
      ]
    },
    {
      "cell_type": "markdown",
      "metadata": {
        "id": "TPnc0p5urgyL"
      },
      "source": [
        "***3.3. Вставляем среднее или макисмально частое значение***"
      ]
    },
    {
      "cell_type": "code",
      "execution_count": null,
      "metadata": {
        "id": "ZQJBWSysrgyM"
      },
      "outputs": [],
      "source": [
        "from sklearn.impute import SimpleImputer #импортируем SimpleImputer, который поможет вставить значения\n",
        "imputer = SimpleImputer(strategy='mean', missing_values = np.nan) #вместо mean можно также использовать most_frequent\n",
        "df_numerical[[\"новая_колонка1\",'новая_колонка2','новая_колонка3']] = imputer.fit_transform(df_numerical[['колонка1', 'колонка2', 'колонка3']]) #Применяем это для нашей таблицы\n",
        "df_numerical.drop(labels = [\"колонка1\",\"колонка2\",\"колонка3\"], axis = 1, inplace = True) #Убираем колонки со старыми значениями"
      ]
    },
    {
      "cell_type": "markdown",
      "metadata": {
        "id": "1uR3awTPrgyM"
      },
      "source": [
        "***3.4. Вставляем значение, вычисленное другой моделью***"
      ]
    },
    {
      "cell_type": "markdown",
      "metadata": {
        "id": "i81flwaKrgyN"
      },
      "source": [
        "Порой значения можно вычислить с помощью регрессионных моделей, используя модели из библиоткеи sklearn или других похожих библиотек. В этой статье мы не будем рассматривать этот пример, поскольку это могло бы занять довольно много времени. Возможно, наша команда посвятит отдельную статью по тому, как это можно сделать в ближайшем будущем. "
      ]
    },
    {
      "cell_type": "markdown",
      "metadata": {
        "id": "7rhG2gmirgyN"
      },
      "source": [
        "Итак, пока повествование о количественных данных прервется, потому что есть множество других нюансов о том, как лучше делать data preparation и preprocessing для разных задач, и базовые вещи для количественных данных были учтены в этой статье, и сейчас самое время вернуться в качественным данным, которые мы отделили несколько шагов назад от количественных."
      ]
    },
    {
      "cell_type": "markdown",
      "metadata": {
        "id": "_5pd8ePnrgyO"
      },
      "source": [
        "***Качественные данные***"
      ]
    },
    {
      "cell_type": "markdown",
      "metadata": {
        "id": "4VmXWsdfrgyO"
      },
      "source": [
        "В основном для качественных данных используется метод One-hot-encoding, для того, чтобы отформатировать их из string (или object) в число. Перед тем как перейти к этому пункту, воспользуемся схемой и кодом сверху, для того, чтобы разобраться с пустыми значениями."
      ]
    },
    {
      "cell_type": "code",
      "execution_count": null,
      "metadata": {
        "id": "N1U_lIfwrgyP",
        "outputId": "1e3a4997-12bf-4d24-9e5f-6402625f13da"
      },
      "outputs": [
        {
          "data": {
            "text/plain": [
              "name                   47905\n",
              "host_name              11452\n",
              "neighbourhood_group        5\n",
              "neighbourhood            221\n",
              "room_type                  3\n",
              "last_review             1764\n",
              "dtype: int64"
            ]
          },
          "execution_count": 33,
          "metadata": {},
          "output_type": "execute_result"
        }
      ],
      "source": [
        "df_categorical.nunique()"
      ]
    },
    {
      "cell_type": "code",
      "execution_count": null,
      "metadata": {
        "id": "_k-yzWP6rgyS",
        "outputId": "2bcc0b72-e54f-4eaf-f084-85a607925bde"
      },
      "outputs": [
        {
          "data": {
            "text/plain": [
              "<matplotlib.axes._subplots.AxesSubplot at 0x123f87898>"
            ]
          },
          "execution_count": 35,
          "metadata": {},
          "output_type": "execute_result"
        },
        {
          "data": {
            "image/png": "[encoded data removed]",
            "text/plain": [
              "<Figure size 432x288 with 1 Axes>"
            ]
          },
          "metadata": {
            "needs_background": "light"
          },
          "output_type": "display_data"
        }
      ],
      "source": [
        "sns.heatmap(df_categorical.isnull(),yticklabels=False,cbar=False,cmap='viridis')"
      ]
    },
    {
      "cell_type": "markdown",
      "metadata": {
        "id": "nGUEqFglrgyU"
      },
      "source": [
        "***0.Удаляем ненужные колонки***"
      ]
    },
    {
      "cell_type": "code",
      "execution_count": null,
      "metadata": {
        "id": "IJs7g7eJrgyU"
      },
      "outputs": [],
      "source": [
        "df_categorical.drop(labels=[\"колонка1\",\"колонка2\"], axis=1, inplace=True)"
      ]
    },
    {
      "cell_type": "markdown",
      "metadata": {
        "id": "xpW-vAnJrgyW"
      },
      "source": [
        "***1.Количество пустых значений в этой колонке больше 50%?***"
      ]
    },
    {
      "cell_type": "code",
      "execution_count": null,
      "metadata": {
        "id": "euMvi4m1rgyY",
        "outputId": "0e55ff63-d680-4eed-b3e1-d80600f8ad14"
      },
      "outputs": [
        {
          "name": "stdout",
          "output_type": "stream",
          "text": [
            "name                    0.032723\n",
            "host_name               0.042949\n",
            "neighbourhood_group     0.000000\n",
            "neighbourhood           0.000000\n",
            "room_type               0.000000\n",
            "last_review            20.558339\n",
            "dtype: float64\n"
          ]
        }
      ],
      "source": [
        "print(df_categorical.isnull().sum() / df_numerical.shape[0] * 100)"
      ]
    },
    {
      "cell_type": "code",
      "execution_count": null,
      "metadata": {
        "id": "mCvj8G4ArgyZ"
      },
      "outputs": [],
      "source": [
        "df_categorical.drop(labels=[\"колонка1\",\"колонка2\"], axis=1, inplace=True) #Удаляем, если какая-то колонка \n",
        "                                                                          #имеет больше 50% пустых значений"
      ]
    },
    {
      "cell_type": "markdown",
      "metadata": {
        "id": "H31C7AkgrgyZ"
      },
      "source": [
        "***2.Удаляем строчки с пустыми значениями***"
      ]
    },
    {
      "cell_type": "code",
      "execution_count": null,
      "metadata": {
        "id": "4YZPJ3e3rgya"
      },
      "outputs": [],
      "source": [
        "df_categorical.dropna(inplace=True)#Удаляем строчки с пустыми значениями, \n",
        "                                   #если потом останется достаточно данных для обучения"
      ]
    },
    {
      "cell_type": "markdown",
      "metadata": {
        "id": "hmAT4fESrgyb"
      },
      "source": [
        "***3.1.Вставляем случайное значение***"
      ]
    },
    {
      "cell_type": "code",
      "execution_count": null,
      "metadata": {
        "id": "1I6XVnb6rgyb"
      },
      "outputs": [],
      "source": [
        "import random\n",
        "df_categorical[\"колонка\"].fillna(lambda x: random.choice(df[df[column] != np.nan][\"колонка\"]), inplace=True)"
      ]
    },
    {
      "cell_type": "markdown",
      "metadata": {
        "id": "Y-4SMbcirgyc"
      },
      "source": [
        "***3.2. Вставляем константное значение***"
      ]
    },
    {
      "cell_type": "code",
      "execution_count": null,
      "metadata": {
        "id": "-4lAkvHxrgyd"
      },
      "outputs": [],
      "source": [
        "from sklearn.impute import SimpleImputer\n",
        "imputer = SimpleImputer(strategy='constant', fill_value=\"<Ваше значение здесь>\")\n",
        "df_categorical[[\"новая_колонка1\",'новая_колонка2','новая_колонка3']] = imputer.fit_transform(df_categorical[['колонка1', 'колонка2', 'колонка3']])\n",
        "df_categorical.drop(labels = [\"колонка1\",\"колонка2\",\"колонка3\"], axis = 1, inplace = True)"
      ]
    },
    {
      "cell_type": "markdown",
      "metadata": {
        "id": "iT-9G6A8rgye"
      },
      "source": [
        "Итак, наконец мы разобрались с пустыми значениями в качественнных данных. \n",
        "Теперь время произвести one-hot-encoding для значений, которые есть в вашей базе данных:"
      ]
    },
    {
      "cell_type": "code",
      "execution_count": null,
      "metadata": {
        "id": "Pc1EYiWQrgye"
      },
      "outputs": [],
      "source": [
        "def encode_and_bind(original_dataframe, feature_to_encode):\n",
        "    dummies = pd.get_dummies(original_dataframe[[feature_to_encode]])\n",
        "    res = pd.concat([original_dataframe, dummies], axis=1)\n",
        "    res = res.drop([feature_to_encode], axis=1)\n",
        "    return(res)"
      ]
    },
    {
      "cell_type": "code",
      "execution_count": null,
      "metadata": {
        "id": "hno6ccAArgyf"
      },
      "outputs": [],
      "source": [
        "features_to_encode = [\"колонка1\",\"колонка2\",\"колонка3\"]\n",
        "for feature in features_to_encode:\n",
        "    df_categorical = encode_and_bind(df_categorical, feature)"
      ]
    },
    {
      "cell_type": "markdown",
      "metadata": {
        "id": "qtNHJWMxrgyg"
      },
      "source": [
        "***Итак, наконец мы закончили обрабатывать отдельно качественные и количественные данные - время совмещать датасеты***"
      ]
    },
    {
      "cell_type": "code",
      "execution_count": null,
      "metadata": {
        "id": "swGLSLSirgyg"
      },
      "outputs": [],
      "source": [
        "new_df = pd.concat([df_numerical,df_categorical], axis=1)"
      ]
    },
    {
      "cell_type": "markdown",
      "metadata": {
        "id": "3D3Oz8kHrgyh"
      },
      "source": [
        "После того, как мы соединили вместе датасеты в один, под конец мы можем использовать трансформацию данных с помощью MinMaxScaler из библиотки sklearn. Это сделает наши значения в пределах от 0 до 1, что поможет при обучении модели в будущем."
      ]
    },
    {
      "cell_type": "code",
      "execution_count": null,
      "metadata": {
        "id": "iHBFV3ccrgyi"
      },
      "outputs": [],
      "source": [
        "from sklearn.preprocessing import MinMaxScaler\n",
        "min_max_scaler = MinMaxScaler()\n",
        "new_df = min_max_scaler.fit_transform(new_df)"
      ]
    },
    {
      "cell_type": "markdown",
      "metadata": {
        "id": "TtZ5uwrargyi"
      },
      "source": [
        "В этой статье мы не учли работу с данными относящимся к временным рядам, так как для таких данных следует использовать немного иные техники их обработки, в зависимости от Вашей задачи. В будущем наша команда посвятит этой теме отдельную статью, и мы надеемся, что она сможет принести в Вашу жизнь что-то интересное, новое и полезное."
      ]
    },
    {
      "cell_type": "code",
      "execution_count": null,
      "metadata": {
        "id": "dbFM5X-9rgyj"
      },
      "outputs": [],
      "source": []
    }
  ],
  "metadata": {
    "kernelspec": {
      "display_name": "Python 3",
      "language": "python",
      "name": "python3"
    },
    "language_info": {
      "codemirror_mode": {
        "name": "ipython",
        "version": 3
      },
      "file_extension": ".py",
      "mimetype": "text/x-python",
      "name": "python",
      "nbconvert_exporter": "python",
      "pygments_lexer": "ipython3",
      "version": "3.6.8"
    },
    "colab": {
      "provenance": [],
      "include_colab_link": true
    }
  },
  "nbformat": 4,
  "nbformat_minor": 0
}