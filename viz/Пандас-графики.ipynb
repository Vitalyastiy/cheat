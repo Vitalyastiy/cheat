{
  "nbformat": 4,
  "nbformat_minor": 0,
  "metadata": {
    "colab": {
      "provenance": [],
      "authorship_tag": "ABX9TyMc8IBHLGVggZvdc/AQ4uDY",
      "include_colab_link": true
    },
    "kernelspec": {
      "name": "python3",
      "display_name": "Python 3"
    },
    "language_info": {
      "name": "python"
    }
  },
  "cells": [
    {
      "cell_type": "markdown",
      "metadata": {
        "id": "view-in-github",
        "colab_type": "text"
      },
      "source": [
        "<a href=\"https://colab.research.google.com/github/Vitalyastiy/cheat-python/blob/main/viz/%D0%9F%D0%B0%D0%BD%D0%B4%D0%B0%D1%81-%D0%B3%D1%80%D0%B0%D1%84%D0%B8%D0%BA%D0%B8.ipynb\" target=\"_parent\"><img src=\"https://colab.research.google.com/assets/colab-badge.svg\" alt=\"Open In Colab\"/></a>"
      ]
    },
    {
      "cell_type": "markdown",
      "source": [
        "https://pythonist.ru/kak-sozdavat-naglyadnye-grafiki-v-python-bystro-krasivo-i-ochen-krasivo/amp/"
      ],
      "metadata": {
        "id": "bQKlYn-GhLQE"
      }
    },
    {
      "cell_type": "code",
      "source": [
        "# загружаем данные\n",
        "import pandas as pd\n",
        "import plotly\n",
        "import numpy as np\n",
        "import seaborn as sns\n",
        "import plotly.express\n"
      ],
      "metadata": {
        "id": "FgbmRojhhKxk"
      },
      "execution_count": 6,
      "outputs": []
    },
    {
      "cell_type": "code",
      "source": [
        "data = pd.read_csv('https://raw.githubusercontent.com/FBosler/AdvancedPlotting/master/combined_set.csv')\n",
        "# присваиваем метки каждому году\n",
        "data['Mean Log GDP per capita']  = data.groupby('Year')['Log GDP per capita'].transform(\n",
        "    pd.qcut,\n",
        "    q=5,\n",
        "    labels=(['Lowest','Low','Medium','High','Highest'])\n",
        ")"
      ],
      "metadata": {
        "id": "zTN1JCYhhK3E"
      },
      "execution_count": 7,
      "outputs": []
    },
    {
      "cell_type": "code",
      "source": [
        "np.exp(data[data['Year']==2018]['Log GDP per capita']).plot( #значение 'Log GDP per capita' представляет логарифм натуральный от GDP per capita. Вычисление экспоненты от значения 'Log GDP per capita' приводит к восстановлению исходного значения GDP per capita, которое уже не будет находиться на логарифмической шкале. Таким образом, построение гистограммы распределения экспоненты значения 'Log GDP per capita' позволяет оценить распределение исходных значений GDP per capita.\n",
        "    kind='hist'\n",
        ")"
      ],
      "metadata": {
        "colab": {
          "base_uri": "https://localhost:8080/",
          "height": 447
        },
        "id": "W2Zev-eqhK5s",
        "outputId": "dc4afa34-2e25-471c-c643-1c6caab7a706"
      },
      "execution_count": 8,
      "outputs": [
        {
          "output_type": "execute_result",
          "data": {
            "text/plain": [
              "<Axes: ylabel='Frequency'>"
            ]
          },
          "metadata": {},
          "execution_count": 8
        },
        {
          "output_type": "display_data",
          "data": {
            "text/plain": [
              "<Figure size 640x480 with 1 Axes>"
            ],
            "image/png": "[encoded data removed]"
          },
          "metadata": {}
        }
      ]
    },
    {
      "cell_type": "markdown",
      "source": [
        "kind: Pandas должна знать, какого типа график вы хотите строить.\n",
        " Возможны следующие варианты: hist, bar, barh, scatter, area, kde, line, box, hexbin, pie.\n",
        "\n",
        "figsize: Позволяет переопределить значение размера, заданное по умолчанию (6 дюймов в ширину и 4 дюйма в высоту). Данный параметр принимает на вход кортеж, например figsize=(12,8), что я часто использую.\n",
        "\n",
        "title: Добавляет к графику заголовок. Как правило, я его использую, чтобы кратко описать, что происходит на графике, дабы потом это можно было быстро понять. Данный параметр принимает на вход строку.\n",
        "\n",
        "bins: Позволяет переопределить ширину областей гистограммы. Данный параметр принимает на вход список или подобную ему последовательность, например bins=np.arange(2,8,0.25).\n",
        "\n",
        "xlim/ylim: Позволяет переопределить максимальные и минимальные значения осей x и y. Оба параметра принимают на вход кортежи, например xlim=(0,5)."
      ],
      "metadata": {
        "id": "At151XiWjeCB"
      }
    },
    {
      "cell_type": "code",
      "source": [],
      "metadata": {
        "id": "r2-_sGb0hLBM"
      },
      "execution_count": null,
      "outputs": []
    }
  ]
}