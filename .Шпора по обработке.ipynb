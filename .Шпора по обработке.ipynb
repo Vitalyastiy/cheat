{
  "nbformat": 4,
  "nbformat_minor": 0,
  "metadata": {
    "colab": {
      "provenance": [],
      "authorship_tag": "ABX9TyPa6+1/7VVG6+V83rtdCMJk",
      "include_colab_link": true
    },
    "kernelspec": {
      "name": "python3",
      "display_name": "Python 3"
    },
    "language_info": {
      "name": "python"
    }
  },
  "cells": [
    {
      "cell_type": "markdown",
      "metadata": {
        "id": "view-in-github",
        "colab_type": "text"
      },
      "source": [
        "<a href=\"https://colab.research.google.com/github/Vitalyastiy/cheat/blob/main/.%D0%A8%D0%BF%D0%BE%D1%80%D0%B0%20%D0%BF%D0%BE%20%D0%BE%D0%B1%D1%80%D0%B0%D0%B1%D0%BE%D1%82%D0%BA%D0%B5.ipynb\" target=\"_parent\"><img src=\"https://colab.research.google.com/assets/colab-badge.svg\" alt=\"Open In Colab\"/></a>"
      ]
    },
    {
      "cell_type": "code",
      "source": [
        "import seaborn as sns\n",
        "df = sns.load_dataset(\"titanic\")"
      ],
      "metadata": {
        "id": "9rLcmvJS3PBk"
      },
      "execution_count": 4,
      "outputs": []
    },
    {
      "cell_type": "code",
      "source": [],
      "metadata": {
        "id": "nnXTNZyX4hbB",
        "outputId": "97fb3b02-1356-404f-b141-83e2e56b9c99",
        "colab": {
          "base_uri": "https://localhost:8080/"
        }
      },
      "execution_count": 5,
      "outputs": [
        {
          "output_type": "execute_result",
          "data": {
            "text/plain": [
              "object      5\n",
              "int64       4\n",
              "float64     2\n",
              "bool        2\n",
              "category    1\n",
              "category    1\n",
              "dtype: int64"
            ]
          },
          "metadata": {},
          "execution_count": 5
        }
      ]
    },
    {
      "cell_type": "markdown",
      "source": [
        "\n",
        "Импорт библиотек и загрузка и выгрузка данных во фрейм"
      ],
      "metadata": {
        "id": "j0HjzJ66Iu60"
      }
    },
    {
      "cell_type": "code",
      "source": [
        "from itertools import count\n",
        "from multiprocessing import cpu_count\n",
        "import pandas as pd\n",
        "\n",
        "data2 = pd.read_csv(r\"C:\\Users\\....Desktop\\nnn\\NN.csv\",  sep=',' , encoding='latin-1') #, index_col=0 - индекс \n",
        "data_copy[:10].to_csv('saved_ratings.csv', index=False) # экспортироватъ первые десятъ строк\n",
        "data_copy = data.copy(deep=True) #shallow - поверхностное копирование фрейма \n",
        "data1.to_csv('02-03_new.csv', header=True, index=False) # экспорт в csv\n",
        " \n",
        "pd.read_csv('file.csv', usecols=['A', 'B']) # - считать только нужные столбцы\n"
      ],
      "metadata": {
        "id": "zk_98fsmI5kE"
      },
      "execution_count": null,
      "outputs": []
    },
    {
      "cell_type": "markdown",
      "source": [
        "Регулирование количества столбцов или строк для отображения"
      ],
      "metadata": {
        "id": "UT7oRCq1wT4u"
      }
    },
    {
      "cell_type": "code",
      "source": [
        "pd.options.display.max_rows = 30 #Output\n",
        "pd.options.display.max_columns = 3 #Output\n",
        "pd.reset_option('display.max_rows') #Скинуть"
      ],
      "metadata": {
        "id": "90IuVmuLwUDm"
      },
      "execution_count": null,
      "outputs": []
    },
    {
      "cell_type": "markdown",
      "source": [
        "Переименовать данные\n"
      ],
      "metadata": {
        "id": "IzbY6puEJWrz"
      }
    },
    {
      "cell_type": "code",
      "source": [
        "data= data.rename(columns={\"gkgk\": \"colu\"}) # - переименоватъ столбец\n",
        "data.rename(columns=dict(sector_name='region', region='locale')) \n",
        "data.rename(index={0: 'firstEntry', 1: 'secondEntry'}) # переименовать индекс\n",
        "data.rename_axis('inde', axis='rows') # переименовать название \n"
      ],
      "metadata": {
        "id": "XPn9UTZ3JaXj"
      },
      "execution_count": null,
      "outputs": []
    },
    {
      "cell_type": "markdown",
      "source": [
        "Выборка\n"
      ],
      "metadata": {
        "id": "4hBj6zn2M2cd"
      }
    },
    {
      "cell_type": "code",
      "source": [
        "data.sample(5) # data.head(5) # data.tail(5)  # выбор выборки\n",
        "df.sample(frac = 0.00005) # доля выборки\n",
        "data.head(3) # - вывести первые 3 записи\n",
        "data.tail(1) # - вывести последнюю записъ\n",
        "data[1:4] # - срез. вывести топ значений фрейма "
      ],
      "metadata": {
        "id": "u-Moda0RMxyN"
      },
      "execution_count": null,
      "outputs": []
    },
    {
      "cell_type": "markdown",
      "source": [
        "EDA"
      ],
      "metadata": {
        "id": "cCVIuDX7NBZt"
      }
    },
    {
      "cell_type": "code",
      "source": [
        "data.columns.tolist() # - получитъ наименования столбцов списком\n",
        "df.dtypes.value_counts() # - получитъ распределение по типам данных\n",
        "data.pole.value_counts() # - подсчет количества уникалных значений\n",
        "len(data) # - вывести количество строк во фрейме \n",
        "len(data['pole'].unique()) # - количество уникалъных строк во фрейме \n",
        "data.info() # - получение сведений о фрейме \n",
        "data.describe # - статистическая информация о фрейме\n",
        "data2= data[['pole1', 'pole2']] # - создание нового фрейма из подмножества\n",
        "\n",
        "df[[‘c1’, ‘c2’]].isnull().sum(axis=1) # пропуски во фрейме"
      ],
      "metadata": {
        "id": "id5qUjEKND21"
      },
      "execution_count": null,
      "outputs": []
    },
    {
      "cell_type": "markdown",
      "source": [
        "Фильтрация & сотрировка"
      ],
      "metadata": {
        "id": "Y97MqjL5N0Hz"
      }
    },
    {
      "cell_type": "code",
      "source": [
        "## метод фильтрации квери\n",
        "region = 'Center'\n",
        "quat = '2022-01-01'\n",
        "df_tall_named_sec = df_cor.query('Region == @region & Quarter == @quat')\n",
        "df_tall_named_sec\n",
        "#########################################################################################\n",
        "data2.drop(['colu'], axis=1).head() # - удаление столбца из фрейма данных\n",
        "data2.append(data2.sum(axis=0), ignore_index=True) # - сумма по столбцу\n",
        "data[data['acell'].isin(['NN002998_I','NN002998_I'])] # -филътр\n",
        "data[data['acell'] == 'NN002998_I'] #(><) -филътр, для единственного значения\n",
        "data.sort_values('acell', ascending=True) # - сортировка фрейма \n",
        "data['sector_name'].fillna('NaN').value_counts().sort_values(ascending=False) # найти NaN\n",
        "df_filter = df ['ID']. isin (['A001', 'C022', ...])  # выбор строк с конкретными идентификаторами\n",
        "\n",
        "\n",
        "\n",
        "m_data = data[data['sector_name'].isnull()] # шаг 1. кол-во нулевых\n",
        "n_data = len(m_data) #  шаг 2. кол-во нулевых\n",
        "n_data = data.sector_name.isnull().sum() # v2 кол-во нулевых\n",
        "m_data = pd.isnull(data.sector_name).sum() # v3 кол-во нулевых\n"
      ],
      "metadata": {
        "id": "z4K_ZOytN2Z6"
      },
      "execution_count": null,
      "outputs": []
    },
    {
      "cell_type": "markdown",
      "source": [
        "Типы данных"
      ],
      "metadata": {
        "id": "BpKLQ1aAOPzg"
      }
    },
    {
      "cell_type": "code",
      "source": [
        "df['new_month'] = pd.to_datetime(df['new_month']).dt.date # - перевести в дату\n",
        "data['t2.ne_id'].astype('float') # - изменить тип данных"
      ],
      "metadata": {
        "id": "9vdfyRoZORlg"
      },
      "execution_count": null,
      "outputs": []
    },
    {
      "cell_type": "markdown",
      "source": [
        "Объединение"
      ],
      "metadata": {
        "id": "kgNAQP2Wfkm3"
      }
    },
    {
      "cell_type": "code",
      "source": [
        "pd.concat([A, B]) # по умолчанию axis = 0 \n",
        "pd.concat([A, B], axis=1) # левый к правой\n",
        "pd.concat([df1, df2], ignore_index=True)  #- union all\n",
        "pd.concat([X, Y]).drop_duplicates(keep=False) #- union\n",
        "\n",
        "pd.merge(left=df_a, left_on['A'], right=df_b, right_on=['B'], how='inner') #- merge\n",
        "sum_df = pd.merge(df1, df2, how='inner', left_on=['t1.region', 't1.acell'], right_on = ['Region','ACELL']) #- merge"
      ],
      "metadata": {
        "id": "cJULguArfnr2"
      },
      "execution_count": null,
      "outputs": []
    },
    {
      "cell_type": "markdown",
      "source": [
        "Агрегация"
      ],
      "metadata": {
        "id": "pWuIAP3ZX3_P"
      }
    },
    {
      "cell_type": "code",
      "source": [
        "df.groupby('team')['points']. unique () # - группировка и посчет уникальных значений для одного столбца\n",
        "df.groupby(['pole1'], as_index=False).agg({ \"pole2\": pd.Series.nunique, \"pole3\": \"count\"}) #-группировка и посчет уникальных значений\n",
        "data.groupby('pole1').count() //mean() // median() // size() # - группировка по полю для всего df \n",
        "data.groupby('pole1').pole2.mean() # группировка по одному полю \n",
        "data.groupby('t1.acell')['t2.ne_id'].max().sort_index() # присваиваем индекс аселу и выводим макимальное значение из не_ид, сортируем от меньшего \n",
        "\n",
        "\n",
        "\n",
        "data.groupby('report_date').report_date.size() #(count-разница?) вывести количество записей, аналог гроуп бай\n",
        "data_e = data.groupby(['t1.acell']).ne_id.agg([len, min, max]) # группировка с агрегацией и расчетом \n",
        "data_e.sort_values(by=['min', 'max'], ascending=True) # сортировка данных \n"
      ],
      "metadata": {
        "id": "UfXVohj3X6Hn"
      },
      "execution_count": null,
      "outputs": []
    },
    {
      "cell_type": "markdown",
      "source": [
        "Функции"
      ],
      "metadata": {
        "id": "cM5RAHo2sKh5"
      }
    },
    {
      "cell_type": "code",
      "source": [
        "df.apply(lambda row: (row['pole1'],  row['pole2']), axis=1) # построчное применение функции\n",
        "\n",
        "level_map = {1: ‘high’, 2: ‘medium’, 3: ‘low’} # преобразования данных\n",
        "df[‘c_level’] = df[‘c’].map(level_map) #\n",
        "\n"
      ],
      "metadata": {
        "id": "dZZC9mjTsJ5L"
      },
      "execution_count": null,
      "outputs": []
    },
    {
      "cell_type": "markdown",
      "source": [
        "Операции над значениями"
      ],
      "metadata": {
        "id": "cnCYhuytzgMv"
      }
    },
    {
      "cell_type": "code",
      "source": [
        "df['pole1'].round(2) # округлить \n",
        "df['pole1'].nunique() # посчитать уникальнных\n",
        "df1[\"pole2\"].cumsum() # накопительный итог\n"
      ],
      "metadata": {
        "id": "dBRI1Fn3zgZe"
      },
      "execution_count": null,
      "outputs": []
    },
    {
      "cell_type": "markdown",
      "source": [
        "Визуализация результатов"
      ],
      "metadata": {
        "id": "PVLqLl920BO8"
      }
    },
    {
      "cell_type": "code",
      "source": [
        "########## Пример1 ###########\n",
        "df_room = pd.DataFrame(df.groupby('room type')['number of reviews'].mean())\n",
        "df_room.reset_index(drop=False, inplace=True)\n",
        "display(df_room)\n",
        "df_room.plot(x='room type', y='number of reviews', kind='bar')\n",
        "##############################"
      ],
      "metadata": {
        "id": "nqGfOvB40Bb8"
      },
      "execution_count": null,
      "outputs": []
    },
    {
      "cell_type": "code",
      "execution_count": null,
      "metadata": {
        "id": "lYjoo6FZzUnL"
      },
      "outputs": [],
      "source": [
        "\n",
        "###################   Other...\n",
        "df = data.append(new_row, ignore_index=True) # добавляет элемент в конец списка\n",
        "df = data.drop(['t1.macroregion'], axis = 1) # удалить столбец\n",
        "df_copied = df.copy() # поверхностное и глубокое копирование \n",
        "df['vol_new'] = round(df['ut_driver']) # округлить до выделенного значения \n",
        "\n",
        "# Перебор строк во фрейме()\n",
        "for idx,row in df2[:1].iterrows():\n",
        "    print(idx, row)\n",
        "#%%\n",
        "\n",
        "data ['acell'].tolist() # - перевести в список стлбец\n",
        "data['colu'] = True # - добавитъ столбец во фрейм данных\n",
        "\n",
        "###кейс с фильтрацией:\n",
        "data['t1.region'].unique() #  вывести уникальные значения фрейма\n",
        "data = data.set_index('t1.region') # присвоить индекс\n",
        "data.drop(['RYAZAN', 'TVER'],axis = 0) # установить фильтрацию по столбцу и дропнуть эти данные во фрейме "
      ]
    },
    {
      "cell_type": "markdown",
      "source": [
        "loc iloc"
      ],
      "metadata": {
        "id": "Ssw6Wxx4ecFc"
      }
    },
    {
      "cell_type": "code",
      "source": [
        "data.iloc[:0]  # вывести шапку \n",
        "data.iloc[552] # вывод СПИСОК строки по номеру\n",
        "data.iloc[552] # вывод строки по индексу\n",
        "data.iloc[0:5] # вывести первые 5 значений, с 0 до 4  \n",
        "data.loc[0:5]  # вывести первые 6 значений, с 0 до 5\n",
        "\n",
        "data.recdate  #data['recdate'] #data.iloc[:,0]#  вывод столбца в формате списка\n",
        "data.iloc[2,1] # data.loc[2,'ACELL'] вывести 3 строку из 2-ого столбца \n",
        "data.iloc[:3,1] #data.iloc[0:3,1]#data.iloc[[0,1,2],1]  вывести количество строк из столбца\n",
        "data.iloc[-3:,1] #  вывести второе значение снизу, второго столбца\n",
        "data.iloc[:, 0:2] # вывести всю информацию по двум столбцам  \n",
        "data.iloc[3, [1, 2, 3]] # список третьей строки по первым 3м столбцам\n",
        "data.loc[1:5, 'ACELL': 'Region'] # вывод таблицы с первой по пятаю, 2 столбца \n",
        "\n",
        "data.iloc[[0]] # вывести первую строку\n",
        "data.loc[:,['recdate','ACELL','Region','flag']] # print all\n",
        "data.loc[data.flag.isin(['100', '50'])] # филътр несколъко условий\n",
        "data.loc[data.flag.isnull()] \n",
        "data.loc[data.flag.notnull()]  \n",
        "data[data['t2.ne_id'].isnull()] # вариация поиска нулевых значений\n",
        "\n",
        "############## Примеры фильтров выводом фрейма \n",
        "data.loc[data['ACELL'] == 'NN000231_A'] # вывести отфильтрованную таблицу\n",
        "data.loc[data.ACELL == 'NN000231_A'] # то же что и предыдущее\n",
        "data.loc[data.flag == '0'] # филътр на таблицу с выводом всего датафрейма \n",
        "\n",
        "data.loc[(data.flag == '0') & (data.recdate =='2022-02-28 23:00')] # склеенный фильтр на таблицу\n",
        "data.loc[(data['ACELL'] == 'NN000231_A' ) & (data['recdate'] == '2022-02-20 16:00')\\\n",
        "    , 'recdate':'flag'] # пример склеенного фильтра\n",
        "\n",
        "###### replace ###### \n",
        "data.loc[data['ACELL'] == 'NN000231_A'] = 'BIG'\n",
        "data.loc[data['ACELL'] == 'NN000231_A', 'ACELL':'Mean_flag_integrity 4G (%)'].head() # пример реплэйса с фильтром и выводом"
      ],
      "metadata": {
        "id": "LJPO2X0Sej8E"
      },
      "execution_count": null,
      "outputs": []
    }
  ]
}