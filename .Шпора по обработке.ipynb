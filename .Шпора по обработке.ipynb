{
  "nbformat": 4,
  "nbformat_minor": 0,
  "metadata": {
    "colab": {
      "provenance": [],
      "authorship_tag": "ABX9TyMixKq2+p+0zWURVKhcGAOl",
      "include_colab_link": true
    },
    "kernelspec": {
      "name": "python3",
      "display_name": "Python 3"
    },
    "language_info": {
      "name": "python"
    }
  },
  "cells": [
    {
      "cell_type": "markdown",
      "metadata": {
        "id": "view-in-github",
        "colab_type": "text"
      },
      "source": [
        "<a href=\"https://colab.research.google.com/github/Vitalyastiy/cheat/blob/main/.%D0%A8%D0%BF%D0%BE%D1%80%D0%B0%20%D0%BF%D0%BE%20%D0%BE%D0%B1%D1%80%D0%B0%D0%B1%D0%BE%D1%82%D0%BA%D0%B5.ipynb\" target=\"_parent\"><img src=\"https://colab.research.google.com/assets/colab-badge.svg\" alt=\"Open In Colab\"/></a>"
      ]
    },
    {
      "cell_type": "code",
      "source": [
        "import seaborn as sns\n",
        "df = sns.load_dataset(\"titanic\")"
      ],
      "metadata": {
        "id": "9rLcmvJS3PBk"
      },
      "execution_count": 21,
      "outputs": []
    },
    {
      "cell_type": "markdown",
      "source": [
        "\n",
        "Импорт библиотек и загрузка и выгрузка данных во фрейм"
      ],
      "metadata": {
        "id": "j0HjzJ66Iu60"
      }
    },
    {
      "cell_type": "code",
      "source": [
        "from itertools import count\n",
        "from multiprocessing import cpu_count\n",
        "import pandas as pd\n",
        "\n",
        "data2 = pd.read_csv(r\"C:\\Users\\....Desktop\\nnn\\NN.csv\",  sep=',' , encoding='latin-1') #, index_col=0 - индекс \n",
        "data_copy[:10].to_csv('saved_ratings.csv', index=False) # экспортироватъ первые десятъ строк\n",
        "data_copy = data.copy(deep=True) #shallow - поверхностное копирование фрейма \n",
        "data.to_csv('02-03_new.csv', header=True, index=False) # экспорт в csv\n",
        " \n",
        "pd.read_csv('file.csv', usecols=['A', 'B']) # - считать только нужные столбцы\n"
      ],
      "metadata": {
        "id": "zk_98fsmI5kE"
      },
      "execution_count": null,
      "outputs": []
    },
    {
      "cell_type": "markdown",
      "source": [
        "Регулирование количества столбцов или строк для отображения"
      ],
      "metadata": {
        "id": "UT7oRCq1wT4u"
      }
    },
    {
      "cell_type": "code",
      "source": [
        "pd.options.display.max_rows = 30 #Output\n",
        "pd.options.display.max_columns = 3 #Output\n",
        "pd.reset_option('display.max_rows') #Скинуть"
      ],
      "metadata": {
        "id": "90IuVmuLwUDm"
      },
      "execution_count": null,
      "outputs": []
    },
    {
      "cell_type": "markdown",
      "source": [
        "Подготовка выборки\n"
      ],
      "metadata": {
        "id": "IzbY6puEJWrz"
      }
    },
    {
      "cell_type": "code",
      "source": [
        "data= data.rename(columns={\"gkgk\": \"colu\"}) # - переименоватъ столбец\n",
        "data.rename(columns=dict(sector_name='region', region='locale')) \n",
        "data.rename(index={0: 'firstEntry', 1: 'secondEntry'}) # переименовать индекс\n",
        "data.rename_axis('inde', axis='rows') # переименовать название \n",
        "\n",
        "data.sample(5) # data.head(5) # data.tail(5)  # выбор выборки\n",
        "df.sample(frac = 0.00005) # доля выборки\n",
        "data.head(3) # - вывести первые 3 записи\n",
        "data.tail(1) # - вывести последнюю записъ\n",
        "data[1:4] # - срез. вывести топ значений фрейма \n",
        "\n",
        "df.drop_duplicates (subset=['team', 'points']) # удалить дубли в определенных столбцах -- df.drop_duplicates (keep= False ) для полной очистки от дублей"
      ],
      "metadata": {
        "id": "XPn9UTZ3JaXj"
      },
      "execution_count": null,
      "outputs": []
    },
    {
      "cell_type": "code",
      "source": [
        "df.nlargest(5, 'fare')"
      ],
      "metadata": {
        "colab": {
          "base_uri": "https://localhost:8080/",
          "height": 206
        },
        "id": "e3FvXvdhJZkn",
        "outputId": "f4242959-b03a-4314-9b46-6c8ab9095408"
      },
      "execution_count": 29,
      "outputs": [
        {
          "output_type": "execute_result",
          "data": {
            "text/plain": [
              "     survived  pclass     sex   age  sibsp  parch      fare embarked  class  \\\n",
              "258         1       1  female  35.0      0      0  512.3292        C  First   \n",
              "679         1       1    male  36.0      0      1  512.3292        C  First   \n",
              "737         1       1    male  35.0      0      0  512.3292        C  First   \n",
              "27          0       1    male  19.0      3      2  263.0000        S  First   \n",
              "88          1       1  female  23.0      3      2  263.0000        S  First   \n",
              "\n",
              "       who  adult_male deck  embark_town alive  alone  \n",
              "258  woman       False  NaN    Cherbourg   yes   True  \n",
              "679    man        True    B    Cherbourg   yes  False  \n",
              "737    man        True    B    Cherbourg   yes   True  \n",
              "27     man        True    C  Southampton    no  False  \n",
              "88   woman       False    C  Southampton   yes  False  "
            ],
            "text/html": [
              "\n",
              "  <div id=\"df-f305c1a2-c38d-49bd-96f2-253cae9060ea\">\n",
              "    <div class=\"colab-df-container\">\n",
              "      <div>\n",
              "<style scoped>\n",
              "    .dataframe tbody tr th:only-of-type {\n",
              "        vertical-align: middle;\n",
              "    }\n",
              "\n",
              "    .dataframe tbody tr th {\n",
              "        vertical-align: top;\n",
              "    }\n",
              "\n",
              "    .dataframe thead th {\n",
              "        text-align: right;\n",
              "    }\n",
              "</style>\n",
              "<table border=\"1\" class=\"dataframe\">\n",
              "  <thead>\n",
              "    <tr style=\"text-align: right;\">\n",
              "      <th></th>\n",
              "      <th>survived</th>\n",
              "      <th>pclass</th>\n",
              "      <th>sex</th>\n",
              "      <th>age</th>\n",
              "      <th>sibsp</th>\n",
              "      <th>parch</th>\n",
              "      <th>fare</th>\n",
              "      <th>embarked</th>\n",
              "      <th>class</th>\n",
              "      <th>who</th>\n",
              "      <th>adult_male</th>\n",
              "      <th>deck</th>\n",
              "      <th>embark_town</th>\n",
              "      <th>alive</th>\n",
              "      <th>alone</th>\n",
              "    </tr>\n",
              "  </thead>\n",
              "  <tbody>\n",
              "    <tr>\n",
              "      <th>258</th>\n",
              "      <td>1</td>\n",
              "      <td>1</td>\n",
              "      <td>female</td>\n",
              "      <td>35.0</td>\n",
              "      <td>0</td>\n",
              "      <td>0</td>\n",
              "      <td>512.3292</td>\n",
              "      <td>C</td>\n",
              "      <td>First</td>\n",
              "      <td>woman</td>\n",
              "      <td>False</td>\n",
              "      <td>NaN</td>\n",
              "      <td>Cherbourg</td>\n",
              "      <td>yes</td>\n",
              "      <td>True</td>\n",
              "    </tr>\n",
              "    <tr>\n",
              "      <th>679</th>\n",
              "      <td>1</td>\n",
              "      <td>1</td>\n",
              "      <td>male</td>\n",
              "      <td>36.0</td>\n",
              "      <td>0</td>\n",
              "      <td>1</td>\n",
              "      <td>512.3292</td>\n",
              "      <td>C</td>\n",
              "      <td>First</td>\n",
              "      <td>man</td>\n",
              "      <td>True</td>\n",
              "      <td>B</td>\n",
              "      <td>Cherbourg</td>\n",
              "      <td>yes</td>\n",
              "      <td>False</td>\n",
              "    </tr>\n",
              "    <tr>\n",
              "      <th>737</th>\n",
              "      <td>1</td>\n",
              "      <td>1</td>\n",
              "      <td>male</td>\n",
              "      <td>35.0</td>\n",
              "      <td>0</td>\n",
              "      <td>0</td>\n",
              "      <td>512.3292</td>\n",
              "      <td>C</td>\n",
              "      <td>First</td>\n",
              "      <td>man</td>\n",
              "      <td>True</td>\n",
              "      <td>B</td>\n",
              "      <td>Cherbourg</td>\n",
              "      <td>yes</td>\n",
              "      <td>True</td>\n",
              "    </tr>\n",
              "    <tr>\n",
              "      <th>27</th>\n",
              "      <td>0</td>\n",
              "      <td>1</td>\n",
              "      <td>male</td>\n",
              "      <td>19.0</td>\n",
              "      <td>3</td>\n",
              "      <td>2</td>\n",
              "      <td>263.0000</td>\n",
              "      <td>S</td>\n",
              "      <td>First</td>\n",
              "      <td>man</td>\n",
              "      <td>True</td>\n",
              "      <td>C</td>\n",
              "      <td>Southampton</td>\n",
              "      <td>no</td>\n",
              "      <td>False</td>\n",
              "    </tr>\n",
              "    <tr>\n",
              "      <th>88</th>\n",
              "      <td>1</td>\n",
              "      <td>1</td>\n",
              "      <td>female</td>\n",
              "      <td>23.0</td>\n",
              "      <td>3</td>\n",
              "      <td>2</td>\n",
              "      <td>263.0000</td>\n",
              "      <td>S</td>\n",
              "      <td>First</td>\n",
              "      <td>woman</td>\n",
              "      <td>False</td>\n",
              "      <td>C</td>\n",
              "      <td>Southampton</td>\n",
              "      <td>yes</td>\n",
              "      <td>False</td>\n",
              "    </tr>\n",
              "  </tbody>\n",
              "</table>\n",
              "</div>\n",
              "      <button class=\"colab-df-convert\" onclick=\"convertToInteractive('df-f305c1a2-c38d-49bd-96f2-253cae9060ea')\"\n",
              "              title=\"Convert this dataframe to an interactive table.\"\n",
              "              style=\"display:none;\">\n",
              "        \n",
              "  <svg xmlns=\"http://www.w3.org/2000/svg\" height=\"24px\"viewBox=\"0 0 24 24\"\n",
              "       width=\"24px\">\n",
              "    <path d=\"M0 0h24v24H0V0z\" fill=\"none\"/>\n",
              "    <path d=\"M18.56 5.44l.94 2.06.94-2.06 2.06-.94-2.06-.94-.94-2.06-.94 2.06-2.06.94zm-11 1L8.5 8.5l.94-2.06 2.06-.94-2.06-.94L8.5 2.5l-.94 2.06-2.06.94zm10 10l.94 2.06.94-2.06 2.06-.94-2.06-.94-.94-2.06-.94 2.06-2.06.94z\"/><path d=\"M17.41 7.96l-1.37-1.37c-.4-.4-.92-.59-1.43-.59-.52 0-1.04.2-1.43.59L10.3 9.45l-7.72 7.72c-.78.78-.78 2.05 0 2.83L4 21.41c.39.39.9.59 1.41.59.51 0 1.02-.2 1.41-.59l7.78-7.78 2.81-2.81c.8-.78.8-2.07 0-2.86zM5.41 20L4 18.59l7.72-7.72 1.47 1.35L5.41 20z\"/>\n",
              "  </svg>\n",
              "      </button>\n",
              "      \n",
              "  <style>\n",
              "    .colab-df-container {\n",
              "      display:flex;\n",
              "      flex-wrap:wrap;\n",
              "      gap: 12px;\n",
              "    }\n",
              "\n",
              "    .colab-df-convert {\n",
              "      background-color: #E8F0FE;\n",
              "      border: none;\n",
              "      border-radius: 50%;\n",
              "      cursor: pointer;\n",
              "      display: none;\n",
              "      fill: #1967D2;\n",
              "      height: 32px;\n",
              "      padding: 0 0 0 0;\n",
              "      width: 32px;\n",
              "    }\n",
              "\n",
              "    .colab-df-convert:hover {\n",
              "      background-color: #E2EBFA;\n",
              "      box-shadow: 0px 1px 2px rgba(60, 64, 67, 0.3), 0px 1px 3px 1px rgba(60, 64, 67, 0.15);\n",
              "      fill: #174EA6;\n",
              "    }\n",
              "\n",
              "    [theme=dark] .colab-df-convert {\n",
              "      background-color: #3B4455;\n",
              "      fill: #D2E3FC;\n",
              "    }\n",
              "\n",
              "    [theme=dark] .colab-df-convert:hover {\n",
              "      background-color: #434B5C;\n",
              "      box-shadow: 0px 1px 3px 1px rgba(0, 0, 0, 0.15);\n",
              "      filter: drop-shadow(0px 1px 2px rgba(0, 0, 0, 0.3));\n",
              "      fill: #FFFFFF;\n",
              "    }\n",
              "  </style>\n",
              "\n",
              "      <script>\n",
              "        const buttonEl =\n",
              "          document.querySelector('#df-f305c1a2-c38d-49bd-96f2-253cae9060ea button.colab-df-convert');\n",
              "        buttonEl.style.display =\n",
              "          google.colab.kernel.accessAllowed ? 'block' : 'none';\n",
              "\n",
              "        async function convertToInteractive(key) {\n",
              "          const element = document.querySelector('#df-f305c1a2-c38d-49bd-96f2-253cae9060ea');\n",
              "          const dataTable =\n",
              "            await google.colab.kernel.invokeFunction('convertToInteractive',\n",
              "                                                     [key], {});\n",
              "          if (!dataTable) return;\n",
              "\n",
              "          const docLinkHtml = 'Like what you see? Visit the ' +\n",
              "            '<a target=\"_blank\" href=https://colab.research.google.com/notebooks/data_table.ipynb>data table notebook</a>'\n",
              "            + ' to learn more about interactive tables.';\n",
              "          element.innerHTML = '';\n",
              "          dataTable['output_type'] = 'display_data';\n",
              "          await google.colab.output.renderOutput(dataTable, element);\n",
              "          const docLink = document.createElement('div');\n",
              "          docLink.innerHTML = docLinkHtml;\n",
              "          element.appendChild(docLink);\n",
              "        }\n",
              "      </script>\n",
              "    </div>\n",
              "  </div>\n",
              "  "
            ]
          },
          "metadata": {},
          "execution_count": 29
        }
      ]
    },
    {
      "cell_type": "markdown",
      "source": [
        "EDA"
      ],
      "metadata": {
        "id": "cCVIuDX7NBZt"
      }
    },
    {
      "cell_type": "code",
      "source": [
        "data.head()/.tail() # - первые/последние строки\n",
        "data.info() # - получение сведений о фрейме \n",
        "data.dtypes # типы данных столбцов\n",
        "data.describe # - статистическая информация о фрейме\n",
        "data.pole.value_counts() # - подсчет количества уникалных значений\n",
        "len(data) # - вывести количество строк во фрейме \n",
        "data.shape/size # - размерность фрейма\n",
        "df.dtypes.value_counts() # - получитъ распределение по типам данных\n",
        "data.isnull().mean() # пропуски во фрейме /df.notnull().mean() - противоположная функция / data.isna().mean() - тоже самое, что isnull\n",
        "len(data['pole'].unique()) # - количество уникалъных строк во фрейме \n",
        "data['pole'].unique() # вывод всех уникальных значений\n",
        "data.nunique() #  - количество уникальных записей по столбцам или строкам\n",
        "data.dropna() # - очистить данные таблицу от наловых значений \n",
        "data.columns.tolist() # - получитъ наименования столбцов списком\n",
        "data.nlargest(5, 'pole') #- вернет наибольшее число и Nsmallest() - вернет наименьшее,  nsmallest() и nlargest() - противоположные\n",
        "\n",
        "\n",
        "data2= data[['pole1', 'pole2']] # - создание нового фрейма из подмножества\n",
        "df.insert(loc=0'''(позиция)''', column='id', value=new_column) #- вставить столбец в определенное место\n",
        "replace = data.replace(to_replace = 0 , value -9999) # - заменить значения во фрейме\n",
        "data.rename({'Pole_old':'Pole_new'}, axis = 1 )\n",
        "data_filled = data.fillna(0) # - замена всех наловых значений на 0\n",
        "data.drop(columns = ['pole1', 'pole2']) # - удлить столбцы\n",
        "data.drop_duplicates(keep = 'first') # - удалить дубликаты\n",
        "\n",
        "\n"
      ],
      "metadata": {
        "id": "id5qUjEKND21"
      },
      "execution_count": null,
      "outputs": []
    },
    {
      "cell_type": "markdown",
      "source": [
        "Фильтрация & сотрировка"
      ],
      "metadata": {
        "id": "Y97MqjL5N0Hz"
      }
    },
    {
      "cell_type": "code",
      "source": [
        "df['поле'].isin(['F']) # вернет тру/фолс \n",
        "data['pole1'].where(data['pole1']>=25) # проверка структуры данных\n",
        "\n",
        "## метод фильтрации квери\n",
        "region = 'Center'\n",
        "quat = '2022-01-01'\n",
        "df_tall_named_sec = df_cor.query('Region == @region & Quarter == @quat')\n",
        "df_tall_named_sec\n",
        "#########################################################################################\n",
        "\n",
        "data2.drop(['colu'], axis=1).head() # - удаление столбца из фрейма данных\n",
        "data2.append(data2.sum(axis=0), ignore_index=True) # - сумма по столбцу\n",
        "data[data['acell'].isin(['NN002998_I','NN002998_I'])] # -филътр\n",
        "data[data['acell'] == 'NN002998_I'] #(><) -филътр, для единственного значения\n",
        "\n",
        "data.sort_values('acell', ascending=True) # - сортировка фрейма \n",
        "df.pole.sort_values(ascending = False) # - второй вариант\n",
        "\n",
        "data['sector_name'].fillna('NaN').value_counts().sort_values(ascending=False) # найти NaN\n",
        "df_filter = df ['ID']. isin (['A001', 'C022', ...])  # выбор строк с конкретными идентификаторами\n",
        "\n",
        "\n",
        "\n",
        "m_data = data[data['sector_name'].isnull()] # шаг 1. кол-во нулевых\n",
        "n_data = len(m_data) #  шаг 2. кол-во нулевых\n",
        "n_data = data.sector_name.isnull().sum() # v2 кол-во нулевых\n",
        "m_data = pd.isnull(data.sector_name).sum() # v3 кол-во нулевых\n"
      ],
      "metadata": {
        "id": "z4K_ZOytN2Z6"
      },
      "execution_count": null,
      "outputs": []
    },
    {
      "cell_type": "markdown",
      "source": [
        "Типы данных"
      ],
      "metadata": {
        "id": "BpKLQ1aAOPzg"
      }
    },
    {
      "cell_type": "code",
      "source": [
        "df['new_month'] = pd.to_datetime(df['new_month']).dt.date # - перевести в дату\n",
        "data['t2.ne_id'].astype('float') # - изменить тип данных"
      ],
      "metadata": {
        "id": "9vdfyRoZORlg"
      },
      "execution_count": null,
      "outputs": []
    },
    {
      "cell_type": "markdown",
      "source": [
        "Объединение"
      ],
      "metadata": {
        "id": "kgNAQP2Wfkm3"
      }
    },
    {
      "cell_type": "code",
      "source": [
        "pd.concat([A, B]) # по умолчанию axis = 0 \n",
        "pd.concat([A, B], axis=1) # левый к правой\n",
        "pd.concat([df1, df2], ignore_index=True)  #- union all\n",
        "pd.concat([X, Y]).drop_duplicates(keep=False) #- union\n",
        "\n",
        "pd.merge(left=df_a, left_on['A'], right=df_b, right_on=['B'], how='inner') #- merge\n",
        "sum_df = pd.merge(df1, df2, how='inner', left_on=['t1.region', 't1.acell'], right_on = ['Region','ACELL']) #- merge"
      ],
      "metadata": {
        "id": "cJULguArfnr2"
      },
      "execution_count": null,
      "outputs": []
    },
    {
      "cell_type": "markdown",
      "source": [
        "Агрегация"
      ],
      "metadata": {
        "id": "pWuIAP3ZX3_P"
      }
    },
    {
      "cell_type": "code",
      "source": [
        "df.groupby('team')['points']. unique () # - группировка и посчет уникальных значений для одного столбца\n",
        "df.groupby(['pole1'], as_index=False).agg({ \"pole2\": pd.Series.nunique, \"pole3\": \"count\"}) #-группировка и посчет уникальных значений\n",
        "data.groupby('pole1').count() //mean() // median() // size() # - группировка по полю для всего df \n",
        "data.groupby('pole1').pole2.mean() # группировка по одному полю \n",
        "data.groupby('t1.acell')['t2.ne_id'].max().sort_index() # присваиваем индекс аселу и выводим макимальное значение из не_ид, сортируем от меньшего \n",
        "\n",
        "\n",
        "\n",
        "data.groupby('report_date').report_date.size() #(count-разница?) вывести количество записей, аналог гроуп бай\n",
        "data_e = data.groupby(['t1.acell']).ne_id.agg([len, min, max]) # группировка с агрегацией и расчетом \n",
        "data_e.sort_values(by=['min', 'max'], ascending=True) # сортировка данных \n"
      ],
      "metadata": {
        "id": "UfXVohj3X6Hn"
      },
      "execution_count": null,
      "outputs": []
    },
    {
      "cell_type": "markdown",
      "source": [
        "Функции"
      ],
      "metadata": {
        "id": "cM5RAHo2sKh5"
      }
    },
    {
      "cell_type": "code",
      "source": [
        "df.apply(lambda row: (row['pole1'],  row['pole2']), axis=1) # построчное применение функции\n",
        "\n",
        "level_map = {1: ‘high’, 2: ‘medium’, 3: ‘low’} # преобразования данных\n",
        "df[‘c_level’] = df[‘c’].map(level_map) #\n",
        "\n"
      ],
      "metadata": {
        "id": "dZZC9mjTsJ5L"
      },
      "execution_count": null,
      "outputs": []
    },
    {
      "cell_type": "markdown",
      "source": [
        "Операции над значениями"
      ],
      "metadata": {
        "id": "cnCYhuytzgMv"
      }
    },
    {
      "cell_type": "code",
      "source": [
        "df['pole1'].round(2) # округлить \n",
        "df['pole1'].nunique() # посчитать уникальнных\n",
        "df1[\"pole2\"].cumsum() # накопительный итог\n"
      ],
      "metadata": {
        "id": "dBRI1Fn3zgZe"
      },
      "execution_count": null,
      "outputs": []
    },
    {
      "cell_type": "markdown",
      "source": [
        "Визуализация результатов"
      ],
      "metadata": {
        "id": "PVLqLl920BO8"
      }
    },
    {
      "cell_type": "code",
      "source": [
        "########## Пример1 ###########\n",
        "df_room = pd.DataFrame(df.groupby('room type')['number of reviews'].mean())\n",
        "df_room.reset_index(drop=False, inplace=True)\n",
        "display(df_room)\n",
        "df_room.plot(x='room type', y='number of reviews', kind='bar')\n",
        "##############################"
      ],
      "metadata": {
        "id": "nqGfOvB40Bb8"
      },
      "execution_count": null,
      "outputs": []
    },
    {
      "cell_type": "code",
      "execution_count": null,
      "metadata": {
        "id": "lYjoo6FZzUnL"
      },
      "outputs": [],
      "source": [
        "\n",
        "###################   Other...\n",
        "df = data.append(new_row, ignore_index=True) # добавляет элемент в конец списка\n",
        "df = data.drop(['t1.macroregion'], axis = 1) # удалить столбец\n",
        "df_copied = df.copy() # поверхностное и глубокое копирование \n",
        "df['vol_new'] = round(df['ut_driver']) # округлить до выделенного значения \n",
        "\n",
        "# Перебор строк во фрейме()\n",
        "for idx,row in df2[:1].iterrows():\n",
        "    print(idx, row)\n",
        "#%%\n",
        "\n",
        "data ['acell'].tolist() # - перевести в список стлбец\n",
        "data['colu'] = True # - добавитъ столбец во фрейм данных\n",
        "\n",
        "###кейс с фильтрацией:\n",
        "data['t1.region'].unique() #  вывести уникальные значения фрейма\n",
        "data = data.set_index('t1.region') # присвоить индекс\n",
        "data.drop(['RYAZAN', 'TVER'],axis = 0) # установить фильтрацию по столбцу и дропнуть эти данные во фрейме "
      ]
    },
    {
      "cell_type": "markdown",
      "source": [
        "loc iloc"
      ],
      "metadata": {
        "id": "Ssw6Wxx4ecFc"
      }
    },
    {
      "cell_type": "code",
      "source": [
        "data.iloc[:0]  # вывести шапку \n",
        "data.iloc[552] # вывод СПИСОК строки по номеру\n",
        "data.iloc[552] # вывод строки по индексу\n",
        "data.iloc[0:5] # вывести первые 5 значений, с 0 до 4  \n",
        "data.loc[0:5]  # вывести первые 6 значений, с 0 до 5\n",
        "\n",
        "data.recdate  #data['recdate'] #data.iloc[:,0]#  вывод столбца в формате списка\n",
        "data.iloc[2,1] # data.loc[2,'ACELL'] вывести 3 строку из 2-ого столбца \n",
        "data.iloc[:3,1] #data.iloc[0:3,1]#data.iloc[[0,1,2],1]  вывести количество строк из столбца\n",
        "data.iloc[-3:,1] #  вывести второе значение снизу, второго столбца\n",
        "data.iloc[:, 0:2] # вывести всю информацию по двум столбцам  \n",
        "data.iloc[3, [1, 2, 3]] # список третьей строки по первым 3м столбцам\n",
        "data.loc[1:5, 'ACELL': 'Region'] # вывод таблицы с первой по пятаю, 2 столбца \n",
        "\n",
        "data.iloc[[0]] # вывести первую строку\n",
        "data.loc[:,['recdate','ACELL','Region','flag']] # print all\n",
        "data.loc[data.flag.isin(['100', '50'])] # филътр несколъко условий\n",
        "data.loc[data.flag.isnull()] \n",
        "data.loc[data.flag.notnull()]  \n",
        "data[data['t2.ne_id'].isnull()] # вариация поиска нулевых значений\n",
        "\n",
        "############## Примеры фильтров выводом фрейма \n",
        "data.loc[data['ACELL'] == 'NN000231_A'] # вывести отфильтрованную таблицу\n",
        "data.loc[data.ACELL == 'NN000231_A'] # то же что и предыдущее\n",
        "data.loc[data.flag == '0'] # филътр на таблицу с выводом всего датафрейма \n",
        "\n",
        "data.loc[(data.flag == '0') & (data.recdate =='2022-02-28 23:00')] # склеенный фильтр на таблицу\n",
        "data.loc[(data['ACELL'] == 'NN000231_A' ) & (data['recdate'] == '2022-02-20 16:00')\\\n",
        "    , 'recdate':'flag'] # пример склеенного фильтра\n",
        "\n",
        "###### replace ###### \n",
        "data.loc[data['ACELL'] == 'NN000231_A'] = 'BIG'\n",
        "data.loc[data['ACELL'] == 'NN000231_A', 'ACELL':'Mean_flag_integrity 4G (%)'].head() # пример реплэйса с фильтром и выводом"
      ],
      "metadata": {
        "id": "LJPO2X0Sej8E"
      },
      "execution_count": null,
      "outputs": []
    }
  ]
}