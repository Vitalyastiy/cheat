{
  "cells": [
    {
      "cell_type": "markdown",
      "metadata": {
        "id": "view-in-github",
        "colab_type": "text"
      },
      "source": [
        "<a href=\"https://colab.research.google.com/github/Vitalyastiy/cheat/blob/main/Scikit-learn_Basics.ipynb\" target=\"_parent\"><img src=\"https://colab.research.google.com/assets/colab-badge.svg\" alt=\"Open In Colab\"/></a>"
      ]
    },
    {
      "cell_type": "markdown",
      "id": "2ab662a6",
      "metadata": {
        "id": "2ab662a6"
      },
      "source": [
        "# Основы Scikit-learn (PyLounge)\n",
        "\n"
      ]
    },
    {
      "cell_type": "markdown",
      "id": "d492a134",
      "metadata": {
        "id": "d492a134"
      },
      "source": [
        "![image-3.png](attachment:image-3.png)"
      ]
    },
    {
      "cell_type": "markdown",
      "id": "dad107d9",
      "metadata": {
        "id": "dad107d9"
      },
      "source": [
        "## Введение"
      ]
    },
    {
      "cell_type": "markdown",
      "id": "b0447105",
      "metadata": {
        "id": "b0447105"
      },
      "source": [
        "**Scikit-learn** - это библиотека языка Python для решения задач _Data Science_ и _Machine Learning_. Включает в себя различные **алгоритмы классического машинного обучения**, **функции обработки (подготовки) данных** (стандартизация, нормализация, бинаризация, векторизация, преобразования), а также **методы для работы с моделями** (кросс-валидация, подбор гиперпараметров, метрики оценки качества).\n",
        "\n",
        "_Официальная документация:_ https://scikit-learn.org/stable/"
      ]
    },
    {
      "cell_type": "markdown",
      "id": "c74cd092",
      "metadata": {
        "id": "c74cd092"
      },
      "source": [
        "Scikit-learn **содержит**:\n",
        "* **Алгоритмы классификации**:\n",
        " * Линейные модели, например, логистическая регрессия, Ridge;\n",
        " * Метод опорных векторов SVM (Support Vector Machine);\n",
        " * Метод k-ближайших соседей (k–neighbors);\n",
        " * Случайный лес (Random Forest);\n",
        " * Деревья решений (Decision Trees);\n",
        " * Наивный байесовский классификатор (NaiveBayes);\n",
        " * Линейный дискриминантный анализ (Linear Discriminant Analysis);\n",
        " * Нейронные сети(Neural network);\n",
        "* **Алгоритмы регрессии**:\n",
        " * Линейные модели, например, линейная регрессия, Lasso, Elastic-netи многие другие [3];\n",
        " * Метод опорных векторов SVM (Support Vector Machine);\n",
        " * Метод k-ближайших соседей (k–neighbors);\n",
        " * Ансамблевые методы, например, AdaBoost, Gradient Tree Boosting, Stacked Generalizationи многие другие [4];\n",
        " * Случайный лес (Random Forest);\n",
        " * Деревья решений (Decision Trees);\n",
        " * Нейронные сети(Neural network).\n",
        "* **Алгоритмы кластеризации**:\n",
        " * Метод k-средних k–Means;\n",
        " * Спектральная кластеризация (Spectral clustering);\n",
        " * Сдвиг среднего значения (Meanshift);\n",
        " * Метод распространения близости (Affinitypropagation);\n",
        " * Метод Варда(Ward hierarchical clustering);\n",
        " * Агломеративные методы (Agglomerative clustering);\n",
        " * Основанная на плотности пространственная кластеризация для приложений с шумами DBSCAN;\n",
        " * Сбалансированное итеративное сокращение и кластеризация с помощью иерархий BIRCH.\n",
        "* **Методы уменьшения размерностей**:\n",
        " * Метод главных компонент PCA;\n",
        " * Латентное размещение Дирихле LDA;\n",
        " * Факторный анализ(Factor analysis).\n",
        "* **Обработка данных**:\n",
        " * Стандартизация и нормализация данных, например, StandardScaller, MinMaxScaller;\n",
        " * Нелинейные преобразования, например, отображение на равномерное распределение (QuantileTransform) и нормальное распределение \n",
        " * Преобразование категориальных данных в числовые, например, OrdinalEncoder, OneHotEncoder;\n",
        " * Преобразование непрерывных данных в дискретные (Discretization);\n",
        " * БинаризацияFeature binarization;\n",
        " * Заполнения пустых значений, например, PolynomialFeatures;\n",
        " * Векторизация, например, DictVectorizer, CountVectorizer, TfIdftransformer;\n",
        "* **Работа с моделями**:\n",
        " * Кросс-валидация (cross validation);\n",
        " * Настройка гиперпараметров, например,GridSearchCV;\n",
        " * Метрики для оценки модели;\n",
        " * Сохранение моделей;\n",
        " * Валидация моделей, например, Validation curve, Learning curve."
      ]
    },
    {
      "cell_type": "markdown",
      "id": "6d8e4031",
      "metadata": {
        "id": "6d8e4031"
      },
      "source": [
        "Scikit-learn основан на **NumPy** и **SciPy**, поэтому для начала необходимо разобраться с основами этих библиотек (новичкам хотябы с NumPy). "
      ]
    },
    {
      "cell_type": "markdown",
      "id": "a68b6aee",
      "metadata": {
        "id": "a68b6aee"
      },
      "source": [
        "Рекомендую посомтреть видео: <center><strong><h3>Основы NumPy Python | Массивы, Матрицы И Операции Над Ними</h3></strong></center>\n",
        "\n",
        "[![numpy](https://i.ytimg.com/vi/Dh0cdMlcrbU/hqdefault.jpg?sqp=-oaymwEcCPYBEIoBSFXyq4qpAw4IARUAAIhCGAFwAcABBg==&rs=AOn4CLA6KT5-cNEX3yCRpz-Ok_Ytokeuow)](https://www.youtube.com/watch?v=Dh0cdMlcrbU)"
      ]
    },
    {
      "cell_type": "markdown",
      "id": "6101a583",
      "metadata": {
        "id": "6101a583"
      },
      "source": [
        "Кроме того, для полноценной и эффективной работы с Scikit-learn следует (хотя бы на базовом уровне) уметь пользоваться библиотеками **Pandas** (обработка и анализ данных) и **Matplotlib** (визуализация данных)."
      ]
    },
    {
      "cell_type": "markdown",
      "id": "0e0f5df9",
      "metadata": {
        "id": "0e0f5df9"
      },
      "source": [
        "<center> <strong><h3>Основы Matplotlib | Построение Графиков На Python</h3></strong></center>\n",
        "\n",
        "[![numpy](https://i.ytimg.com/vi/RAXDcUrFD2o/hqdefault.jpg?sqp=-oaymwEcCPYBEIoBSFXyq4qpAw4IARUAAIhCGAFwAcABBg==&rs=AOn4CLDB4yCkZ56wyWu1IQGZChH5q-_ygQ)](https://www.youtube.com/watch?v=RAXDcUrFD2o)\n",
        "\n",
        "  \n",
        "    \n",
        "<center> <strong><h3>Основы Pandas Python | Series, DataFrame И Анализ Данных</h3></strong></center>\n",
        "        \n",
        "[![numpy](https://i.ytimg.com/vi/cEeY0opsVMw/hqdefault.jpg?sqp=-oaymwEcCPYBEIoBSFXyq4qpAw4IARUAAIhCGAFwAcABBg==&rs=AOn4CLBNlMGNtaPz-JZG_n9XreobXlceGg)](https://www.youtube.com/watch?v=cEeY0opsVMw)"
      ]
    },
    {
      "cell_type": "markdown",
      "id": "02f7a9bf",
      "metadata": {
        "id": "02f7a9bf"
      },
      "source": [
        "Все данные, с которыми мы собираемся работать, должны храниться в виде **массивов (numpy.array) NumPy** или **разреженных\n",
        "матриц (scipy.sparse) SciPy**. Также возможно использовать другие типы, для котороых возможно соответсвующее преобразование, например, **Pandas DataFrame**."
      ]
    },
    {
      "cell_type": "markdown",
      "id": "c32f7418",
      "metadata": {
        "id": "c32f7418"
      },
      "source": [
        "**Установка через pip:** `pip install scikit-learn`\n",
        "\n",
        "**Установка через conda:**`conda install -c conda-forge scikit-learn`"
      ]
    },
    {
      "cell_type": "markdown",
      "id": "56884c4e",
      "metadata": {
        "id": "56884c4e"
      },
      "source": [
        "## Загрузка данных\n"
      ]
    },
    {
      "cell_type": "markdown",
      "id": "43dc9274",
      "metadata": {
        "id": "43dc9274"
      },
      "source": [
        "Мы можем загружать данные (датасеты, datasets) полученные извне, например, из **txt, csv, json файлов и т.д.** с помощью **Pandas**:"
      ]
    },
    {
      "cell_type": "code",
      "execution_count": null,
      "id": "5e5e9172",
      "metadata": {
        "id": "5e5e9172",
        "outputId": "00a41d93-d474-46ad-8f43-e9c4bb27722a"
      },
      "outputs": [
        {
          "data": {
            "text/html": [
              "<div>\n",
              "<style scoped>\n",
              "    .dataframe tbody tr th:only-of-type {\n",
              "        vertical-align: middle;\n",
              "    }\n",
              "\n",
              "    .dataframe tbody tr th {\n",
              "        vertical-align: top;\n",
              "    }\n",
              "\n",
              "    .dataframe thead th {\n",
              "        text-align: right;\n",
              "    }\n",
              "</style>\n",
              "<table border=\"1\" class=\"dataframe\">\n",
              "  <thead>\n",
              "    <tr style=\"text-align: right;\">\n",
              "      <th></th>\n",
              "      <th>house_price</th>\n",
              "      <th>surface</th>\n",
              "      <th>rooms_in_house</th>\n",
              "      <th>floor_in_house</th>\n",
              "      <th>total_house_floors</th>\n",
              "      <th>agency</th>\n",
              "      <th>address</th>\n",
              "      <th>latitude</th>\n",
              "      <th>longitude</th>\n",
              "      <th>location</th>\n",
              "      <th>is_last_floor</th>\n",
              "      <th>dist</th>\n",
              "    </tr>\n",
              "  </thead>\n",
              "  <tbody>\n",
              "    <tr>\n",
              "      <th>0</th>\n",
              "      <td>10000</td>\n",
              "      <td>47.0</td>\n",
              "      <td>1</td>\n",
              "      <td>8</td>\n",
              "      <td>10</td>\n",
              "      <td>False</td>\n",
              "      <td>Липецк,  улица Белянского, 12</td>\n",
              "      <td>52.606946</td>\n",
              "      <td>39.501812</td>\n",
              "      <td>Липецк,  улица Белянского, 12 , р-н Советский</td>\n",
              "      <td>False</td>\n",
              "      <td>6.521422</td>\n",
              "    </tr>\n",
              "    <tr>\n",
              "      <th>1</th>\n",
              "      <td>16000</td>\n",
              "      <td>54.0</td>\n",
              "      <td>2</td>\n",
              "      <td>10</td>\n",
              "      <td>10</td>\n",
              "      <td>False</td>\n",
              "      <td>Липецк,  ул. Валентины Терешковой, 29А</td>\n",
              "      <td>52.613101</td>\n",
              "      <td>39.574841</td>\n",
              "      <td>Липецк,  ул. Валентины Терешковой, 29А , р-н С...</td>\n",
              "      <td>True</td>\n",
              "      <td>1.641652</td>\n",
              "    </tr>\n",
              "    <tr>\n",
              "      <th>2</th>\n",
              "      <td>20000</td>\n",
              "      <td>50.0</td>\n",
              "      <td>1</td>\n",
              "      <td>9</td>\n",
              "      <td>16</td>\n",
              "      <td>False</td>\n",
              "      <td>Липецк,  ул. Космонавтов, 3А</td>\n",
              "      <td>52.616725</td>\n",
              "      <td>39.580666</td>\n",
              "      <td>Липецк,  ул. Космонавтов, 3А , р-н Советский</td>\n",
              "      <td>False</td>\n",
              "      <td>1.469253</td>\n",
              "    </tr>\n",
              "  </tbody>\n",
              "</table>\n",
              "</div>"
            ],
            "text/plain": [
              "   house_price  surface  rooms_in_house  floor_in_house  total_house_floors  \\\n",
              "0        10000     47.0               1               8                  10   \n",
              "1        16000     54.0               2              10                  10   \n",
              "2        20000     50.0               1               9                  16   \n",
              "\n",
              "   agency                                  address   latitude  longitude  \\\n",
              "0   False           Липецк,  улица Белянского, 12   52.606946  39.501812   \n",
              "1   False  Липецк,  ул. Валентины Терешковой, 29А   52.613101  39.574841   \n",
              "2   False            Липецк,  ул. Космонавтов, 3А   52.616725  39.580666   \n",
              "\n",
              "                                            location  is_last_floor      dist  \n",
              "0      Липецк,  улица Белянского, 12 , р-н Советский          False  6.521422  \n",
              "1  Липецк,  ул. Валентины Терешковой, 29А , р-н С...           True  1.641652  \n",
              "2       Липецк,  ул. Космонавтов, 3А , р-н Советский          False  1.469253  "
            ]
          },
          "execution_count": 30,
          "metadata": {},
          "output_type": "execute_result"
        }
      ],
      "source": [
        "import pandas as pd\n",
        "loaded_data = pd.read_csv('dataset.csv', sep='\\t')\n",
        "loaded_data.head(3)"
      ]
    },
    {
      "cell_type": "markdown",
      "id": "02badcaf",
      "metadata": {
        "id": "02badcaf"
      },
      "source": [
        "Получить с помощью каких-то **вычислений** за счёт **Numpy**:"
      ]
    },
    {
      "cell_type": "code",
      "execution_count": null,
      "id": "04935dfc",
      "metadata": {
        "id": "04935dfc",
        "outputId": "8c42c2c4-68cf-44fa-f92b-cb3b0f4dd128"
      },
      "outputs": [
        {
          "data": {
            "text/plain": [
              "array([[0.86962899, 0.46159539, 0.99967809, 0.46394604, 0.16019745],\n",
              "       [0.06556318, 0.75146092, 0.98441944, 0.39282727, 0.7124377 ],\n",
              "       [0.70466192, 0.47813696, 0.32115326, 0.41540129, 0.81166666],\n",
              "       [0.83331386, 0.5490986 , 0.98503495, 0.52209731, 0.94842069],\n",
              "       [0.68622921, 0.76319565, 0.70629153, 0.76218546, 0.69267035],\n",
              "       [0.85338328, 0.11534683, 0.99771291, 0.84381904, 0.13240575],\n",
              "       [0.10126734, 0.055272  , 0.06730582, 0.39727803, 0.33396362],\n",
              "       [0.64094906, 0.05004959, 0.5435762 , 0.13888788, 0.87121658],\n",
              "       [0.07798258, 0.05409569, 0.62422146, 0.03865598, 0.40133072],\n",
              "       [0.38523694, 0.12630994, 0.48651054, 0.54951462, 0.94223418]])"
            ]
          },
          "execution_count": 31,
          "metadata": {},
          "output_type": "execute_result"
        }
      ],
      "source": [
        " import numpy as np\n",
        "X = np.random.random((10,5)) # для простоты эксперемента просто сгенируем случайные числа\n",
        "X "
      ]
    },
    {
      "cell_type": "markdown",
      "id": "bcf22fec",
      "metadata": {
        "id": "bcf22fec"
      },
      "source": [
        "Кроме того, **Scikit-learn предоставляет несколько наборов данных \"из коробки\"**, подходящих для изучения и тестирования моделей (ирисы Фишера, бостонские дома, вино и т.д).\n",
        "\n",
        "Например, функция sklearn.datasets.load_boston () отображает данные о ценах на дома в районе Бостона. Есть 506 наблюдений, а входная матрица имеет 13 столбцов (признаков):"
      ]
    },
    {
      "cell_type": "code",
      "execution_count": null,
      "id": "20e51996",
      "metadata": {
        "id": "20e51996",
        "outputId": "b36226df-24b3-4ede-e4d5-95ed190018c2"
      },
      "outputs": [
        {
          "name": "stdout",
          "output_type": "stream",
          "text": [
            "X:\n",
            "[[6.3200e-03 1.8000e+01 2.3100e+00 0.0000e+00 5.3800e-01 6.5750e+00\n",
            "  6.5200e+01 4.0900e+00 1.0000e+00 2.9600e+02 1.5300e+01 3.9690e+02\n",
            "  4.9800e+00]\n",
            " [2.7310e-02 0.0000e+00 7.0700e+00 0.0000e+00 4.6900e-01 6.4210e+00\n",
            "  7.8900e+01 4.9671e+00 2.0000e+00 2.4200e+02 1.7800e+01 3.9690e+02\n",
            "  9.1400e+00]\n",
            " [2.7290e-02 0.0000e+00 7.0700e+00 0.0000e+00 4.6900e-01 7.1850e+00\n",
            "  6.1100e+01 4.9671e+00 2.0000e+00 2.4200e+02 1.7800e+01 3.9283e+02\n",
            "  4.0300e+00]]\n",
            "\n",
            "Y:\n",
            "[24.  21.6 34.7]\n"
          ]
        }
      ],
      "source": [
        "from sklearn.datasets import load_boston # датасеты испортируются через sklearn.datasets\n",
        "x, y = load_boston(return_X_y=True)\n",
        "\n",
        "print('X:')\n",
        "print(x[:3])\n",
        "print()\n",
        "print('Y:')\n",
        "print(y[:3])"
      ]
    },
    {
      "cell_type": "markdown",
      "id": "80e16631",
      "metadata": {
        "id": "80e16631"
      },
      "source": [
        "## Разделение данных на обучающую и тестовую выборку"
      ]
    },
    {
      "cell_type": "markdown",
      "id": "f47a276b",
      "metadata": {
        "id": "f47a276b"
      },
      "source": [
        "Разделение данных на обучающую и тестировую выборку является важной частью проверки того, насколько хорошо работает модель. Изначально она обучается на отдельных данных (обучающей выборке), а замет проверяем качество работы модели на тестовой выборке. Таким образом, можно измерить способность модели обобщать новые данные:"
      ]
    },
    {
      "cell_type": "code",
      "execution_count": null,
      "id": "ae851959",
      "metadata": {
        "id": "ae851959"
      },
      "outputs": [],
      "source": [
        "from sklearn.model_selection import train_test_split\n",
        "\n",
        "# train_test_split разбивает выбору случайныи образом на 2 подвыборки: обучающую и тестовую\n",
        "# запускам разбиение с параметрами по умолчанию\n",
        "x_train, x_test, y_train, y_test = train_test_split(x, y) \n",
        "\n",
        "\n",
        "# Кроме того, мы можем явно задать некоторые специальные параметры\n",
        "x_train, x_test, y_train, y_test = train_test_split(x, y, test_size=0.33, random_state=0) "
      ]
    },
    {
      "cell_type": "markdown",
      "id": "9e152466",
      "metadata": {
        "id": "9e152466"
      },
      "source": [
        "_test_size, train_size_ - необязательные параметры, отвечающие за количество данных в %, которые пойдут в обучающую или тестовую выборки.\n",
        "\n",
        "_random_state_ - отвечает за перемешивание данных. Туда передают какое-либо целочисленное занчение, чтобы при каждом запуске выборка мешалась одинаково. Это гарантирует воспроизводимость эксеремента.\n",
        "\n",
        "Кроме этого у функции _train_test_split_ есть ещё несколько параметров по умолчанию (см. документацию)."
      ]
    },
    {
      "cell_type": "markdown",
      "id": "0e5cae02",
      "metadata": {
        "id": "0e5cae02"
      },
      "source": [
        "![image.png](attachment:image.png)"
      ]
    },
    {
      "cell_type": "markdown",
      "id": "022e5073",
      "metadata": {
        "id": "022e5073"
      },
      "source": [
        "## Обработка данных"
      ]
    },
    {
      "cell_type": "markdown",
      "id": "2ad09b0d",
      "metadata": {
        "id": "2ad09b0d"
      },
      "source": [
        "Перед тем, как скармливать данные на обучение, их необходимо некоторым образом приготовить. \"Рецепт готовки\" зависит от особенности конкретной модели, однако чаще всего используют следующие методы из пакета `sklearn.preprocessing`"
      ]
    },
    {
      "cell_type": "markdown",
      "id": "ff51d874",
      "metadata": {
        "id": "ff51d874"
      },
      "source": [
        "### Стандартизация (Standardization)"
      ]
    },
    {
      "cell_type": "markdown",
      "id": "367f3cd1",
      "metadata": {
        "id": "367f3cd1"
      },
      "source": [
        "Стандартизация – техника преобразования значений признака (Feature), адаптирующая признаки с разными диапазонами значений. Подразумевает приравнивание среднего значения к нулю и/или приравнивание стандартного отклонения к единице. Данный вид шкалирования стремится привести данные к нормальному распределению. \n",
        "\n",
        "Другими словами. Стандартизированные данные содержат ту же информацию, но имеют среднее значение 0 и отклонение 1. После масштабирования данных математическая природа алгоритмов позволяет лучше с ними работать (например SVM и метод K-means)."
      ]
    },
    {
      "cell_type": "code",
      "execution_count": null,
      "id": "d6d1f53d",
      "metadata": {
        "id": "d6d1f53d",
        "outputId": "cd328c67-f804-42d8-8ab1-75019000a778"
      },
      "outputs": [
        {
          "name": "stdout",
          "output_type": "stream",
          "text": [
            "До стандартизации:\n",
            "[[4.46200e-02 2.50000e+01 4.86000e+00 0.00000e+00 4.26000e-01 6.61900e+00\n",
            "  7.04000e+01 5.40070e+00 4.00000e+00 2.81000e+02 1.90000e+01 3.95630e+02\n",
            "  7.22000e+00]\n",
            " [4.54192e+00 0.00000e+00 1.81000e+01 0.00000e+00 7.70000e-01 6.39800e+00\n",
            "  8.80000e+01 2.51820e+00 2.40000e+01 6.66000e+02 2.02000e+01 3.74560e+02\n",
            "  7.79000e+00]\n",
            " [1.33598e+01 0.00000e+00 1.81000e+01 0.00000e+00 6.93000e-01 5.88700e+00\n",
            "  9.47000e+01 1.78210e+00 2.40000e+01 6.66000e+02 2.02000e+01 3.96900e+02\n",
            "  1.63500e+01]]\n",
            "\n",
            "После стандартизации:\n"
          ]
        },
        {
          "data": {
            "text/plain": [
              "array([[-0.40069293,  0.54888872, -0.899201  , -0.2697866 , -1.13360708,\n",
              "         0.43514224,  0.05150692,  0.8106114 , -0.63095801, -0.72342494,\n",
              "         0.24982303,  0.41320506, -0.73612695],\n",
              "       [ 0.1297314 , -0.50012062,  1.00324205, -0.2697866 ,  1.82780232,\n",
              "         0.12173089,  0.67879998, -0.59076013,  1.65546386,  1.52013094,\n",
              "         0.78896367,  0.16547306, -0.65468256],\n",
              "       [ 1.1697372 , -0.50012062,  1.00324205, -0.2697866 ,  1.16492871,\n",
              "        -0.60294421,  0.91759904, -0.94862642,  1.65546386,  1.52013094,\n",
              "         0.78896367,  0.42813718,  0.56841212]])"
            ]
          },
          "execution_count": 34,
          "metadata": {},
          "output_type": "execute_result"
        }
      ],
      "source": [
        "from sklearn.preprocessing import StandardScaler\n",
        "\n",
        "scaler = StandardScaler().fit(x_train) \n",
        "standardized_X = scaler.transform(x_train)\n",
        "\n",
        "print('До стандартизации:')\n",
        "print(x_train[:3])\n",
        "print()\n",
        "print('После стандартизации:')\n",
        "standardized_X[:3]\n",
        "\n",
        "# пример с бостонскими домами является не самым лучшим для демонстрации стандлартизации, однако суть остаётся прежней"
      ]
    },
    {
      "cell_type": "markdown",
      "id": "479adcb2",
      "metadata": {
        "id": "479adcb2"
      },
      "source": [
        "### Нормализация (Normalization)"
      ]
    },
    {
      "cell_type": "markdown",
      "id": "9e3b3a47",
      "metadata": {
        "id": "9e3b3a47"
      },
      "source": [
        "В машинном обучении нормализацией называют метод предобработки числовых признаков в обучающих наборах данных с целью приведения их к некоторой общей шкале без потери информации о различии диапазонов. Нормализация подразумевает изменение диапазонов в данных без изменения формы распределения. \n",
        "\n",
        "Предположим, у вас есть набор данных с различными единицами: температура в Кельвинах, относительная влажность и день года. Мы можем увидеть следующие диапазоны для каждой функции.\n",
        "Температура: от 270 K до 305 K\n",
        "Влажность: от 0 до 1 (т. е. Влажность 30%, равная 0,3)\n",
        "День года: от 0 до 365\n",
        "\n",
        "Когда вы смотрите на эти значения, вы интуитивно нормализуете значения. Например, вы знаете, что увеличение на 0,5 (на 50%) для влажности намного более значимо, чем увеличение на 0,5 для температуры. И если мы не будем нормализовать эти данные, наш алгоритм может научиться использовать температуру в качестве основного предиктора просто потому, что масштаб является наибольшим (и, следовательно, изменения в значениях температуры наиболее значительны для алгоритма). Нормализация данных позволяет всем признакам вносить одинаковый вклад (или, что более точно, позволяет добавлять признаки в зависимости от их важности, а не их масштаба).\n",
        "\n",
        "Нормализацию требуют, например, алгоритмы логистическая регрессия, нейронные сети, PCA."
      ]
    },
    {
      "cell_type": "code",
      "execution_count": null,
      "id": "3f3bf4d6",
      "metadata": {
        "id": "3f3bf4d6",
        "outputId": "c59cf605-4e2b-4d4a-e094-db22b7ba00bf"
      },
      "outputs": [
        {
          "name": "stdout",
          "output_type": "stream",
          "text": [
            "До нормализации:\n",
            "[[6.7240e-02 0.0000e+00 3.2400e+00 0.0000e+00 4.6000e-01 6.3330e+00\n",
            "  1.7200e+01 5.2146e+00 4.0000e+00 4.3000e+02 1.6900e+01 3.7521e+02\n",
            "  7.3400e+00]\n",
            " [9.2323e+00 0.0000e+00 1.8100e+01 0.0000e+00 6.3100e-01 6.2160e+00\n",
            "  1.0000e+02 1.1691e+00 2.4000e+01 6.6600e+02 2.0200e+01 3.6615e+02\n",
            "  9.5300e+00]\n",
            " [1.1425e-01 0.0000e+00 1.3890e+01 1.0000e+00 5.5000e-01 6.3730e+00\n",
            "  9.2400e+01 3.3633e+00 5.0000e+00 2.7600e+02 1.6400e+01 3.9374e+02\n",
            "  1.0500e+01]]\n",
            "\n",
            "После нормализации:\n"
          ]
        },
        {
          "data": {
            "text/plain": [
              "array([[1.17691399e-04, 0.00000000e+00, 5.67103112e-03, 0.00000000e+00,\n",
              "        8.05146393e-04, 1.10847655e-02, 3.01054738e-02, 9.12720952e-03,\n",
              "        7.00127298e-03, 7.52636846e-01, 2.95803784e-02, 6.56736909e-01,\n",
              "        1.28473359e-02],\n",
              "       [1.20280989e-02, 0.00000000e+00, 2.35811868e-02, 0.00000000e+00,\n",
              "        8.22084468e-04, 8.09837885e-03, 1.30282800e-01, 1.52313622e-03,\n",
              "        3.12678720e-02, 8.67683448e-01, 2.63171256e-02, 4.77030472e-01,\n",
              "        1.24159508e-02],\n",
              "       [2.33019998e-04, 0.00000000e+00, 2.83295209e-02, 2.03956234e-03,\n",
              "        1.12175929e-03, 1.29981308e-02, 1.88455560e-01, 6.85966003e-03,\n",
              "        1.01978117e-02, 5.62919206e-01, 3.34488224e-02, 8.03057277e-01,\n",
              "        2.14154046e-02]])"
            ]
          },
          "execution_count": 35,
          "metadata": {},
          "output_type": "execute_result"
        }
      ],
      "source": [
        "from sklearn.preprocessing import Normalizer\n",
        "\n",
        "scaler = Normalizer().fit(x_test)\n",
        "normalized_X = scaler.transform(x_test)\n",
        "\n",
        "print('До нормализации:')\n",
        "print(x_test[:3])\n",
        "print()\n",
        "print('После нормализации:')\n",
        "normalized_X[:3]"
      ]
    },
    {
      "cell_type": "code",
      "execution_count": null,
      "id": "0686cde9",
      "metadata": {
        "id": "0686cde9",
        "outputId": "ca513450-c3f7-4e9d-fc81-d72395b3464e"
      },
      "outputs": [
        {
          "name": "stdout",
          "output_type": "stream",
          "text": [
            "До нормализации:\n",
            "[[178, 500000, 58], [130, 5000, 110], [190, 100000000, 90]]\n",
            "\n",
            "После нормализации:\n"
          ]
        },
        {
          "data": {
            "text/plain": [
              "array([[3.55999975e-04, 9.99999930e-01, 1.15999992e-04],\n",
              "       [2.59849331e-02, 9.99420504e-01, 2.19872511e-02],\n",
              "       [1.90000000e-06, 1.00000000e+00, 9.00000000e-07]])"
            ]
          },
          "execution_count": 36,
          "metadata": {},
          "output_type": "execute_result"
        }
      ],
      "source": [
        "data = [[178, 500000, 58], [130, 5000, 110], [190, 100000000, 90]] # запись о людях (рост, зарплата, вес)\n",
        "\n",
        "scaler = Normalizer().fit(data)\n",
        "normalized_data = scaler.transform(data)\n",
        "\n",
        "print('До нормализации:')\n",
        "print(data[:3])\n",
        "print()\n",
        "print('После нормализации:')\n",
        "normalized_data[:3] # теперь нет гигантской разницы в признаках, как 58 и 100000000"
      ]
    },
    {
      "cell_type": "markdown",
      "id": "8a106ab3",
      "metadata": {
        "id": "8a106ab3"
      },
      "source": [
        "## Приведение к бинарному виду (Binarization)"
      ]
    },
    {
      "cell_type": "markdown",
      "id": "e15b4c63",
      "metadata": {
        "id": "e15b4c63"
      },
      "source": [
        "Бинаризуйте данные (установите значения функций равными 0 или 1) в соответствии с пороговым значением.\n",
        "\n",
        "Например, если мы выберем пороговое значение = 0,5, то значение набора данных выше этого станет 1, а ниже этого станет 0. Поэтому мы можем назвать его бинаризацией данных или пороговым значением данных. Этот метод полезен, когда у нас есть вероятности в нашем наборе данных и мы хотим преобразовать их в четкие значения.\n"
      ]
    },
    {
      "cell_type": "code",
      "execution_count": null,
      "id": "a6d456ee",
      "metadata": {
        "scrolled": true,
        "id": "a6d456ee",
        "outputId": "87440499-e5e9-409f-86a6-2c3e8b98a9a7"
      },
      "outputs": [
        {
          "name": "stdout",
          "output_type": "stream",
          "text": [
            "До бинаризации:\n",
            "[[-0.40320911  2.73375651  1.89653763 -4.50677924 -3.1065299 ]\n",
            " [-0.79187171 -2.20815861  4.93686438  2.17609323 -3.10954843]\n",
            " [ 3.76216736  4.7412374  -4.5797919   3.42102032 -4.6068912 ]\n",
            " [-2.49062523 -0.80887749  3.69556055 -2.83414585  0.29612764]\n",
            " [-3.41804557 -2.10418851 -0.21984785 -0.97295082 -1.86699597]]\n",
            "\n",
            "После бинаризации:\n"
          ]
        },
        {
          "data": {
            "text/plain": [
              "array([[0., 1., 1., 0., 0.],\n",
              "       [0., 0., 1., 1., 0.],\n",
              "       [1., 1., 0., 1., 0.],\n",
              "       [0., 0., 1., 0., 1.],\n",
              "       [0., 0., 0., 0., 0.]])"
            ]
          },
          "execution_count": 37,
          "metadata": {},
          "output_type": "execute_result"
        }
      ],
      "source": [
        "from sklearn.preprocessing import Binarizer\n",
        "\n",
        "X = 10 * np.random.random((5,5)) - 5\n",
        "\n",
        "binarizer = Binarizer(threshold = 0.0).fit(X) # в данном случае порог 0.0\n",
        "binary_X = binarizer.transform(X)\n",
        "\n",
        "print('До бинаризации:')\n",
        "print(X[:5])\n",
        "print()\n",
        "print('После бинаризации:')\n",
        "binary_X[:5]"
      ]
    },
    {
      "cell_type": "code",
      "execution_count": null,
      "id": "c77e6dcf",
      "metadata": {
        "id": "c77e6dcf",
        "outputId": "420a2037-83f8-4bd4-c810-759442340538"
      },
      "outputs": [
        {
          "data": {
            "text/plain": [
              "array([[0, 0, 1, 0, 0, 1, 1, 1]])"
            ]
          },
          "execution_count": 38,
          "metadata": {},
          "output_type": "execute_result"
        }
      ],
      "source": [
        "# Мы хотим определить прогульчиков (у кого больше N пропусков занятий)\n",
        "\n",
        "absenteeism_number_student = np.array([[3, 1, 5, 0, 2, 5, 9, 888]]) # количество прогулов у студентов\n",
        "\n",
        "binarizer = Binarizer(threshold = 3.0).fit(absenteeism_number_student) # порог прогулов 3\n",
        "binary_absenteeism_number_student = binarizer.transform(absenteeism_number_student)\n",
        "\n",
        "binary_absenteeism_number_student\n",
        "\n",
        "# => 3-й, 6,7,8-й студенты - прогульщики"
      ]
    },
    {
      "cell_type": "markdown",
      "id": "3eeb0cc6",
      "metadata": {
        "id": "3eeb0cc6"
      },
      "source": [
        "## Кодирование Категориальных Признаков (Encoding Categorical Features)"
      ]
    },
    {
      "cell_type": "markdown",
      "id": "0e95914b",
      "metadata": {
        "id": "0e95914b"
      },
      "source": [
        "Кодируйте целевые метки со значениями от 0 до количество_классов_категорий - 1. Таким образом, мы хотим, например, закодировать строковые значения признака в числовые по категориям."
      ]
    },
    {
      "cell_type": "code",
      "execution_count": null,
      "id": "8c6f31c0",
      "metadata": {
        "id": "8c6f31c0",
        "outputId": "34c76e00-54d2-4193-b033-695dbec6d250"
      },
      "outputs": [
        {
          "data": {
            "text/plain": [
              "array([0, 2, 1, 2, 0], dtype=int64)"
            ]
          },
          "execution_count": 39,
          "metadata": {},
          "output_type": "execute_result"
        }
      ],
      "source": [
        "from sklearn.preprocessing import LabelEncoder\n",
        "\n",
        "y = np.array(['rus', 'usa', 'ua', 'usa', 'rus']) # наш признак - строкове сокращение страны\n",
        "\n",
        "enc = LabelEncoder()\n",
        "y = enc.fit_transform(y)\n",
        "\n",
        "y # теперь для нашей модели все люди из России в качеству признака County будет иметь значение 0"
      ]
    },
    {
      "cell_type": "markdown",
      "id": "caf1ddb5",
      "metadata": {
        "id": "caf1ddb5"
      },
      "source": [
        "Кроме этого существуют и другие методы обработки данных: генерация полиномиальных признаков, заполнение пропущенных значений и прочее (см. документацию)."
      ]
    },
    {
      "cell_type": "markdown",
      "id": "4ed3c787",
      "metadata": {
        "id": "4ed3c787"
      },
      "source": [
        "## Загрузка и настройка моделей"
      ]
    },
    {
      "cell_type": "markdown",
      "id": "d06f75e8",
      "metadata": {
        "id": "d06f75e8"
      },
      "source": [
        "Работа с моделяит начинается с импорта необходимых нам пакетов, классов и функций. \n",
        "![image.png](attachment:image.png)"
      ]
    },
    {
      "cell_type": "markdown",
      "id": "c7981593",
      "metadata": {
        "id": "c7981593"
      },
      "source": [
        "Рассмотрим работу моделей для обучения с учителем и без учителя.\n",
        "\n",
        "При обучении с учителем модель обучается на размеченном наборе данных и предсказывает ответы, которые используются для оценки точности алгоритма на обучающих данных. \n",
        "\n",
        "При обучении без учителя модель использует неразмеченные данные, из которых алгоритм самостоятельно пытается извлечь признаки и зависимости."
      ]
    },
    {
      "cell_type": "markdown",
      "id": "521ed1a5",
      "metadata": {
        "id": "521ed1a5"
      },
      "source": [
        "### Модели для обучения с учителем"
      ]
    },
    {
      "cell_type": "markdown",
      "id": "adc63515",
      "metadata": {
        "id": "adc63515"
      },
      "source": [
        "#### Линейная регрессия (Linear Regression)"
      ]
    },
    {
      "cell_type": "markdown",
      "id": "fe1b6656",
      "metadata": {
        "id": "fe1b6656"
      },
      "source": [
        "Линейная регрессия в машинном обучении Линейная регрессия (Linear regression) — модель зависимости переменной x от одной или нескольких других переменных (факторов, регрессоров, независимых переменных) с линейной функцией зависимости.\n",
        "\n",
        "$$ y = B_{0} + B_{1} \\cdot x $$\n",
        "\n",
        "![image.png](attachment:image.png)"
      ]
    },
    {
      "cell_type": "code",
      "execution_count": null,
      "id": "22142849",
      "metadata": {
        "id": "22142849"
      },
      "outputs": [],
      "source": [
        "from sklearn.linear_model import LinearRegression\n",
        "\n",
        "lr = LinearRegression(normalize=True)"
      ]
    },
    {
      "cell_type": "markdown",
      "id": "e678fcf2",
      "metadata": {
        "id": "e678fcf2"
      },
      "source": [
        "#### Метод опорных векторов (SVM, Support Vector Machine)"
      ]
    },
    {
      "cell_type": "markdown",
      "id": "c082b863",
      "metadata": {
        "id": "c082b863"
      },
      "source": [
        "Работа метода опорных векторов заключается в рисовании линии между разными кластерами точек, которые нужно сгруппировать в классы. С одной стороны линии будут точки, принадлежащие одному классу, с другой стороны — к другому классу.\n",
        "\n",
        "Классификатор будет пытаться увеличить расстояние между рисуемыми линиями и точками на разных сторонах, чтобы увеличить свою «уверенность» определения класса. Когда все точки построены, сторона, на которую они падают — это класс, которому эти точки принадлежат.\n",
        "\n",
        "![image.png](attachment:image.png)"
      ]
    },
    {
      "cell_type": "code",
      "execution_count": null,
      "id": "fda94d3a",
      "metadata": {
        "id": "fda94d3a"
      },
      "outputs": [],
      "source": [
        "from sklearn.svm import SVC\n",
        "\n",
        "svc = SVC(kernel = 'linear') # kernel указывает тип ядра ‘linear’, ‘poly’, ‘rbf’, ‘sigmoid’, ‘precomputed’"
      ]
    },
    {
      "cell_type": "markdown",
      "id": "167f6b9c",
      "metadata": {
        "id": "167f6b9c"
      },
      "source": [
        "#### Наивный байесовский классификатор (Naive Bayes)"
      ]
    },
    {
      "cell_type": "markdown",
      "id": "cfa14752",
      "metadata": {
        "id": "cfa14752"
      },
      "source": [
        "Классификатор вычисляет вероятность принадлежности объекта к какому-то классу. Эта вероятность вычисляется из шанса, что какое-то событие произойдёт, с опорой на уже на произошедшие события."
      ]
    },
    {
      "cell_type": "code",
      "execution_count": null,
      "id": "fbd4d99f",
      "metadata": {
        "id": "fbd4d99f"
      },
      "outputs": [],
      "source": [
        "from sklearn.naive_bayes import GaussianNB\n",
        "\n",
        "gnb = GaussianNB()"
      ]
    },
    {
      "cell_type": "markdown",
      "id": "647f5bc5",
      "metadata": {
        "id": "647f5bc5"
      },
      "source": [
        "#### Метод K-ближайших соседей (K Nearest Neighbors)"
      ]
    },
    {
      "cell_type": "markdown",
      "id": "602afce3",
      "metadata": {
        "id": "602afce3"
      },
      "source": [
        "Этот метод работает с помощью поиска кратчайшей дистанции между тестируемым объектом и ближайшими к нему классифицированным объектами из обучающего набора. Классифицируемый объект будет относится к тому классу, к которому принадлежит ближайший объект набора.\n",
        "\n",
        "![image.png](attachment:image.png)"
      ]
    },
    {
      "cell_type": "code",
      "execution_count": null,
      "id": "2b9456f8",
      "metadata": {
        "id": "2b9456f8"
      },
      "outputs": [],
      "source": [
        "from sklearn import neighbors\n",
        "\n",
        "knn = neighbors.KNeighborsClassifier(n_neighbors = 5) # n_neighbors - количество соседей"
      ]
    },
    {
      "cell_type": "markdown",
      "id": "73ef3c95",
      "metadata": {
        "id": "73ef3c95"
      },
      "source": [
        "### Обучение без учителя (Unsupervised learning) "
      ]
    },
    {
      "cell_type": "markdown",
      "id": "de1b0597",
      "metadata": {
        "id": "de1b0597"
      },
      "source": [
        "#### Метод главных компонент (PCA – principal component analysis)"
      ]
    },
    {
      "cell_type": "markdown",
      "id": "a8d8fc58",
      "metadata": {
        "id": "a8d8fc58"
      },
      "source": [
        "Метод главных компонент позволяет заменить несколько исходных переменных на меньшее количество новых переменных. Новые искусственные переменные называются главными компонентами."
      ]
    },
    {
      "cell_type": "code",
      "execution_count": null,
      "id": "17d850b8",
      "metadata": {
        "id": "17d850b8"
      },
      "outputs": [],
      "source": [
        "from sklearn.decomposition import PCA\n",
        "\n",
        "pca = PCA(n_components = 0.95)"
      ]
    },
    {
      "cell_type": "markdown",
      "id": "3fe2680a",
      "metadata": {
        "id": "3fe2680a"
      },
      "source": [
        "#### Метод K-средних (K-Means)"
      ]
    },
    {
      "cell_type": "markdown",
      "id": "610cac7a",
      "metadata": {
        "id": "610cac7a"
      },
      "source": [
        "Он разбивает множество элементов векторного пространства на заранее известное число кластеров k. Действие алгоритма таково, что он стремится минимизировать среднеквадратичное отклонение на точках каждого кластера. Основная идея заключается в том, что на каждой итерации перевычисляется центр масс для каждого кластера, полученного на предыдущем шаге, затем векторы разбиваются на кластеры вновь в соответствии с тем, какой из новых центров оказался ближе по выбранной метрике.\n",
        "\n",
        "![image.png](attachment:image.png)"
      ]
    },
    {
      "cell_type": "code",
      "execution_count": null,
      "id": "a09ec0f6",
      "metadata": {
        "id": "a09ec0f6"
      },
      "outputs": [],
      "source": [
        "from sklearn.cluster import KMeans\n",
        "\n",
        "k_means = KMeans(n_clusters = 3, random_state = 0)"
      ]
    },
    {
      "cell_type": "markdown",
      "id": "65f4cbc5",
      "metadata": {
        "id": "65f4cbc5"
      },
      "source": [
        "Обратим внимание, что у каждой модели есть дополнительные параметры, которые позволяют производить более гибкую настройку модели, что в последствии может повысить её качество."
      ]
    },
    {
      "cell_type": "markdown",
      "id": "f15bc434",
      "metadata": {
        "id": "f15bc434"
      },
      "source": [
        "## Обучение модели"
      ]
    },
    {
      "cell_type": "markdown",
      "id": "b75f2cf9",
      "metadata": {
        "id": "b75f2cf9"
      },
      "source": [
        "Обучение модели - это обработка набору данных с использованием некоторого алгоритма, который позволяет анализировать предоставленные данные и запоминать полученные результаты, в некотором смысле делать выводы на основе свойств данных.\n",
        "\n",
        "В Scilit-learn обучение модели происходит посредством вызова её метода `fit` в который в качестве аргумента передаётся набор данных обучающей выборки."
      ]
    },
    {
      "cell_type": "markdown",
      "id": "cb62e056",
      "metadata": {
        "id": "cb62e056"
      },
      "source": [
        "##### С учителем:"
      ]
    },
    {
      "cell_type": "code",
      "execution_count": null,
      "id": "27d8b045",
      "metadata": {
        "id": "27d8b045"
      },
      "outputs": [],
      "source": [
        "# данные\n",
        "X = np.array([[1, 1], [1, 2], [2, 2], [2, 3]]) # обучающая выборка\n",
        "y = np.dot(X, np.array([1, 2])) + 3  # тестовая выборка\n",
        "\n",
        "# создаём объект модели, настраиваем парметры (normalize=True)\n",
        "lr = LinearRegression(normalize=True)\n",
        "\n",
        "lr.fit(X,y)\n",
        "\n",
        "# обучаем модель, передав обучающую выборку X и тестовую выборку Y\n",
        "lr = LinearRegression().fit(X, y)"
      ]
    },
    {
      "cell_type": "markdown",
      "id": "3e5110ba",
      "metadata": {
        "id": "3e5110ba"
      },
      "source": [
        "##### Без учиттеля"
      ]
    },
    {
      "cell_type": "code",
      "execution_count": null,
      "id": "34950588",
      "metadata": {
        "id": "34950588"
      },
      "outputs": [],
      "source": [
        "X = np.array([[1, 2], [1, 4], [1, 0],\n",
        "             [10, 2], [10, 4], [10, 0]]) # обучающая выборка, тестовой нет\n",
        "\n",
        "kmeans = KMeans(n_clusters=2, random_state=0) # создаём объект модели, настриваем параметры\n",
        "kmeans = kmeans.fit(X) # обучаем модель"
      ]
    },
    {
      "cell_type": "markdown",
      "id": "211bda1a",
      "metadata": {
        "id": "211bda1a"
      },
      "source": [
        "## Получение предсказаний"
      ]
    },
    {
      "cell_type": "markdown",
      "id": "0ae6935f",
      "metadata": {
        "id": "0ae6935f"
      },
      "source": [
        "После обучения модель способна спрогнозировать результат для новых данных с помощью методов модели `predict` и `predict_proba`."
      ]
    },
    {
      "cell_type": "code",
      "execution_count": null,
      "id": "c7d68d17",
      "metadata": {
        "id": "c7d68d17",
        "outputId": "1cf82057-8e3f-429a-d475-7d6860caa1bb"
      },
      "outputs": [
        {
          "name": "stdout",
          "output_type": "stream",
          "text": [
            "Predict:  [1 1 1 0 0 0]\n"
          ]
        }
      ],
      "source": [
        "X = np.array([[1, 2], [1, 4], [1, 0],\n",
        "             [10, 2], [10, 4], [10, 0]]) # данные для обучения\n",
        "\n",
        "kmeans = KMeans(n_clusters=2, random_state=0) \n",
        "kmeans = kmeans.fit(X) \n",
        "\n",
        "# тестовые или новые данные для которых мы хотим получить предсказание\n",
        "test = np.array([[5, 1], [0, 3], [2, 1], [11, 1], [9, 3], [9, 1]]) \n",
        "                \n",
        "y = kmeans.predict(test) # предсказываем \n",
        "print('Predict: ', y)"
      ]
    },
    {
      "cell_type": "code",
      "execution_count": null,
      "id": "737fef4c",
      "metadata": {
        "id": "737fef4c",
        "outputId": "1f82c8fb-f7a4-4f4f-96f9-9fe1d2989b40"
      },
      "outputs": [
        {
          "name": "stdout",
          "output_type": "stream",
          "text": [
            "Predict proba:  [[0.4 0.6]\n",
            " [0.4 0.6]\n",
            " [0.4 0.6]\n",
            " [0.6 0.4]\n",
            " [0.6 0.4]\n",
            " [0.6 0.4]]\n"
          ]
        }
      ],
      "source": [
        "X = np.array([[1, 2], [1, 4], [1, 0],\n",
        "             [10, 2], [10, 4], [10, 0]]) # данные для обучения\n",
        "\n",
        "Y = np.array([1, 1, 1, 0, 0, 0]) # тестовые\n",
        "\n",
        "knn = neighbors.KNeighborsClassifier(n_neighbors = 5)\n",
        "knn = knn.fit(X, Y) \n",
        "\n",
        "# тестовые или новые данные \n",
        "test = np.array([[5, 1], [0, 3], [2, 1], [11, 1], [9, 3], [9, 1]]) \n",
        "                \n",
        "y = knn.predict_proba(test) # предсказываем \n",
        "print('Predict proba: ', y) # Оценивает ВЕРОЯТНОСТЬ появления метки"
      ]
    },
    {
      "cell_type": "markdown",
      "id": "4f08715e",
      "metadata": {
        "id": "4f08715e"
      },
      "source": [
        "## Оценка качества модели"
      ]
    },
    {
      "cell_type": "markdown",
      "id": "63d91ad2",
      "metadata": {
        "id": "63d91ad2"
      },
      "source": [
        "Оценка качества модели выполняется с использованием тестировых выборки. Проеряется насколько точно модели предсказывает результат на тестовых данных, для которых известны правильные метки. Как правило используется модуль `sklearn.metrics` или встроенные методы модели.\n",
        "\n",
        "![image.png](attachment:image.png)"
      ]
    },
    {
      "cell_type": "markdown",
      "id": "7f72c598",
      "metadata": {
        "id": "7f72c598"
      },
      "source": [
        "Для оценки качества используются различные метрики. Каждая из которых лучше подходит под определённый случай:\n",
        "\n",
        "![image-2.png](attachment:image-2.png)\n",
        "\n",
        "![image-3.png](attachment:image-3.png)\n"
      ]
    },
    {
      "cell_type": "markdown",
      "id": "7806dfcd",
      "metadata": {
        "id": "7806dfcd"
      },
      "source": [
        "### Метрики для задач классификации"
      ]
    },
    {
      "cell_type": "code",
      "execution_count": null,
      "id": "1adea252",
      "metadata": {
        "id": "1adea252",
        "outputId": "95ad9e40-e927-4b31-c166-61588fba54ef"
      },
      "outputs": [
        {
          "name": "stdout",
          "output_type": "stream",
          "text": [
            "Оценка функции accuracy_score:\n"
          ]
        },
        {
          "data": {
            "text/plain": [
              "0.5"
            ]
          },
          "execution_count": 50,
          "metadata": {},
          "output_type": "execute_result"
        }
      ],
      "source": [
        "# Accuracy Score\n",
        "\n",
        "from sklearn.metrics import accuracy_score \n",
        "\n",
        "print('Оценка функции accuracy_score:')\n",
        "\n",
        "y_pred = [0, 2, 1, 3]\n",
        "y_true = [0, 1, 2, 3]\n",
        "\n",
        "accuracy_score(y_true, y_pred)"
      ]
    },
    {
      "cell_type": "code",
      "execution_count": null,
      "id": "66c3bb48",
      "metadata": {
        "scrolled": true,
        "id": "66c3bb48",
        "outputId": "611580ad-c527-4834-b70f-df1170fb75de"
      },
      "outputs": [
        {
          "name": "stdout",
          "output_type": "stream",
          "text": [
            "Classification_report:               precision    recall  f1-score   support\n",
            "\n",
            "           0       1.00      1.00      1.00         1\n",
            "           1       0.00      0.00      0.00         1\n",
            "           2       0.00      0.00      0.00         1\n",
            "           3       1.00      1.00      1.00         1\n",
            "\n",
            "    accuracy                           0.50         4\n",
            "   macro avg       0.50      0.50      0.50         4\n",
            "weighted avg       0.50      0.50      0.50         4\n",
            "\n"
          ]
        }
      ],
      "source": [
        "# Classification Report\n",
        "\n",
        "from sklearn.metrics import classification_report\n",
        "print('Classification_report:', classification_report(y_true, y_pred))"
      ]
    },
    {
      "cell_type": "code",
      "execution_count": null,
      "id": "81ebc2fa",
      "metadata": {
        "id": "81ebc2fa",
        "outputId": "88d8ae8f-15d7-4880-df4a-1bb5c5d77960"
      },
      "outputs": [
        {
          "name": "stdout",
          "output_type": "stream",
          "text": [
            "Recall: 0.5\n"
          ]
        }
      ],
      "source": [
        "from sklearn.metrics import recall_score\n",
        "\n",
        "print('Recall:', recall_score(y_true, y_pred, average='micro'))"
      ]
    },
    {
      "cell_type": "markdown",
      "id": "96322b7f",
      "metadata": {
        "id": "96322b7f"
      },
      "source": [
        "### Метрики для задач регрессии "
      ]
    },
    {
      "cell_type": "code",
      "execution_count": null,
      "id": "4caea5d7",
      "metadata": {
        "id": "4caea5d7",
        "outputId": "f5d1ec9c-e5fc-4009-8e19-29f7fba24ecb"
      },
      "outputs": [
        {
          "name": "stdout",
          "output_type": "stream",
          "text": [
            "Model score:  1.0\n",
            "MAE:  0.5\n",
            "MSE:  0.375\n"
          ]
        }
      ],
      "source": [
        "# Mean Absolute Error\n",
        "\n",
        "X = np.array([[1, 1], [1, 2], [2, 2], [2, 3]])\n",
        "y = np.dot(X, np.array([1, 2])) + 3\n",
        "\n",
        "reg = LinearRegression().fit(X, y)\n",
        "\n",
        "y_pred = reg.predict(X)\n",
        "\n",
        "print('Model score: ', reg.score(X, y))\n",
        "\n",
        "\n",
        "from sklearn.metrics import mean_absolute_error\n",
        "y_true = [3, -0.5, 2, 7] # ответы \n",
        "y_pred = [2.5, 0.0, 2, 8] # предсказание\n",
        "print('MAE: ', mean_absolute_error(y_true, y_pred))\n",
        "\n",
        "\n",
        "# Mean Squared Error\n",
        "from sklearn.metrics import mean_squared_error\n",
        "print('MSE: ', mean_squared_error(y_true, y_pred))"
      ]
    },
    {
      "cell_type": "markdown",
      "id": "836f7806",
      "metadata": {
        "id": "836f7806"
      },
      "source": [
        "### Кросс-валидация"
      ]
    },
    {
      "cell_type": "markdown",
      "id": "37eb8ee3",
      "metadata": {
        "id": "37eb8ee3"
      },
      "source": [
        "В основе метода лежит разделение исходного множества данных на k примерно равных блоков, например k=5. Затем на k − 1, т.е. на 4-х блоках, производится обучение модели, а 5-й блок используется для тестирования. Процедура повторяется k раз, при этом на каждом проходе для проверки выбирается новый блок, а обучение производится на оставшихся.\n",
        "\n",
        "![image.png](attachment:image.png)"
      ]
    },
    {
      "cell_type": "code",
      "execution_count": null,
      "id": "3cae29fe",
      "metadata": {
        "id": "3cae29fe",
        "outputId": "4ae79466-c2f2-4698-d9c7-ed6842bde6d9"
      },
      "outputs": [
        {
          "name": "stdout",
          "output_type": "stream",
          "text": [
            "Score:  0.9666666666666667\n",
            "\n",
            "Cross Validation:\n",
            "[1.   1.   0.98]\n"
          ]
        }
      ],
      "source": [
        "# Cross Validation\n",
        "# С помощью кросс-валидации эмулируется наличие тестовой выборки, которая не участвует в обучении, \n",
        "# но для которой известны правильные ответы.\n",
        "\n",
        "from sklearn import svm\n",
        "from sklearn import datasets\n",
        "\n",
        "X, y = datasets.load_iris(return_X_y=True)\n",
        "\n",
        "X_train, X_test, y_train, y_test = train_test_split(X, y, test_size=0.4, random_state=0)\n",
        "\n",
        "clf = svm.SVC(kernel='linear', C=1).fit(X_train, y_train)\n",
        "print('Score: ', clf.score(X_test, y_test))\n",
        "\n",
        "\n",
        "\n",
        "from sklearn.model_selection import cross_validate\n",
        "\n",
        "print('\\nCross Validation:')\n",
        "cv_results = cross_validate(clf, X, y, cv=3)\n",
        "\n",
        "print(cv_results['test_score'])\n",
        "\n",
        "\n"
      ]
    },
    {
      "cell_type": "markdown",
      "id": "c8c0148b",
      "metadata": {
        "id": "c8c0148b"
      },
      "source": [
        "### AUC - ROC Кривые"
      ]
    },
    {
      "cell_type": "markdown",
      "id": "ba06370d",
      "metadata": {
        "id": "ba06370d"
      },
      "source": [
        "Полезным инструментом при прогнозировании вероятности бинарного исхода является **Кривая рабочих характеристик приемника или кривая ROC**.\n",
        "\n",
        "Это график зависимости числа ложных срабатываний (ось X) от истинного положительного значения (ось Y) для ряда различных возможных пороговых значений от 0,0 до 1,0. Иными словами, он отображает частоту ложных срабатываний и частоту попаданий."
      ]
    },
    {
      "cell_type": "code",
      "execution_count": null,
      "id": "098ee2e8",
      "metadata": {
        "id": "098ee2e8",
        "outputId": "09c3de15-e930-4a98-b5ed-836a0b1b5bac"
      },
      "outputs": [
        {
          "data": {
            "text/plain": [
              "[<matplotlib.lines.Line2D at 0x1f084001b20>]"
            ]
          },
          "execution_count": 55,
          "metadata": {},
          "output_type": "execute_result"
        },
        {
          "data": {
            "image/png": "[encoded data removed]",
            "text/plain": [
              "<Figure size 432x288 with 1 Axes>"
            ]
          },
          "metadata": {
            "needs_background": "light"
          },
          "output_type": "display_data"
        }
      ],
      "source": [
        "import numpy as np\n",
        "import matplotlib.pyplot as plt\n",
        "\n",
        "from sklearn.metrics import roc_curve, auc\n",
        "from sklearn.metrics import roc_auc_score\n",
        "\n",
        "from sklearn.model_selection import train_test_split\n",
        "from sklearn.preprocessing import label_binarize\n",
        "from sklearn.multiclass import OneVsRestClassifier\n",
        "\n",
        "\n",
        "iris = datasets.load_iris()\n",
        "X = iris.data\n",
        "y = iris.target\n",
        "\n",
        "\n",
        "y = label_binarize(y, classes=[0, 1, 2])\n",
        "n_classes = y.shape[1]\n",
        "\n",
        "\n",
        "random_state = np.random.RandomState(0)\n",
        "n_samples, n_features = X.shape\n",
        "X = np.c_[X, random_state.randn(n_samples, 200 * n_features)]\n",
        "\n",
        "\n",
        "X_train, X_test, y_train, y_test = train_test_split(X, y, test_size=.5,\n",
        "                                                    random_state=0)\n",
        "\n",
        "\n",
        "classifier = OneVsRestClassifier(svm.SVC(kernel='linear', probability=True,\n",
        "                                 random_state=random_state))\n",
        "y_score = classifier.fit(X_train, y_train).decision_function(X_test)\n",
        "\n",
        "# Compute ROC curve and ROC area for each class\n",
        "fpr = dict()\n",
        "tpr = dict()\n",
        "roc_auc = dict()\n",
        "for i in range(n_classes):\n",
        "    fpr[i], tpr[i], _ = roc_curve(y_test[:, i], y_score[:, i])\n",
        "    roc_auc[i] = auc(fpr[i], tpr[i])\n",
        "\n",
        "# Compute micro-average ROC curve and ROC area\n",
        "fpr[\"micro\"], tpr[\"micro\"], _ = roc_curve(y_test.ravel(), y_score.ravel())\n",
        "roc_auc[\"micro\"] = auc(fpr[\"micro\"], tpr[\"micro\"])\n",
        "\n",
        "plt.figure()\n",
        "lw = 2\n",
        "plt.plot(fpr[2], tpr[2], color='darkorange', lw=lw, label='ROC curve (area = %0.2f)' % roc_auc[2])\n",
        "plt.plot([0, 1], [0, 1], color='navy', lw=lw, linestyle='--')"
      ]
    },
    {
      "cell_type": "markdown",
      "id": "297fc00d",
      "metadata": {
        "id": "297fc00d"
      },
      "source": [
        "Другие функции и методы оценки смотрите в документации."
      ]
    },
    {
      "cell_type": "markdown",
      "id": "b43c3fb6",
      "metadata": {
        "id": "b43c3fb6"
      },
      "source": [
        "## Оптимизация модели"
      ]
    },
    {
      "cell_type": "markdown",
      "id": "f8fe2cb3",
      "metadata": {
        "id": "f8fe2cb3"
      },
      "source": [
        "Поиск правильных значений параметров, которые позволят максимизировать точность прогнозирования модели.\n",
        "\n",
        "### Grid Search\n",
        "\n",
        "GridSearch — поиск лучших параметров в фиксированной сетке возможных значений. CV – перекрёстная проверка (кросс-валидация, Cross-validation), метод, который показывает, что модель не переобучилась.\n",
        "\n",
        "Параметры GridSearchCV:\n",
        "\n",
        "estimator — модель которую хотим обучать (алгоритм);\n",
        "\n",
        "param_grid — передаем какие параметры хотим подбирать, GridSearchCV на всех параметрах попробует сделать обучение;\n",
        "\n",
        "CV — сколько разрезов кросс-валидации мы ходим сделать;\n",
        "\n",
        "scoring — выбор метрики ошибки (для разных задач можно выбрать разные функции ошибки)."
      ]
    },
    {
      "cell_type": "code",
      "execution_count": null,
      "id": "2cdc7044",
      "metadata": {
        "scrolled": true,
        "id": "2cdc7044",
        "outputId": "87fa091b-ba9d-4caf-d374-57fa079c49c1"
      },
      "outputs": [
        {
          "name": "stdout",
          "output_type": "stream",
          "text": [
            "0.49333333333333335\n",
            "1\n",
            "cityblock\n"
          ]
        }
      ],
      "source": [
        "from sklearn.model_selection import GridSearchCV\n",
        "\n",
        "\n",
        "knn = neighbors.KNeighborsClassifier()\n",
        "\n",
        "# параметры, которые будем перебирать\n",
        "params = {'n_neighbors': [1, 2, 3], 'metric':['euclidean','cityblock']} \n",
        "\n",
        "grid = GridSearchCV(estimator = knn, param_grid = params)\n",
        "grid.fit(X_train, y_train)\n",
        "\n",
        "print(grid.best_score_)\n",
        "print(grid.best_estimator_.n_neighbors)\n",
        "print(grid.best_estimator_.metric)"
      ]
    },
    {
      "cell_type": "markdown",
      "id": "50af1a17",
      "metadata": {
        "id": "50af1a17"
      },
      "source": [
        "Кроме GridSearch существует ещё Randomized Parameter Optimization (не все значения параметров проверяются, а из указанных распределений выбирается фиксированное количество параметров)."
      ]
    },
    {
      "cell_type": "markdown",
      "id": "31ec9223",
      "metadata": {
        "id": "31ec9223"
      },
      "source": [
        "## Пример"
      ]
    },
    {
      "cell_type": "code",
      "execution_count": null,
      "id": "655bb46e",
      "metadata": {
        "id": "655bb46e",
        "outputId": "678fb773-a511-406f-85fb-f9a9c7102849"
      },
      "outputs": [
        {
          "name": "stdout",
          "output_type": "stream",
          "text": [
            "\n",
            "Prediction accuracy for the standardized test dataset with PCA\n",
            "98.15%\n",
            "\n"
          ]
        },
        {
          "data": {
            "image/png": "[encoded data removed]",
            "text/plain": [
              "<Figure size 720x504 with 1 Axes>"
            ]
          },
          "metadata": {
            "needs_background": "light"
          },
          "output_type": "display_data"
        }
      ],
      "source": [
        "from sklearn.model_selection import train_test_split\n",
        "from sklearn.preprocessing import StandardScaler\n",
        "from sklearn.decomposition import PCA\n",
        "from sklearn.naive_bayes import GaussianNB\n",
        "from sklearn import metrics\n",
        "import matplotlib.pyplot as plt\n",
        "from sklearn.datasets import load_wine\n",
        "from sklearn.pipeline import make_pipeline\n",
        "\n",
        "\n",
        "RANDOM_STATE = 42\n",
        "FIG_SIZE = (10, 7)\n",
        "\n",
        "\n",
        "features, target = load_wine(return_X_y=True)\n",
        "\n",
        "\n",
        "X_train, X_test, y_train, y_test = train_test_split(features, target,\n",
        "                                                    test_size=0.30,\n",
        "                                                    random_state=RANDOM_STATE)\n",
        "\n",
        "\n",
        "std_clf = make_pipeline(StandardScaler(), PCA(n_components=2), GaussianNB())\n",
        "\n",
        "std_clf.fit(X_train, y_train)\n",
        "\n",
        "pred_test_std = std_clf.predict(X_test)\n",
        "\n",
        "\n",
        "print('\\nPrediction accuracy for the standardized test dataset with PCA')\n",
        "print('{:.2%}\\n'.format(metrics.accuracy_score(y_test, pred_test_std)))\n",
        "\n",
        "pca_std = std_clf.named_steps['pca']\n",
        "\n",
        "\n",
        "scaler = std_clf.named_steps['standardscaler']\n",
        "X_train_std_transformed = pca_std.transform(scaler.transform(X_train))\n",
        "\n",
        "\n",
        "# делаем график\n",
        "fig, ax2 = plt.subplots(ncols=1, figsize=FIG_SIZE)\n",
        "\n",
        "\n",
        "for l, c, m in zip(range(0, 3), ('blue', 'red', 'green'), ('^', 's', 'o')):\n",
        "    ax2.scatter(X_train_std_transformed[y_train == l, 0],\n",
        "                X_train_std_transformed[y_train == l, 1],\n",
        "                color=c,\n",
        "                label='class %s' % l,\n",
        "                alpha=0.5,\n",
        "                marker=m\n",
        "                )\n",
        "ax2.set_title('Standardized training dataset after PCA')\n",
        "\n",
        "ax2.set_xlabel('1st principal component')\n",
        "ax2.set_ylabel('2nd principal component')\n",
        "ax2.legend(loc='upper right')\n",
        "ax2.grid()\n",
        "\n",
        "plt.tight_layout()\n",
        "\n",
        "plt.show()"
      ]
    },
    {
      "cell_type": "markdown",
      "id": "312a7a9c",
      "metadata": {
        "id": "312a7a9c"
      },
      "source": [
        "## Сохранение и загрузка модели"
      ]
    },
    {
      "cell_type": "code",
      "execution_count": null,
      "id": "5c4ffc15",
      "metadata": {
        "scrolled": true,
        "id": "5c4ffc15"
      },
      "outputs": [],
      "source": [
        "# с помощью модуля pickle\n",
        "\n",
        "\n",
        "iris = datasets.load_iris()\n",
        "X, y = iris.data, iris.target\n",
        "\n",
        "\n",
        "clf = svm.SVC()\n",
        "clf.fit(X, y)  \n",
        "\n",
        "\n",
        "import pickle\n",
        "\n",
        "# save\n",
        "with open('model.pkl','wb') as f:\n",
        "    pickle.dump(clf,f)\n",
        "\n",
        "# load\n",
        "with open('model.pkl', 'rb') as f:\n",
        "    clf2 = pickle.load(f)\n",
        "\n",
        "\n",
        "\n",
        "clf2.predict(X[0:1])"
      ]
    },
    {
      "cell_type": "code",
      "execution_count": null,
      "id": "4c3e05a6",
      "metadata": {
        "id": "4c3e05a6"
      },
      "outputs": [],
      "source": [
        "# с помощью joblib\n",
        "\n",
        "iris = datasets.load_iris()\n",
        "X, y = iris.data, iris.target\n",
        "\n",
        "clf = svm.SVC()\n",
        "clf.fit(X, y)  \n",
        "\n",
        "\n",
        "\n",
        "import joblib\n",
        "\n",
        "# save\n",
        "joblib.dump(clf, \"model.pkl\") \n",
        "\n",
        "# load\n",
        "clf2 = joblib.load(\"model.pkl\")\n",
        "\n",
        "clf2.predict(X[0:1])"
      ]
    },
    {
      "cell_type": "markdown",
      "id": "b945a387",
      "metadata": {
        "id": "b945a387"
      },
      "source": [
        "## Полезные ресурсы"
      ]
    },
    {
      "cell_type": "markdown",
      "id": "9909364e",
      "metadata": {
        "id": "9909364e"
      },
      "source": [
        "* Официальная документация: https://scikit-learn.org/stable/\n",
        "* Плас Дж. Вандер. Python для сложных задач: наука о данных и машинное обучение. — СПб.: Питер, 2018. — 576 с.\n",
        "* Основы Jupyter Notebook (Python): https://www.youtube.com/watch?v=s0q2GpcYxo4\n",
        "* Специализация Машинное обучение и анализ данных (Coursera): https://ru.coursera.org/specializations/machine-learning-data-analysis\n",
        "* Библиотеки Для Машинного Обучения: Scikit-learn, TensorFlow, Keras, PyTorch | В Чём Разница?: https://www.youtube.com/watch?v=WPmvIbSuBy\n"
      ]
    },
    {
      "cell_type": "markdown",
      "id": "b7ac3073",
      "metadata": {
        "id": "b7ac3073"
      },
      "source": [
        "![YouTube_banner.png](attachment:YouTube_banner.png)"
      ]
    }
  ],
  "metadata": {
    "kernelspec": {
      "display_name": "Python 3 (ipykernel)",
      "language": "python",
      "name": "python3"
    },
    "language_info": {
      "codemirror_mode": {
        "name": "ipython",
        "version": 3
      },
      "file_extension": ".py",
      "mimetype": "text/x-python",
      "name": "python",
      "nbconvert_exporter": "python",
      "pygments_lexer": "ipython3",
      "version": "3.9.13"
    },
    "colab": {
      "provenance": [],
      "include_colab_link": true
    }
  },
  "nbformat": 4,
  "nbformat_minor": 5
}