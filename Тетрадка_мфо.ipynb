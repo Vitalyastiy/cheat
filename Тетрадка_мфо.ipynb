{
 "cells": [
  {
   "attachments": {},
   "cell_type": "markdown",
   "metadata": {},
   "source": [
    "Подключаем библиотеки и загружаем и подготавливаем датасеты"
   ]
  },
  {
   "cell_type": "code",
   "execution_count": 290,
   "metadata": {},
   "outputs": [],
   "source": [
    "import py7zr\n",
    "import pandas as pd\n",
    "import pandas as pd\n",
    "from datetime import date, timedelta\n",
    "import win32com.client as win32\n",
    "import schedule\n",
    "import time\n",
    "import teradatasql\n",
    "import datetime\n",
    "import seaborn as sns\n",
    "import phik\n",
    "from phik.report import plot_correlation_matrix\n",
    "from phik import report"
   ]
  },
  {
   "cell_type": "code",
   "execution_count": 291,
   "metadata": {},
   "outputs": [],
   "source": [
    "user=\"vitaly.**\"\n",
    "password=\"***\"\n",
    "query = '''select * from uat_ca.vf_ad_hoc_finance_org'''"
   ]
  },
  {
   "cell_type": "code",
   "execution_count": null,
   "metadata": {},
   "outputs": [],
   "source": [
    "with teradatasql.connect(host=\"td2800.corp.tele2.ru\", user=user, password=password,logmech=\"ldap\", tmode=\"TERA\" ) as connect:\n",
    "    df = pd.read_sql(query, connect)\n",
    "df"
   ]
  },
  {
   "cell_type": "code",
   "execution_count": null,
   "metadata": {},
   "outputs": [],
   "source": [
    "df.info()"
   ]
  },
  {
   "cell_type": "code",
   "execution_count": null,
   "metadata": {},
   "outputs": [],
   "source": [
    "archive = py7zr.SevenZipFile('2022.7z', mode='r')\n",
    "archive.extractall()\n",
    "archive.close()"
   ]
  },
  {
   "cell_type": "code",
   "execution_count": null,
   "metadata": {},
   "outputs": [],
   "source": [
    "df1 = pd.read_csv(\"МФО_01_12_2021 - 27_11_2022.csv\")\n",
    "df1"
   ]
  },
  {
   "cell_type": "code",
   "execution_count": 107,
   "metadata": {},
   "outputs": [],
   "source": [
    "input = df1['month']\n",
    "qw=[]\n",
    "# format\n",
    "format = '%m_%Y'\n",
    "for i in input:\n",
    "    \n",
    "    # convert from string format to datetime format\n",
    "    # and get the date\n",
    "    qw.append(datetime.datetime.strptime(i, format).date())"
   ]
  },
  {
   "cell_type": "code",
   "execution_count": null,
   "metadata": {},
   "outputs": [],
   "source": [
    "df1['Month'] = qw\n",
    "df1"
   ]
  },
  {
   "cell_type": "code",
   "execution_count": 296,
   "metadata": {},
   "outputs": [
    {
     "data": {
      "text/plain": [
       "msisdn       0\n",
       "month        0\n",
       "kolvo_mfo    0\n",
       "kolvo_sms    0\n",
       "Month        0\n",
       "dtype: int64"
      ]
     },
     "execution_count": 296,
     "metadata": {},
     "output_type": "execute_result"
    }
   ],
   "source": [
    "df1.isnull().sum() #.sum () - в датафрейме количетсво незаполненных ячеек - 0"
   ]
  },
  {
   "cell_type": "code",
   "execution_count": null,
   "metadata": {},
   "outputs": [],
   "source": [
    "#Распределение по количеству\n",
    "df1.groupby(['Month']).agg({'msisdn': ['count']}).reset_index().plot(kind='bar', x = 'Month', title= 'Распределение смс от МФО', color = 'red')\n",
    "\n"
   ]
  },
  {
   "cell_type": "code",
   "execution_count": null,
   "metadata": {},
   "outputs": [],
   "source": [
    "dfg=df1.groupby(['Month'])[['kolvo_sms', 'msisdn', 'kolvo_mfo']].agg(['mean'])\n",
    "dfg"
   ]
  },
  {
   "cell_type": "code",
   "execution_count": null,
   "metadata": {},
   "outputs": [],
   "source": [
    "g = sns.lmplot(\n",
    "    data=dfg,\n",
    "    x=\"kolvo_sms\", y=\"kolvo_mfo\",\n",
    "    height=5\n",
    ")"
   ]
  },
  {
   "cell_type": "code",
   "execution_count": null,
   "metadata": {},
   "outputs": [],
   "source": [
    "df['create_date_n']=df['create_date'].apply(lambda x: x.replace(day=1))\n",
    "df"
   ]
  },
  {
   "cell_type": "code",
   "execution_count": 301,
   "metadata": {},
   "outputs": [],
   "source": [
    "df['create_date_1']=df['create_date_n'] - timedelta(1)"
   ]
  },
  {
   "cell_type": "code",
   "execution_count": null,
   "metadata": {},
   "outputs": [],
   "source": [
    "df['create_date_1']=df['create_date_1'].apply(lambda x: x.replace(day=1))\n",
    "df"
   ]
  },
  {
   "cell_type": "code",
   "execution_count": null,
   "metadata": {},
   "outputs": [],
   "source": [
    "df.groupby(['create_date_n'])[['nps']].agg(['mean']).plot(kind='bar')\n"
   ]
  },
  {
   "attachments": {},
   "cell_type": "markdown",
   "metadata": {},
   "source": [
    "объединение данных\n"
   ]
  },
  {
   "cell_type": "code",
   "execution_count": null,
   "metadata": {},
   "outputs": [],
   "source": [
    "# 1 без условий, по номеру\n",
    "df_00 = pd.merge(df, df1, how='inner', on=['msisdn'])\n",
    "df_00"
   ]
  },
  {
   "cell_type": "code",
   "execution_count": null,
   "metadata": {},
   "outputs": [],
   "source": [
    "def f (row):\n",
    "    if row ['kolvo_sms']>11 :\n",
    "       val = 'yes' \n",
    "    else:\n",
    "        val = 'no'\n",
    "    return val\n",
    "df_00['more then 11'] = df_00.apply (f, axis=1)\n",
    "df_00['more then 11'].value_counts()\n",
    "\n",
    "d_2345=df_00.groupby(['more then 11'])[['kolvo_mfo', 'kolvo_sms', 'nps']].agg([ 'mean', 'count'])\n",
    "d_2345.columns = ['_'.join(col).strip() for col in d_2345.columns.values]\n",
    "d_2345"
   ]
  },
  {
   "cell_type": "code",
   "execution_count": null,
   "metadata": {},
   "outputs": [],
   "source": [
    "d00=df_00.groupby(['Month'])[['kolvo_sms', 'nps', 'kolvo_mfo']].agg(['mean'])\n",
    "d00.corr()"
   ]
  },
  {
   "cell_type": "code",
   "execution_count": null,
   "metadata": {},
   "outputs": [],
   "source": [
    "g0 = sns.lmplot(\n",
    "    data=d00,\n",
    "    x=\"nps\", y=\"kolvo_sms\",\n",
    "    height=5\n",
    ")\n",
    "g1 = sns.lmplot(\n",
    "    data=d00,\n",
    "    x=\"nps\", y=\"kolvo_mfo\",\n",
    "    height=5\n",
    ")"
   ]
  },
  {
   "attachments": {},
   "cell_type": "markdown",
   "metadata": {},
   "source": [
    "Объеденение с уловиями месяц = месяц, месяц  = месяц - 1"
   ]
  },
  {
   "cell_type": "code",
   "execution_count": null,
   "metadata": {},
   "outputs": [],
   "source": [
    "df_0 = pd.merge(df, df1, how='inner', left_on=['msisdn', 'create_date_n'] \\\n",
    ", right_on = ['msisdn','Month'])\n",
    "df_0= df_0[['create_date', 'create_date_n', 'Month', 'msisdn', 'nps', 'kolvo_mfo', 'kolvo_sms', 'age', 'gender', 'ltr' ]]\n",
    "df_0"
   ]
  },
  {
   "cell_type": "code",
   "execution_count": null,
   "metadata": {},
   "outputs": [],
   "source": [
    "d0=df_0.groupby(['Month'])[['kolvo_sms', 'nps', 'kolvo_mfo']].agg(['mean'])\n",
    "d0.corr()\n"
   ]
  },
  {
   "cell_type": "code",
   "execution_count": null,
   "metadata": {},
   "outputs": [],
   "source": [
    "g0 = sns.lmplot(\n",
    "    data=d0,\n",
    "    x=\"nps\", y=\"kolvo_mfo\",\n",
    "    height=5\n",
    ")"
   ]
  },
  {
   "cell_type": "code",
   "execution_count": null,
   "metadata": {},
   "outputs": [],
   "source": [
    "d02=df_0.groupby(['kolvo_sms'])[['kolvo_mfo', 'nps', ]].agg(['mean', 'sum'])\n",
    "d02"
   ]
  },
  {
   "cell_type": "code",
   "execution_count": null,
   "metadata": {},
   "outputs": [],
   "source": [
    "g04 = sns.lmplot(\n",
    "    data=d02,\n",
    "    x=\"nps\", y=\"kolvo_sms\",\n",
    "    height=5\n",
    ")"
   ]
  },
  {
   "cell_type": "code",
   "execution_count": null,
   "metadata": {},
   "outputs": [],
   "source": [
    "df_0['bins']=pd.qcut(df_0['kolvo_sms'], q=4)\n",
    "df_0"
   ]
  },
  {
   "cell_type": "code",
   "execution_count": null,
   "metadata": {},
   "outputs": [],
   "source": [
    "df_0['bins'].value_counts()"
   ]
  },
  {
   "cell_type": "code",
   "execution_count": null,
   "metadata": {},
   "outputs": [],
   "source": [
    "df11 = df_0[df_0['kolvo_sms'] >=11]\n",
    "df11"
   ]
  },
  {
   "cell_type": "code",
   "execution_count": null,
   "metadata": {},
   "outputs": [],
   "source": [
    "d_11=df11.groupby(['kolvo_mfo'])[['kolvo_sms']].agg(['mean', 'sum', 'count'])\n",
    "d_11.columns = ['_'.join(col).strip() for col in d_11.columns.values]\n",
    "d_11['kolvo_sms_mean'].plot(color ='tab:red', ylabel='kolvo_sms' , title='Зависимость смс от МФО')\n",
    "\n"
   ]
  },
  {
   "cell_type": "code",
   "execution_count": null,
   "metadata": {},
   "outputs": [],
   "source": [
    "d_2=df_0.groupby(['bins'])[['kolvo_mfo', 'kolvo_sms', 'nps']].agg([ 'mean', 'sum'])\n",
    "d_2.columns = ['_'.join(col).strip() for col in d_2.columns.values]\n",
    "d_2[['kolvo_mfo_mean', 'kolvo_mfo_sum', 'kolvo_sms_mean', 'kolvo_sms_sum','nps_mean']]"
   ]
  },
  {
   "cell_type": "code",
   "execution_count": null,
   "metadata": {},
   "outputs": [],
   "source": [
    "sns.heatmap(d_2[['kolvo_mfo_mean', 'kolvo_mfo_sum', 'kolvo_sms_mean', 'kolvo_sms_sum','nps_mean']].corr())"
   ]
  },
  {
   "cell_type": "code",
   "execution_count": null,
   "metadata": {},
   "outputs": [],
   "source": [
    "df_0"
   ]
  },
  {
   "cell_type": "code",
   "execution_count": 510,
   "metadata": {},
   "outputs": [],
   "source": [
    "df_0.drop('bins_2', axis= 1 , inplace= True ) "
   ]
  },
  {
   "cell_type": "code",
   "execution_count": null,
   "metadata": {},
   "outputs": [],
   "source": [
    "def f (row):\n",
    "    if row ['kolvo_sms']>11 :\n",
    "       val = 'yes' \n",
    "    else:\n",
    "        val = 'no'\n",
    "    return val\n",
    "df_0['more then 11'] = df_0.apply (f, axis=1)\n",
    "df_0['more then 11'].value_counts()\n"
   ]
  },
  {
   "cell_type": "code",
   "execution_count": 537,
   "metadata": {},
   "outputs": [],
   "source": [
    "d_23=df_0.groupby(['more then 11'])[['kolvo_mfo', 'kolvo_sms', 'nps']].agg([ 'mean', 'count'])\n",
    "d_23.columns = ['_'.join(col).strip() for col in d_23.columns.values]"
   ]
  },
  {
   "cell_type": "code",
   "execution_count": null,
   "metadata": {},
   "outputs": [],
   "source": [
    "d_23"
   ]
  },
  {
   "attachments": {},
   "cell_type": "markdown",
   "metadata": {},
   "source": [
    "-month\n"
   ]
  },
  {
   "cell_type": "code",
   "execution_count": null,
   "metadata": {},
   "outputs": [],
   "source": [
    "df_1 = pd.merge(df, df1, how='inner', left_on=['msisdn', 'create_date_1'] \\\n",
    ", right_on = ['msisdn','Month'])\n",
    "df_1 = df_1[['create_date', 'create_date_1', 'Month', 'msisdn', 'nps', 'kolvo_mfo', 'kolvo_sms', 'age', 'gender', 'ltr' ]]\n",
    "df_1"
   ]
  },
  {
   "cell_type": "code",
   "execution_count": null,
   "metadata": {},
   "outputs": [],
   "source": [
    "df_1"
   ]
  },
  {
   "cell_type": "code",
   "execution_count": null,
   "metadata": {},
   "outputs": [],
   "source": [
    "df12 = df_1[df_0['kolvo_sms'] >=11]\n",
    "df12"
   ]
  },
  {
   "cell_type": "code",
   "execution_count": 541,
   "metadata": {},
   "outputs": [
    {
     "data": {
      "text/plain": [
       "no     1280\n",
       "yes     458\n",
       "Name: more then 11, dtype: int64"
      ]
     },
     "execution_count": 541,
     "metadata": {},
     "output_type": "execute_result"
    }
   ],
   "source": [
    "def f (row):\n",
    "    if row ['kolvo_sms']>11 :\n",
    "       val = 'yes' \n",
    "    else:\n",
    "        val = 'no'\n",
    "    return val\n",
    "df_1['more then 11'] = df_1.apply (f, axis=1)\n",
    "df_1['more then 11'].value_counts()"
   ]
  },
  {
   "cell_type": "code",
   "execution_count": null,
   "metadata": {},
   "outputs": [],
   "source": [
    "d_234=df_1.groupby(['more then 11'])[['kolvo_mfo', 'kolvo_sms', 'nps']].agg([ 'mean', 'count'])\n",
    "d_234.columns = ['_'.join(col).strip() for col in d_234.columns.values]\n",
    "d_234"
   ]
  },
  {
   "cell_type": "code",
   "execution_count": null,
   "metadata": {},
   "outputs": [],
   "source": [
    "d1=df_1.groupby(['Month'])[['kolvo_sms', 'kolvo_mfo', 'nps']].agg([ 'mean'])\n",
    "print(d1.corr())\n",
    "sns.heatmap(df_1[['kolvo_mfo','kolvo_sms','nps']].corr())"
   ]
  },
  {
   "cell_type": "code",
   "execution_count": null,
   "metadata": {},
   "outputs": [],
   "source": [
    "g2 = sns.lmplot(\n",
    "    data=d1,\n",
    "    x=\"nps\", y=\"kolvo_sms\",\n",
    "    height=5\n",
    ")\n"
   ]
  },
  {
   "cell_type": "code",
   "execution_count": null,
   "metadata": {},
   "outputs": [],
   "source": [
    "d2=df_1.groupby(['kolvo_sms'])[['kolvo_mfo', 'nps']].agg([ 'mean', 'count'])\n",
    "d2.columns = ['_'.join(col).strip() for col in d2.columns.values]\n",
    "d2\n",
    "#df_1['bins'] = pd.cut(d2['kolvo_sms'],3)\n"
   ]
  },
  {
   "cell_type": "code",
   "execution_count": null,
   "metadata": {},
   "outputs": [],
   "source": [
    "df_1['bins']=pd.qcut(df_1['kolvo_sms'], q=4)\n",
    "df_1"
   ]
  },
  {
   "cell_type": "code",
   "execution_count": null,
   "metadata": {},
   "outputs": [],
   "source": [
    "df_1['bins'].value_counts()"
   ]
  },
  {
   "cell_type": "code",
   "execution_count": null,
   "metadata": {},
   "outputs": [],
   "source": [
    "d3=df_1.groupby(['bins'])[['kolvo_mfo', 'kolvo_sms', 'nps']].agg([ 'mean', 'sum'])\n",
    "d3.columns = ['_'.join(col).strip() for col in d3.columns.values]\n",
    "d3[['kolvo_mfo_mean', 'kolvo_mfo_sum', 'kolvo_sms_mean', 'kolvo_sms_sum','nps_mean']]\n"
   ]
  },
  {
   "cell_type": "code",
   "execution_count": null,
   "metadata": {},
   "outputs": [],
   "source": [
    "d3[['kolvo_mfo_mean', 'kolvo_mfo_sum', 'kolvo_sms_mean', 'kolvo_sms_sum','nps_mean']].corr()"
   ]
  },
  {
   "cell_type": "code",
   "execution_count": null,
   "metadata": {},
   "outputs": [],
   "source": []
  },
  {
   "cell_type": "code",
   "execution_count": null,
   "metadata": {},
   "outputs": [],
   "source": []
  },
  {
   "cell_type": "code",
   "execution_count": null,
   "metadata": {},
   "outputs": [],
   "source": []
  },
  {
   "cell_type": "code",
   "execution_count": null,
   "metadata": {},
   "outputs": [],
   "source": [
    "sns.boxplot(x=\"ltr\", y=\"kolvo_mfo\",\n",
    "          \n",
    "            data=df_0)"
   ]
  },
  {
   "cell_type": "code",
   "execution_count": null,
   "metadata": {},
   "outputs": [],
   "source": [
    "df_0"
   ]
  },
  {
   "cell_type": "code",
   "execution_count": null,
   "metadata": {},
   "outputs": [],
   "source": [
    "sns.scatterplot(data = df_0, x='kolvo_mfo' , y = 'kolvo_sms', hue = 'gender')"
   ]
  },
  {
   "cell_type": "code",
   "execution_count": null,
   "metadata": {},
   "outputs": [],
   "source": [
    "sns.displot(data=df_0, x=\"ltr\")\n",
    "sns.displot(data=df_0, x=\"age\")\n"
   ]
  },
  {
   "cell_type": "code",
   "execution_count": null,
   "metadata": {},
   "outputs": [],
   "source": []
  },
  {
   "cell_type": "code",
   "execution_count": null,
   "metadata": {},
   "outputs": [],
   "source": []
  },
  {
   "cell_type": "code",
   "execution_count": null,
   "metadata": {},
   "outputs": [],
   "source": []
  },
  {
   "cell_type": "code",
   "execution_count": null,
   "metadata": {},
   "outputs": [],
   "source": []
  }
 ],
 "metadata": {
  "kernelspec": {
   "display_name": "base",
   "language": "python",
   "name": "python3"
  },
  "language_info": {
   "codemirror_mode": {
    "name": "ipython",
    "version": 3
   },
   "file_extension": ".py",
   "mimetype": "text/x-python",
   "name": "python",
   "nbconvert_exporter": "python",
   "pygments_lexer": "ipython3",
   "version": "3.9.13"
  },
  "orig_nbformat": 4,
  "vscode": {
   "interpreter": {
    "hash": "d9acfe8064b338b087cf5b985d533c132426f668fd9f5be560d7a729870e8555"
   }
  }
 },
 "nbformat": 4,
 "nbformat_minor": 2
}
