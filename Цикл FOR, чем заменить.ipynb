{
 "cells": [
  {
   "cell_type": "code",
   "execution_count": null,
   "metadata": {},
   "outputs": [],
   "source": [
    "#тесты с циклами\n",
    "import pandas as pd\n",
    "import numpy as np\n",
    "df = pd.read_csv('https://raw.githubusercontent.com/mlabonne/how-to-data-science/main/data/nslkdd_test.txt')\n",
    "df"
   ]
  },
  {
   "cell_type": "code",
   "execution_count": null,
   "metadata": {},
   "outputs": [],
   "source": [
    "#1.8 сек / 0.9 сек \n",
    "met_1 = []\n",
    "for i, row in df.iterrows():\n",
    "    met_1.append(row['src_bytes'] + row['dst_bytes'])\n",
    "df['met_1'] = met_1\n",
    "df"
   ]
  },
  {
   "cell_type": "code",
   "execution_count": null,
   "metadata": {},
   "outputs": [],
   "source": [
    "#0.6 сек \n",
    "met_2 = []\n",
    "for i in range(len(df)):\n",
    "    met_2.append(df['src_bytes'].loc[i] + df['dst_bytes'].loc[i])\n",
    "df['met_2'] = met_2\n",
    "df"
   ]
  },
  {
   "cell_type": "code",
   "execution_count": null,
   "metadata": {},
   "outputs": [],
   "source": [
    "#0.4\n",
    "met_3 = []\n",
    "for i in range(len(df)):\n",
    "    met_3.append(df['src_bytes'].iloc[i] + df['dst_bytes'].iloc[i])\n",
    "df['met_3'] = met_3\n",
    "df"
   ]
  },
  {
   "cell_type": "code",
   "execution_count": null,
   "metadata": {},
   "outputs": [],
   "source": [
    "#0.3\n",
    "df['met_4'] = df.apply(lambda row: row['src_bytes'] + row['dst_bytes'], axis=1)\n",
    "df"
   ]
  },
  {
   "cell_type": "code",
   "execution_count": null,
   "metadata": {},
   "outputs": [],
   "source": [
    "#0.1\n",
    "met_5 = []\n",
    "for i in df.itertuples():\n",
    "    met_5.append(i[5] + i[6])\n",
    "df['met_5'] = met_5\n",
    "df"
   ]
  },
  {
   "cell_type": "code",
   "execution_count": 39,
   "metadata": {},
   "outputs": [],
   "source": [
    "# 0.4 лист компрехешэн\n",
    "df['met_6'] = [src + dst for src, dst in zip(df['src_bytes'], df['dst_bytes'])]"
   ]
  },
  {
   "cell_type": "code",
   "execution_count": null,
   "metadata": {},
   "outputs": [],
   "source": [
    "#0.3\n",
    "df['met_7'] = (df['src_bytes'] + df['dst_bytes']).to_list()\n",
    "df"
   ]
  },
  {
   "cell_type": "code",
   "execution_count": null,
   "metadata": {},
   "outputs": [],
   "source": [
    "(df['src_bytes'].to_numpy() + df['dst_bytes'].to_numpy()).tolist()"
   ]
  },
  {
   "cell_type": "code",
   "execution_count": null,
   "metadata": {},
   "outputs": [],
   "source": []
  },
  {
   "cell_type": "code",
   "execution_count": null,
   "metadata": {},
   "outputs": [],
   "source": []
  }
 ],
 "metadata": {
  "kernelspec": {
   "display_name": "Python 3.9.13 ('base')",
   "language": "python",
   "name": "python3"
  },
  "language_info": {
   "codemirror_mode": {
    "name": "ipython",
    "version": 3
   },
   "file_extension": ".py",
   "mimetype": "text/x-python",
   "name": "python",
   "nbconvert_exporter": "python",
   "pygments_lexer": "ipython3",
   "version": "3.9.13"
  },
  "orig_nbformat": 4,
  "vscode": {
   "interpreter": {
    "hash": "d9acfe8064b338b087cf5b985d533c132426f668fd9f5be560d7a729870e8555"
   }
  }
 },
 "nbformat": 4,
 "nbformat_minor": 2
}
