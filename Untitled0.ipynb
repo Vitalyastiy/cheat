{
  "nbformat": 4,
  "nbformat_minor": 0,
  "metadata": {
    "colab": {
      "provenance": [],
      "toc_visible": true,
      "authorship_tag": "ABX9TyOZNdlgIjwaKaAPon+aveVh",
      "include_colab_link": true
    },
    "kernelspec": {
      "name": "python3",
      "display_name": "Python 3"
    },
    "language_info": {
      "name": "python"
    }
  },
  "cells": [
    {
      "cell_type": "markdown",
      "metadata": {
        "id": "view-in-github",
        "colab_type": "text"
      },
      "source": [
        "<a href=\"https://colab.research.google.com/github/Vitalyastiy/guide/blob/main/Untitled0.ipynb\" target=\"_parent\"><img src=\"https://colab.research.google.com/assets/colab-badge.svg\" alt=\"Open In Colab\"/></a>"
      ]
    },
    {
      "cell_type": "markdown",
      "source": [
        "Серия"
      ],
      "metadata": {
        "id": "k9mOT2TFW3YB"
      }
    },
    {
      "cell_type": "code",
      "source": [
        "import pandas as pd\n",
        "a= [3, 6,  7]\n",
        "pd.Series(a)"
      ],
      "metadata": {
        "id": "Fk4ZVAUlWSMB"
      },
      "execution_count": null,
      "outputs": []
    },
    {
      "cell_type": "code",
      "source": [
        "pd.Series(range(10, 100, 10))"
      ],
      "metadata": {
        "id": "OcrTg9okYCog"
      },
      "execution_count": null,
      "outputs": []
    },
    {
      "cell_type": "markdown",
      "source": [
        "Серия с присвоением индекса"
      ],
      "metadata": {
        "id": "dfbrTEqVaIr0"
      }
    },
    {
      "cell_type": "code",
      "source": [
        "g=['a', 'hjj', 'fghj', 'yui']\n",
        "g=pd.Series(g,['a', 'b' , 'bpv', 'jk' ])\n",
        "g"
      ],
      "metadata": {
        "id": "2zppOB87ZJpc"
      },
      "execution_count": null,
      "outputs": []
    },
    {
      "cell_type": "markdown",
      "source": [
        "Словарь"
      ],
      "metadata": {
        "id": "25SsX0avbXxO"
      }
    },
    {
      "cell_type": "code",
      "source": [
        "y={'aas':'hjj', 'jhh':'jhh'}\n",
        "y=pd.Series(y)\n",
        "y"
      ],
      "metadata": {
        "colab": {
          "base_uri": "https://localhost:8080/"
        },
        "id": "tqw57uS4bbjE",
        "outputId": "0c5d0287-7a04-4f21-b954-537d7e3e6127"
      },
      "execution_count": null,
      "outputs": [
        {
          "output_type": "execute_result",
          "data": {
            "text/plain": [
              "aas    hjj\n",
              "jhh    jhh\n",
              "dtype: object"
            ]
          },
          "metadata": {},
          "execution_count": 12
        }
      ]
    }
  ]
}