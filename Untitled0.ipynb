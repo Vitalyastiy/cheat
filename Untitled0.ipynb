{
  "nbformat": 4,
  "nbformat_minor": 0,
  "metadata": {
    "colab": {
      "provenance": [],
      "authorship_tag": "ABX9TyN3g/x5a8SoryfGW7Hs3MBT",
      "include_colab_link": true
    },
    "kernelspec": {
      "name": "python3",
      "display_name": "Python 3"
    },
    "language_info": {
      "name": "python"
    }
  },
  "cells": [
    {
      "cell_type": "markdown",
      "metadata": {
        "id": "view-in-github",
        "colab_type": "text"
      },
      "source": [
        "<a href=\"https://colab.research.google.com/github/Vitalyastiy/guide/blob/main/Untitled0.ipynb\" target=\"_parent\"><img src=\"https://colab.research.google.com/assets/colab-badge.svg\" alt=\"Open In Colab\"/></a>"
      ]
    },
    {
      "cell_type": "markdown",
      "source": [
        "Серия"
      ],
      "metadata": {
        "id": "k9mOT2TFW3YB"
      }
    },
    {
      "cell_type": "code",
      "source": [
        "import pandas as pd\n",
        "a= [3, 6,  7]\n",
        "pd.Series(a)"
      ],
      "metadata": {
        "id": "Fk4ZVAUlWSMB",
        "outputId": "9ba62b87-f13d-4222-aa68-94f61ceb49de",
        "colab": {
          "base_uri": "https://localhost:8080/"
        }
      },
      "execution_count": 1,
      "outputs": [
        {
          "output_type": "execute_result",
          "data": {
            "text/plain": [
              "0    3\n",
              "1    6\n",
              "2    7\n",
              "dtype: int64"
            ]
          },
          "metadata": {},
          "execution_count": 1
        }
      ]
    },
    {
      "cell_type": "code",
      "source": [
        "pd.Series(range(10, 100, 10))"
      ],
      "metadata": {
        "id": "OcrTg9okYCog"
      },
      "execution_count": null,
      "outputs": []
    },
    {
      "cell_type": "markdown",
      "source": [
        " Серия с присвоением индекса. \n",
        "\n",
        "1.   +'asd'\n",
        "2.   *2\n",
        "3. len()\n",
        "\n"
      ],
      "metadata": {
        "id": "dfbrTEqVaIr0"
      }
    },
    {
      "cell_type": "code",
      "source": [
        "g=['a', 'hjj', 'fghj', 'yui']\n",
        "g=pd.Series(g,['a', 'b' , 'bpv', 'jk' ])\n",
        "g*2"
      ],
      "metadata": {
        "id": "2zppOB87ZJpc"
      },
      "execution_count": null,
      "outputs": []
    },
    {
      "cell_type": "markdown",
      "source": [
        "Словарь"
      ],
      "metadata": {
        "id": "25SsX0avbXxO"
      }
    },
    {
      "cell_type": "code",
      "source": [
        "y={'aas':'hjj', 'jhh':'jhh'}\n",
        "y=pd.Series(y)\n",
        "y"
      ],
      "metadata": {
        "id": "tqw57uS4bbjE"
      },
      "execution_count": null,
      "outputs": []
    },
    {
      "cell_type": "markdown",
      "source": [
        "Примеры с сериями, сранение, арифметические операции\n",
        "\n"
      ],
      "metadata": {
        "id": "OyV-KJKE9oOs"
      }
    },
    {
      "cell_type": "code",
      "source": [
        "s=[12, 34, 56, 78, 1]\n",
        "s=pd.Series(s)\n",
        "s>2"
      ],
      "metadata": {
        "id": "jmUovtR49v2m"
      },
      "execution_count": null,
      "outputs": []
    },
    {
      "cell_type": "markdown",
      "source": [
        "max, min, sum, sorted, list, tuple, set"
      ],
      "metadata": {
        "id": "1lZxlCO5A_YN"
      }
    },
    {
      "cell_type": "code",
      "source": [
        "max(s)"
      ],
      "metadata": {
        "id": "dSAvseTTA7R1"
      },
      "execution_count": null,
      "outputs": []
    },
    {
      "cell_type": "markdown",
      "source": [
        "Преобразование к списку"
      ],
      "metadata": {
        "id": "ZQjNc4boDIj7"
      }
    },
    {
      "cell_type": "code",
      "source": [
        "pd.Series(list('world'))"
      ],
      "metadata": {
        "id": "ntK358YgC64g"
      },
      "execution_count": null,
      "outputs": []
    },
    {
      "cell_type": "markdown",
      "source": [
        "Усложнение"
      ],
      "metadata": {
        "id": "1yOeS7qIExvh"
      }
    },
    {
      "cell_type": "code",
      "source": [
        "n=['asd', 'qwe', 'zxc', 'hju']\n",
        "letters='a', 'k', 'h', 'g'\n",
        "s=[12,13,16,18]\n",
        "wn=pd.Series(n)\n",
        "m=pd.Series(s)\n",
        "slet=pd.Series(n, index=letters)"
      ],
      "metadata": {
        "id": "ETc3VZeaC4wd"
      },
      "execution_count": 25,
      "outputs": []
    },
    {
      "cell_type": "code",
      "source": [
        "slet"
      ],
      "metadata": {
        "id": "5fSfwxC6HuKb"
      },
      "execution_count": null,
      "outputs": []
    },
    {
      "cell_type": "code",
      "source": [
        "wn.size"
      ],
      "metadata": {
        "id": "u2f5bbGgIriz"
      },
      "execution_count": null,
      "outputs": []
    },
    {
      "cell_type": "code",
      "source": [
        "\n",
        "wn.values"
      ],
      "metadata": {
        "id": "K-pITZhnE_TC",
        "outputId": "26adbfdf-0a68-44da-a358-8f350eac2d9f",
        "colab": {
          "base_uri": "https://localhost:8080/"
        }
      },
      "execution_count": 28,
      "outputs": [
        {
          "output_type": "execute_result",
          "data": {
            "text/plain": [
              "array(['asd', 'qwe', 'zxc', 'hju'], dtype=object)"
            ]
          },
          "metadata": {},
          "execution_count": 28
        }
      ]
    },
    {
      "cell_type": "code",
      "source": [
        "slet.index"
      ],
      "metadata": {
        "id": "AHcKoEdjGZ44",
        "outputId": "8a436b7c-c499-4a9c-a86d-ec9e9edfa67d",
        "colab": {
          "base_uri": "https://localhost:8080/"
        }
      },
      "execution_count": 29,
      "outputs": [
        {
          "output_type": "execute_result",
          "data": {
            "text/plain": [
              "Index(['a', 'k', 'h', 'g'], dtype='object')"
            ]
          },
          "metadata": {},
          "execution_count": 29
        }
      ]
    },
    {
      "cell_type": "code",
      "source": [
        "wn.ndim #кол-во колонок"
      ],
      "metadata": {
        "id": "xxtcXxlZJU3p",
        "outputId": "8652aad7-102e-4674-e46a-636ebd9046de",
        "colab": {
          "base_uri": "https://localhost:8080/"
        }
      },
      "execution_count": 34,
      "outputs": [
        {
          "output_type": "execute_result",
          "data": {
            "text/plain": [
              "1"
            ]
          },
          "metadata": {},
          "execution_count": 34
        }
      ]
    }
  ]
}