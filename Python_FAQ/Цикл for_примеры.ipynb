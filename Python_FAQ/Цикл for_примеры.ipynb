{
  "nbformat": 4,
  "nbformat_minor": 0,
  "metadata": {
    "colab": {
      "provenance": [],
      "authorship_tag": "ABX9TyO3lad3gIoSD0XVztYX1VpF",
      "include_colab_link": true
    },
    "kernelspec": {
      "name": "python3",
      "display_name": "Python 3"
    },
    "language_info": {
      "name": "python"
    }
  },
  "cells": [
    {
      "cell_type": "markdown",
      "metadata": {
        "id": "view-in-github",
        "colab_type": "text"
      },
      "source": [
        "<a href=\"https://colab.research.google.com/github/Vitalyastiy/cheat-python/blob/main/Python_FAQ/%D0%A6%D0%B8%D0%BA%D0%BB%20for_%D0%BF%D1%80%D0%B8%D0%BC%D0%B5%D1%80%D1%8B.ipynb\" target=\"_parent\"><img src=\"https://colab.research.google.com/assets/colab-badge.svg\" alt=\"Open In Colab\"/></a>"
      ]
    },
    {
      "cell_type": "markdown",
      "source": [
        "циклы for\n",
        "\n",
        "https://telegra.ph/Samouchitel-po-Python-dlya-nachinayushchih-CHast-9-Osobennosti-cikla-for-01-08"
      ],
      "metadata": {
        "id": "5yJXP3gE6gVo"
      }
    },
    {
      "cell_type": "code",
      "source": [
        "#программа, которая считывает n чисел  и выводит второе по минимальности из них\n",
        "n = int(input())\n",
        "a = []\n",
        "for i in range(n):\n",
        "   b = int(input())\n",
        "   a.append(b)\n",
        "\n",
        "print(sorted(a)[1])"
      ],
      "metadata": {
        "id": "ssEc8PWb-1gP"
      },
      "execution_count": null,
      "outputs": []
    },
    {
      "cell_type": "code",
      "source": [
        "n = int(input())\n",
        "min_num = float('inf') # бесконечностъ\n",
        "\n",
        "for i in range(n):\n",
        "    num = int(input())\n",
        "    if num < min_num:\n",
        "        min_num = num\n",
        "\n",
        "print(min_num)"
      ],
      "metadata": {
        "id": "S_0sb83LMlNu"
      },
      "execution_count": null,
      "outputs": []
    },
    {
      "cell_type": "code",
      "source": [
        "#Простой цикл\n",
        "for i in range(3):\n",
        "    print('Python')"
      ],
      "metadata": {
        "id": "NEXeRsSOtQZk",
        "colab": {
          "base_uri": "https://localhost:8080/"
        },
        "outputId": "7fe79c94-62d4-4948-d5f4-589fd974ba9d"
      },
      "execution_count": null,
      "outputs": [
        {
          "output_type": "stream",
          "name": "stdout",
          "text": [
            "Python\n",
            "Python\n",
            "Python\n"
          ]
        }
      ]
    },
    {
      "cell_type": "code",
      "source": [
        "#перебор элементов какой-либо коллекции\n",
        "for i in 'Python':\n",
        "    print(i)"
      ],
      "metadata": {
        "id": "TurFM1e1tQb0",
        "colab": {
          "base_uri": "https://localhost:8080/"
        },
        "outputId": "e873f9d4-17b9-4730-862d-6c62f67194d3"
      },
      "execution_count": null,
      "outputs": [
        {
          "output_type": "stream",
          "name": "stdout",
          "text": [
            "P\n",
            "y\n",
            "t\n",
            "h\n",
            "o\n",
            "n\n"
          ]
        }
      ]
    },
    {
      "cell_type": "code",
      "source": [
        "#Структура вложенного цикла\n",
        "lst1 = ['1', '2', '3']\n",
        "lst2 = ['a', 'b', 'c']\n",
        "for i in lst1:\n",
        "    for j in lst2:\n",
        "        print(i + j)"
      ],
      "metadata": {
        "id": "yMBlrU2OtQd8",
        "colab": {
          "base_uri": "https://localhost:8080/"
        },
        "outputId": "f7e9725c-70c9-401e-d3e1-0901cc864231"
      },
      "execution_count": null,
      "outputs": [
        {
          "output_type": "stream",
          "name": "stdout",
          "text": [
            "1a\n",
            "1b\n",
            "1c\n",
            "2a\n",
            "2b\n",
            "2c\n",
            "3a\n",
            "3b\n",
            "3c\n"
          ]
        }
      ]
    },
    {
      "cell_type": "code",
      "source": [
        "#Структура цикла for с условием\n",
        "st = 'abracad545bra'\n",
        "for i in st:\n",
        "    if not i.isalpha(): # проверак на цифровой символ\n",
        "        print(i)"
      ],
      "metadata": {
        "id": "FFJEI--stQgE",
        "colab": {
          "base_uri": "https://localhost:8080/"
        },
        "outputId": "c2e317a3-82e5-4b85-f0ef-4aeec03c0fa6"
      },
      "execution_count": null,
      "outputs": [
        {
          "output_type": "stream",
          "name": "stdout",
          "text": [
            "5\n",
            "4\n",
            "5\n"
          ]
        }
      ]
    },
    {
      "cell_type": "code",
      "source": [
        "#break и continue\n",
        "st = '32ey.5yhsf$h%owe82038e-3q0dwaefsfdgfhyfWfd9fG'\n",
        "for i in st:\n",
        "    if i.isdigit() and int(i) > 8: #результатом этого кода будет печать первой цифры, большей 8, в строке st и завершение работы. Если в строке нет цифр, удовлетворяющих условию, то ничего не будет напечатано\n",
        "      print(i)\n",
        "      break"
      ],
      "metadata": {
        "colab": {
          "base_uri": "https://localhost:8080/"
        },
        "id": "tdVhF5Cy8RqD",
        "outputId": "515805a7-89fe-4fae-8f17-7690c8dcaceb"
      },
      "execution_count": null,
      "outputs": [
        {
          "output_type": "stream",
          "name": "stdout",
          "text": [
            "9\n"
          ]
        }
      ]
    },
    {
      "cell_type": "code",
      "source": [
        "st = 'м.у$т^а>б(о@р'\n",
        "for i in st:\n",
        "    if not i.isalpha():\n",
        "        continue\n",
        "    else:\n",
        "        print(i)\n",
        "#Этот код проходит по каждому символу в строке st и проверяет, является ли текущий символ буквой или нет (isalpha()).\n",
        "#Если символ не является буквой, оператор continue переводит управление на следующую итерацию цикла, и никаких действий не происходит."
      ],
      "metadata": {
        "id": "_VBqnkitEeJ7"
      },
      "execution_count": null,
      "outputs": []
    },
    {
      "cell_type": "code",
      "source": [
        "n = int(input())\n",
        "lst = []\n",
        "for i in range(n):\n",
        "    lst.append(list(map(int, input().split())))"
      ],
      "metadata": {
        "id": "trBKt0HPFGjb"
      },
      "execution_count": null,
      "outputs": []
    },
    {
      "cell_type": "code",
      "source": [
        "#вывести на экран элементы словаря\n",
        "my_dict = {'цвет': 'красный', 'артикул': 'ABC123', 'цена': 650}\n",
        "for k, v in my_dict.items():\n",
        "  print(f'{k} - {v}')"
      ],
      "metadata": {
        "colab": {
          "base_uri": "https://localhost:8080/"
        },
        "id": "RbSWm_EBF3_o",
        "outputId": "fa51d66f-c38e-492b-d6fa-d6b08ba433b6"
      },
      "execution_count": null,
      "outputs": [
        {
          "output_type": "stream",
          "name": "stdout",
          "text": [
            "цвет - красный\n",
            "артикул - ABC123\n",
            "цена - 650\n"
          ]
        }
      ]
    },
    {
      "cell_type": "code",
      "source": [
        "#использование range\n",
        "for i in range(1, 12, 2):\n",
        " print('*' * i)"
      ],
      "metadata": {
        "colab": {
          "base_uri": "https://localhost:8080/"
        },
        "id": "q8DyBrU0F4pH",
        "outputId": "3ea0d3e8-d123-4ff2-b3bd-66fc46869b1e"
      },
      "execution_count": null,
      "outputs": [
        {
          "output_type": "stream",
          "name": "stdout",
          "text": [
            "*\n",
            "***\n",
            "*****\n",
            "*******\n",
            "*********\n",
            "***********\n"
          ]
        }
      ]
    },
    {
      "cell_type": "code",
      "source": [
        "my_list = ['хард-рок', 'хэви-метал', 'хип-хоп', 'рэп', 'панк-рок']\n",
        "for i, j in enumerate(my_list): #выводит его индекс в списке и сам элемент. Функция enumerate() используется для того чтобы получить для каждого элемента в списке итератор, который возвращает пару значений — индекс элемента и сам элемент.\n",
        "  print(i, j)\n"
      ],
      "metadata": {
        "colab": {
          "base_uri": "https://localhost:8080/"
        },
        "id": "c51heHLWJ3pJ",
        "outputId": "260d24a3-4bcd-49cd-f0ef-1b0d1f424666"
      },
      "execution_count": null,
      "outputs": [
        {
          "output_type": "stream",
          "name": "stdout",
          "text": [
            "0 хард-рок\n",
            "1 хэви-метал\n",
            "2 хип-хоп\n",
            "3 рэп\n",
            "4 панк-рок\n"
          ]
        }
      ]
    },
    {
      "cell_type": "code",
      "source": [
        "#использование счетчиков\n",
        "lst = [5, 6, -3, 1, 12, -2, -7, 8, 3, 2]\n",
        "k = 0\n",
        "for i in lst:\n",
        "    if i < 0:\n",
        "        k += 1\n",
        "print(f'Количество отрицательных чисел: {k}')"
      ],
      "metadata": {
        "colab": {
          "base_uri": "https://localhost:8080/"
        },
        "id": "-ycDZdIAJ4-x",
        "outputId": "fdaea288-43a5-49ed-cb63-96284ba6c9f4"
      },
      "execution_count": null,
      "outputs": [
        {
          "output_type": "stream",
          "name": "stdout",
          "text": [
            "Количество отрицательных чисел: 3\n"
          ]
        }
      ]
    },
    {
      "cell_type": "markdown",
      "source": [
        "Практика"
      ],
      "metadata": {
        "id": "FmuKj0blKYeZ"
      }
    },
    {
      "cell_type": "markdown",
      "source": [
        "Напишите программу, которая получает от пользователя число n и выводит n строк с результатом умножения чисел от 1 до n на символ *.\n",
        "Пример ввода:\n",
        "7\n",
        "Вывод:\n",
        "Умножаю * на 1: *\n",
        "Умножаю * на 2: **\n",
        "Умножаю * на 3: ***\n",
        "Умножаю * на 4: ****\n",
        "Умножаю * на 5: *****\n",
        "Умножаю * на 6: ******\n",
        "Умножаю * на 7: *******"
      ],
      "metadata": {
        "id": "CP6HWQdgSJTy"
      }
    },
    {
      "cell_type": "code",
      "source": [
        "a = int(input())\n",
        "for i in range(1, a+1):\n",
        "  print(f' Умножаю * на {i}: {\"*\"*i}')\n"
      ],
      "metadata": {
        "colab": {
          "base_uri": "https://localhost:8080/"
        },
        "id": "VZlL7nzfOngx",
        "outputId": "2ebdf1d7-1881-49c3-cb7e-bd2bf3c662c5"
      },
      "execution_count": null,
      "outputs": [
        {
          "output_type": "stream",
          "name": "stdout",
          "text": [
            "7\n",
            " Умножаю * на 1: *\n",
            " Умножаю * на 2: **\n",
            " Умножаю * на 3: ***\n",
            " Умножаю * на 4: ****\n",
            " Умножаю * на 5: *****\n",
            " Умножаю * на 6: ******\n",
            " Умножаю * на 7: *******\n"
          ]
        }
      ]
    },
    {
      "cell_type": "markdown",
      "source": [
        "Задание 2\n",
        "Напишите программу, которая получает от пользователя строку целых чисел, и выводит:\n",
        "\n",
        "Количество положительных чисел.\n",
        "Произведение всех отрицательных чисел.\n",
        "Минимальное и максимальное числа без использования функций min() и max().\n",
        "Пример ввода:\n",
        "\n",
        "3 -5 2 4 12 7 3 4 6 9 25 -50 12 35 2 11\n",
        "\n",
        "Вывод:\n",
        "\n",
        "Количество положительных чисел: 14\n",
        "\n",
        "Произведение отрицательных чисел: 250\n",
        "\n",
        "Минимальное число: -50\n",
        "\n",
        "Максимальное число: 35"
      ],
      "metadata": {
        "id": "WoaFct4pSKty"
      }
    },
    {
      "cell_type": "code",
      "source": [
        "a = [3, -5, 2, 4, 12, 7, 3, 4, 6, 9, 25, -50, 12, 35, 2, 11]\n",
        "s=0\n",
        "m=1\n",
        "min_num = 0\n",
        "max_num = 0\n",
        "for i in a:\n",
        "  if i > 0:\n",
        "    s+=1\n",
        "  else:\n",
        "    m*=i\n",
        "  if i < min_num:\n",
        "        min_num = i\n",
        "  elif i > max_num:\n",
        "        max_num = i\n",
        "print(f'Количество положительных чисел: {s}')\n",
        "print(f'Произведение отрицательных чисел: {m}')\n",
        "print(f'Минимальное число: {min_num}')\n",
        "print(f'Максимальное число: {max_num}')"
      ],
      "metadata": {
        "colab": {
          "base_uri": "https://localhost:8080/"
        },
        "id": "IlUzAbKcRuoM",
        "outputId": "c0c9cc50-b850-45f3-f227-f8a7a6d92b42"
      },
      "execution_count": null,
      "outputs": [
        {
          "output_type": "stream",
          "name": "stdout",
          "text": [
            "Количество положительных чисел: 14\n",
            "Произведение отрицательных чисел: 250\n",
            "Минимальное число: -50\n",
            "Максимальное число: 35\n"
          ]
        }
      ]
    },
    {
      "cell_type": "code",
      "source": [],
      "metadata": {
        "id": "8wUywR1TTPmC"
      },
      "execution_count": null,
      "outputs": []
    },
    {
      "cell_type": "code",
      "source": [],
      "metadata": {
        "id": "6ZpdEE5WTPq3"
      },
      "execution_count": null,
      "outputs": []
    },
    {
      "cell_type": "code",
      "source": [],
      "metadata": {
        "id": "0SlTe5ZqTPtb"
      },
      "execution_count": null,
      "outputs": []
    },
    {
      "cell_type": "code",
      "source": [],
      "metadata": {
        "id": "A8cAELjbTPvi"
      },
      "execution_count": null,
      "outputs": []
    },
    {
      "cell_type": "markdown",
      "source": [
        "stepic"
      ],
      "metadata": {
        "id": "r2ELUKboTQAc"
      }
    },
    {
      "cell_type": "code",
      "source": [
        "#которые делятся на свой порядковый номер\n",
        "n = int(input())\n",
        "for i in range(1, n+1):\n",
        "    a = int(input())\n",
        "    if a % i==0:\n",
        "        print(a)"
      ],
      "metadata": {
        "id": "66IsNTWjTSWV"
      },
      "execution_count": null,
      "outputs": []
    }
  ]
}