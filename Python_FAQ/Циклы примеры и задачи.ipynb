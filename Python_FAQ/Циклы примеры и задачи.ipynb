{
  "nbformat": 4,
  "nbformat_minor": 0,
  "metadata": {
    "colab": {
      "provenance": [],
      "authorship_tag": "ABX9TyOSkGP3bXFawQa6TnPAp65A",
      "include_colab_link": true
    },
    "kernelspec": {
      "name": "python3",
      "display_name": "Python 3"
    },
    "language_info": {
      "name": "python"
    }
  },
  "cells": [
    {
      "cell_type": "markdown",
      "metadata": {
        "id": "view-in-github",
        "colab_type": "text"
      },
      "source": [
        "<a href=\"https://colab.research.google.com/github/Vitalyastiy/cheat-python/blob/main/Python_FAQ/%D0%A6%D0%B8%D0%BA%D0%BB%D1%8B%20%D0%BF%D1%80%D0%B8%D0%BC%D0%B5%D1%80%D1%8B%20%D0%B8%20%D0%B7%D0%B0%D0%B4%D0%B0%D1%87%D0%B8.ipynb\" target=\"_parent\"><img src=\"https://colab.research.google.com/assets/colab-badge.svg\" alt=\"Open In Colab\"/></a>"
      ]
    },
    {
      "cell_type": "markdown",
      "source": [
        "циклы for\n",
        "\n",
        "https://telegra.ph/Samouchitel-po-Python-dlya-nachinayushchih-CHast-9-Osobennosti-cikla-for-01-08"
      ],
      "metadata": {
        "id": "5yJXP3gE6gVo"
      }
    },
    {
      "cell_type": "code",
      "source": [
        "#программа, которая считывает n чисел  и выводит второе по минимальности из них\n",
        "n = int(input())\n",
        "a = []\n",
        "for i in range(n):\n",
        "   b = int(input())\n",
        "   a.append(b)\n",
        "\n",
        "print(sorted(a)[1])"
      ],
      "metadata": {
        "id": "ssEc8PWb-1gP"
      },
      "execution_count": null,
      "outputs": []
    },
    {
      "cell_type": "code",
      "source": [
        "n = int(input())\n",
        "min_num = float('inf') # бесконечностъ\n",
        "\n",
        "for i in range(n):\n",
        "    num = int(input())\n",
        "    if num < min_num:\n",
        "        min_num = num\n",
        "\n",
        "print(min_num)"
      ],
      "metadata": {
        "id": "S_0sb83LMlNu"
      },
      "execution_count": null,
      "outputs": []
    },
    {
      "cell_type": "code",
      "source": [
        "#Простой цикл\n",
        "for i in range(3):\n",
        "    print('Python')"
      ],
      "metadata": {
        "id": "NEXeRsSOtQZk",
        "colab": {
          "base_uri": "https://localhost:8080/"
        },
        "outputId": "7fe79c94-62d4-4948-d5f4-589fd974ba9d"
      },
      "execution_count": null,
      "outputs": [
        {
          "output_type": "stream",
          "name": "stdout",
          "text": [
            "Python\n",
            "Python\n",
            "Python\n"
          ]
        }
      ]
    },
    {
      "cell_type": "code",
      "source": [
        "#перебор элементов какой-либо коллекции\n",
        "for i in 'Python':\n",
        "    print(i)"
      ],
      "metadata": {
        "id": "TurFM1e1tQb0",
        "colab": {
          "base_uri": "https://localhost:8080/"
        },
        "outputId": "e873f9d4-17b9-4730-862d-6c62f67194d3"
      },
      "execution_count": null,
      "outputs": [
        {
          "output_type": "stream",
          "name": "stdout",
          "text": [
            "P\n",
            "y\n",
            "t\n",
            "h\n",
            "o\n",
            "n\n"
          ]
        }
      ]
    },
    {
      "cell_type": "code",
      "source": [
        "#Структура вложенного цикла\n",
        "lst1 = ['1', '2', '3']\n",
        "lst2 = ['a', 'b', 'c']\n",
        "for i in lst1:\n",
        "    for j in lst2:\n",
        "        print(i + j)"
      ],
      "metadata": {
        "id": "yMBlrU2OtQd8",
        "colab": {
          "base_uri": "https://localhost:8080/"
        },
        "outputId": "f7e9725c-70c9-401e-d3e1-0901cc864231"
      },
      "execution_count": null,
      "outputs": [
        {
          "output_type": "stream",
          "name": "stdout",
          "text": [
            "1a\n",
            "1b\n",
            "1c\n",
            "2a\n",
            "2b\n",
            "2c\n",
            "3a\n",
            "3b\n",
            "3c\n"
          ]
        }
      ]
    },
    {
      "cell_type": "code",
      "source": [
        "#Структура цикла for с условием\n",
        "st = 'abracad545bra'\n",
        "for i in st:\n",
        "    if not i.isalpha(): # проверак на цифровой символ\n",
        "        print(i)"
      ],
      "metadata": {
        "id": "FFJEI--stQgE",
        "colab": {
          "base_uri": "https://localhost:8080/"
        },
        "outputId": "c2e317a3-82e5-4b85-f0ef-4aeec03c0fa6"
      },
      "execution_count": null,
      "outputs": [
        {
          "output_type": "stream",
          "name": "stdout",
          "text": [
            "5\n",
            "4\n",
            "5\n"
          ]
        }
      ]
    },
    {
      "cell_type": "code",
      "source": [
        "#break и continue\n",
        "st = '32ey.5yhsf$h%owe82038e-3q0dwaefsfdgfhyfWfd9fG'\n",
        "for i in st:\n",
        "    if i.isdigit() and int(i) > 8: #результатом этого кода будет печать первой цифры, большей 8, в строке st и завершение работы. Если в строке нет цифр, удовлетворяющих условию, то ничего не будет напечатано\n",
        "      print(i)\n",
        "      break"
      ],
      "metadata": {
        "colab": {
          "base_uri": "https://localhost:8080/"
        },
        "id": "tdVhF5Cy8RqD",
        "outputId": "515805a7-89fe-4fae-8f17-7690c8dcaceb"
      },
      "execution_count": null,
      "outputs": [
        {
          "output_type": "stream",
          "name": "stdout",
          "text": [
            "9\n"
          ]
        }
      ]
    },
    {
      "cell_type": "code",
      "source": [
        "st = 'м.у$т^а>б(о@р'\n",
        "for i in st:\n",
        "    if not i.isalpha():\n",
        "        continue\n",
        "    else:\n",
        "        print(i)\n",
        "#Этот код проходит по каждому символу в строке st и проверяет, является ли текущий символ буквой или нет (isalpha()).\n",
        "#Если символ не является буквой, оператор continue переводит управление на следующую итерацию цикла, и никаких действий не происходит."
      ],
      "metadata": {
        "id": "_VBqnkitEeJ7"
      },
      "execution_count": null,
      "outputs": []
    },
    {
      "cell_type": "code",
      "source": [
        "n = int(input())\n",
        "lst = []\n",
        "for i in range(n):\n",
        "    lst.append(list(map(int, input().split())))"
      ],
      "metadata": {
        "id": "trBKt0HPFGjb"
      },
      "execution_count": null,
      "outputs": []
    },
    {
      "cell_type": "code",
      "source": [
        "#вывести на экран элементы словаря\n",
        "my_dict = {'цвет': 'красный', 'артикул': 'ABC123', 'цена': 650}\n",
        "for k, v in my_dict.items():\n",
        "  print(f'{k} - {v}')"
      ],
      "metadata": {
        "colab": {
          "base_uri": "https://localhost:8080/"
        },
        "id": "RbSWm_EBF3_o",
        "outputId": "fa51d66f-c38e-492b-d6fa-d6b08ba433b6"
      },
      "execution_count": null,
      "outputs": [
        {
          "output_type": "stream",
          "name": "stdout",
          "text": [
            "цвет - красный\n",
            "артикул - ABC123\n",
            "цена - 650\n"
          ]
        }
      ]
    },
    {
      "cell_type": "code",
      "source": [
        "#использование range\n",
        "for i in range(1, 12, 2):\n",
        " print('*' * i)"
      ],
      "metadata": {
        "colab": {
          "base_uri": "https://localhost:8080/"
        },
        "id": "q8DyBrU0F4pH",
        "outputId": "3ea0d3e8-d123-4ff2-b3bd-66fc46869b1e"
      },
      "execution_count": null,
      "outputs": [
        {
          "output_type": "stream",
          "name": "stdout",
          "text": [
            "*\n",
            "***\n",
            "*****\n",
            "*******\n",
            "*********\n",
            "***********\n"
          ]
        }
      ]
    },
    {
      "cell_type": "code",
      "source": [
        "my_list = ['хард-рок', 'хэви-метал', 'хип-хоп', 'рэп', 'панк-рок']\n",
        "for i, j in enumerate(my_list): #выводит его индекс в списке и сам элемент. Функция enumerate() используется для того чтобы получить для каждого элемента в списке итератор, который возвращает пару значений — индекс элемента и сам элемент.\n",
        "  print(i, j)\n"
      ],
      "metadata": {
        "colab": {
          "base_uri": "https://localhost:8080/"
        },
        "id": "c51heHLWJ3pJ",
        "outputId": "260d24a3-4bcd-49cd-f0ef-1b0d1f424666"
      },
      "execution_count": null,
      "outputs": [
        {
          "output_type": "stream",
          "name": "stdout",
          "text": [
            "0 хард-рок\n",
            "1 хэви-метал\n",
            "2 хип-хоп\n",
            "3 рэп\n",
            "4 панк-рок\n"
          ]
        }
      ]
    },
    {
      "cell_type": "code",
      "source": [
        "#использование счетчиков\n",
        "lst = [5, 6, -3, 1, 12, -2, -7, 8, 3, 2]\n",
        "k = 0\n",
        "for i in lst:\n",
        "    if i < 0:\n",
        "        k += 1\n",
        "print(f'Количество отрицательных чисел: {k}')"
      ],
      "metadata": {
        "colab": {
          "base_uri": "https://localhost:8080/"
        },
        "id": "-ycDZdIAJ4-x",
        "outputId": "fdaea288-43a5-49ed-cb63-96284ba6c9f4"
      },
      "execution_count": null,
      "outputs": [
        {
          "output_type": "stream",
          "name": "stdout",
          "text": [
            "Количество отрицательных чисел: 3\n"
          ]
        }
      ]
    },
    {
      "cell_type": "markdown",
      "source": [
        "Практика"
      ],
      "metadata": {
        "id": "FmuKj0blKYeZ"
      }
    },
    {
      "cell_type": "markdown",
      "source": [
        "Напишите программу, которая получает от пользователя число n и выводит n строк с результатом умножения чисел от 1 до n на символ *.\n",
        "Пример ввода:\n",
        "7\n",
        "Вывод:\n",
        "Умножаю * на 1: *\n",
        "Умножаю * на 2: **\n",
        "Умножаю * на 3: ***\n",
        "Умножаю * на 4: ****\n",
        "Умножаю * на 5: *****\n",
        "Умножаю * на 6: ******\n",
        "Умножаю * на 7: *******"
      ],
      "metadata": {
        "id": "CP6HWQdgSJTy"
      }
    },
    {
      "cell_type": "code",
      "source": [
        "a = int(input())\n",
        "for i in range(1, a+1):\n",
        "  print(f' Умножаю * на {i}: {\"*\"*i}')\n"
      ],
      "metadata": {
        "colab": {
          "base_uri": "https://localhost:8080/"
        },
        "id": "VZlL7nzfOngx",
        "outputId": "2ebdf1d7-1881-49c3-cb7e-bd2bf3c662c5"
      },
      "execution_count": null,
      "outputs": [
        {
          "output_type": "stream",
          "name": "stdout",
          "text": [
            "7\n",
            " Умножаю * на 1: *\n",
            " Умножаю * на 2: **\n",
            " Умножаю * на 3: ***\n",
            " Умножаю * на 4: ****\n",
            " Умножаю * на 5: *****\n",
            " Умножаю * на 6: ******\n",
            " Умножаю * на 7: *******\n"
          ]
        }
      ]
    },
    {
      "cell_type": "markdown",
      "source": [
        "Задание 2\n",
        "Напишите программу, которая получает от пользователя строку целых чисел, и выводит:\n",
        "\n",
        "Количество положительных чисел.\n",
        "Произведение всех отрицательных чисел.\n",
        "Минимальное и максимальное числа без использования функций min() и max().\n",
        "Пример ввода:\n",
        "\n",
        "3 -5 2 4 12 7 3 4 6 9 25 -50 12 35 2 11\n",
        "\n",
        "Вывод:\n",
        "\n",
        "Количество положительных чисел: 14\n",
        "\n",
        "Произведение отрицательных чисел: 250\n",
        "\n",
        "Минимальное число: -50\n",
        "\n",
        "Максимальное число: 35"
      ],
      "metadata": {
        "id": "WoaFct4pSKty"
      }
    },
    {
      "cell_type": "code",
      "source": [
        "a = [3, -5, 2, 4, 12, 7, 3, 4, 6, 9, 25, -50, 12, 35, 2, 11]\n",
        "s=0\n",
        "m=1\n",
        "min_num = 0\n",
        "max_num = 0\n",
        "for i in a:\n",
        "  if i > 0:\n",
        "    s+=1\n",
        "  else:\n",
        "    m*=i\n",
        "  if i < min_num:\n",
        "        min_num = i\n",
        "  elif i > max_num:\n",
        "        max_num = i\n",
        "print(f'Количество положительных чисел: {s}')\n",
        "print(f'Произведение отрицательных чисел: {m}')\n",
        "print(f'Минимальное число: {min_num}')\n",
        "print(f'Максимальное число: {max_num}')"
      ],
      "metadata": {
        "colab": {
          "base_uri": "https://localhost:8080/"
        },
        "id": "IlUzAbKcRuoM",
        "outputId": "c0c9cc50-b850-45f3-f227-f8a7a6d92b42"
      },
      "execution_count": null,
      "outputs": [
        {
          "output_type": "stream",
          "name": "stdout",
          "text": [
            "Количество положительных чисел: 14\n",
            "Произведение отрицательных чисел: 250\n",
            "Минимальное число: -50\n",
            "Максимальное число: 35\n"
          ]
        }
      ]
    },
    {
      "cell_type": "markdown",
      "source": [
        "stepic"
      ],
      "metadata": {
        "id": "r2ELUKboTQAc"
      }
    },
    {
      "cell_type": "code",
      "source": [
        "#которые делятся на свой порядковый номер\n",
        "n = int(input())\n",
        "for i in range(1, n+1):\n",
        "    a = int(input())\n",
        "    if a % i==0:\n",
        "        print(a)"
      ],
      "metadata": {
        "id": "66IsNTWjTSWV"
      },
      "execution_count": null,
      "outputs": []
    },
    {
      "cell_type": "code",
      "source": [
        "# с условиями иф\n",
        "a = int(input())\n",
        "b = int(input())\n",
        "if a<b:\n",
        "    for i in range(a, b):\n",
        "        print(i)\n",
        "else:\n",
        "    for i in range(a, b, -1):\n",
        "        print(i)"
      ],
      "metadata": {
        "id": "z3cHWhYDWXfM"
      },
      "execution_count": null,
      "outputs": []
    },
    {
      "cell_type": "code",
      "source": [
        "#считываем строки до определеной\n",
        "a = 0\n",
        "while True:\n",
        "    b = input()\n",
        "    if b == 'Пентагон взломан':\n",
        "        break\n",
        "    a += 1\n",
        "print(a + 1)"
      ],
      "metadata": {
        "id": "hx-UCjDjWcTz"
      },
      "execution_count": null,
      "outputs": []
    },
    {
      "cell_type": "code",
      "source": [
        "# подсчет до определенного числа\n",
        "total = 0\n",
        "b = 0\n",
        "n = int(input())\n",
        "while total < n:\n",
        "    item = int(input())\n",
        "    if total + item <= n:\n",
        "        total += item\n",
        "        b += 1\n",
        "    else:\n",
        "        break\n",
        "print(b)\n"
      ],
      "metadata": {
        "id": "Hd9RpGD9DlpH"
      },
      "execution_count": null,
      "outputs": []
    },
    {
      "cell_type": "code",
      "source": [
        "#Напиши программу, которая считает стоку s, и выведет все ее символы с четными индексами (без пробелов, в одной строке).\n",
        "\n",
        "(Используй циклы)\n",
        "a = input()\n",
        "\n",
        "for i in range(len(a)):\n",
        "    if i%2==0:\n",
        "        print(a[i], end ='')"
      ],
      "metadata": {
        "id": "ewYYGbaHx0AG"
      },
      "execution_count": null,
      "outputs": []
    },
    {
      "cell_type": "code",
      "source": [
        "# Вы работаете в деканате университета и пишете программу, которая принимает на вход\n",
        "# 5 оценок студента по разным предметам и выводит сообщение \"Сессия сдана!\" в случае, если все оценки студента 3 балла и выше.\n",
        "# В случае, если есть хотя бы одна оценка ниже тройки, то выведите сообщение \"На пересдаче\".\n",
        "s = [int(x) for x in a]\n",
        "result = any(x < 3 for x in s)\n",
        "\n",
        "if result ==  True:\n",
        "    print(\"На пересдаче\")\n",
        "else:\n",
        "    print(\"Сессия сдана!\")"
      ],
      "metadata": {
        "id": "xbdwGJbVqMWo"
      },
      "execution_count": null,
      "outputs": []
    },
    {
      "cell_type": "code",
      "source": [
        "# Напиши программу, которая считает строку s и выведет:\n",
        "# Все символы строки с индексами делящимися на 3\n",
        "# Все символы строки в обратном порядке\n",
        "# Строку без первых 5 и последних 5 символов\n",
        "# Каждый второй символ, начиная с символа с индексом равным 4\n",
        "# Каждый пункт нужно выводить с новой строки\n",
        "\n",
        "a = input()\n",
        "result = ''\n",
        "for i in range(len(a)):\n",
        "    if i%3==0:\n",
        "        result +=a[i]\n",
        "print(result)\n",
        "print(a[::-1])\n",
        "print(a[5:-5])\n",
        "print(a[4::2])"
      ],
      "metadata": {
        "id": "e3VInHiGqMY_"
      },
      "execution_count": null,
      "outputs": []
    },
    {
      "cell_type": "code",
      "source": [
        "# Считывается строка a с помощью input() и сохраняется в переменной a.\n",
        "# Функция func вызывается с аргументом a.\n",
        "# Внутри функции сначала проверяется базовый случай: если длина строки a меньше или равна 1, то это палиндром, и функция возвращает строку 'YES'.\n",
        "# Если первый символ строки a не совпадает с последним символом, то это не палиндром, и функция возвращает строку 'NO'.\n",
        "# Если первый символ совпадает с последним символом, то функция вызывает себя рекурсивно, передавая в качестве аргумента срез строки a без первого и последнего символов (a[1:-1]).\n",
        "# Шаги 3-5 повторяются, пока не будет достигнут базовый случай или найдено несовпадение символов.\n",
        "# В конце программа выводит результат вызова функции func(a) с помощью print(). Результат может быть либо 'YES', если строка является палиндромом, либо 'NO', если строка не является палиндромом.\n",
        "# Таким образом, функция рекурсивно проверяет, является ли строка a палиндромом, путем сравнения первого и последнего символов и рекурсивного вызова функции для среза строки без этих символов.\n",
        "\n",
        "a = input()\n",
        "def func(a):\n",
        "    if len(a) <= 1:\n",
        "        return 'YES'\n",
        "    if a[0] != a[-1]:\n",
        "        return 'NO'\n",
        "    return func(a[1:-1])\n",
        "\n",
        "print(func(a))\n"
      ],
      "metadata": {
        "id": "B-cZuTY0tjiv"
      },
      "execution_count": null,
      "outputs": []
    },
    {
      "cell_type": "code",
      "source": [
        "#Напиши программу, которая считывает число n, после чего считывает n строк и выводит только те из них, которые написаны без символов в верхнем регистре (и в которых есть хотя бы 1 символ в нижнем регистре):\n",
        "n = int(input())\n",
        "for i in range(n):\n",
        "    s = input()\n",
        "    if s.islower() == True and len(s)>0:\n",
        "        print(s)"
      ],
      "metadata": {
        "id": "9DCWR4oyZBjl"
      },
      "execution_count": null,
      "outputs": []
    },
    {
      "cell_type": "code",
      "source": [
        "#Напиши программу, которая считает строку, и выведет количество заглавных букв в ней. (строка состоит только из латинских букв, пробелов и знаков препинания)\n",
        "s = input()\n",
        "\n",
        "cnt = 0\n",
        "for i in s:\n",
        "    if i.isupper():\n",
        "        cnt+=1\n",
        "print(cnt)"
      ],
      "metadata": {
        "id": "JQZZU87ZZE2z"
      },
      "execution_count": null,
      "outputs": []
    },
    {
      "cell_type": "code",
      "source": [
        "# Вы пишете сервис, который предлагает пользователю выбрать город, где он живёт. На первой строке программа получает список городов, где данный сервис доступен. На второй строке программа получает на вход город, который выбрал пользователь.\n",
        "# Проверьте, есть ли введённый город в списке. Если есть, то выведите сообщение \"Город доступен\". В противном случае выведите сообщение \"Город недоступен\".\n",
        "c = input().split(',')\n",
        "n = input()\n",
        "a = [i.strip() for i in c]\n",
        "if n in a:\n",
        "    print(\"Город доступен\")\n",
        "else:\n",
        "    print(\"Город недоступен\")"
      ],
      "metadata": {
        "id": "qDbJQJS_2BUt"
      },
      "execution_count": null,
      "outputs": []
    },
    {
      "cell_type": "code",
      "source": [
        "#Программа получает на вход список имен пользователей в нижнем регистре, разделенных пробелами. Выведите эти имена списком так, чтобы каждое имя начиналось с заглавной буквы.\n",
        "n = input().split()\n",
        "m = list(map(str.title, n))\n",
        "print(m)"
      ],
      "metadata": {
        "id": "VofQqvSM62Hi"
      },
      "execution_count": null,
      "outputs": []
    },
    {
      "cell_type": "code",
      "source": [
        "#На вход программа получает набор чисел float, разделенных запятыми. Округлите каждое число до ближайшего целого и выведите на печать одной строкой со скобками и запятыми.\n",
        "n = input().split()\n",
        "s = [i.replace(',', '') for i in n]\n",
        "j = list(map(float, s))\n",
        "k = list(map(round, j))\n",
        "print(k)"
      ],
      "metadata": {
        "id": "9peWf_j69bGO"
      },
      "execution_count": null,
      "outputs": []
    },
    {
      "cell_type": "code",
      "source": [
        "#Ваша программа получает последовательность нулей и единиц. Выведите последовательность такой же длины, в которой будут содержаться не нули и единицы, а значения True и False.\n",
        "n = input().split()\n",
        "a = list(map(int, n))\n",
        "b = list(map(bool, a))\n",
        "print(*b)"
      ],
      "metadata": {
        "id": "1AUlODuCDK5J"
      },
      "execution_count": null,
      "outputs": []
    },
    {
      "cell_type": "code",
      "source": [
        "# На вход программа получает два целых числа start и stop. Создайте диапазон чисел в промежутке от start до stop (включительно) с шагом 10 и напечатайте числа через пробел. Например, если программа получила два числа 0 и 100, то вывод должен быть:\n",
        "a, b = input().split()\n",
        "c = range(int(a), int(b)+1, 10)\n",
        "print(*list(c))"
      ],
      "metadata": {
        "id": "l45AmJVEGN3G"
      },
      "execution_count": null,
      "outputs": []
    },
    {
      "cell_type": "code",
      "source": [
        "# Напиши программу, которая считает строку s, и выведет ее копию, в которой все гласные буквы (в нижнем регистре) (а, о, у, э, ы, и, е, ё, я, ю) будут заменены на на букву у\n",
        "# Строка написана на русском языке (отдельно проверять латинские гласные буквы не нужно)\n",
        "s = input()\n",
        "a=s\n",
        "b = [\"а\", \"о\", \"у\", \"э\", \"ы\", \"и\", \"е\", \"ё\", \"я\", \"ю\"]\n",
        "for i in s:\n",
        "    if i in b:\n",
        "        a = a.replace(i, \"у\")\n",
        "print(a)\n",
        "\n",
        "\n",
        "# s = input()\n",
        "# for i in range(9):\n",
        "#     s = s.replace(\"аоэыиеёяю\"[i], 'у')\n",
        "# print(s)"
      ],
      "metadata": {
        "id": "JKGKcuxMgsWi"
      },
      "execution_count": null,
      "outputs": []
    },
    {
      "cell_type": "code",
      "source": [
        "# Дополни код так, чтобы он считывал элементы списка l, и выводил его\n",
        "# На первой строчке вводится натуральное число n - количество элементов в списке l\n",
        "# На следующих n строчках вводится по целому числу -  элементу списка l\n",
        "l = []\n",
        "n = int(input())\n",
        "# put your code here\n",
        "for i in range(n):\n",
        "    l.append(int(input()))\n",
        "print(l)"
      ],
      "metadata": {
        "id": "-N8PuV2thCC2"
      },
      "execution_count": null,
      "outputs": []
    },
    {
      "cell_type": "code",
      "source": [
        "# Дополни этот код, чтобы все элементы в списке l оказались в нем в обратном порядке\n",
        "# Постарайся не использовать еще не изученной теории. Задачу можно решить с помощью циклов.\n",
        "\n",
        "l = [1, 2, 3, 4, 5, 6, 39, 0, 1, -100]\n",
        "n = []\n",
        "for i in range(len(l)-1, -1, -1):\n",
        "    n.append(l[i])\n",
        "print(n)"
      ],
      "metadata": {
        "id": "2zaXQQZ9cAr4"
      },
      "execution_count": null,
      "outputs": []
    },
    {
      "cell_type": "code",
      "source": [
        "# В списке l все мои оценки по информатике, дополни код так, чтобы он выводил \"Сакура молодец!\" (без кавычек), столько раз, сколько я получала пятерку.\n",
        "# Каждый раз \"Сакура молодец!\" нужно выводить с новой строчки\n",
        "l = [5, 4, 5, 3, 4, 5, 4, 4, 3, 5, 4, 5, 5]\n",
        "for i in range (l.count(5)):\n",
        "    print(\"Сакура молодец!\")"
      ],
      "metadata": {
        "id": "fKl0Ik6CjpJf"
      },
      "execution_count": null,
      "outputs": []
    },
    {
      "cell_type": "code",
      "source": [
        "# Напиши программу, которая считает список чисел, разделенный пробелами (гарантируется что чисел больше 2), после чего выведет их через разделитель \" + \" (пробел, знак плюса, пробел), после чего выведет пробел, знак равенства, пробел и сумму чисел.\n",
        "s = input().split()\n",
        "g = list(map(int,s))\n",
        "a = sum(g)\n",
        "print((\" + \".join(s)), '=', a)"
      ],
      "metadata": {
        "id": "YI-NT1nYl-yD"
      },
      "execution_count": null,
      "outputs": []
    },
    {
      "cell_type": "code",
      "source": [
        "#Ваша программа получает на вход фамилии студентов университета, разделенных пробелами. Отсортируйте список по алфавиту и выведите каждую фамилию с новой строки, как показано в примере ниже.\n",
        "s = input().split()\n",
        "print(*sorted(s), sep = '\\n')"
      ],
      "metadata": {
        "id": "BfgIV9JYGsb3"
      },
      "execution_count": null,
      "outputs": []
    },
    {
      "cell_type": "code",
      "source": [
        "#На вход программа получает набор слов в строковом виде, найдите и выведите длину самого длинного слова в списке.\n",
        "s = input().split()\n",
        "b = []\n",
        "for i in range(len(s)):\n",
        "    b.append(len(s[i]))\n",
        "print(max(b))"
      ],
      "metadata": {
        "id": "Rm2ey-JDJNk3"
      },
      "execution_count": null,
      "outputs": []
    },
    {
      "cell_type": "code",
      "source": [
        "#Напиши программу, которая считывает два числа n и m, каждое в своей строчке, и выводит таблицу n на m, заполненную числами, равными номеру столбца, в котором они находятся.\n",
        "a = int(input())\n",
        "b = int(input())\n",
        "\n",
        "for j in range(a):\n",
        "    for i in range(1, b+1):\n",
        "        print(i, end= ' ')\n",
        "    print('', end = '\\n')\n"
      ],
      "metadata": {
        "id": "gqwN_kbqd5ie"
      },
      "execution_count": null,
      "outputs": []
    },
    {
      "cell_type": "code",
      "source": [
        "# Программа получает на вход набор чисел с плавающей запятой. Подсчитайте и выведите два числа: количество положительных и отрицательных чисел в последовательности. Нули не считайте.\n",
        "a = input().split(',')\n",
        "s = list(map(float,a))\n",
        "q=0\n",
        "w=0\n",
        "for i in s :\n",
        "    if i>0:\n",
        "        q+=1\n",
        "    elif i<0:\n",
        "        w+=1\n",
        "print(q,w)"
      ],
      "metadata": {
        "id": "7B4bJNCWg_xO"
      },
      "execution_count": null,
      "outputs": []
    }
  ]
}