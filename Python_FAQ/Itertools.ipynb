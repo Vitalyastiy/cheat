{
  "cells": [
    {
      "cell_type": "markdown",
      "metadata": {
        "id": "view-in-github",
        "colab_type": "text"
      },
      "source": [
        "<a href=\"https://colab.research.google.com/github/Vitalyastiy/cheat-python/blob/main/Python_FAQ/Itertools.ipynb\" target=\"_parent\"><img src=\"https://colab.research.google.com/assets/colab-badge.svg\" alt=\"Open In Colab\"/></a>"
      ]
    },
    {
      "cell_type": "markdown",
      "source": [
        "https://uproger.com/10-python-itertools-kotorye-sdelayut-vash-kod-luchshe/"
      ],
      "metadata": {
        "id": "gb61uV79ezT7"
      }
    },
    {
      "cell_type": "markdown",
      "source": [
        "10 Python Itertools"
      ],
      "metadata": {
        "id": "eJIUaht0e1er"
      }
    },
    {
      "cell_type": "code",
      "source": [
        "#1. itertools.product(): хитрый способ избежать вложенных циклов\n",
        "\n",
        "list_a = [1, 2020, 70]\n",
        "list_b = [2, 4, 7, 2000]\n",
        "list_c = [3, 70, 7]\n",
        "\n",
        "for a in list_a:\n",
        "    for b in list_b:\n",
        "        for c in list_c:\n",
        "            if a + b + c == 2077:\n",
        "                print(a, b, c)"
      ],
      "metadata": {
        "colab": {
          "base_uri": "https://localhost:8080/"
        },
        "id": "pVjpAe4pe30z",
        "outputId": "b51022c8-c9c6-40fc-8b76-7393d1e4d71a"
      },
      "execution_count": 1,
      "outputs": [
        {
          "output_type": "stream",
          "name": "stdout",
          "text": [
            "70 2000 7\n"
          ]
        }
      ]
    },
    {
      "cell_type": "code",
      "source": [
        "from itertools import product\n",
        "list_a = [1, 2020, 70]\n",
        "list_b = [2, 4, 7, 2000]\n",
        "list_c = [3, 70, 7]\n",
        "\n",
        "for a, b, c in product(list_a, list_b, list_c):\n",
        "    if a + b + c == 2077:\n",
        "        print(a, b, c)\n",
        "\n",
        "#Как показано выше, она возвращает декартово произведение входных итераций, что помогает нам объединить 3 вложенных цикла for в один."
      ],
      "metadata": {
        "colab": {
          "base_uri": "https://localhost:8080/"
        },
        "id": "O0Z7FaEEe35b",
        "outputId": "3a0e585b-7299-46d9-8fa5-a402a834e09b"
      },
      "execution_count": 2,
      "outputs": [
        {
          "output_type": "stream",
          "name": "stdout",
          "text": [
            "70 2000 7\n"
          ]
        }
      ]
    },
    {
      "cell_type": "code",
      "source": [
        "#2. itertools.compress(): удобный способ фильтрации данных\n",
        "# Мы можем отфильтровать список элементов через один или несколько циклов без особых проблем.\n",
        "# Но иногда нам не нужно писать циклы, ведь существует функция, именуемая как itertools.compress().\n",
        "# Функция itertools.compress() возвращает итератор, который фильтрует итерируемый объект на основе значений соответствующей логической маски.\n",
        "# Например, следующий код выбирает истинных лидеров с помощью функции itertools.compress():\n",
        "\n",
        "import itertools\n",
        "leaders = ['Yang', 'Elon', 'Tim', 'Tom', 'Mark']\n",
        "selector = [1, 1, 0, 0, 0]\n",
        "print(list(itertools.compress(leaders, selector)))"
      ],
      "metadata": {
        "colab": {
          "base_uri": "https://localhost:8080/"
        },
        "id": "dC1lwIoNe38D",
        "outputId": "4a68b49c-c52b-4d43-adcc-970f5de54653"
      },
      "execution_count": 3,
      "outputs": [
        {
          "output_type": "stream",
          "name": "stdout",
          "text": [
            "['Yang', 'Elon']\n"
          ]
        }
      ]
    },
    {
      "cell_type": "code",
      "source": [
        "selector = [True, True, False, False, False]"
      ],
      "metadata": {
        "id": "uSHQnLDhe3-j"
      },
      "execution_count": 4,
      "outputs": []
    },
    {
      "cell_type": "code",
      "source": [
        "#3. itertools.groupby(): группировка элементов итерируемого объекта\n",
        "\n",
        "# Функция itertools.groupby() представляет собой удобный способ группировать смежные повторяющиеся элементы итерируемого объекта.\n",
        "# Например, мы можем сгруппировать длинную строку следующим образом:\n",
        "\n",
        "from itertools import groupby\n",
        "\n",
        "for key, group in groupby('YAaANNGGG'):\n",
        "    print(key, list(group))\n"
      ],
      "metadata": {
        "colab": {
          "base_uri": "https://localhost:8080/"
        },
        "id": "AkIX1kiDflm5",
        "outputId": "308816ff-68b2-4df4-f7fa-0442dcf200f3"
      },
      "execution_count": 6,
      "outputs": [
        {
          "output_type": "stream",
          "name": "stdout",
          "text": [
            "Y ['Y']\n",
            "A ['A']\n",
            "a ['a']\n",
            "A ['A']\n",
            "N ['N', 'N']\n",
            "G ['G', 'G', 'G']\n"
          ]
        }
      ]
    },
    {
      "cell_type": "code",
      "source": [
        "#Кроме того, мы можем использовать его второй аргумент, чтобы сообщить функции groupby(), как определить, являются ли два элемента одинаковыми или нет:\n",
        "\n",
        "from itertools import groupby\n",
        "for key, group in groupby('YAaANNGGG', lambda x: x.upper()):\n",
        "    print(key, list(group))"
      ],
      "metadata": {
        "colab": {
          "base_uri": "https://localhost:8080/"
        },
        "id": "G7GUttXUf7kn",
        "outputId": "7fc0a157-debc-48b5-d834-30cf05a9d901"
      },
      "execution_count": 7,
      "outputs": [
        {
          "output_type": "stream",
          "name": "stdout",
          "text": [
            "Y ['Y']\n",
            "A ['A', 'a', 'A']\n",
            "N ['N', 'N']\n",
            "G ['G', 'G', 'G']\n"
          ]
        }
      ]
    },
    {
      "cell_type": "code",
      "source": [
        "#4. itertools.combinations(): получение всех комбинаций заданной длины из итерируемого объекта.\n",
        "#Новичку нужно некоторое время, чтобы написать безошибочную функцию для получения всех возможных комбинаций списка.\n",
        "#На самом деле, если он знает функцию itertools.combination(), он может легко найти решение:\n",
        "import itertools\n",
        "author = ['Y', 'a', 'n', 'g']\n",
        "result = itertools.combinations(author, 2)\n",
        "for x in result:\n",
        "    print(x)"
      ],
      "metadata": {
        "colab": {
          "base_uri": "https://localhost:8080/"
        },
        "id": "ALGjmggKgDRn",
        "outputId": "50ef1570-e596-4b8e-e49a-ba10c3470192"
      },
      "execution_count": 8,
      "outputs": [
        {
          "output_type": "stream",
          "name": "stdout",
          "text": [
            "('Y', 'a')\n",
            "('Y', 'n')\n",
            "('Y', 'g')\n",
            "('a', 'n')\n",
            "('a', 'g')\n",
            "('n', 'g')\n"
          ]
        }
      ]
    },
    {
      "cell_type": "code",
      "source": [
        "#5. itertools.permutations(): получить все перестановки заданной длины из итерируемого объекта.\n",
        "author = ['Y', 'a', 'n', 'g']\n",
        "#Поскольку есть функция для получения всех комбинаций, конечно, есть ещё одна функция, названная itertools.permutations, для получения всех возможных перестановок:\n",
        "result = itertools.permutations(author, 2)\n",
        "for x in result:\n",
        "    print(x)\n"
      ],
      "metadata": {
        "colab": {
          "base_uri": "https://localhost:8080/"
        },
        "id": "tvIktUGJgKMx",
        "outputId": "b75ece06-1614-494d-a14c-65bd437706e0"
      },
      "execution_count": 9,
      "outputs": [
        {
          "output_type": "stream",
          "name": "stdout",
          "text": [
            "('Y', 'a')\n",
            "('Y', 'n')\n",
            "('Y', 'g')\n",
            "('a', 'Y')\n",
            "('a', 'n')\n",
            "('a', 'g')\n",
            "('n', 'Y')\n",
            "('n', 'a')\n",
            "('n', 'g')\n",
            "('g', 'Y')\n",
            "('g', 'a')\n",
            "('g', 'n')\n"
          ]
        }
      ]
    },
    {
      "cell_type": "code",
      "source": [
        "#6. itertools.accumulate(): создание накопленных элементов из итерируемого объекта.\n",
        "#Получение серии накопленных значений на основе итерируемого объекта является распространённым требованием. С помощью функции itertools.accumulate() нам не нужно писать никаких циклов для реализации.\n",
        "import itertools\n",
        "import operator\n",
        "nums = [1, 2, 3, 4, 5]\n",
        "print(list(itertools.accumulate(nums, operator.mul)))"
      ],
      "metadata": {
        "colab": {
          "base_uri": "https://localhost:8080/"
        },
        "id": "YiumRToGgdtP",
        "outputId": "cccaca08-4794-4974-adfd-050ec2d312f1"
      },
      "execution_count": 10,
      "outputs": [
        {
          "output_type": "stream",
          "name": "stdout",
          "text": [
            "[1, 2, 6, 24, 120]\n"
          ]
        }
      ]
    },
    {
      "cell_type": "code",
      "source": [
        "#Вышеупомянутая программа будет такой, как показано ниже, если мы не хотим использовать operator.mul:\n",
        "import itertools\n",
        "nums = [1, 2, 3, 4, 5]\n",
        "print(list(itertools.accumulate(nums, lambda a, b: a * b)))\n",
        "# [1, 2, 6, 24, 120]"
      ],
      "metadata": {
        "colab": {
          "base_uri": "https://localhost:8080/"
        },
        "id": "P0PlEG8NgmKH",
        "outputId": "a41c3d76-6ff7-4b0b-c865-6c27e7919c2a"
      },
      "execution_count": 11,
      "outputs": [
        {
          "output_type": "stream",
          "name": "stdout",
          "text": [
            "[1, 2, 6, 24, 120]\n"
          ]
        }
      ]
    },
    {
      "cell_type": "code",
      "source": [
        "#7. itertools.repeat(), itertools.cycle(), itertools.count(): создание бесконечных итерируемых объектов\n",
        "\n",
        "# В некоторых случаях нам нужно получить бесконечную итерацию. Есть 3 полезные функции:\n",
        "# itertools.repeat(): многократная генерация одного и того же элемента\n",
        "# Например, мы можем получить три одинаковых «Yang» следующим образом:\n",
        "\n",
        "import itertools\n",
        "print(list(itertools.repeat('Yang', 3)))\n"
      ],
      "metadata": {
        "colab": {
          "base_uri": "https://localhost:8080/"
        },
        "id": "y3hcnUmFgrvH",
        "outputId": "a02db6f1-84a2-4993-b65c-910b0a752458"
      },
      "execution_count": 12,
      "outputs": [
        {
          "output_type": "stream",
          "name": "stdout",
          "text": [
            "['Yang', 'Yang', 'Yang']\n"
          ]
        }
      ]
    },
    {
      "cell_type": "code",
      "source": [
        "# itertools.cycle(): получение бесконечного итератора, зацикливание\n",
        "# Функция itertools.cycle не остановится, пока вы не разорвёте цикл:\n",
        "\n",
        "import itertools\n",
        "count = 0\n",
        "\n",
        "for c in itertools.cycle('Yang'):\n",
        "    if count >= 12:\n",
        "        break\n",
        "    else:\n",
        "        print(c, end=',')\n",
        "        count += 1\n",
        "# Y,a,n,g,Y,a,n,g,Y,a,n,g,"
      ],
      "metadata": {
        "colab": {
          "base_uri": "https://localhost:8080/"
        },
        "id": "YDkHdXHXhUOt",
        "outputId": "dade7983-0d7a-48b6-c6be-a403421d61eb"
      },
      "execution_count": 13,
      "outputs": [
        {
          "output_type": "stream",
          "name": "stdout",
          "text": [
            "Y,a,n,g,Y,a,n,g,Y,a,n,g,"
          ]
        }
      ]
    },
    {
      "cell_type": "code",
      "source": [
        "# itertools.count(): генерация бесконечной последовательности чисел\n",
        "# Если всё, что нам нужно, это числа, используйте функцию itertools.count:\n",
        "\n",
        "import itertools\n",
        "for i in itertools.count(0, 2):\n",
        "    if i == 20:\n",
        "        break\n",
        "    else:\n",
        "        print(i, end=\" \")\n",
        "\n",
        "#Как показано выше, её первый параметр — это начальный номер, а второй параметр — шаг."
      ],
      "metadata": {
        "colab": {
          "base_uri": "https://localhost:8080/"
        },
        "id": "zDndQoTahZTN",
        "outputId": "51118670-b4f4-4a83-c2d6-51d55f367109"
      },
      "execution_count": 14,
      "outputs": [
        {
          "output_type": "stream",
          "name": "stdout",
          "text": [
            "0 2 4 6 8 10 12 14 16 18 "
          ]
        }
      ]
    },
    {
      "cell_type": "code",
      "source": [
        "#8. itertools.pairwise(): лёгкое получение кортежа пар\n",
        "#Начиная с Python 3.10, модуль itertools имеет новую функцию с именем pairwise. Это небольшой и аккуратный инструмент для создания последовательных перекрывающихся пар из итерируемого объекта.\n",
        "\n",
        "import itertools\n",
        "letters = ['a', 'b', 'c', 'd', 'e']\n",
        "\n",
        "result = itertools.pairwise(letters)\n",
        "\n",
        "print(list(result))\n",
        "# [('a', 'b'), ('b', 'c'), ('c', 'd'), ('d', 'e')]"
      ],
      "metadata": {
        "colab": {
          "base_uri": "https://localhost:8080/"
        },
        "id": "7sDtBMqYhjF9",
        "outputId": "51a0ee06-1462-499c-b65e-15b0ba409c21"
      },
      "execution_count": 15,
      "outputs": [
        {
          "output_type": "stream",
          "name": "stdout",
          "text": [
            "[('a', 'b'), ('b', 'c'), ('c', 'd'), ('d', 'e')]\n"
          ]
        }
      ]
    },
    {
      "cell_type": "code",
      "source": [
        "#9. itertools.takewhile(): фильтрация элементов\n",
        "#itertools.takewhile() возвращает итератор, который генерирует элементы из итерируемого объекта, пока данная функция предиката оценивается как True.\n",
        "\n",
        "import itertools\n",
        "nums = [1, 61, 7, 9, 2077]\n",
        "print(list(itertools.takewhile(lambda x: x < 100, nums)))\n",
        "# [1, 61, 7, 9]\n"
      ],
      "metadata": {
        "colab": {
          "base_uri": "https://localhost:8080/"
        },
        "id": "P3E_lgI-htLV",
        "outputId": "a8188141-4084-4a8b-b953-bdf1b6f5c122"
      },
      "execution_count": 16,
      "outputs": [
        {
          "output_type": "stream",
          "name": "stdout",
          "text": [
            "[1, 61, 7, 9]\n"
          ]
        }
      ]
    },
    {
      "cell_type": "code",
      "source": [
        "#Эта функция отличается от встроенной функции filter().\n",
        "#Функция filter будет проходить по всему списку:\n",
        "\n",
        "nums = [1, 61, 7, 9, 2077]\n",
        "print(list(filter(lambda x: x < 10, nums)))\n",
        "# [1, 7, 9]\n"
      ],
      "metadata": {
        "colab": {
          "base_uri": "https://localhost:8080/"
        },
        "id": "P8GAIaQijNAL",
        "outputId": "91aaa9c4-5c8b-416d-c178-1a1bb498898c"
      },
      "execution_count": 17,
      "outputs": [
        {
          "output_type": "stream",
          "name": "stdout",
          "text": [
            "[1, 7, 9]\n"
          ]
        }
      ]
    },
    {
      "cell_type": "code",
      "source": [
        "#Однако функция itertools.takewhile, как следует из её названия, остановится, когда вычисляющая функция будет равна False:\n",
        "import itertools\n",
        "nums = [1, 61, 7, 9, 2077]\n",
        "print(list(itertools.takewhile(lambda x: x < 10, nums)))\n",
        "# [1]"
      ],
      "metadata": {
        "colab": {
          "base_uri": "https://localhost:8080/"
        },
        "id": "C2AaDTdbjRNr",
        "outputId": "771432b5-1f98-487b-d45c-186389439748"
      },
      "execution_count": 19,
      "outputs": [
        {
          "output_type": "stream",
          "name": "stdout",
          "text": [
            "[1]\n"
          ]
        }
      ]
    },
    {
      "cell_type": "code",
      "source": [
        "#10. itertools.dropwhile(): обратная операция itertools.takewhile()\n",
        "#Эта функция кажется обратной идеей предыдущей.\n",
        "#Функция itertools.takewhile() возвращает элементы итерируемого объекта до тех пор, пока функция предиката имеет значение True,\n",
        "#тогда как itertools.dropwhile() отбрасывает элементы итерируемого объекта до тех пор, пока функция предиката имеет значение True, а затем возвращает оставшиеся элементы.\n",
        "\n",
        "import itertools\n",
        "\n",
        "nums = [1, 61, 7, 9, 2077]\n",
        "print(list(itertools.dropwhile(lambda x: x < 100, nums)))"
      ],
      "metadata": {
        "colab": {
          "base_uri": "https://localhost:8080/"
        },
        "id": "ET-VcunOjTOq",
        "outputId": "4fb35e82-f40e-43b2-8f5d-d3da299f07fd"
      },
      "execution_count": 20,
      "outputs": [
        {
          "output_type": "stream",
          "name": "stdout",
          "text": [
            "[2077]\n"
          ]
        }
      ]
    },
    {
      "cell_type": "code",
      "source": [],
      "metadata": {
        "id": "CcVhmPjhjeDq"
      },
      "execution_count": null,
      "outputs": []
    }
  ],
  "metadata": {
    "colab": {
      "provenance": [],
      "mount_file_id": "1N7M_5V6RU1BLZ4h7SmwVlCfztUp_wK0n",
      "authorship_tag": "ABX9TyNwlY4yaMPox5XYsnJ2bEiD",
      "include_colab_link": true
    },
    "kernelspec": {
      "display_name": "Python 3",
      "name": "python3"
    },
    "language_info": {
      "name": "python"
    }
  },
  "nbformat": 4,
  "nbformat_minor": 0
}