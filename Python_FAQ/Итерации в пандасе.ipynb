{
  "cells": [
    {
      "cell_type": "markdown",
      "metadata": {
        "id": "view-in-github",
        "colab_type": "text"
      },
      "source": [
        "<a href=\"https://colab.research.google.com/github/Vitalyastiy/cheat-python/blob/main/Python_FAQ/%D0%98%D1%82%D0%B5%D1%80%D0%B0%D1%86%D0%B8%D0%B8%20%D0%B2%20%D0%BF%D0%B0%D0%BD%D0%B4%D0%B0%D1%81%D0%B5.ipynb\" target=\"_parent\"><img src=\"https://colab.research.google.com/assets/colab-badge.svg\" alt=\"Open In Colab\"/></a>"
      ]
    },
    {
      "cell_type": "code",
      "execution_count": null,
      "metadata": {
        "id": "JhQpC80xM28L"
      },
      "outputs": [],
      "source": [
        "#тесты с циклами\n",
        "import pandas as pd\n",
        "import numpy as np\n",
        "df = pd.read_csv('https://raw.githubusercontent.com/mlabonne/how-to-data-science/main/data/nslkdd_test.txt')\n",
        "df"
      ]
    },
    {
      "cell_type": "code",
      "execution_count": null,
      "metadata": {
        "id": "hLPWf_JeM28O"
      },
      "outputs": [],
      "source": [
        "#1.8 сек / 0.9 сек\n",
        "met_1 = []\n",
        "for i, row in df.iterrows():\n",
        "    met_1.append(row['src_bytes'] + row['dst_bytes'])\n",
        "df['met_1'] = met_1\n",
        "df"
      ]
    },
    {
      "cell_type": "code",
      "execution_count": null,
      "metadata": {
        "id": "y-CiWVjwM28P"
      },
      "outputs": [],
      "source": [
        "#0.6 сек\n",
        "met_2 = []\n",
        "for i in range(len(df)):\n",
        "    met_2.append(df['src_bytes'].loc[i] + df['dst_bytes'].loc[i])\n",
        "df['met_2'] = met_2\n",
        "df"
      ]
    },
    {
      "cell_type": "code",
      "execution_count": null,
      "metadata": {
        "id": "bC900AUfM28P"
      },
      "outputs": [],
      "source": [
        "#0.4\n",
        "met_3 = []\n",
        "for i in range(len(df)):\n",
        "    met_3.append(df['src_bytes'].iloc[i] + df['dst_bytes'].iloc[i])\n",
        "df['met_3'] = met_3\n",
        "df"
      ]
    },
    {
      "cell_type": "code",
      "execution_count": null,
      "metadata": {
        "id": "UoJQNVJJM28Q"
      },
      "outputs": [],
      "source": [
        "#0.3\n",
        "df['met_4'] = df.apply(lambda row: row['src_bytes'] + row['dst_bytes'], axis=1)\n",
        "df"
      ]
    },
    {
      "cell_type": "code",
      "execution_count": null,
      "metadata": {
        "id": "4KYBSF7VM28Q"
      },
      "outputs": [],
      "source": [
        "#0.1\n",
        "met_5 = []\n",
        "for i in df.itertuples():\n",
        "    met_5.append(i[5] + i[6])\n",
        "df['met_5'] = met_5\n",
        "df"
      ]
    },
    {
      "cell_type": "code",
      "execution_count": null,
      "metadata": {
        "id": "MNJWsPjlM28R"
      },
      "outputs": [],
      "source": [
        "# 0.4 лист компрехешэн\n",
        "df['met_6'] = [src + dst for src, dst in zip(df['src_bytes'], df['dst_bytes'])]"
      ]
    },
    {
      "cell_type": "code",
      "execution_count": null,
      "metadata": {
        "id": "O1ho9s-OM28R"
      },
      "outputs": [],
      "source": [
        "#0.3\n",
        "df['met_7'] = (df['src_bytes'] + df['dst_bytes']).to_list()\n",
        "df"
      ]
    },
    {
      "cell_type": "code",
      "execution_count": null,
      "metadata": {
        "id": "rG3Ivc4AM28S"
      },
      "outputs": [],
      "source": [
        "(df['src_bytes'].to_numpy() + df['dst_bytes'].to_numpy()).tolist()"
      ]
    },
    {
      "cell_type": "code",
      "execution_count": null,
      "metadata": {
        "id": "l0qY4XJfM28S"
      },
      "outputs": [],
      "source": []
    },
    {
      "cell_type": "code",
      "source": [],
      "metadata": {
        "id": "5gXWo_25M7Io"
      },
      "execution_count": null,
      "outputs": []
    },
    {
      "cell_type": "code",
      "source": [],
      "metadata": {
        "id": "CcqpdYchM7K5"
      },
      "execution_count": null,
      "outputs": []
    },
    {
      "cell_type": "code",
      "execution_count": null,
      "metadata": {
        "id": "HVp6nYa6M28S"
      },
      "outputs": [],
      "source": [
        "#В аналогичных случаях использования вместо этого следует использовать метод apply().\n",
        "df['colA'] = df['colA'].apply(lambda x: x * 2)\n",
        "print(df)"
      ]
    }
  ],
  "metadata": {
    "kernelspec": {
      "display_name": "Python 3.9.13 ('base')",
      "language": "python",
      "name": "python3"
    },
    "language_info": {
      "codemirror_mode": {
        "name": "ipython",
        "version": 3
      },
      "file_extension": ".py",
      "mimetype": "text/x-python",
      "name": "python",
      "nbconvert_exporter": "python",
      "pygments_lexer": "ipython3",
      "version": "3.9.13"
    },
    "orig_nbformat": 4,
    "vscode": {
      "interpreter": {
        "hash": "d9acfe8064b338b087cf5b985d533c132426f668fd9f5be560d7a729870e8555"
      }
    },
    "colab": {
      "provenance": [],
      "include_colab_link": true
    }
  },
  "nbformat": 4,
  "nbformat_minor": 0
}