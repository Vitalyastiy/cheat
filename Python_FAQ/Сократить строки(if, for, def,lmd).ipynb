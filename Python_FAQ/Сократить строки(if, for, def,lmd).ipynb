{
  "cells": [
    {
      "cell_type": "markdown",
      "metadata": {
        "id": "view-in-github",
        "colab_type": "text"
      },
      "source": [
        "<a href=\"https://colab.research.google.com/github/Vitalyastiy/cheat-python/blob/main/Python_FAQ/%D0%A1%D0%BE%D0%BA%D1%80%D0%B0%D1%82%D0%B8%D1%82%D1%8C%20%D1%81%D1%82%D1%80%D0%BE%D0%BA%D0%B8(if%2C%20for%2C%20def%2Clmd).ipynb\" target=\"_parent\"><img src=\"https://colab.research.google.com/assets/colab-badge.svg\" alt=\"Open In Colab\"/></a>"
      ]
    },
    {
      "cell_type": "markdown",
      "source": [
        "https://uproger.com/8-sposobov-svesti-vashi-funkczii-python-v-odnu-stroku/"
      ],
      "metadata": {
        "id": "8HbrAEP0Lw5c"
      }
    },
    {
      "cell_type": "markdown",
      "source": [
        "1) Опустить символ новой строки после ключевого слова‘def’"
      ],
      "metadata": {
        "id": "UfAeP1ldIuNT"
      }
    },
    {
      "cell_type": "code",
      "source": [
        "def hello():\n",
        "    print('hello')\n",
        "def hello():print('hello')"
      ],
      "metadata": {
        "id": "ZeLf-SMZLvEm"
      },
      "execution_count": null,
      "outputs": []
    },
    {
      "cell_type": "markdown",
      "source": [
        "2) Лямбда-функции"
      ],
      "metadata": {
        "id": "x04LYXzILzvz"
      }
    },
    {
      "cell_type": "code",
      "source": [
        "lambda inputs: return_value"
      ],
      "metadata": {
        "id": "erUGbEMDL0Gc"
      },
      "execution_count": null,
      "outputs": []
    },
    {
      "cell_type": "code",
      "source": [
        "def greet():\n",
        "    return 'hello'\n",
        "# this is the same as\n",
        "\n",
        "greet = lambda : 'hello'\n",
        "def add10(n):\n",
        "    return n + 10\n",
        "# this is the same as\n",
        "\n",
        "add10 = lambda n: n+10\n",
        "def add(a, b):\n",
        "    return a + b\n",
        "# this is the same as\n",
        "\n",
        "add = lambda a, b: a+b"
      ],
      "metadata": {
        "id": "uMNG9RH_L7Rh"
      },
      "execution_count": null,
      "outputs": []
    },
    {
      "cell_type": "markdown",
      "source": [
        "3) Использование точек с запятой вместо новых строк"
      ],
      "metadata": {
        "id": "OV2NZDcdL4An"
      }
    },
    {
      "cell_type": "code",
      "source": [
        "def hello():\n",
        " x = 1\n",
        " y = 2\n",
        "    print(x, y)\n",
        "\n",
        "# this function spans 4 lines\n",
        "def hello():x=1;y=2;print(x,y)\n",
        "\n",
        "# now it spans 1 line"
      ],
      "metadata": {
        "id": "8a5IKiQfL4Il"
      },
      "execution_count": null,
      "outputs": []
    },
    {
      "cell_type": "markdown",
      "source": [
        "4) Понимание списка / словаря / множества — сжатие циклов"
      ],
      "metadata": {
        "id": "vcZfZK2uMVnn"
      }
    },
    {
      "cell_type": "code",
      "source": [
        "# list comprehension\n",
        "[expression for var in iterable if condition]\n",
        "\n",
        "# dict comprehension\n",
        "{key:value for var in iterable if\n",
        "\n",
        "# set comprehension\n",
        "{expression for var in iterable if\n"
      ],
      "metadata": {
        "id": "z6SrtrsxMVsp"
      },
      "execution_count": null,
      "outputs": []
    },
    {
      "cell_type": "code",
      "source": [
        "#Несколько примеров:\n",
        "\n",
        "# given some numbers, we want to square them all\n",
        "lis = [1, 2, 3, 4, 5]\n",
        "\n",
        "# using a normal for loop\n",
        "new = []\n",
        "for n in lis:\n",
        " new.append(n**2) # new = [1, 4, 9, 16, 25]\n",
        "\n",
        "# using list comprehension\n",
        "new = [n**2 for n in lis] # new = [1, 4, 9, 16, 25]\n",
        "# given some numbers, we want to create a dict\n",
        "# where keys are numbers, and values are squares\n",
        "lis = [1, 2, 3, 4, 5]\n",
        "\n",
        "# using a normal for loop\n",
        "new = {}\n",
        "for n in lis:\n",
        " new[n] = n**2             # new = {1:1,2:4,3:9,4:16,5:25}\n",
        "\n",
        "# using dict comprehension\n",
        "new = {n:n**2 for n in lis} # new = {1:1,2:4,3:9,4:16,5:25}\n",
        "# given some numbers, find unique odd numbers\n",
        "lis = [1, 1, 2, 2, 3, 3, 4, 4, 5, 5]\n",
        "\n",
        "# using a normal for loop\n",
        "new = set()\n",
        "for n in lis:\n",
        "    if n%2 == 1:\n",
        " new.add(n) # {1, 2, 3, 4, 5}\n",
        "\n",
        "# using set comprehension\n",
        "new = {n for n in lis if n%2==1} # {1, 2, 3, 4, 5}"
      ],
      "metadata": {
        "id": "wkxr3FNJMdko"
      },
      "execution_count": null,
      "outputs": []
    },
    {
      "cell_type": "markdown",
      "source": [
        "5) Блоки if—else в виде тернарного оператора"
      ],
      "metadata": {
        "id": "0DVt4AnGMudQ"
      }
    },
    {
      "cell_type": "code",
      "source": [
        "# if else\n",
        "var = X if condition else Y\n",
        "\n",
        "# if-elif-else\n",
        "var = A if else B if else C\n",
        "\n",
        "# if-elif-elif-else\n",
        "var = A if else B if else C if else D"
      ],
      "metadata": {
        "id": "DDcIC9Z5Mum-"
      },
      "execution_count": null,
      "outputs": []
    },
    {
      "cell_type": "code",
      "source": [
        "# normal if-else block\n",
        "if x==5:\n",
        " y = 'hello'\n",
        "else:\n",
        " y = 'hi'\n",
        "\n",
        "# using the ternary operator\n",
        "y = 'hello' if x==5 else 'hi'"
      ],
      "metadata": {
        "id": "F_bCLH65M3sN"
      },
      "execution_count": null,
      "outputs": []
    },
    {
      "cell_type": "code",
      "source": [
        "# normal if-elif-else block\n",
        "if x==5:\n",
        " y = 'hello'\n",
        "elif x==6:\n",
        " y = 'hola'\n",
        "else:\n",
        " y = 'hi'\n",
        "\n",
        "# using the ternary operator\n",
        "y = 'hello' if x==5 else 'hola' if x==6 else 'hi'"
      ],
      "metadata": {
        "id": "DLal32pmM7Aq"
      },
      "execution_count": null,
      "outputs": []
    },
    {
      "cell_type": "code",
      "source": [
        "# normal if-elif-elif-else block\n",
        "if x==5:\n",
        " y = 'hello'\n",
        "elif x==6:\n",
        " y = 'hola'\n",
        "elif x==7:\n",
        " y = 'nihao'\n",
        "else:\n",
        " y = 'hi'\n",
        "\n",
        "# using the ternary operator\n",
        "y = 'hello' of x==5 else 'hola' if x==6 else 'nihao' if x==7 else 'hi'"
      ],
      "metadata": {
        "id": "9kshG9lJM9jC"
      },
      "execution_count": null,
      "outputs": []
    },
    {
      "cell_type": "markdown",
      "source": [
        "6) Объединение методов в цепочку — несколько методов в одной строке"
      ],
      "metadata": {
        "id": "2V1TLicUNEcD"
      }
    },
    {
      "cell_type": "code",
      "source": [
        "x = x.method1()\n",
        "x = x.method2()\n",
        "x = x.method3()\n",
        "\n",
        "# using method chaining\n",
        "x = x.method1().method2().method3()"
      ],
      "metadata": {
        "id": "u7m1sKx3NGcd"
      },
      "execution_count": null,
      "outputs": []
    },
    {
      "cell_type": "code",
      "source": [
        "# we want to turn this\n",
        "string = '\\n\\nApple Orange Pear\\n\\n'\n",
        "\n",
        "# into\n",
        "lis = ['apple', 'orange', 'pear']\n",
        "# doing this using multiple method calls\n",
        "lis = string.strip()\n",
        "lis = lis.lower()\n",
        "lis = lis.split()\n",
        "\n",
        "# lis = ['apple', 'orange', 'pear']\n",
        "# same method calls, but using method chaining\n",
        "lis = string.strip().lower().split()\n",
        "\n",
        "# lis = ['apple', 'orange', 'pear']"
      ],
      "metadata": {
        "id": "vjcolwABNJfS"
      },
      "execution_count": null,
      "outputs": []
    },
    {
      "cell_type": "markdown",
      "source": [
        "Метод обмана — использование ‘exec’"
      ],
      "metadata": {
        "id": "etoWlwL8NNtp"
      }
    },
    {
      "cell_type": "code",
      "source": [
        "# a normal function\n",
        "def f(x):\n",
        " x += 10\n",
        "    return x\n",
        "\n",
        "# using exec\n",
        "exec('def f(x):\\n x += 10\\n return x')"
      ],
      "metadata": {
        "id": "au_RrVc1NR90"
      },
      "execution_count": null,
      "outputs": []
    }
  ],
  "metadata": {
    "colab": {
      "provenance": [],
      "mount_file_id": "1N7M_5V6RU1BLZ4h7SmwVlCfztUp_wK0n",
      "authorship_tag": "ABX9TyMZN7QvhTEbyMqD9F0RqEQR",
      "include_colab_link": true
    },
    "kernelspec": {
      "display_name": "Python 3",
      "name": "python3"
    },
    "language_info": {
      "name": "python"
    }
  },
  "nbformat": 4,
  "nbformat_minor": 0
}