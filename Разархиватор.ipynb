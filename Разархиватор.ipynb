{
 "cells": [
  {
   "cell_type": "code",
   "execution_count": null,
   "metadata": {},
   "outputs": [],
   "source": [
    "import py7zr\n",
    "archive = py7zr.SevenZipFile('SIGOS.zip', mode='r')\n",
    "archive.extractall()\n",
    "archive.close()"
   ]
  },
  {
   "cell_type": "code",
   "execution_count": 2,
   "metadata": {},
   "outputs": [],
   "source": []
  },
  {
   "cell_type": "code",
   "execution_count": 7,
   "metadata": {},
   "outputs": [],
   "source": [
    "import tarfile\n",
    "zipfile = 'SIGOS.tgz'\n",
    "if zipfile.endswith(\"SIGOS.tgz\"):\n",
    "    tar = tarfile.open(zipfile, \"r:gz\")\n",
    "elif zipfile.endswith(\"tar\"):\n",
    "    tar = tarfile.open(zipfile, \"r:\")\n",
    "tar.extractall()\n",
    "tar.close()"
   ]
  },
  {
   "cell_type": "code",
   "execution_count": null,
   "metadata": {},
   "outputs": [],
   "source": []
  }
 ],
 "metadata": {
  "kernelspec": {
   "display_name": "base",
   "language": "python",
   "name": "python3"
  },
  "language_info": {
   "codemirror_mode": {
    "name": "ipython",
    "version": 3
   },
   "file_extension": ".py",
   "mimetype": "text/x-python",
   "name": "python",
   "nbconvert_exporter": "python",
   "pygments_lexer": "ipython3",
   "version": "3.9.13"
  },
  "orig_nbformat": 4,
  "vscode": {
   "interpreter": {
    "hash": "d9acfe8064b338b087cf5b985d533c132426f668fd9f5be560d7a729870e8555"
   }
  }
 },
 "nbformat": 4,
 "nbformat_minor": 2
}
